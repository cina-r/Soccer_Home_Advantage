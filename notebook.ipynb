{
 "metadata": {
  "language_info": {
   "codemirror_mode": {
    "name": "ipython",
    "version": 3
   },
   "file_extension": ".py",
   "mimetype": "text/x-python",
   "name": "python",
   "nbconvert_exporter": "python",
   "pygments_lexer": "ipython3",
   "version": "3.8.0-final"
  },
  "orig_nbformat": 2,
  "kernelspec": {
   "name": "python_defaultSpec_1610402481029",
   "display_name": "Python 3"
  }
 },
 "nbformat": 4,
 "nbformat_minor": 2,
 "cells": [
  {
   "cell_type": "code",
   "execution_count": 1,
   "metadata": {},
   "outputs": [],
   "source": [
    "import pandas as pd \n",
    "import numpy as np"
   ]
  },
  {
   "cell_type": "code",
   "execution_count": 25,
   "metadata": {},
   "outputs": [],
   "source": [
    "# function for data processing\n",
    "\n",
    "def prep(df):\n",
    "    # drop unplayed games\n",
    "    df.dropna(inplace=True)\n",
    "\n",
    "    # split \"Result\" column into aray of two strings\n",
    "    df['Result2'] = df['Result'].apply(lambda x: x.split(' - '))\n",
    "    \n",
    "    # create one-hot encoding columns for results\n",
    "    df['Home Team Win'] = 0\n",
    "    df['Away Team Win'] = 0\n",
    "    df['Draw'] = 0\n",
    "\n",
    "    # fill new columns\n",
    "    for i in df.index:\n",
    "        if int(df.loc[i, 'Result2'][0]) > int(df.loc[i, 'Result2'][1]):\n",
    "            df.loc[i, 'Home Team Win'] = 1\n",
    "        elif int(df.loc[i, 'Result2'][0]) < int(df.loc[i, 'Result2'][1]):\n",
    "            df.loc[i, 'Away Team Win'] = 1\n",
    "        else:\n",
    "            df.loc[i, 'Draw'] = 1\n",
    "\n",
    "    return df"
   ]
  },
  {
   "cell_type": "markdown",
   "metadata": {},
   "source": [
    "## Serie A"
   ]
  },
  {
   "cell_type": "code",
   "execution_count": 2,
   "metadata": {},
   "outputs": [],
   "source": [
    "# load results from Serie A\n",
    "\n",
    "df_18 = pd.read_csv('data/serie-a-2018-WEuropeStandardTime.csv')  # season 18-19\n",
    "df_19 = pd.read_csv('data/serie-a-2019-WEuropeStandardTime.csv')  # season 19-20\n",
    "df_20 = pd.read_csv('data/serie-a-2020-WEuropeStandardTime.csv')  # season 20-21"
   ]
  },
  {
   "cell_type": "code",
   "execution_count": 4,
   "metadata": {},
   "outputs": [],
   "source": [
    "df_18 = prep(df_18)\n",
    "df_19 = prep(df_19)\n",
    "df_20 = prep(df_20)"
   ]
  },
  {
   "cell_type": "markdown",
   "metadata": {},
   "source": [
    "### Season 2018-2019"
   ]
  },
  {
   "cell_type": "code",
   "execution_count": 5,
   "metadata": {
    "tags": []
   },
   "outputs": [
    {
     "output_type": "stream",
     "name": "stdout",
     "text": "0.4368421052631579\n"
    }
   ],
   "source": [
    "ratio_home_wins_18 = sum(df_18['Home Team Win']) / len(df_18)\n",
    "print(ratio_home_wins_18)"
   ]
  },
  {
   "cell_type": "code",
   "execution_count": 6,
   "metadata": {
    "tags": []
   },
   "outputs": [
    {
     "output_type": "stream",
     "name": "stdout",
     "text": "0.2789473684210526\n"
    }
   ],
   "source": [
    "ratio_away_wins_18 = sum(df_18['Away Team Win']) / len(df_18)\n",
    "print(ratio_away_wins_18)"
   ]
  },
  {
   "cell_type": "code",
   "execution_count": 7,
   "metadata": {
    "tags": []
   },
   "outputs": [
    {
     "output_type": "stream",
     "name": "stdout",
     "text": "0.28421052631578947\n"
    }
   ],
   "source": [
    "ratio_draws_18 = sum(df_18['Draw']) / len(df_18)\n",
    "print(ratio_draws_18)"
   ]
  },
  {
   "cell_type": "code",
   "execution_count": 8,
   "metadata": {},
   "outputs": [
    {
     "output_type": "execute_result",
     "data": {
      "text/plain": "1.0"
     },
     "metadata": {},
     "execution_count": 8
    }
   ],
   "source": [
    "ratio_home_wins_18 + ratio_away_wins_18 + ratio_draws_18"
   ]
  },
  {
   "cell_type": "markdown",
   "metadata": {},
   "source": [
    "### Season 2019-2020"
   ]
  },
  {
   "cell_type": "code",
   "execution_count": 9,
   "metadata": {
    "tags": []
   },
   "outputs": [
    {
     "output_type": "stream",
     "name": "stdout",
     "text": "0.41578947368421054\n"
    }
   ],
   "source": [
    "ratio_home_wins_19 = sum(df_19['Home Team Win']) / len(df_19)\n",
    "print(ratio_home_wins_19)"
   ]
  },
  {
   "cell_type": "code",
   "execution_count": 10,
   "metadata": {
    "tags": []
   },
   "outputs": [
    {
     "output_type": "stream",
     "name": "stdout",
     "text": "0.3605263157894737\n"
    }
   ],
   "source": [
    "ratio_away_wins_19 = sum(df_19['Away Team Win']) / len(df_19)\n",
    "print(ratio_away_wins_19)"
   ]
  },
  {
   "cell_type": "code",
   "execution_count": 11,
   "metadata": {
    "tags": []
   },
   "outputs": [
    {
     "output_type": "stream",
     "name": "stdout",
     "text": "0.2236842105263158\n"
    }
   ],
   "source": [
    "ratio_draws_19 = sum(df_19['Draw']) / len(df_19)\n",
    "print(ratio_draws_19)"
   ]
  },
  {
   "cell_type": "code",
   "execution_count": 12,
   "metadata": {},
   "outputs": [
    {
     "output_type": "execute_result",
     "data": {
      "text/plain": "1.0"
     },
     "metadata": {},
     "execution_count": 12
    }
   ],
   "source": [
    "ratio_home_wins_19 + ratio_away_wins_19 + ratio_draws_19"
   ]
  },
  {
   "cell_type": "markdown",
   "metadata": {},
   "source": [
    "Season 19-20 is difficult to interpret since Covid fell inbetween it "
   ]
  },
  {
   "cell_type": "markdown",
   "metadata": {},
   "source": [
    "### Season 2020-2021"
   ]
  },
  {
   "cell_type": "code",
   "execution_count": 13,
   "metadata": {
    "tags": []
   },
   "outputs": [
    {
     "output_type": "stream",
     "name": "stdout",
     "text": "0.35185185185185186\n"
    }
   ],
   "source": [
    "ratio_home_wins_20 = sum(df_20['Home Team Win']) / len(df_20)\n",
    "print(ratio_home_wins_20)"
   ]
  },
  {
   "cell_type": "code",
   "execution_count": 14,
   "metadata": {
    "tags": []
   },
   "outputs": [
    {
     "output_type": "stream",
     "name": "stdout",
     "text": "0.37037037037037035\n"
    }
   ],
   "source": [
    "ratio_away_wins_20 = sum(df_20['Away Team Win']) / len(df_20)\n",
    "print(ratio_away_wins_20)"
   ]
  },
  {
   "cell_type": "code",
   "execution_count": 15,
   "metadata": {
    "tags": []
   },
   "outputs": [
    {
     "output_type": "stream",
     "name": "stdout",
     "text": "0.2777777777777778\n"
    }
   ],
   "source": [
    "ratio_draws_20 = sum(df_20['Draw']) / len(df_20)\n",
    "print(ratio_draws_20)"
   ]
  },
  {
   "cell_type": "code",
   "execution_count": 16,
   "metadata": {},
   "outputs": [
    {
     "output_type": "execute_result",
     "data": {
      "text/plain": "1.0"
     },
     "metadata": {},
     "execution_count": 16
    }
   ],
   "source": [
    "ratio_home_wins_20 + ratio_away_wins_20 + ratio_draws_20"
   ]
  },
  {
   "cell_type": "markdown",
   "metadata": {},
   "source": [
    "Less home wins and more draws compared to 2018-2019"
   ]
  },
  {
   "cell_type": "markdown",
   "metadata": {},
   "source": [
    "## Bundesliga"
   ]
  },
  {
   "cell_type": "code",
   "execution_count": 17,
   "metadata": {},
   "outputs": [],
   "source": [
    "# load results from Bundesliga \n",
    "\n",
    "df_18 = pd.read_csv('data/bundesliga-2018-WEuropeStandardTime.csv')\n",
    "df_20 = pd.read_csv('data/bundesliga-2020-WEuropeStandardTime.csv')\n",
    "\n",
    "df_18 = prep(df_18)\n",
    "df_20 = prep(df_20)"
   ]
  },
  {
   "cell_type": "markdown",
   "metadata": {},
   "source": [
    "### Season 18-19"
   ]
  },
  {
   "cell_type": "code",
   "execution_count": 19,
   "metadata": {
    "tags": []
   },
   "outputs": [
    {
     "output_type": "stream",
     "name": "stdout",
     "text": "0.4477124183006536\n"
    }
   ],
   "source": [
    "ratio_home_wins_18 = sum(df_18['Home Team Win']) / len(df_18)\n",
    "print(ratio_home_wins_18)"
   ]
  },
  {
   "cell_type": "code",
   "execution_count": 20,
   "metadata": {
    "tags": []
   },
   "outputs": [
    {
     "output_type": "stream",
     "name": "stdout",
     "text": "0.3104575163398693\n"
    }
   ],
   "source": [
    "ratio_away_wins_18 = sum(df_18['Away Team Win']) / len(df_18)\n",
    "print(ratio_away_wins_18)"
   ]
  },
  {
   "cell_type": "code",
   "execution_count": 21,
   "metadata": {
    "tags": []
   },
   "outputs": [
    {
     "output_type": "stream",
     "name": "stdout",
     "text": "0.24183006535947713\n"
    }
   ],
   "source": [
    "ratio_draws_18 = sum(df_18['Draw']) / len(df_18)\n",
    "print(ratio_draws_18)"
   ]
  },
  {
   "cell_type": "markdown",
   "metadata": {},
   "source": [
    "### Season 20-21"
   ]
  },
  {
   "cell_type": "code",
   "execution_count": 22,
   "metadata": {
    "tags": []
   },
   "outputs": [
    {
     "output_type": "stream",
     "name": "stdout",
     "text": "0.3308270676691729\n"
    }
   ],
   "source": [
    "ratio_home_wins_20 = sum(df_20['Home Team Win']) / len(df_20)\n",
    "print(ratio_home_wins_20)"
   ]
  },
  {
   "cell_type": "code",
   "execution_count": 23,
   "metadata": {
    "tags": []
   },
   "outputs": [
    {
     "output_type": "stream",
     "name": "stdout",
     "text": "0.3609022556390977\n"
    }
   ],
   "source": [
    "ratio_away_wins_20 = sum(df_20['Away Team Win']) / len(df_20)\n",
    "print(ratio_away_wins_20)"
   ]
  },
  {
   "cell_type": "code",
   "execution_count": 24,
   "metadata": {
    "tags": []
   },
   "outputs": [
    {
     "output_type": "stream",
     "name": "stdout",
     "text": "0.3082706766917293\n"
    }
   ],
   "source": [
    "ratio_draws_20 = sum(df_20['Draw']) / len(df_20)\n",
    "print(ratio_draws_20)"
   ]
  },
  {
   "cell_type": "markdown",
   "metadata": {},
   "source": [
    "## English Premier League "
   ]
  },
  {
   "cell_type": "code",
   "execution_count": 26,
   "metadata": {},
   "outputs": [],
   "source": [
    "df_18 = pd.read_csv('data/epl-2018-GMTStandardTime.csv')\n",
    "df_20 = pd.read_csv('data/epl-2020-GMTStandardTime.csv')\n",
    "\n",
    "df_18 = prep(df_18)\n",
    "df_20 = prep(df_20)"
   ]
  },
  {
   "cell_type": "markdown",
   "metadata": {},
   "source": [
    "### Season 18/19"
   ]
  },
  {
   "cell_type": "code",
   "execution_count": 27,
   "metadata": {
    "tags": []
   },
   "outputs": [
    {
     "output_type": "stream",
     "name": "stdout",
     "text": "0.4763157894736842\n"
    }
   ],
   "source": [
    "ratio_home_wins_18 = sum(df_18['Home Team Win']) / len(df_18)\n",
    "print(ratio_home_wins_18)"
   ]
  },
  {
   "cell_type": "code",
   "execution_count": 28,
   "metadata": {
    "tags": []
   },
   "outputs": [
    {
     "output_type": "stream",
     "name": "stdout",
     "text": "0.3368421052631579\n"
    }
   ],
   "source": [
    "ratio_away_wins_18 = sum(df_18['Away Team Win']) / len(df_18)\n",
    "print(ratio_away_wins_18)"
   ]
  },
  {
   "cell_type": "code",
   "execution_count": 29,
   "metadata": {
    "tags": []
   },
   "outputs": [
    {
     "output_type": "stream",
     "name": "stdout",
     "text": "0.1868421052631579\n"
    }
   ],
   "source": [
    "ratio_draws_18 = sum(df_18['Draw']) / len(df_18)\n",
    "print(ratio_draws_18)"
   ]
  },
  {
   "cell_type": "markdown",
   "metadata": {},
   "source": [
    "### Season 20/21"
   ]
  },
  {
   "cell_type": "code",
   "execution_count": 30,
   "metadata": {
    "tags": []
   },
   "outputs": [
    {
     "output_type": "stream",
     "name": "stdout",
     "text": "0.3719512195121951\n"
    }
   ],
   "source": [
    "ratio_home_wins_20 = sum(df_20['Home Team Win']) / len(df_20)\n",
    "print(ratio_home_wins_20)"
   ]
  },
  {
   "cell_type": "code",
   "execution_count": 31,
   "metadata": {
    "tags": []
   },
   "outputs": [
    {
     "output_type": "stream",
     "name": "stdout",
     "text": "0.38414634146341464\n"
    }
   ],
   "source": [
    "ratio_away_wins_20 = sum(df_20['Away Team Win']) / len(df_20)\n",
    "print(ratio_away_wins_20)"
   ]
  },
  {
   "cell_type": "code",
   "execution_count": 32,
   "metadata": {
    "tags": []
   },
   "outputs": [
    {
     "output_type": "stream",
     "name": "stdout",
     "text": "0.24390243902439024\n"
    }
   ],
   "source": [
    "ratio_draws_20 = sum(df_20['Draw']) / len(df_20)\n",
    "print(ratio_draws_20)"
   ]
  },
  {
   "cell_type": "code",
   "execution_count": null,
   "metadata": {},
   "outputs": [],
   "source": []
  }
 ]
}