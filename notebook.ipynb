{
 "cells": [
  {
   "cell_type": "code",
   "execution_count": 224,
   "metadata": {},
   "outputs": [],
   "source": [
    "import pandas as pd \n",
    "import numpy as np"
   ]
  },
  {
   "cell_type": "code",
   "execution_count": 225,
   "metadata": {},
   "outputs": [],
   "source": [
    "# function for data processing\n",
    "\n",
    "def prep(df):\n",
    "    # drop unplayed games\n",
    "    df.dropna(inplace=True)\n",
    "\n",
    "    # split \"Result\" column into aray of two strings\n",
    "    df['Result2'] = df['Result'].apply(lambda x: x.split(' - '))\n",
    "    \n",
    "    # create one-hot encoding columns for results\n",
    "    df['Home Team Win'] = 0\n",
    "    df['Away Team Win'] = 0\n",
    "    df['Draw'] = 0\n",
    "\n",
    "    # fill new columns\n",
    "    for i in df.index:\n",
    "        if int(df.loc[i, 'Result2'][0]) > int(df.loc[i, 'Result2'][1]):\n",
    "            df.loc[i, 'Home Team Win'] = 1\n",
    "        elif int(df.loc[i, 'Result2'][0]) < int(df.loc[i, 'Result2'][1]):\n",
    "            df.loc[i, 'Away Team Win'] = 1\n",
    "        else:\n",
    "            df.loc[i, 'Draw'] = 1\n",
    "\n",
    "    return df"
   ]
  },
  {
   "cell_type": "markdown",
   "metadata": {},
   "source": [
    "## Serie A"
   ]
  },
  {
   "cell_type": "code",
   "execution_count": 226,
   "metadata": {},
   "outputs": [],
   "source": [
    "# load results from Serie A\n",
    "\n",
    "df_18 = pd.read_csv('data/serie-a-2018-WEuropeStandardTime.csv')  # season 18-19\n",
    "df_19 = pd.read_csv('data/serie-a-2019-WEuropeStandardTime.csv')  # season 19-20\n",
    "df_20 = pd.read_csv('data/serie-a-2020-WEuropeStandardTime.csv')  # season 20-21"
   ]
  },
  {
   "cell_type": "code",
   "execution_count": 227,
   "metadata": {},
   "outputs": [],
   "source": [
    "df_18 = prep(df_18)\n",
    "df_19 = prep(df_19)\n",
    "df_20 = prep(df_20)"
   ]
  },
  {
   "cell_type": "markdown",
   "metadata": {},
   "source": [
    "### Season 2018-2019"
   ]
  },
  {
   "cell_type": "code",
   "execution_count": 228,
   "metadata": {
    "tags": []
   },
   "outputs": [
    {
     "name": "stdout",
     "output_type": "stream",
     "text": [
      "0.4368421052631579\n"
     ]
    }
   ],
   "source": [
    "ratio_home_wins_18 = sum(df_18['Home Team Win']) / len(df_18)\n",
    "print(ratio_home_wins_18)"
   ]
  },
  {
   "cell_type": "code",
   "execution_count": 229,
   "metadata": {
    "tags": []
   },
   "outputs": [
    {
     "name": "stdout",
     "output_type": "stream",
     "text": [
      "0.2789473684210526\n"
     ]
    }
   ],
   "source": [
    "ratio_away_wins_18 = sum(df_18['Away Team Win']) / len(df_18)\n",
    "print(ratio_away_wins_18)"
   ]
  },
  {
   "cell_type": "code",
   "execution_count": 230,
   "metadata": {
    "tags": []
   },
   "outputs": [
    {
     "name": "stdout",
     "output_type": "stream",
     "text": [
      "0.28421052631578947\n"
     ]
    }
   ],
   "source": [
    "ratio_draws_18 = sum(df_18['Draw']) / len(df_18)\n",
    "print(ratio_draws_18)"
   ]
  },
  {
   "cell_type": "code",
   "execution_count": 231,
   "metadata": {},
   "outputs": [],
   "source": [
    "# sum over all leagues\n",
    "\n",
    "home_wins_18_total = 0\n",
    "away_wins_18_total = 0\n",
    "draws_18_total = 0\n",
    "matches_18_total = 0\n",
    "\n",
    "home_wins_18_total += sum(df_18['Home Team Win'])\n",
    "away_wins_18_total += sum(df_18['Away Team Win'])\n",
    "draws_18_total += sum(df_18['Draw'])\n",
    "matches_18_total += len(df_18)"
   ]
  },
  {
   "cell_type": "markdown",
   "metadata": {},
   "source": [
    "### Season 2019-2020"
   ]
  },
  {
   "cell_type": "code",
   "execution_count": 232,
   "metadata": {
    "tags": []
   },
   "outputs": [
    {
     "name": "stdout",
     "output_type": "stream",
     "text": [
      "0.41578947368421054\n"
     ]
    }
   ],
   "source": [
    "ratio_home_wins_19 = sum(df_19['Home Team Win']) / len(df_19)\n",
    "print(ratio_home_wins_19)"
   ]
  },
  {
   "cell_type": "code",
   "execution_count": 233,
   "metadata": {
    "tags": []
   },
   "outputs": [
    {
     "name": "stdout",
     "output_type": "stream",
     "text": [
      "0.3605263157894737\n"
     ]
    }
   ],
   "source": [
    "ratio_away_wins_19 = sum(df_19['Away Team Win']) / len(df_19)\n",
    "print(ratio_away_wins_19)"
   ]
  },
  {
   "cell_type": "code",
   "execution_count": 234,
   "metadata": {
    "tags": []
   },
   "outputs": [
    {
     "name": "stdout",
     "output_type": "stream",
     "text": [
      "0.2236842105263158\n"
     ]
    }
   ],
   "source": [
    "ratio_draws_19 = sum(df_19['Draw']) / len(df_19)\n",
    "print(ratio_draws_19)"
   ]
  },
  {
   "cell_type": "code",
   "execution_count": 235,
   "metadata": {},
   "outputs": [
    {
     "data": {
      "text/plain": [
       "1.0"
      ]
     },
     "execution_count": 235,
     "metadata": {},
     "output_type": "execute_result"
    }
   ],
   "source": [
    "ratio_home_wins_19 + ratio_away_wins_19 + ratio_draws_19"
   ]
  },
  {
   "cell_type": "markdown",
   "metadata": {},
   "source": [
    "Season 19-20 is difficult to interpret since Covid fell inbetween it "
   ]
  },
  {
   "cell_type": "markdown",
   "metadata": {},
   "source": [
    "### Season 2020-2021"
   ]
  },
  {
   "cell_type": "code",
   "execution_count": 236,
   "metadata": {
    "tags": []
   },
   "outputs": [
    {
     "name": "stdout",
     "output_type": "stream",
     "text": [
      "0.35185185185185186\n"
     ]
    }
   ],
   "source": [
    "ratio_home_wins_20 = sum(df_20['Home Team Win']) / len(df_20)\n",
    "print(ratio_home_wins_20)"
   ]
  },
  {
   "cell_type": "code",
   "execution_count": 237,
   "metadata": {
    "tags": []
   },
   "outputs": [
    {
     "name": "stdout",
     "output_type": "stream",
     "text": [
      "0.37037037037037035\n"
     ]
    }
   ],
   "source": [
    "ratio_away_wins_20 = sum(df_20['Away Team Win']) / len(df_20)\n",
    "print(ratio_away_wins_20)"
   ]
  },
  {
   "cell_type": "code",
   "execution_count": 238,
   "metadata": {
    "tags": []
   },
   "outputs": [
    {
     "name": "stdout",
     "output_type": "stream",
     "text": [
      "0.2777777777777778\n"
     ]
    }
   ],
   "source": [
    "ratio_draws_20 = sum(df_20['Draw']) / len(df_20)\n",
    "print(ratio_draws_20)"
   ]
  },
  {
   "cell_type": "code",
   "execution_count": 239,
   "metadata": {},
   "outputs": [],
   "source": [
    "# sum over all leagues\n",
    "\n",
    "home_wins_20_total = 0\n",
    "away_wins_20_total = 0\n",
    "draws_20_total = 0\n",
    "matches_20_total = 0\n",
    "\n",
    "home_wins_20_total += sum(df_20['Home Team Win'])\n",
    "away_wins_20_total += sum(df_20['Away Team Win'])\n",
    "draws_20_total += sum(df_20['Draw'])\n",
    "matches_20_total += len(df_20)"
   ]
  },
  {
   "cell_type": "markdown",
   "metadata": {},
   "source": [
    "Less home wins and more draws compared to 2018-2019"
   ]
  },
  {
   "cell_type": "markdown",
   "metadata": {},
   "source": [
    "## Bundesliga"
   ]
  },
  {
   "cell_type": "code",
   "execution_count": 240,
   "metadata": {},
   "outputs": [],
   "source": [
    "# load results from Bundesliga \n",
    "\n",
    "df_18 = pd.read_csv('data/bundesliga-2018-WEuropeStandardTime.csv')\n",
    "df_20 = pd.read_csv('data/bundesliga-2020-WEuropeStandardTime.csv')\n",
    "\n",
    "df_18 = prep(df_18)\n",
    "df_20 = prep(df_20)"
   ]
  },
  {
   "cell_type": "markdown",
   "metadata": {},
   "source": [
    "### Season 18-19"
   ]
  },
  {
   "cell_type": "code",
   "execution_count": 241,
   "metadata": {
    "tags": []
   },
   "outputs": [
    {
     "name": "stdout",
     "output_type": "stream",
     "text": [
      "0.4477124183006536\n"
     ]
    }
   ],
   "source": [
    "ratio_home_wins_18 = sum(df_18['Home Team Win']) / len(df_18)\n",
    "print(ratio_home_wins_18)"
   ]
  },
  {
   "cell_type": "code",
   "execution_count": 242,
   "metadata": {
    "tags": []
   },
   "outputs": [
    {
     "name": "stdout",
     "output_type": "stream",
     "text": [
      "0.3104575163398693\n"
     ]
    }
   ],
   "source": [
    "ratio_away_wins_18 = sum(df_18['Away Team Win']) / len(df_18)\n",
    "print(ratio_away_wins_18)"
   ]
  },
  {
   "cell_type": "code",
   "execution_count": 243,
   "metadata": {
    "tags": []
   },
   "outputs": [
    {
     "name": "stdout",
     "output_type": "stream",
     "text": [
      "0.24183006535947713\n"
     ]
    }
   ],
   "source": [
    "ratio_draws_18 = sum(df_18['Draw']) / len(df_18)\n",
    "print(ratio_draws_18)"
   ]
  },
  {
   "cell_type": "code",
   "execution_count": 244,
   "metadata": {},
   "outputs": [],
   "source": [
    "# sum over all leagues\n",
    "\n",
    "home_wins_18_total += sum(df_18['Home Team Win'])\n",
    "away_wins_18_total += sum(df_18['Away Team Win'])\n",
    "draws_18_total += sum(df_18['Draw'])\n",
    "matches_18_total += len(df_18)"
   ]
  },
  {
   "cell_type": "markdown",
   "metadata": {},
   "source": [
    "### Season 20-21"
   ]
  },
  {
   "cell_type": "code",
   "execution_count": 245,
   "metadata": {
    "tags": []
   },
   "outputs": [
    {
     "name": "stdout",
     "output_type": "stream",
     "text": [
      "0.3308270676691729\n"
     ]
    }
   ],
   "source": [
    "ratio_home_wins_20 = sum(df_20['Home Team Win']) / len(df_20)\n",
    "print(ratio_home_wins_20)"
   ]
  },
  {
   "cell_type": "code",
   "execution_count": 246,
   "metadata": {
    "tags": []
   },
   "outputs": [
    {
     "name": "stdout",
     "output_type": "stream",
     "text": [
      "0.3609022556390977\n"
     ]
    }
   ],
   "source": [
    "ratio_away_wins_20 = sum(df_20['Away Team Win']) / len(df_20)\n",
    "print(ratio_away_wins_20)"
   ]
  },
  {
   "cell_type": "code",
   "execution_count": 247,
   "metadata": {
    "tags": []
   },
   "outputs": [
    {
     "name": "stdout",
     "output_type": "stream",
     "text": [
      "0.3082706766917293\n"
     ]
    }
   ],
   "source": [
    "ratio_draws_20 = sum(df_20['Draw']) / len(df_20)\n",
    "print(ratio_draws_20)"
   ]
  },
  {
   "cell_type": "code",
   "execution_count": 248,
   "metadata": {},
   "outputs": [],
   "source": [
    "# sum over all leagues\n",
    "\n",
    "home_wins_20_total += sum(df_20['Home Team Win'])\n",
    "away_wins_20_total += sum(df_20['Away Team Win'])\n",
    "draws_20_total += sum(df_20['Draw'])\n",
    "matches_20_total += len(df_20)"
   ]
  },
  {
   "cell_type": "markdown",
   "metadata": {},
   "source": [
    "## English Premier League "
   ]
  },
  {
   "cell_type": "code",
   "execution_count": 249,
   "metadata": {},
   "outputs": [],
   "source": [
    "df_18 = pd.read_csv('data/epl-2018-GMTStandardTime.csv')\n",
    "df_20 = pd.read_csv('data/epl-2020-GMTStandardTime.csv')\n",
    "\n",
    "df_18 = prep(df_18)\n",
    "df_20 = prep(df_20)"
   ]
  },
  {
   "cell_type": "markdown",
   "metadata": {},
   "source": [
    "### Season 18/19"
   ]
  },
  {
   "cell_type": "code",
   "execution_count": 250,
   "metadata": {
    "tags": []
   },
   "outputs": [
    {
     "name": "stdout",
     "output_type": "stream",
     "text": [
      "0.4763157894736842\n"
     ]
    }
   ],
   "source": [
    "ratio_home_wins_18 = sum(df_18['Home Team Win']) / len(df_18)\n",
    "print(ratio_home_wins_18)"
   ]
  },
  {
   "cell_type": "code",
   "execution_count": 251,
   "metadata": {
    "tags": []
   },
   "outputs": [
    {
     "name": "stdout",
     "output_type": "stream",
     "text": [
      "0.3368421052631579\n"
     ]
    }
   ],
   "source": [
    "ratio_away_wins_18 = sum(df_18['Away Team Win']) / len(df_18)\n",
    "print(ratio_away_wins_18)"
   ]
  },
  {
   "cell_type": "code",
   "execution_count": 252,
   "metadata": {
    "tags": []
   },
   "outputs": [
    {
     "name": "stdout",
     "output_type": "stream",
     "text": [
      "0.1868421052631579\n"
     ]
    }
   ],
   "source": [
    "ratio_draws_18 = sum(df_18['Draw']) / len(df_18)\n",
    "print(ratio_draws_18)"
   ]
  },
  {
   "cell_type": "code",
   "execution_count": 253,
   "metadata": {},
   "outputs": [],
   "source": [
    "# sum over all leagues\n",
    "\n",
    "home_wins_18_total += sum(df_18['Home Team Win'])\n",
    "away_wins_18_total += sum(df_18['Away Team Win'])\n",
    "draws_18_total += sum(df_18['Draw'])\n",
    "matches_18_total += len(df_18)"
   ]
  },
  {
   "cell_type": "markdown",
   "metadata": {},
   "source": [
    "### Season 20/21"
   ]
  },
  {
   "cell_type": "code",
   "execution_count": 254,
   "metadata": {
    "tags": []
   },
   "outputs": [
    {
     "name": "stdout",
     "output_type": "stream",
     "text": [
      "0.3719512195121951\n"
     ]
    }
   ],
   "source": [
    "ratio_home_wins_20 = sum(df_20['Home Team Win']) / len(df_20)\n",
    "print(ratio_home_wins_20)"
   ]
  },
  {
   "cell_type": "code",
   "execution_count": 255,
   "metadata": {
    "tags": []
   },
   "outputs": [
    {
     "name": "stdout",
     "output_type": "stream",
     "text": [
      "0.38414634146341464\n"
     ]
    }
   ],
   "source": [
    "ratio_away_wins_20 = sum(df_20['Away Team Win']) / len(df_20)\n",
    "print(ratio_away_wins_20)"
   ]
  },
  {
   "cell_type": "code",
   "execution_count": 256,
   "metadata": {
    "tags": []
   },
   "outputs": [
    {
     "name": "stdout",
     "output_type": "stream",
     "text": [
      "0.24390243902439024\n"
     ]
    }
   ],
   "source": [
    "ratio_draws_20 = sum(df_20['Draw']) / len(df_20)\n",
    "print(ratio_draws_20)"
   ]
  },
  {
   "cell_type": "code",
   "execution_count": 257,
   "metadata": {},
   "outputs": [],
   "source": [
    "# sum over all leagues\n",
    "\n",
    "home_wins_20_total += sum(df_20['Home Team Win'])\n",
    "away_wins_20_total += sum(df_20['Away Team Win'])\n",
    "draws_20_total += sum(df_20['Draw'])\n",
    "matches_20_total += len(df_20)"
   ]
  },
  {
   "cell_type": "markdown",
   "metadata": {},
   "source": [
    "## Ligue 1"
   ]
  },
  {
   "cell_type": "code",
   "execution_count": 258,
   "metadata": {},
   "outputs": [],
   "source": [
    "df_18 = pd.read_csv('data/ligue-1-2018-RomanceStandardTime.csv')\n",
    "df_20 = pd.read_csv('data/ligue-1-2020-RomanceStandardTime.csv')\n",
    "\n",
    "df_18 = prep(df_18)\n",
    "df_20 = prep(df_20)"
   ]
  },
  {
   "cell_type": "markdown",
   "metadata": {},
   "source": [
    "### Season 18/19"
   ]
  },
  {
   "cell_type": "code",
   "execution_count": 259,
   "metadata": {
    "tags": []
   },
   "outputs": [
    {
     "name": "stdout",
     "output_type": "stream",
     "text": [
      "0.43157894736842106\n"
     ]
    }
   ],
   "source": [
    "ratio_home_wins_18 = sum(df_18['Home Team Win']) / len(df_18)\n",
    "print(ratio_home_wins_18)"
   ]
  },
  {
   "cell_type": "code",
   "execution_count": 260,
   "metadata": {
    "tags": []
   },
   "outputs": [
    {
     "name": "stdout",
     "output_type": "stream",
     "text": [
      "0.2789473684210526\n"
     ]
    }
   ],
   "source": [
    "ratio_away_wins_18 = sum(df_18['Away Team Win']) / len(df_18)\n",
    "print(ratio_away_wins_18)"
   ]
  },
  {
   "cell_type": "code",
   "execution_count": 261,
   "metadata": {
    "tags": []
   },
   "outputs": [
    {
     "name": "stdout",
     "output_type": "stream",
     "text": [
      "0.2894736842105263\n"
     ]
    }
   ],
   "source": [
    "ratio_draws_18 = sum(df_18['Draw']) / len(df_18)\n",
    "print(ratio_draws_18)"
   ]
  },
  {
   "cell_type": "code",
   "execution_count": 262,
   "metadata": {},
   "outputs": [],
   "source": [
    "# sum over all leagues\n",
    "\n",
    "home_wins_18_total += sum(df_18['Home Team Win'])\n",
    "away_wins_18_total += sum(df_18['Away Team Win'])\n",
    "draws_18_total += sum(df_18['Draw'])\n",
    "matches_18_total += len(df_18)"
   ]
  },
  {
   "cell_type": "markdown",
   "metadata": {},
   "source": [
    "### Season 20/21"
   ]
  },
  {
   "cell_type": "code",
   "execution_count": 263,
   "metadata": {
    "tags": []
   },
   "outputs": [
    {
     "name": "stdout",
     "output_type": "stream",
     "text": [
      "0.39361702127659576\n"
     ]
    }
   ],
   "source": [
    "ratio_home_wins_20 = sum(df_20['Home Team Win']) / len(df_20)\n",
    "print(ratio_home_wins_20)"
   ]
  },
  {
   "cell_type": "code",
   "execution_count": 264,
   "metadata": {
    "tags": []
   },
   "outputs": [
    {
     "name": "stdout",
     "output_type": "stream",
     "text": [
      "0.35106382978723405\n"
     ]
    }
   ],
   "source": [
    "ratio_away_wins_20 = sum(df_20['Away Team Win']) / len(df_20)\n",
    "print(ratio_away_wins_20)"
   ]
  },
  {
   "cell_type": "code",
   "execution_count": 265,
   "metadata": {
    "tags": []
   },
   "outputs": [
    {
     "name": "stdout",
     "output_type": "stream",
     "text": [
      "0.2553191489361702\n"
     ]
    }
   ],
   "source": [
    "ratio_draws_20 = sum(df_20['Draw']) / len(df_20)\n",
    "print(ratio_draws_20)"
   ]
  },
  {
   "cell_type": "code",
   "execution_count": 266,
   "metadata": {},
   "outputs": [],
   "source": [
    "# sum over all leagues\n",
    "\n",
    "home_wins_20_total += sum(df_20['Home Team Win'])\n",
    "away_wins_20_total += sum(df_20['Away Team Win'])\n",
    "draws_20_total += sum(df_20['Draw'])\n",
    "matches_20_total += len(df_20)"
   ]
  },
  {
   "cell_type": "markdown",
   "metadata": {},
   "source": [
    "## La Liga"
   ]
  },
  {
   "cell_type": "code",
   "execution_count": 267,
   "metadata": {},
   "outputs": [],
   "source": [
    "df_18 = pd.read_csv('data/la-liga-2018-RomanceStandardTime.csv')\n",
    "df_20 = pd.read_csv('data/la-liga-2020-UTC.csv')\n",
    "\n",
    "df_18 = prep(df_18)\n",
    "df_20 = prep(df_20)"
   ]
  },
  {
   "cell_type": "markdown",
   "metadata": {},
   "source": [
    "### Season 18/19"
   ]
  },
  {
   "cell_type": "code",
   "execution_count": 268,
   "metadata": {
    "tags": []
   },
   "outputs": [
    {
     "name": "stdout",
     "output_type": "stream",
     "text": [
      "0.4421052631578947\n"
     ]
    }
   ],
   "source": [
    "ratio_home_wins_18 = sum(df_18['Home Team Win']) / len(df_18)\n",
    "print(ratio_home_wins_18)"
   ]
  },
  {
   "cell_type": "code",
   "execution_count": 269,
   "metadata": {
    "tags": []
   },
   "outputs": [
    {
     "name": "stdout",
     "output_type": "stream",
     "text": [
      "0.26842105263157895\n"
     ]
    }
   ],
   "source": [
    "ratio_away_wins_18 = sum(df_18['Away Team Win']) / len(df_18)\n",
    "print(ratio_away_wins_18)"
   ]
  },
  {
   "cell_type": "code",
   "execution_count": 270,
   "metadata": {
    "tags": []
   },
   "outputs": [
    {
     "name": "stdout",
     "output_type": "stream",
     "text": [
      "0.2894736842105263\n"
     ]
    }
   ],
   "source": [
    "ratio_draws_18 = sum(df_18['Draw']) / len(df_18)\n",
    "print(ratio_draws_18)"
   ]
  },
  {
   "cell_type": "code",
   "execution_count": 271,
   "metadata": {},
   "outputs": [],
   "source": [
    "# sum over all leagues\n",
    "\n",
    "home_wins_18_total += sum(df_18['Home Team Win'])\n",
    "away_wins_18_total += sum(df_18['Away Team Win'])\n",
    "draws_18_total += sum(df_18['Draw'])\n",
    "matches_18_total += len(df_18)"
   ]
  },
  {
   "cell_type": "markdown",
   "metadata": {},
   "source": [
    "### Season 20/21"
   ]
  },
  {
   "cell_type": "code",
   "execution_count": 272,
   "metadata": {
    "tags": []
   },
   "outputs": [
    {
     "name": "stdout",
     "output_type": "stream",
     "text": [
      "0.3988439306358382\n"
     ]
    }
   ],
   "source": [
    "ratio_home_wins_20 = sum(df_20['Home Team Win']) / len(df_20)\n",
    "print(ratio_home_wins_20)"
   ]
  },
  {
   "cell_type": "code",
   "execution_count": 273,
   "metadata": {
    "tags": []
   },
   "outputs": [
    {
     "name": "stdout",
     "output_type": "stream",
     "text": [
      "0.30057803468208094\n"
     ]
    }
   ],
   "source": [
    "ratio_away_wins_20 = sum(df_20['Away Team Win']) / len(df_20)\n",
    "print(ratio_away_wins_20)"
   ]
  },
  {
   "cell_type": "code",
   "execution_count": 274,
   "metadata": {
    "tags": []
   },
   "outputs": [
    {
     "name": "stdout",
     "output_type": "stream",
     "text": [
      "0.30057803468208094\n"
     ]
    }
   ],
   "source": [
    "ratio_draws_20 = sum(df_20['Draw']) / len(df_20)\n",
    "print(ratio_draws_20)"
   ]
  },
  {
   "cell_type": "code",
   "execution_count": 275,
   "metadata": {},
   "outputs": [],
   "source": [
    "# sum over all leagues\n",
    "\n",
    "home_wins_20_total += sum(df_20['Home Team Win'])\n",
    "away_wins_20_total += sum(df_20['Away Team Win'])\n",
    "draws_20_total += sum(df_20['Draw'])\n",
    "matches_20_total += len(df_20)"
   ]
  },
  {
   "cell_type": "markdown",
   "metadata": {},
   "source": [
    "## Season 18-19 Total"
   ]
  },
  {
   "cell_type": "code",
   "execution_count": 283,
   "metadata": {},
   "outputs": [
    {
     "data": {
      "text/plain": [
       "0.44687842278203727"
      ]
     },
     "execution_count": 283,
     "metadata": {},
     "output_type": "execute_result"
    }
   ],
   "source": [
    "home_wins_18_total / matches_18_total"
   ]
  },
  {
   "cell_type": "code",
   "execution_count": 284,
   "metadata": {},
   "outputs": [
    {
     "data": {
      "text/plain": [
       "0.2940854326396495"
      ]
     },
     "execution_count": 284,
     "metadata": {},
     "output_type": "execute_result"
    }
   ],
   "source": [
    "away_wins_18_total / matches_18_total"
   ]
  },
  {
   "cell_type": "code",
   "execution_count": 285,
   "metadata": {},
   "outputs": [
    {
     "data": {
      "text/plain": [
       "0.25903614457831325"
      ]
     },
     "execution_count": 285,
     "metadata": {},
     "output_type": "execute_result"
    }
   ],
   "source": [
    "draws_18_total / matches_18_total"
   ]
  },
  {
   "cell_type": "markdown",
   "metadata": {},
   "source": [
    "## Season 20-21 Total"
   ]
  },
  {
   "cell_type": "code",
   "execution_count": 280,
   "metadata": {},
   "outputs": [
    {
     "data": {
      "text/plain": [
       "0.3719512195121951"
      ]
     },
     "execution_count": 280,
     "metadata": {},
     "output_type": "execute_result"
    }
   ],
   "source": [
    "home_wins_20_total / matches_20_total"
   ]
  },
  {
   "cell_type": "code",
   "execution_count": 281,
   "metadata": {},
   "outputs": [
    {
     "data": {
      "text/plain": [
       "0.3524390243902439"
      ]
     },
     "execution_count": 281,
     "metadata": {},
     "output_type": "execute_result"
    }
   ],
   "source": [
    "away_wins_20_total / matches_20_total"
   ]
  },
  {
   "cell_type": "code",
   "execution_count": 282,
   "metadata": {},
   "outputs": [
    {
     "data": {
      "text/plain": [
       "0.275609756097561"
      ]
     },
     "execution_count": 282,
     "metadata": {},
     "output_type": "execute_result"
    }
   ],
   "source": [
    "draws_20_total / matches_20_total"
   ]
  },
  {
   "cell_type": "code",
   "execution_count": null,
   "metadata": {},
   "outputs": [],
   "source": []
  }
 ],
 "metadata": {
  "kernelspec": {
   "display_name": "Python 3",
   "language": "python",
   "name": "python3"
  },
  "language_info": {
   "codemirror_mode": {
    "name": "ipython",
    "version": 3
   },
   "file_extension": ".py",
   "mimetype": "text/x-python",
   "name": "python",
   "nbconvert_exporter": "python",
   "pygments_lexer": "ipython3",
   "version": "3.8.0"
  }
 },
 "nbformat": 4,
 "nbformat_minor": 2
}
