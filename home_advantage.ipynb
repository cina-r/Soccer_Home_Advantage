{
 "cells": [
  {
   "cell_type": "code",
   "execution_count": 109,
   "metadata": {},
   "outputs": [],
   "source": [
    "import pandas as pd \n",
    "import numpy as np\n",
    "import matplotlib\n",
    "import matplotlib.pyplot as plt"
   ]
  },
  {
   "cell_type": "code",
   "execution_count": 110,
   "metadata": {},
   "outputs": [],
   "source": [
    "# function for data processing\n",
    "\n",
    "def prep(df):\n",
    "    # drop unplayed games\n",
    "    df.dropna(inplace=True)\n",
    "\n",
    "    # split \"Result\" column into aray of two strings\n",
    "    df['Result2'] = df['Result'].apply(lambda x: x.split(' - '))\n",
    "    \n",
    "    # create one-hot encoding columns for results\n",
    "    df['Home Team Win'] = 0\n",
    "    df['Away Team Win'] = 0\n",
    "    df['Draw'] = 0\n",
    "\n",
    "    # create columns for points\n",
    "    df['Home Team Points'] = 0\n",
    "    df['Away Team Points'] = 0\n",
    "\n",
    "    # fill new columns\n",
    "    for i in df.index:\n",
    "        if int(df.loc[i, 'Result2'][0]) > int(df.loc[i, 'Result2'][1]):\n",
    "            df.loc[i, 'Home Team Win'] = 1\n",
    "            df.loc[i, 'Home Team Points'] = 3\n",
    "        elif int(df.loc[i, 'Result2'][0]) < int(df.loc[i, 'Result2'][1]):\n",
    "            df.loc[i, 'Away Team Win'] = 1\n",
    "            df.loc[i, 'Away Team Points'] = 3\n",
    "        else:\n",
    "            df.loc[i, 'Draw'] = 1\n",
    "            df.loc[i, 'Home Team Points'] = 1\n",
    "            df.loc[i, 'Away Team Points'] = 1\n",
    "\n",
    "    return df"
   ]
  },
  {
   "cell_type": "code",
   "execution_count": 111,
   "metadata": {},
   "outputs": [],
   "source": [
    "dict_home_18 = {}\n",
    "dict_away_18 = {}\n",
    "dict_home_20 = {}\n",
    "dict_away_20 = {}\n",
    "\n",
    "dict_avg_pts_home_18 = {}\n",
    "dict_avg_pts_away_18 = {}\n",
    "dict_avg_pts_home_20 = {}\n",
    "dict_avg_pts_away_20 = {}"
   ]
  },
  {
   "cell_type": "markdown",
   "metadata": {},
   "source": [
    "## Serie A"
   ]
  },
  {
   "cell_type": "code",
   "execution_count": 112,
   "metadata": {},
   "outputs": [],
   "source": [
    "# load results from Serie A\n",
    "\n",
    "df_18 = pd.read_csv('data/serie-a-2018-WEuropeStandardTime.csv')  # season 18-19\n",
    "df_20 = pd.read_csv('data/serie-a-2020-WEuropeStandardTime.csv')  # season 20-21\n",
    "\n",
    "df_18 = prep(df_18)\n",
    "df_20 = prep(df_20)"
   ]
  },
  {
   "cell_type": "markdown",
   "metadata": {},
   "source": [
    "### Season 2018-2019"
   ]
  },
  {
   "cell_type": "code",
   "execution_count": 113,
   "metadata": {},
   "outputs": [
    {
     "output_type": "stream",
     "name": "stdout",
     "text": [
      "0.4368421052631579\n"
     ]
    }
   ],
   "source": [
    "ratio_home_wins_18 = sum(df_18['Home Team Win']) / len(df_18)\n",
    "print(ratio_home_wins_18)"
   ]
  },
  {
   "cell_type": "code",
   "execution_count": 114,
   "metadata": {},
   "outputs": [
    {
     "output_type": "stream",
     "name": "stdout",
     "text": [
      "0.2789473684210526\n"
     ]
    }
   ],
   "source": [
    "ratio_away_wins_18 = sum(df_18['Away Team Win']) / len(df_18)\n",
    "print(ratio_away_wins_18)"
   ]
  },
  {
   "cell_type": "code",
   "execution_count": 115,
   "metadata": {},
   "outputs": [
    {
     "output_type": "stream",
     "name": "stdout",
     "text": [
      "0.28421052631578947\n"
     ]
    }
   ],
   "source": [
    "ratio_draws_18 = sum(df_18['Draw']) / len(df_18)\n",
    "print(ratio_draws_18)"
   ]
  },
  {
   "cell_type": "code",
   "execution_count": 116,
   "metadata": {},
   "outputs": [],
   "source": [
    "dict_home_18['Serie A'] = ratio_home_wins_18\n",
    "dict_away_18['Serie A'] = ratio_away_wins_18"
   ]
  },
  {
   "cell_type": "code",
   "execution_count": 117,
   "metadata": {},
   "outputs": [],
   "source": [
    "avg_points_home = sum(df_18['Home Team Points']) / len(df_18)\n",
    "avg_points_away = sum(df_18['Away Team Points']) / len(df_18)\n",
    "\n",
    "dict_avg_pts_home_18['Serie A'] = avg_points_home\n",
    "dict_avg_pts_away_18['Serie A'] = avg_points_away"
   ]
  },
  {
   "cell_type": "markdown",
   "metadata": {},
   "source": [
    "### Season 2020-2021"
   ]
  },
  {
   "cell_type": "code",
   "execution_count": 118,
   "metadata": {},
   "outputs": [
    {
     "output_type": "stream",
     "name": "stdout",
     "text": [
      "0.41081081081081083\n"
     ]
    }
   ],
   "source": [
    "ratio_home_wins_20 = sum(df_20['Home Team Win']) / len(df_20)\n",
    "print(ratio_home_wins_20)"
   ]
  },
  {
   "cell_type": "code",
   "execution_count": 119,
   "metadata": {},
   "outputs": [
    {
     "output_type": "stream",
     "name": "stdout",
     "text": [
      "0.33783783783783783\n"
     ]
    }
   ],
   "source": [
    "ratio_away_wins_20 = sum(df_20['Away Team Win']) / len(df_20)\n",
    "print(ratio_away_wins_20)"
   ]
  },
  {
   "cell_type": "code",
   "execution_count": 120,
   "metadata": {},
   "outputs": [
    {
     "output_type": "stream",
     "name": "stdout",
     "text": [
      "0.25135135135135134\n"
     ]
    }
   ],
   "source": [
    "ratio_draws_20 = sum(df_20['Draw']) / len(df_20)\n",
    "print(ratio_draws_20)"
   ]
  },
  {
   "cell_type": "code",
   "execution_count": 121,
   "metadata": {},
   "outputs": [],
   "source": [
    "dict_home_20['Serie A'] = ratio_home_wins_20\n",
    "dict_away_20['Serie A'] = ratio_away_wins_20"
   ]
  },
  {
   "cell_type": "code",
   "execution_count": 122,
   "metadata": {},
   "outputs": [],
   "source": [
    "avg_points_home = sum(df_20['Home Team Points']) / len(df_20)\n",
    "avg_points_away = sum(df_20['Away Team Points']) / len(df_20)\n",
    "\n",
    "dict_avg_pts_home_20['Serie A'] = avg_points_home\n",
    "dict_avg_pts_away_20['Serie A'] = avg_points_away"
   ]
  },
  {
   "cell_type": "markdown",
   "metadata": {},
   "source": [
    "## Bundesliga"
   ]
  },
  {
   "cell_type": "code",
   "execution_count": 123,
   "metadata": {},
   "outputs": [],
   "source": [
    "# load results from Bundesliga \n",
    "\n",
    "df_18 = pd.read_csv('data/bundesliga-2018-WEuropeStandardTime.csv')\n",
    "df_20 = pd.read_csv('data/bundesliga-2020-WEuropeStandardTime.csv')\n",
    "\n",
    "df_18 = prep(df_18)\n",
    "df_20 = prep(df_20)"
   ]
  },
  {
   "cell_type": "markdown",
   "metadata": {},
   "source": [
    "### Season 18-19"
   ]
  },
  {
   "cell_type": "code",
   "execution_count": 124,
   "metadata": {},
   "outputs": [
    {
     "output_type": "stream",
     "name": "stdout",
     "text": [
      "0.4477124183006536\n"
     ]
    }
   ],
   "source": [
    "ratio_home_wins_18 = sum(df_18['Home Team Win']) / len(df_18)\n",
    "print(ratio_home_wins_18)"
   ]
  },
  {
   "cell_type": "code",
   "execution_count": 125,
   "metadata": {},
   "outputs": [
    {
     "output_type": "stream",
     "name": "stdout",
     "text": [
      "0.3104575163398693\n"
     ]
    }
   ],
   "source": [
    "ratio_away_wins_18 = sum(df_18['Away Team Win']) / len(df_18)\n",
    "print(ratio_away_wins_18)"
   ]
  },
  {
   "cell_type": "code",
   "execution_count": 126,
   "metadata": {},
   "outputs": [
    {
     "output_type": "stream",
     "name": "stdout",
     "text": [
      "0.24183006535947713\n"
     ]
    }
   ],
   "source": [
    "ratio_draws_18 = sum(df_18['Draw']) / len(df_18)\n",
    "print(ratio_draws_18)"
   ]
  },
  {
   "cell_type": "code",
   "execution_count": 127,
   "metadata": {},
   "outputs": [],
   "source": [
    "dict_home_18['Bundesliga'] = ratio_home_wins_18\n",
    "dict_away_18['Bundesliga'] = ratio_away_wins_18"
   ]
  },
  {
   "cell_type": "code",
   "execution_count": 128,
   "metadata": {},
   "outputs": [],
   "source": [
    "avg_points_home = sum(df_18['Home Team Points']) / len(df_18)\n",
    "avg_points_away = sum(df_18['Away Team Points']) / len(df_18)\n",
    "\n",
    "dict_avg_pts_home_18['Bundesliga'] = avg_points_home\n",
    "dict_avg_pts_away_18['Bundesliga'] = avg_points_away"
   ]
  },
  {
   "cell_type": "markdown",
   "metadata": {},
   "source": [
    "### Season 20-21"
   ]
  },
  {
   "cell_type": "code",
   "execution_count": 129,
   "metadata": {},
   "outputs": [
    {
     "output_type": "stream",
     "name": "stdout",
     "text": [
      "0.4215686274509804\n"
     ]
    }
   ],
   "source": [
    "ratio_home_wins_20 = sum(df_20['Home Team Win']) / len(df_20)\n",
    "print(ratio_home_wins_20)"
   ]
  },
  {
   "cell_type": "code",
   "execution_count": 130,
   "metadata": {},
   "outputs": [
    {
     "output_type": "stream",
     "name": "stdout",
     "text": [
      "0.3137254901960784\n"
     ]
    }
   ],
   "source": [
    "ratio_away_wins_20 = sum(df_20['Away Team Win']) / len(df_20)\n",
    "print(ratio_away_wins_20)"
   ]
  },
  {
   "cell_type": "code",
   "execution_count": 131,
   "metadata": {},
   "outputs": [
    {
     "output_type": "stream",
     "name": "stdout",
     "text": [
      "0.2647058823529412\n"
     ]
    }
   ],
   "source": [
    "ratio_draws_20 = sum(df_20['Draw']) / len(df_20)\n",
    "print(ratio_draws_20)"
   ]
  },
  {
   "cell_type": "code",
   "execution_count": 132,
   "metadata": {},
   "outputs": [],
   "source": [
    "dict_home_20['Bundesliga'] = ratio_home_wins_20\n",
    "dict_away_20['Bundesliga'] = ratio_away_wins_20"
   ]
  },
  {
   "cell_type": "code",
   "execution_count": 133,
   "metadata": {},
   "outputs": [],
   "source": [
    "avg_points_home = sum(df_20['Home Team Points']) / len(df_20)\n",
    "avg_points_away = sum(df_20['Away Team Points']) / len(df_20)\n",
    "\n",
    "dict_avg_pts_home_20['Bundesliga'] = avg_points_home\n",
    "dict_avg_pts_away_20['Bundesliga'] = avg_points_away"
   ]
  },
  {
   "cell_type": "markdown",
   "metadata": {},
   "source": [
    "## English Premier League "
   ]
  },
  {
   "cell_type": "code",
   "execution_count": 134,
   "metadata": {},
   "outputs": [],
   "source": [
    "# load and prepare fixtures\n",
    "df_18 = pd.read_csv('data/epl-2018-WEuropeStandardTime.csv')\n",
    "df_20 = pd.read_csv('data/epl-2020-WEuropeStandardTime.csv')\n",
    "\n",
    "df_18 = prep(df_18)\n",
    "df_20 = prep(df_20)"
   ]
  },
  {
   "source": [
    "# remove matchday 37 cause Fans were allowed in the stadium again\n",
    "df_20 = df_20[df_20['Round Number'] != 37]"
   ],
   "cell_type": "code",
   "metadata": {},
   "execution_count": 135,
   "outputs": []
  },
  {
   "cell_type": "code",
   "execution_count": 137,
   "metadata": {},
   "outputs": [],
   "source": [
    "# load table from season 18/19\n",
    "df_table_18 = pd.read_csv('data/epl_1819.csv')\n",
    "\n",
    "# unify team names\n",
    "df_table_18.loc[df_table_18['Team']==' Bournemouth', 'Team']  = 'Bournemouth'\n",
    "df_table_18.loc[df_table_18['Team']=='Manchester City', 'Team']  = 'Man City'\n",
    "df_table_18.loc[df_table_18['Team']=='Manchester United', 'Team']  = 'Man Utd'\n",
    "df_table_18.loc[df_table_18['Team']=='Tottenham', 'Team']  = 'Spurs'\n",
    "df_table_18.loc[df_table_18['Team']=='Wolverhampton', 'Team']  = 'Wolves'\n",
    "\n",
    "# split table into top, middle and bottom teams\n",
    "df_table_18_top = df_table_18.iloc[:7]\n",
    "df_table_18_middle = df_table_18.iloc[7:14]\n",
    "df_table_18_bottom = df_table_18.iloc[14:]"
   ]
  },
  {
   "cell_type": "code",
   "execution_count": 138,
   "metadata": {},
   "outputs": [
    {
     "output_type": "stream",
     "name": "stdout",
     "text": [
      "['Arsenal', 'Aston Villa', 'Brighton', 'Burnley', 'Chelsea', 'Crystal Palace', 'Everton', 'Fulham', 'Leeds', 'Leicester', 'Liverpool', 'Man City', 'Man Utd', 'Newcastle', 'Sheffield Utd', 'Southampton', 'Spurs', 'West Brom', 'West Ham', 'Wolves']\n"
     ]
    }
   ],
   "source": [
    "print(sorted(df_20['Home Team'].unique()))"
   ]
  },
  {
   "cell_type": "code",
   "execution_count": 139,
   "metadata": {},
   "outputs": [],
   "source": [
    "# create table for season 20/21 (matchday 36)\n",
    "df_table_20 = pd.DataFrame(['Man City', 'Man Utd', 'Leicester', 'Chelsea', 'Liverpool', 'Spurs', \\\n",
    "                            'West Ham', 'Everton', 'Arsenal', 'Leeds', 'Aston Villa', 'Wolves', 'Crystal Palace', \\\n",
    "                            'Southampton', 'Burnley', 'Newcastle', 'Brighton', 'Fulham', 'West Brom', 'Sheffield Utd'], columns=['Team'])\n",
    "\n",
    "# split table into top, middle and bottom teams\n",
    "df_table_20_top = df_table_20.iloc[:7]\n",
    "df_table_20_middle = df_table_20.iloc[7:14]\n",
    "df_table_20_bottom = df_table_20.iloc[14:]"
   ]
  },
  {
   "cell_type": "markdown",
   "metadata": {},
   "source": [
    "### Season 18/19"
   ]
  },
  {
   "cell_type": "code",
   "execution_count": 140,
   "metadata": {},
   "outputs": [
    {
     "output_type": "stream",
     "name": "stdout",
     "text": [
      "0.4763157894736842\n"
     ]
    }
   ],
   "source": [
    "# home win percentage of ALL clubs\n",
    "ratio_home_wins_18 = sum(df_18['Home Team Win']) / len(df_18)\n",
    "print(ratio_home_wins_18)"
   ]
  },
  {
   "cell_type": "code",
   "execution_count": 141,
   "metadata": {},
   "outputs": [
    {
     "output_type": "stream",
     "name": "stdout",
     "text": [
      "0.6992481203007519\n"
     ]
    }
   ],
   "source": [
    "# home win percentage of TOP clubs\n",
    "temp = df_18.loc[df_18['Home Team'].isin(df_table_18_top['Team']), 'Home Team Win']\n",
    "ratio_home_wins_18_top = sum(temp)/len(temp)\n",
    "print(ratio_home_wins_18_top)"
   ]
  },
  {
   "cell_type": "code",
   "execution_count": 142,
   "metadata": {},
   "outputs": [
    {
     "output_type": "stream",
     "name": "stdout",
     "text": [
      "0.42105263157894735\n"
     ]
    }
   ],
   "source": [
    "# home win percentage of MIDDLE clubs\n",
    "temp = df_18.loc[df_18['Home Team'].isin(df_table_18_middle['Team']), 'Home Team Win']\n",
    "ratio_home_wins_18_middle = sum(temp)/len(temp)\n",
    "print(ratio_home_wins_18_middle)"
   ]
  },
  {
   "cell_type": "code",
   "execution_count": 143,
   "metadata": {},
   "outputs": [
    {
     "output_type": "stream",
     "name": "stdout",
     "text": [
      "0.2807017543859649\n"
     ]
    }
   ],
   "source": [
    "# home win percentage of BOTTOM clubs\n",
    "temp = df_18.loc[df_18['Home Team'].isin(df_table_18_bottom['Team']), 'Home Team Win']\n",
    "ratio_home_wins_18_bottom = sum(temp)/len(temp)\n",
    "print(ratio_home_wins_18_bottom)"
   ]
  },
  {
   "cell_type": "code",
   "execution_count": 144,
   "metadata": {},
   "outputs": [
    {
     "output_type": "stream",
     "name": "stdout",
     "text": [
      "0.3368421052631579\n"
     ]
    }
   ],
   "source": [
    "# away win percentage of all clubs\n",
    "ratio_away_wins_18 = sum(df_18['Away Team Win']) / len(df_18)\n",
    "print(ratio_away_wins_18)"
   ]
  },
  {
   "cell_type": "code",
   "execution_count": 145,
   "metadata": {},
   "outputs": [
    {
     "output_type": "stream",
     "name": "stdout",
     "text": [
      "0.1868421052631579\n"
     ]
    }
   ],
   "source": [
    "# total draw percentage\n",
    "ratio_draws_18 = sum(df_18['Draw']) / len(df_18)\n",
    "print(ratio_draws_18)"
   ]
  },
  {
   "cell_type": "code",
   "execution_count": 146,
   "metadata": {},
   "outputs": [],
   "source": [
    "# add EPL total ratios to league-wide dict\n",
    "dict_home_18['EPL'] = ratio_home_wins_18\n",
    "dict_away_18['EPL'] = ratio_away_wins_18"
   ]
  },
  {
   "cell_type": "code",
   "execution_count": 147,
   "metadata": {},
   "outputs": [],
   "source": [
    "# add EPL total average points to league-wide dict\n",
    "\n",
    "avg_points_home = sum(df_18['Home Team Points']) / len(df_18)\n",
    "avg_points_away = sum(df_18['Away Team Points']) / len(df_18)\n",
    "\n",
    "dict_avg_pts_home_18['EPL'] = avg_points_home\n",
    "dict_avg_pts_away_18['EPL'] = avg_points_away"
   ]
  },
  {
   "cell_type": "markdown",
   "metadata": {},
   "source": [
    "### Season 20/21"
   ]
  },
  {
   "cell_type": "code",
   "execution_count": 148,
   "metadata": {},
   "outputs": [
    {
     "output_type": "stream",
     "name": "stdout",
     "text": [
      "0.36944444444444446\n"
     ]
    }
   ],
   "source": [
    "# home win percentage of ALL clubs\n",
    "ratio_home_wins_20 = sum(df_20['Home Team Win']) / len(df_20)\n",
    "print(ratio_home_wins_20)"
   ]
  },
  {
   "cell_type": "code",
   "execution_count": 149,
   "metadata": {},
   "outputs": [
    {
     "output_type": "stream",
     "name": "stdout",
     "text": [
      "0.5238095238095238\n"
     ]
    }
   ],
   "source": [
    "# home win percentage of TOP clubs\n",
    "temp = df_20.loc[df_20['Home Team'].isin(df_table_20_top['Team']), 'Home Team Win']\n",
    "ratio_home_wins_20_top = sum(temp)/len(temp)\n",
    "print(ratio_home_wins_20_top)"
   ]
  },
  {
   "cell_type": "code",
   "execution_count": 150,
   "metadata": {},
   "outputs": [
    {
     "output_type": "stream",
     "name": "stdout",
     "text": [
      "0.36507936507936506\n"
     ]
    }
   ],
   "source": [
    "# home win percentage of MIDDLE clubs\n",
    "temp = df_20.loc[df_20['Home Team'].isin(df_table_20_middle['Team']), 'Home Team Win']\n",
    "ratio_home_wins_20_middle = sum(temp)/len(temp)\n",
    "print(ratio_home_wins_20_middle)"
   ]
  },
  {
   "cell_type": "code",
   "execution_count": 151,
   "metadata": {},
   "outputs": [
    {
     "output_type": "stream",
     "name": "stdout",
     "text": [
      "0.19444444444444445\n"
     ]
    }
   ],
   "source": [
    "# home win percentage of BOTTOM clubs\n",
    "temp = df_20.loc[df_20['Home Team'].isin(df_table_20_bottom['Team']), 'Home Team Win']\n",
    "ratio_home_wins_20_bottom = sum(temp)/len(temp)\n",
    "print(ratio_home_wins_20_bottom)"
   ]
  },
  {
   "cell_type": "code",
   "execution_count": 152,
   "metadata": {},
   "outputs": [
    {
     "output_type": "stream",
     "name": "stdout",
     "text": [
      "0.4027777777777778\n"
     ]
    }
   ],
   "source": [
    "ratio_away_wins_20 = sum(df_20['Away Team Win']) / len(df_20)\n",
    "print(ratio_away_wins_20)"
   ]
  },
  {
   "cell_type": "code",
   "execution_count": 153,
   "metadata": {},
   "outputs": [
    {
     "output_type": "stream",
     "name": "stdout",
     "text": [
      "0.22777777777777777\n"
     ]
    }
   ],
   "source": [
    "ratio_draws_20 = sum(df_20['Draw']) / len(df_20)\n",
    "print(ratio_draws_20)"
   ]
  },
  {
   "cell_type": "code",
   "execution_count": 154,
   "metadata": {},
   "outputs": [],
   "source": [
    "dict_home_20['EPL'] = ratio_home_wins_20\n",
    "dict_away_20['EPL'] = ratio_away_wins_20"
   ]
  },
  {
   "cell_type": "code",
   "execution_count": 155,
   "metadata": {},
   "outputs": [],
   "source": [
    "avg_points_home = sum(df_20['Home Team Points']) / len(df_20)\n",
    "avg_points_away = sum(df_20['Away Team Points']) / len(df_20)\n",
    "\n",
    "dict_avg_pts_home_20['EPL'] = avg_points_home\n",
    "dict_avg_pts_away_20['EPL'] = avg_points_away"
   ]
  },
  {
   "cell_type": "markdown",
   "metadata": {},
   "source": [
    "### Compare top, middle and bottom clubs"
   ]
  },
  {
   "cell_type": "code",
   "execution_count": 156,
   "metadata": {},
   "outputs": [
    {
     "output_type": "execute_result",
     "data": {
      "text/plain": [
       "[0.6992481203007519, 0.42105263157894735, 0.2807017543859649]"
      ]
     },
     "metadata": {},
     "execution_count": 156
    }
   ],
   "source": [
    "[ratio_home_wins_18_top, ratio_home_wins_18_middle, ratio_home_wins_18_bottom]"
   ]
  },
  {
   "cell_type": "code",
   "execution_count": 157,
   "metadata": {},
   "outputs": [
    {
     "output_type": "execute_result",
     "data": {
      "text/plain": [
       "70"
      ]
     },
     "metadata": {},
     "execution_count": 157
    }
   ],
   "source": [
    "int(round(ratio_home_wins_18_top*100, 0))"
   ]
  },
  {
   "cell_type": "code",
   "execution_count": 158,
   "metadata": {},
   "outputs": [],
   "source": [
    "ratio_home_wins_18_top = int(round(ratio_home_wins_18_top*100, 0))\n",
    "ratio_home_wins_18_middle = int(round(ratio_home_wins_18_middle*100, 0))\n",
    "ratio_home_wins_18_bottom = int(round(ratio_home_wins_18_bottom*100, 0))\n",
    "\n",
    "ratio_home_wins_20_top = int(round(ratio_home_wins_20_top*100, 0))\n",
    "ratio_home_wins_20_middle = int(round(ratio_home_wins_20_middle*100, 0))\n",
    "ratio_home_wins_20_bottom = int(round(ratio_home_wins_20_bottom*100, 0))"
   ]
  },
  {
   "cell_type": "code",
   "execution_count": 159,
   "metadata": {},
   "outputs": [
    {
     "output_type": "display_data",
     "data": {
      "text/plain": "<Figure size 432x288 with 1 Axes>",
      "image/svg+xml": "<?xml version=\"1.0\" encoding=\"utf-8\" standalone=\"no\"?>\r\n<!DOCTYPE svg PUBLIC \"-//W3C//DTD SVG 1.1//EN\"\r\n  \"http://www.w3.org/Graphics/SVG/1.1/DTD/svg11.dtd\">\r\n<!-- Created with matplotlib (https://matplotlib.org/) -->\r\n<svg height=\"291.59625pt\" version=\"1.1\" viewBox=\"0 0 424.440625 291.59625\" width=\"424.440625pt\" xmlns=\"http://www.w3.org/2000/svg\" xmlns:xlink=\"http://www.w3.org/1999/xlink\">\r\n <defs>\r\n  <style type=\"text/css\">\r\n*{stroke-linecap:butt;stroke-linejoin:round;}\r\n  </style>\r\n </defs>\r\n <g id=\"figure_1\">\r\n  <g id=\"patch_1\">\r\n   <path d=\"M 0 291.59625 \r\nL 424.440625 291.59625 \r\nL 424.440625 0 \r\nL 0 0 \r\nz\r\n\" style=\"fill:none;\"/>\r\n  </g>\r\n  <g id=\"axes_1\">\r\n   <g id=\"patch_2\">\r\n    <path d=\"M 46.965625 267.718125 \r\nL 417.240625 267.718125 \r\nL 417.240625 22.318125 \r\nL 46.965625 22.318125 \r\nz\r\n\" style=\"fill:#ffffff;\"/>\r\n   </g>\r\n   <g id=\"patch_3\">\r\n    <path clip-path=\"url(#p1bd751fd76)\" d=\"M 63.796307 267.718125 \r\nL 96.668732 267.718125 \r\nL 96.668732 95.938125 \r\nL 63.796307 95.938125 \r\nz\r\n\" style=\"fill:#008000;\"/>\r\n   </g>\r\n   <g id=\"patch_4\">\r\n    <path clip-path=\"url(#p1bd751fd76)\" d=\"M 195.286009 267.718125 \r\nL 228.158434 267.718125 \r\nL 228.158434 164.650125 \r\nL 195.286009 164.650125 \r\nz\r\n\" style=\"fill:#008000;\"/>\r\n   </g>\r\n   <g id=\"patch_5\">\r\n    <path clip-path=\"url(#p1bd751fd76)\" d=\"M 326.77571 267.718125 \r\nL 359.648136 267.718125 \r\nL 359.648136 199.006125 \r\nL 326.77571 199.006125 \r\nz\r\n\" style=\"fill:#008000;\"/>\r\n   </g>\r\n   <g id=\"patch_6\">\r\n    <path clip-path=\"url(#p1bd751fd76)\" d=\"M 104.558114 267.718125 \r\nL 137.43054 267.718125 \r\nL 137.43054 140.110125 \r\nL 104.558114 140.110125 \r\nz\r\n\" style=\"fill:#ff0000;\"/>\r\n   </g>\r\n   <g id=\"patch_7\">\r\n    <path clip-path=\"url(#p1bd751fd76)\" d=\"M 236.047816 267.718125 \r\nL 268.920241 267.718125 \r\nL 268.920241 176.920125 \r\nL 236.047816 176.920125 \r\nz\r\n\" style=\"fill:#ff0000;\"/>\r\n   </g>\r\n   <g id=\"patch_8\">\r\n    <path clip-path=\"url(#p1bd751fd76)\" d=\"M 367.537518 267.718125 \r\nL 400.409943 267.718125 \r\nL 400.409943 221.092125 \r\nL 367.537518 221.092125 \r\nz\r\n\" style=\"fill:#ff0000;\"/>\r\n   </g>\r\n   <g id=\"matplotlib.axis_1\">\r\n    <g id=\"xtick_1\">\r\n     <g id=\"line2d_1\">\r\n      <defs>\r\n       <path d=\"M 0 0 \r\nL 0 3.5 \r\n\" id=\"m5b104d6cd9\" style=\"stroke:#000000;stroke-width:0.8;\"/>\r\n      </defs>\r\n      <g>\r\n       <use style=\"stroke:#000000;stroke-width:0.8;\" x=\"100.613423\" xlink:href=\"#m5b104d6cd9\" y=\"267.718125\"/>\r\n      </g>\r\n     </g>\r\n     <g id=\"text_1\">\r\n      <!-- Top Teams -->\r\n      <defs>\r\n       <path d=\"M -0.296875 72.90625 \r\nL 61.375 72.90625 \r\nL 61.375 64.59375 \r\nL 35.5 64.59375 \r\nL 35.5 0 \r\nL 25.59375 0 \r\nL 25.59375 64.59375 \r\nL -0.296875 64.59375 \r\nz\r\n\" id=\"DejaVuSans-84\"/>\r\n       <path d=\"M 30.609375 48.390625 \r\nQ 23.390625 48.390625 19.1875 42.75 \r\nQ 14.984375 37.109375 14.984375 27.296875 \r\nQ 14.984375 17.484375 19.15625 11.84375 \r\nQ 23.34375 6.203125 30.609375 6.203125 \r\nQ 37.796875 6.203125 41.984375 11.859375 \r\nQ 46.1875 17.53125 46.1875 27.296875 \r\nQ 46.1875 37.015625 41.984375 42.703125 \r\nQ 37.796875 48.390625 30.609375 48.390625 \r\nz\r\nM 30.609375 56 \r\nQ 42.328125 56 49.015625 48.375 \r\nQ 55.71875 40.765625 55.71875 27.296875 \r\nQ 55.71875 13.875 49.015625 6.21875 \r\nQ 42.328125 -1.421875 30.609375 -1.421875 \r\nQ 18.84375 -1.421875 12.171875 6.21875 \r\nQ 5.515625 13.875 5.515625 27.296875 \r\nQ 5.515625 40.765625 12.171875 48.375 \r\nQ 18.84375 56 30.609375 56 \r\nz\r\n\" id=\"DejaVuSans-111\"/>\r\n       <path d=\"M 18.109375 8.203125 \r\nL 18.109375 -20.796875 \r\nL 9.078125 -20.796875 \r\nL 9.078125 54.6875 \r\nL 18.109375 54.6875 \r\nL 18.109375 46.390625 \r\nQ 20.953125 51.265625 25.265625 53.625 \r\nQ 29.59375 56 35.59375 56 \r\nQ 45.5625 56 51.78125 48.09375 \r\nQ 58.015625 40.1875 58.015625 27.296875 \r\nQ 58.015625 14.40625 51.78125 6.484375 \r\nQ 45.5625 -1.421875 35.59375 -1.421875 \r\nQ 29.59375 -1.421875 25.265625 0.953125 \r\nQ 20.953125 3.328125 18.109375 8.203125 \r\nz\r\nM 48.6875 27.296875 \r\nQ 48.6875 37.203125 44.609375 42.84375 \r\nQ 40.53125 48.484375 33.40625 48.484375 \r\nQ 26.265625 48.484375 22.1875 42.84375 \r\nQ 18.109375 37.203125 18.109375 27.296875 \r\nQ 18.109375 17.390625 22.1875 11.75 \r\nQ 26.265625 6.109375 33.40625 6.109375 \r\nQ 40.53125 6.109375 44.609375 11.75 \r\nQ 48.6875 17.390625 48.6875 27.296875 \r\nz\r\n\" id=\"DejaVuSans-112\"/>\r\n       <path id=\"DejaVuSans-32\"/>\r\n       <path d=\"M 56.203125 29.59375 \r\nL 56.203125 25.203125 \r\nL 14.890625 25.203125 \r\nQ 15.484375 15.921875 20.484375 11.0625 \r\nQ 25.484375 6.203125 34.421875 6.203125 \r\nQ 39.59375 6.203125 44.453125 7.46875 \r\nQ 49.3125 8.734375 54.109375 11.28125 \r\nL 54.109375 2.78125 \r\nQ 49.265625 0.734375 44.1875 -0.34375 \r\nQ 39.109375 -1.421875 33.890625 -1.421875 \r\nQ 20.796875 -1.421875 13.15625 6.1875 \r\nQ 5.515625 13.8125 5.515625 26.8125 \r\nQ 5.515625 40.234375 12.765625 48.109375 \r\nQ 20.015625 56 32.328125 56 \r\nQ 43.359375 56 49.78125 48.890625 \r\nQ 56.203125 41.796875 56.203125 29.59375 \r\nz\r\nM 47.21875 32.234375 \r\nQ 47.125 39.59375 43.09375 43.984375 \r\nQ 39.0625 48.390625 32.421875 48.390625 \r\nQ 24.90625 48.390625 20.390625 44.140625 \r\nQ 15.875 39.890625 15.1875 32.171875 \r\nz\r\n\" id=\"DejaVuSans-101\"/>\r\n       <path d=\"M 34.28125 27.484375 \r\nQ 23.390625 27.484375 19.1875 25 \r\nQ 14.984375 22.515625 14.984375 16.5 \r\nQ 14.984375 11.71875 18.140625 8.90625 \r\nQ 21.296875 6.109375 26.703125 6.109375 \r\nQ 34.1875 6.109375 38.703125 11.40625 \r\nQ 43.21875 16.703125 43.21875 25.484375 \r\nL 43.21875 27.484375 \r\nz\r\nM 52.203125 31.203125 \r\nL 52.203125 0 \r\nL 43.21875 0 \r\nL 43.21875 8.296875 \r\nQ 40.140625 3.328125 35.546875 0.953125 \r\nQ 30.953125 -1.421875 24.3125 -1.421875 \r\nQ 15.921875 -1.421875 10.953125 3.296875 \r\nQ 6 8.015625 6 15.921875 \r\nQ 6 25.140625 12.171875 29.828125 \r\nQ 18.359375 34.515625 30.609375 34.515625 \r\nL 43.21875 34.515625 \r\nL 43.21875 35.40625 \r\nQ 43.21875 41.609375 39.140625 45 \r\nQ 35.0625 48.390625 27.6875 48.390625 \r\nQ 23 48.390625 18.546875 47.265625 \r\nQ 14.109375 46.140625 10.015625 43.890625 \r\nL 10.015625 52.203125 \r\nQ 14.9375 54.109375 19.578125 55.046875 \r\nQ 24.21875 56 28.609375 56 \r\nQ 40.484375 56 46.34375 49.84375 \r\nQ 52.203125 43.703125 52.203125 31.203125 \r\nz\r\n\" id=\"DejaVuSans-97\"/>\r\n       <path d=\"M 52 44.1875 \r\nQ 55.375 50.25 60.0625 53.125 \r\nQ 64.75 56 71.09375 56 \r\nQ 79.640625 56 84.28125 50.015625 \r\nQ 88.921875 44.046875 88.921875 33.015625 \r\nL 88.921875 0 \r\nL 79.890625 0 \r\nL 79.890625 32.71875 \r\nQ 79.890625 40.578125 77.09375 44.375 \r\nQ 74.3125 48.1875 68.609375 48.1875 \r\nQ 61.625 48.1875 57.5625 43.546875 \r\nQ 53.515625 38.921875 53.515625 30.90625 \r\nL 53.515625 0 \r\nL 44.484375 0 \r\nL 44.484375 32.71875 \r\nQ 44.484375 40.625 41.703125 44.40625 \r\nQ 38.921875 48.1875 33.109375 48.1875 \r\nQ 26.21875 48.1875 22.15625 43.53125 \r\nQ 18.109375 38.875 18.109375 30.90625 \r\nL 18.109375 0 \r\nL 9.078125 0 \r\nL 9.078125 54.6875 \r\nL 18.109375 54.6875 \r\nL 18.109375 46.1875 \r\nQ 21.1875 51.21875 25.484375 53.609375 \r\nQ 29.78125 56 35.6875 56 \r\nQ 41.65625 56 45.828125 52.96875 \r\nQ 50 49.953125 52 44.1875 \r\nz\r\n\" id=\"DejaVuSans-109\"/>\r\n       <path d=\"M 44.28125 53.078125 \r\nL 44.28125 44.578125 \r\nQ 40.484375 46.53125 36.375 47.5 \r\nQ 32.28125 48.484375 27.875 48.484375 \r\nQ 21.1875 48.484375 17.84375 46.4375 \r\nQ 14.5 44.390625 14.5 40.28125 \r\nQ 14.5 37.15625 16.890625 35.375 \r\nQ 19.28125 33.59375 26.515625 31.984375 \r\nL 29.59375 31.296875 \r\nQ 39.15625 29.25 43.1875 25.515625 \r\nQ 47.21875 21.78125 47.21875 15.09375 \r\nQ 47.21875 7.46875 41.1875 3.015625 \r\nQ 35.15625 -1.421875 24.609375 -1.421875 \r\nQ 20.21875 -1.421875 15.453125 -0.5625 \r\nQ 10.6875 0.296875 5.421875 2 \r\nL 5.421875 11.28125 \r\nQ 10.40625 8.6875 15.234375 7.390625 \r\nQ 20.0625 6.109375 24.8125 6.109375 \r\nQ 31.15625 6.109375 34.5625 8.28125 \r\nQ 37.984375 10.453125 37.984375 14.40625 \r\nQ 37.984375 18.0625 35.515625 20.015625 \r\nQ 33.0625 21.96875 24.703125 23.78125 \r\nL 21.578125 24.515625 \r\nQ 13.234375 26.265625 9.515625 29.90625 \r\nQ 5.8125 33.546875 5.8125 39.890625 \r\nQ 5.8125 47.609375 11.28125 51.796875 \r\nQ 16.75 56 26.8125 56 \r\nQ 31.78125 56 36.171875 55.265625 \r\nQ 40.578125 54.546875 44.28125 53.078125 \r\nz\r\n\" id=\"DejaVuSans-115\"/>\r\n      </defs>\r\n      <g transform=\"translate(73.093892 282.316563)scale(0.1 -0.1)\">\r\n       <use xlink:href=\"#DejaVuSans-84\"/>\r\n       <use x=\"60.818359\" xlink:href=\"#DejaVuSans-111\"/>\r\n       <use x=\"122\" xlink:href=\"#DejaVuSans-112\"/>\r\n       <use x=\"185.476562\" xlink:href=\"#DejaVuSans-32\"/>\r\n       <use x=\"217.263672\" xlink:href=\"#DejaVuSans-84\"/>\r\n       <use x=\"278.082031\" xlink:href=\"#DejaVuSans-101\"/>\r\n       <use x=\"339.605469\" xlink:href=\"#DejaVuSans-97\"/>\r\n       <use x=\"400.884766\" xlink:href=\"#DejaVuSans-109\"/>\r\n       <use x=\"498.296875\" xlink:href=\"#DejaVuSans-115\"/>\r\n      </g>\r\n     </g>\r\n    </g>\r\n    <g id=\"xtick_2\">\r\n     <g id=\"line2d_2\">\r\n      <g>\r\n       <use style=\"stroke:#000000;stroke-width:0.8;\" x=\"232.103125\" xlink:href=\"#m5b104d6cd9\" y=\"267.718125\"/>\r\n      </g>\r\n     </g>\r\n     <g id=\"text_2\">\r\n      <!-- Mediocre Teams -->\r\n      <defs>\r\n       <path d=\"M 9.8125 72.90625 \r\nL 24.515625 72.90625 \r\nL 43.109375 23.296875 \r\nL 61.8125 72.90625 \r\nL 76.515625 72.90625 \r\nL 76.515625 0 \r\nL 66.890625 0 \r\nL 66.890625 64.015625 \r\nL 48.09375 14.015625 \r\nL 38.1875 14.015625 \r\nL 19.390625 64.015625 \r\nL 19.390625 0 \r\nL 9.8125 0 \r\nz\r\n\" id=\"DejaVuSans-77\"/>\r\n       <path d=\"M 45.40625 46.390625 \r\nL 45.40625 75.984375 \r\nL 54.390625 75.984375 \r\nL 54.390625 0 \r\nL 45.40625 0 \r\nL 45.40625 8.203125 \r\nQ 42.578125 3.328125 38.25 0.953125 \r\nQ 33.9375 -1.421875 27.875 -1.421875 \r\nQ 17.96875 -1.421875 11.734375 6.484375 \r\nQ 5.515625 14.40625 5.515625 27.296875 \r\nQ 5.515625 40.1875 11.734375 48.09375 \r\nQ 17.96875 56 27.875 56 \r\nQ 33.9375 56 38.25 53.625 \r\nQ 42.578125 51.265625 45.40625 46.390625 \r\nz\r\nM 14.796875 27.296875 \r\nQ 14.796875 17.390625 18.875 11.75 \r\nQ 22.953125 6.109375 30.078125 6.109375 \r\nQ 37.203125 6.109375 41.296875 11.75 \r\nQ 45.40625 17.390625 45.40625 27.296875 \r\nQ 45.40625 37.203125 41.296875 42.84375 \r\nQ 37.203125 48.484375 30.078125 48.484375 \r\nQ 22.953125 48.484375 18.875 42.84375 \r\nQ 14.796875 37.203125 14.796875 27.296875 \r\nz\r\n\" id=\"DejaVuSans-100\"/>\r\n       <path d=\"M 9.421875 54.6875 \r\nL 18.40625 54.6875 \r\nL 18.40625 0 \r\nL 9.421875 0 \r\nz\r\nM 9.421875 75.984375 \r\nL 18.40625 75.984375 \r\nL 18.40625 64.59375 \r\nL 9.421875 64.59375 \r\nz\r\n\" id=\"DejaVuSans-105\"/>\r\n       <path d=\"M 48.78125 52.59375 \r\nL 48.78125 44.1875 \r\nQ 44.96875 46.296875 41.140625 47.34375 \r\nQ 37.3125 48.390625 33.40625 48.390625 \r\nQ 24.65625 48.390625 19.8125 42.84375 \r\nQ 14.984375 37.3125 14.984375 27.296875 \r\nQ 14.984375 17.28125 19.8125 11.734375 \r\nQ 24.65625 6.203125 33.40625 6.203125 \r\nQ 37.3125 6.203125 41.140625 7.25 \r\nQ 44.96875 8.296875 48.78125 10.40625 \r\nL 48.78125 2.09375 \r\nQ 45.015625 0.34375 40.984375 -0.53125 \r\nQ 36.96875 -1.421875 32.421875 -1.421875 \r\nQ 20.0625 -1.421875 12.78125 6.34375 \r\nQ 5.515625 14.109375 5.515625 27.296875 \r\nQ 5.515625 40.671875 12.859375 48.328125 \r\nQ 20.21875 56 33.015625 56 \r\nQ 37.15625 56 41.109375 55.140625 \r\nQ 45.0625 54.296875 48.78125 52.59375 \r\nz\r\n\" id=\"DejaVuSans-99\"/>\r\n       <path d=\"M 41.109375 46.296875 \r\nQ 39.59375 47.171875 37.8125 47.578125 \r\nQ 36.03125 48 33.890625 48 \r\nQ 26.265625 48 22.1875 43.046875 \r\nQ 18.109375 38.09375 18.109375 28.8125 \r\nL 18.109375 0 \r\nL 9.078125 0 \r\nL 9.078125 54.6875 \r\nL 18.109375 54.6875 \r\nL 18.109375 46.1875 \r\nQ 20.953125 51.171875 25.484375 53.578125 \r\nQ 30.03125 56 36.53125 56 \r\nQ 37.453125 56 38.578125 55.875 \r\nQ 39.703125 55.765625 41.0625 55.515625 \r\nz\r\n\" id=\"DejaVuSans-114\"/>\r\n      </defs>\r\n      <g transform=\"translate(190.964844 282.316563)scale(0.1 -0.1)\">\r\n       <use xlink:href=\"#DejaVuSans-77\"/>\r\n       <use x=\"86.279297\" xlink:href=\"#DejaVuSans-101\"/>\r\n       <use x=\"147.802734\" xlink:href=\"#DejaVuSans-100\"/>\r\n       <use x=\"211.279297\" xlink:href=\"#DejaVuSans-105\"/>\r\n       <use x=\"239.0625\" xlink:href=\"#DejaVuSans-111\"/>\r\n       <use x=\"300.244141\" xlink:href=\"#DejaVuSans-99\"/>\r\n       <use x=\"355.224609\" xlink:href=\"#DejaVuSans-114\"/>\r\n       <use x=\"396.306641\" xlink:href=\"#DejaVuSans-101\"/>\r\n       <use x=\"457.830078\" xlink:href=\"#DejaVuSans-32\"/>\r\n       <use x=\"489.617188\" xlink:href=\"#DejaVuSans-84\"/>\r\n       <use x=\"550.435547\" xlink:href=\"#DejaVuSans-101\"/>\r\n       <use x=\"611.958984\" xlink:href=\"#DejaVuSans-97\"/>\r\n       <use x=\"673.238281\" xlink:href=\"#DejaVuSans-109\"/>\r\n       <use x=\"770.650391\" xlink:href=\"#DejaVuSans-115\"/>\r\n      </g>\r\n     </g>\r\n    </g>\r\n    <g id=\"xtick_3\">\r\n     <g id=\"line2d_3\">\r\n      <g>\r\n       <use style=\"stroke:#000000;stroke-width:0.8;\" x=\"363.592827\" xlink:href=\"#m5b104d6cd9\" y=\"267.718125\"/>\r\n      </g>\r\n     </g>\r\n     <g id=\"text_3\">\r\n      <!-- Bottom Teams -->\r\n      <defs>\r\n       <path d=\"M 19.671875 34.8125 \r\nL 19.671875 8.109375 \r\nL 35.5 8.109375 \r\nQ 43.453125 8.109375 47.28125 11.40625 \r\nQ 51.125 14.703125 51.125 21.484375 \r\nQ 51.125 28.328125 47.28125 31.5625 \r\nQ 43.453125 34.8125 35.5 34.8125 \r\nz\r\nM 19.671875 64.796875 \r\nL 19.671875 42.828125 \r\nL 34.28125 42.828125 \r\nQ 41.5 42.828125 45.03125 45.53125 \r\nQ 48.578125 48.25 48.578125 53.8125 \r\nQ 48.578125 59.328125 45.03125 62.0625 \r\nQ 41.5 64.796875 34.28125 64.796875 \r\nz\r\nM 9.8125 72.90625 \r\nL 35.015625 72.90625 \r\nQ 46.296875 72.90625 52.390625 68.21875 \r\nQ 58.5 63.53125 58.5 54.890625 \r\nQ 58.5 48.1875 55.375 44.234375 \r\nQ 52.25 40.28125 46.1875 39.3125 \r\nQ 53.46875 37.75 57.5 32.78125 \r\nQ 61.53125 27.828125 61.53125 20.40625 \r\nQ 61.53125 10.640625 54.890625 5.3125 \r\nQ 48.25 0 35.984375 0 \r\nL 9.8125 0 \r\nz\r\n\" id=\"DejaVuSans-66\"/>\r\n       <path d=\"M 18.3125 70.21875 \r\nL 18.3125 54.6875 \r\nL 36.8125 54.6875 \r\nL 36.8125 47.703125 \r\nL 18.3125 47.703125 \r\nL 18.3125 18.015625 \r\nQ 18.3125 11.328125 20.140625 9.421875 \r\nQ 21.96875 7.515625 27.59375 7.515625 \r\nL 36.8125 7.515625 \r\nL 36.8125 0 \r\nL 27.59375 0 \r\nQ 17.1875 0 13.234375 3.875 \r\nQ 9.28125 7.765625 9.28125 18.015625 \r\nL 9.28125 47.703125 \r\nL 2.6875 47.703125 \r\nL 2.6875 54.6875 \r\nL 9.28125 54.6875 \r\nL 9.28125 70.21875 \r\nz\r\n\" id=\"DejaVuSans-116\"/>\r\n      </defs>\r\n      <g transform=\"translate(327.00767 282.316563)scale(0.1 -0.1)\">\r\n       <use xlink:href=\"#DejaVuSans-66\"/>\r\n       <use x=\"68.603516\" xlink:href=\"#DejaVuSans-111\"/>\r\n       <use x=\"129.785156\" xlink:href=\"#DejaVuSans-116\"/>\r\n       <use x=\"168.994141\" xlink:href=\"#DejaVuSans-116\"/>\r\n       <use x=\"208.203125\" xlink:href=\"#DejaVuSans-111\"/>\r\n       <use x=\"269.384766\" xlink:href=\"#DejaVuSans-109\"/>\r\n       <use x=\"366.796875\" xlink:href=\"#DejaVuSans-32\"/>\r\n       <use x=\"398.583984\" xlink:href=\"#DejaVuSans-84\"/>\r\n       <use x=\"459.402344\" xlink:href=\"#DejaVuSans-101\"/>\r\n       <use x=\"520.925781\" xlink:href=\"#DejaVuSans-97\"/>\r\n       <use x=\"582.205078\" xlink:href=\"#DejaVuSans-109\"/>\r\n       <use x=\"679.617188\" xlink:href=\"#DejaVuSans-115\"/>\r\n      </g>\r\n     </g>\r\n    </g>\r\n   </g>\r\n   <g id=\"matplotlib.axis_2\">\r\n    <g id=\"ytick_1\">\r\n     <g id=\"line2d_4\">\r\n      <defs>\r\n       <path d=\"M 0 0 \r\nL -3.5 0 \r\n\" id=\"m962a6d914a\" style=\"stroke:#000000;stroke-width:0.8;\"/>\r\n      </defs>\r\n      <g>\r\n       <use style=\"stroke:#000000;stroke-width:0.8;\" x=\"46.965625\" xlink:href=\"#m962a6d914a\" y=\"267.718125\"/>\r\n      </g>\r\n     </g>\r\n     <g id=\"text_4\">\r\n      <!-- 0 -->\r\n      <defs>\r\n       <path d=\"M 31.78125 66.40625 \r\nQ 24.171875 66.40625 20.328125 58.90625 \r\nQ 16.5 51.421875 16.5 36.375 \r\nQ 16.5 21.390625 20.328125 13.890625 \r\nQ 24.171875 6.390625 31.78125 6.390625 \r\nQ 39.453125 6.390625 43.28125 13.890625 \r\nQ 47.125 21.390625 47.125 36.375 \r\nQ 47.125 51.421875 43.28125 58.90625 \r\nQ 39.453125 66.40625 31.78125 66.40625 \r\nz\r\nM 31.78125 74.21875 \r\nQ 44.046875 74.21875 50.515625 64.515625 \r\nQ 56.984375 54.828125 56.984375 36.375 \r\nQ 56.984375 17.96875 50.515625 8.265625 \r\nQ 44.046875 -1.421875 31.78125 -1.421875 \r\nQ 19.53125 -1.421875 13.0625 8.265625 \r\nQ 6.59375 17.96875 6.59375 36.375 \r\nQ 6.59375 54.828125 13.0625 64.515625 \r\nQ 19.53125 74.21875 31.78125 74.21875 \r\nz\r\n\" id=\"DejaVuSans-48\"/>\r\n      </defs>\r\n      <g transform=\"translate(33.603125 271.517344)scale(0.1 -0.1)\">\r\n       <use xlink:href=\"#DejaVuSans-48\"/>\r\n      </g>\r\n     </g>\r\n    </g>\r\n    <g id=\"ytick_2\">\r\n     <g id=\"line2d_5\">\r\n      <g>\r\n       <use style=\"stroke:#000000;stroke-width:0.8;\" x=\"46.965625\" xlink:href=\"#m962a6d914a\" y=\"243.178125\"/>\r\n      </g>\r\n     </g>\r\n     <g id=\"text_5\">\r\n      <!-- 10 -->\r\n      <defs>\r\n       <path d=\"M 12.40625 8.296875 \r\nL 28.515625 8.296875 \r\nL 28.515625 63.921875 \r\nL 10.984375 60.40625 \r\nL 10.984375 69.390625 \r\nL 28.421875 72.90625 \r\nL 38.28125 72.90625 \r\nL 38.28125 8.296875 \r\nL 54.390625 8.296875 \r\nL 54.390625 0 \r\nL 12.40625 0 \r\nz\r\n\" id=\"DejaVuSans-49\"/>\r\n      </defs>\r\n      <g transform=\"translate(27.240625 246.977344)scale(0.1 -0.1)\">\r\n       <use xlink:href=\"#DejaVuSans-49\"/>\r\n       <use x=\"63.623047\" xlink:href=\"#DejaVuSans-48\"/>\r\n      </g>\r\n     </g>\r\n    </g>\r\n    <g id=\"ytick_3\">\r\n     <g id=\"line2d_6\">\r\n      <g>\r\n       <use style=\"stroke:#000000;stroke-width:0.8;\" x=\"46.965625\" xlink:href=\"#m962a6d914a\" y=\"218.638125\"/>\r\n      </g>\r\n     </g>\r\n     <g id=\"text_6\">\r\n      <!-- 20 -->\r\n      <defs>\r\n       <path d=\"M 19.1875 8.296875 \r\nL 53.609375 8.296875 \r\nL 53.609375 0 \r\nL 7.328125 0 \r\nL 7.328125 8.296875 \r\nQ 12.9375 14.109375 22.625 23.890625 \r\nQ 32.328125 33.6875 34.8125 36.53125 \r\nQ 39.546875 41.84375 41.421875 45.53125 \r\nQ 43.3125 49.21875 43.3125 52.78125 \r\nQ 43.3125 58.59375 39.234375 62.25 \r\nQ 35.15625 65.921875 28.609375 65.921875 \r\nQ 23.96875 65.921875 18.8125 64.3125 \r\nQ 13.671875 62.703125 7.8125 59.421875 \r\nL 7.8125 69.390625 \r\nQ 13.765625 71.78125 18.9375 73 \r\nQ 24.125 74.21875 28.421875 74.21875 \r\nQ 39.75 74.21875 46.484375 68.546875 \r\nQ 53.21875 62.890625 53.21875 53.421875 \r\nQ 53.21875 48.921875 51.53125 44.890625 \r\nQ 49.859375 40.875 45.40625 35.40625 \r\nQ 44.1875 33.984375 37.640625 27.21875 \r\nQ 31.109375 20.453125 19.1875 8.296875 \r\nz\r\n\" id=\"DejaVuSans-50\"/>\r\n      </defs>\r\n      <g transform=\"translate(27.240625 222.437344)scale(0.1 -0.1)\">\r\n       <use xlink:href=\"#DejaVuSans-50\"/>\r\n       <use x=\"63.623047\" xlink:href=\"#DejaVuSans-48\"/>\r\n      </g>\r\n     </g>\r\n    </g>\r\n    <g id=\"ytick_4\">\r\n     <g id=\"line2d_7\">\r\n      <g>\r\n       <use style=\"stroke:#000000;stroke-width:0.8;\" x=\"46.965625\" xlink:href=\"#m962a6d914a\" y=\"194.098125\"/>\r\n      </g>\r\n     </g>\r\n     <g id=\"text_7\">\r\n      <!-- 30 -->\r\n      <defs>\r\n       <path d=\"M 40.578125 39.3125 \r\nQ 47.65625 37.796875 51.625 33 \r\nQ 55.609375 28.21875 55.609375 21.1875 \r\nQ 55.609375 10.40625 48.1875 4.484375 \r\nQ 40.765625 -1.421875 27.09375 -1.421875 \r\nQ 22.515625 -1.421875 17.65625 -0.515625 \r\nQ 12.796875 0.390625 7.625 2.203125 \r\nL 7.625 11.71875 \r\nQ 11.71875 9.328125 16.59375 8.109375 \r\nQ 21.484375 6.890625 26.8125 6.890625 \r\nQ 36.078125 6.890625 40.9375 10.546875 \r\nQ 45.796875 14.203125 45.796875 21.1875 \r\nQ 45.796875 27.640625 41.28125 31.265625 \r\nQ 36.765625 34.90625 28.71875 34.90625 \r\nL 20.21875 34.90625 \r\nL 20.21875 43.015625 \r\nL 29.109375 43.015625 \r\nQ 36.375 43.015625 40.234375 45.921875 \r\nQ 44.09375 48.828125 44.09375 54.296875 \r\nQ 44.09375 59.90625 40.109375 62.90625 \r\nQ 36.140625 65.921875 28.71875 65.921875 \r\nQ 24.65625 65.921875 20.015625 65.03125 \r\nQ 15.375 64.15625 9.8125 62.3125 \r\nL 9.8125 71.09375 \r\nQ 15.4375 72.65625 20.34375 73.4375 \r\nQ 25.25 74.21875 29.59375 74.21875 \r\nQ 40.828125 74.21875 47.359375 69.109375 \r\nQ 53.90625 64.015625 53.90625 55.328125 \r\nQ 53.90625 49.265625 50.4375 45.09375 \r\nQ 46.96875 40.921875 40.578125 39.3125 \r\nz\r\n\" id=\"DejaVuSans-51\"/>\r\n      </defs>\r\n      <g transform=\"translate(27.240625 197.897344)scale(0.1 -0.1)\">\r\n       <use xlink:href=\"#DejaVuSans-51\"/>\r\n       <use x=\"63.623047\" xlink:href=\"#DejaVuSans-48\"/>\r\n      </g>\r\n     </g>\r\n    </g>\r\n    <g id=\"ytick_5\">\r\n     <g id=\"line2d_8\">\r\n      <g>\r\n       <use style=\"stroke:#000000;stroke-width:0.8;\" x=\"46.965625\" xlink:href=\"#m962a6d914a\" y=\"169.558125\"/>\r\n      </g>\r\n     </g>\r\n     <g id=\"text_8\">\r\n      <!-- 40 -->\r\n      <defs>\r\n       <path d=\"M 37.796875 64.3125 \r\nL 12.890625 25.390625 \r\nL 37.796875 25.390625 \r\nz\r\nM 35.203125 72.90625 \r\nL 47.609375 72.90625 \r\nL 47.609375 25.390625 \r\nL 58.015625 25.390625 \r\nL 58.015625 17.1875 \r\nL 47.609375 17.1875 \r\nL 47.609375 0 \r\nL 37.796875 0 \r\nL 37.796875 17.1875 \r\nL 4.890625 17.1875 \r\nL 4.890625 26.703125 \r\nz\r\n\" id=\"DejaVuSans-52\"/>\r\n      </defs>\r\n      <g transform=\"translate(27.240625 173.357344)scale(0.1 -0.1)\">\r\n       <use xlink:href=\"#DejaVuSans-52\"/>\r\n       <use x=\"63.623047\" xlink:href=\"#DejaVuSans-48\"/>\r\n      </g>\r\n     </g>\r\n    </g>\r\n    <g id=\"ytick_6\">\r\n     <g id=\"line2d_9\">\r\n      <g>\r\n       <use style=\"stroke:#000000;stroke-width:0.8;\" x=\"46.965625\" xlink:href=\"#m962a6d914a\" y=\"145.018125\"/>\r\n      </g>\r\n     </g>\r\n     <g id=\"text_9\">\r\n      <!-- 50 -->\r\n      <defs>\r\n       <path d=\"M 10.796875 72.90625 \r\nL 49.515625 72.90625 \r\nL 49.515625 64.59375 \r\nL 19.828125 64.59375 \r\nL 19.828125 46.734375 \r\nQ 21.96875 47.46875 24.109375 47.828125 \r\nQ 26.265625 48.1875 28.421875 48.1875 \r\nQ 40.625 48.1875 47.75 41.5 \r\nQ 54.890625 34.8125 54.890625 23.390625 \r\nQ 54.890625 11.625 47.5625 5.09375 \r\nQ 40.234375 -1.421875 26.90625 -1.421875 \r\nQ 22.3125 -1.421875 17.546875 -0.640625 \r\nQ 12.796875 0.140625 7.71875 1.703125 \r\nL 7.71875 11.625 \r\nQ 12.109375 9.234375 16.796875 8.0625 \r\nQ 21.484375 6.890625 26.703125 6.890625 \r\nQ 35.15625 6.890625 40.078125 11.328125 \r\nQ 45.015625 15.765625 45.015625 23.390625 \r\nQ 45.015625 31 40.078125 35.4375 \r\nQ 35.15625 39.890625 26.703125 39.890625 \r\nQ 22.75 39.890625 18.8125 39.015625 \r\nQ 14.890625 38.140625 10.796875 36.28125 \r\nz\r\n\" id=\"DejaVuSans-53\"/>\r\n      </defs>\r\n      <g transform=\"translate(27.240625 148.817344)scale(0.1 -0.1)\">\r\n       <use xlink:href=\"#DejaVuSans-53\"/>\r\n       <use x=\"63.623047\" xlink:href=\"#DejaVuSans-48\"/>\r\n      </g>\r\n     </g>\r\n    </g>\r\n    <g id=\"ytick_7\">\r\n     <g id=\"line2d_10\">\r\n      <g>\r\n       <use style=\"stroke:#000000;stroke-width:0.8;\" x=\"46.965625\" xlink:href=\"#m962a6d914a\" y=\"120.478125\"/>\r\n      </g>\r\n     </g>\r\n     <g id=\"text_10\">\r\n      <!-- 60 -->\r\n      <defs>\r\n       <path d=\"M 33.015625 40.375 \r\nQ 26.375 40.375 22.484375 35.828125 \r\nQ 18.609375 31.296875 18.609375 23.390625 \r\nQ 18.609375 15.53125 22.484375 10.953125 \r\nQ 26.375 6.390625 33.015625 6.390625 \r\nQ 39.65625 6.390625 43.53125 10.953125 \r\nQ 47.40625 15.53125 47.40625 23.390625 \r\nQ 47.40625 31.296875 43.53125 35.828125 \r\nQ 39.65625 40.375 33.015625 40.375 \r\nz\r\nM 52.59375 71.296875 \r\nL 52.59375 62.3125 \r\nQ 48.875 64.0625 45.09375 64.984375 \r\nQ 41.3125 65.921875 37.59375 65.921875 \r\nQ 27.828125 65.921875 22.671875 59.328125 \r\nQ 17.53125 52.734375 16.796875 39.40625 \r\nQ 19.671875 43.65625 24.015625 45.921875 \r\nQ 28.375 48.1875 33.59375 48.1875 \r\nQ 44.578125 48.1875 50.953125 41.515625 \r\nQ 57.328125 34.859375 57.328125 23.390625 \r\nQ 57.328125 12.15625 50.6875 5.359375 \r\nQ 44.046875 -1.421875 33.015625 -1.421875 \r\nQ 20.359375 -1.421875 13.671875 8.265625 \r\nQ 6.984375 17.96875 6.984375 36.375 \r\nQ 6.984375 53.65625 15.1875 63.9375 \r\nQ 23.390625 74.21875 37.203125 74.21875 \r\nQ 40.921875 74.21875 44.703125 73.484375 \r\nQ 48.484375 72.75 52.59375 71.296875 \r\nz\r\n\" id=\"DejaVuSans-54\"/>\r\n      </defs>\r\n      <g transform=\"translate(27.240625 124.277344)scale(0.1 -0.1)\">\r\n       <use xlink:href=\"#DejaVuSans-54\"/>\r\n       <use x=\"63.623047\" xlink:href=\"#DejaVuSans-48\"/>\r\n      </g>\r\n     </g>\r\n    </g>\r\n    <g id=\"ytick_8\">\r\n     <g id=\"line2d_11\">\r\n      <g>\r\n       <use style=\"stroke:#000000;stroke-width:0.8;\" x=\"46.965625\" xlink:href=\"#m962a6d914a\" y=\"95.938125\"/>\r\n      </g>\r\n     </g>\r\n     <g id=\"text_11\">\r\n      <!-- 70 -->\r\n      <defs>\r\n       <path d=\"M 8.203125 72.90625 \r\nL 55.078125 72.90625 \r\nL 55.078125 68.703125 \r\nL 28.609375 0 \r\nL 18.3125 0 \r\nL 43.21875 64.59375 \r\nL 8.203125 64.59375 \r\nz\r\n\" id=\"DejaVuSans-55\"/>\r\n      </defs>\r\n      <g transform=\"translate(27.240625 99.737344)scale(0.1 -0.1)\">\r\n       <use xlink:href=\"#DejaVuSans-55\"/>\r\n       <use x=\"63.623047\" xlink:href=\"#DejaVuSans-48\"/>\r\n      </g>\r\n     </g>\r\n    </g>\r\n    <g id=\"ytick_9\">\r\n     <g id=\"line2d_12\">\r\n      <g>\r\n       <use style=\"stroke:#000000;stroke-width:0.8;\" x=\"46.965625\" xlink:href=\"#m962a6d914a\" y=\"71.398125\"/>\r\n      </g>\r\n     </g>\r\n     <g id=\"text_12\">\r\n      <!-- 80 -->\r\n      <defs>\r\n       <path d=\"M 31.78125 34.625 \r\nQ 24.75 34.625 20.71875 30.859375 \r\nQ 16.703125 27.09375 16.703125 20.515625 \r\nQ 16.703125 13.921875 20.71875 10.15625 \r\nQ 24.75 6.390625 31.78125 6.390625 \r\nQ 38.8125 6.390625 42.859375 10.171875 \r\nQ 46.921875 13.96875 46.921875 20.515625 \r\nQ 46.921875 27.09375 42.890625 30.859375 \r\nQ 38.875 34.625 31.78125 34.625 \r\nz\r\nM 21.921875 38.8125 \r\nQ 15.578125 40.375 12.03125 44.71875 \r\nQ 8.5 49.078125 8.5 55.328125 \r\nQ 8.5 64.0625 14.71875 69.140625 \r\nQ 20.953125 74.21875 31.78125 74.21875 \r\nQ 42.671875 74.21875 48.875 69.140625 \r\nQ 55.078125 64.0625 55.078125 55.328125 \r\nQ 55.078125 49.078125 51.53125 44.71875 \r\nQ 48 40.375 41.703125 38.8125 \r\nQ 48.828125 37.15625 52.796875 32.3125 \r\nQ 56.78125 27.484375 56.78125 20.515625 \r\nQ 56.78125 9.90625 50.3125 4.234375 \r\nQ 43.84375 -1.421875 31.78125 -1.421875 \r\nQ 19.734375 -1.421875 13.25 4.234375 \r\nQ 6.78125 9.90625 6.78125 20.515625 \r\nQ 6.78125 27.484375 10.78125 32.3125 \r\nQ 14.796875 37.15625 21.921875 38.8125 \r\nz\r\nM 18.3125 54.390625 \r\nQ 18.3125 48.734375 21.84375 45.5625 \r\nQ 25.390625 42.390625 31.78125 42.390625 \r\nQ 38.140625 42.390625 41.71875 45.5625 \r\nQ 45.3125 48.734375 45.3125 54.390625 \r\nQ 45.3125 60.0625 41.71875 63.234375 \r\nQ 38.140625 66.40625 31.78125 66.40625 \r\nQ 25.390625 66.40625 21.84375 63.234375 \r\nQ 18.3125 60.0625 18.3125 54.390625 \r\nz\r\n\" id=\"DejaVuSans-56\"/>\r\n      </defs>\r\n      <g transform=\"translate(27.240625 75.197344)scale(0.1 -0.1)\">\r\n       <use xlink:href=\"#DejaVuSans-56\"/>\r\n       <use x=\"63.623047\" xlink:href=\"#DejaVuSans-48\"/>\r\n      </g>\r\n     </g>\r\n    </g>\r\n    <g id=\"ytick_10\">\r\n     <g id=\"line2d_13\">\r\n      <g>\r\n       <use style=\"stroke:#000000;stroke-width:0.8;\" x=\"46.965625\" xlink:href=\"#m962a6d914a\" y=\"46.858125\"/>\r\n      </g>\r\n     </g>\r\n     <g id=\"text_13\">\r\n      <!-- 90 -->\r\n      <defs>\r\n       <path d=\"M 10.984375 1.515625 \r\nL 10.984375 10.5 \r\nQ 14.703125 8.734375 18.5 7.8125 \r\nQ 22.3125 6.890625 25.984375 6.890625 \r\nQ 35.75 6.890625 40.890625 13.453125 \r\nQ 46.046875 20.015625 46.78125 33.40625 \r\nQ 43.953125 29.203125 39.59375 26.953125 \r\nQ 35.25 24.703125 29.984375 24.703125 \r\nQ 19.046875 24.703125 12.671875 31.3125 \r\nQ 6.296875 37.9375 6.296875 49.421875 \r\nQ 6.296875 60.640625 12.9375 67.421875 \r\nQ 19.578125 74.21875 30.609375 74.21875 \r\nQ 43.265625 74.21875 49.921875 64.515625 \r\nQ 56.59375 54.828125 56.59375 36.375 \r\nQ 56.59375 19.140625 48.40625 8.859375 \r\nQ 40.234375 -1.421875 26.421875 -1.421875 \r\nQ 22.703125 -1.421875 18.890625 -0.6875 \r\nQ 15.09375 0.046875 10.984375 1.515625 \r\nz\r\nM 30.609375 32.421875 \r\nQ 37.25 32.421875 41.125 36.953125 \r\nQ 45.015625 41.5 45.015625 49.421875 \r\nQ 45.015625 57.28125 41.125 61.84375 \r\nQ 37.25 66.40625 30.609375 66.40625 \r\nQ 23.96875 66.40625 20.09375 61.84375 \r\nQ 16.21875 57.28125 16.21875 49.421875 \r\nQ 16.21875 41.5 20.09375 36.953125 \r\nQ 23.96875 32.421875 30.609375 32.421875 \r\nz\r\n\" id=\"DejaVuSans-57\"/>\r\n      </defs>\r\n      <g transform=\"translate(27.240625 50.657344)scale(0.1 -0.1)\">\r\n       <use xlink:href=\"#DejaVuSans-57\"/>\r\n       <use x=\"63.623047\" xlink:href=\"#DejaVuSans-48\"/>\r\n      </g>\r\n     </g>\r\n    </g>\r\n    <g id=\"ytick_11\">\r\n     <g id=\"line2d_14\">\r\n      <g>\r\n       <use style=\"stroke:#000000;stroke-width:0.8;\" x=\"46.965625\" xlink:href=\"#m962a6d914a\" y=\"22.318125\"/>\r\n      </g>\r\n     </g>\r\n     <g id=\"text_14\">\r\n      <!-- 100 -->\r\n      <g transform=\"translate(20.878125 26.117344)scale(0.1 -0.1)\">\r\n       <use xlink:href=\"#DejaVuSans-49\"/>\r\n       <use x=\"63.623047\" xlink:href=\"#DejaVuSans-48\"/>\r\n       <use x=\"127.246094\" xlink:href=\"#DejaVuSans-48\"/>\r\n      </g>\r\n     </g>\r\n    </g>\r\n    <g id=\"text_15\">\r\n     <!-- Home team victories [%] -->\r\n     <defs>\r\n      <path d=\"M 9.8125 72.90625 \r\nL 19.671875 72.90625 \r\nL 19.671875 43.015625 \r\nL 55.515625 43.015625 \r\nL 55.515625 72.90625 \r\nL 65.375 72.90625 \r\nL 65.375 0 \r\nL 55.515625 0 \r\nL 55.515625 34.71875 \r\nL 19.671875 34.71875 \r\nL 19.671875 0 \r\nL 9.8125 0 \r\nz\r\n\" id=\"DejaVuSans-72\"/>\r\n      <path d=\"M 2.984375 54.6875 \r\nL 12.5 54.6875 \r\nL 29.59375 8.796875 \r\nL 46.6875 54.6875 \r\nL 56.203125 54.6875 \r\nL 35.6875 0 \r\nL 23.484375 0 \r\nz\r\n\" id=\"DejaVuSans-118\"/>\r\n      <path d=\"M 8.59375 75.984375 \r\nL 29.296875 75.984375 \r\nL 29.296875 69 \r\nL 17.578125 69 \r\nL 17.578125 -6.203125 \r\nL 29.296875 -6.203125 \r\nL 29.296875 -13.1875 \r\nL 8.59375 -13.1875 \r\nz\r\n\" id=\"DejaVuSans-91\"/>\r\n      <path d=\"M 72.703125 32.078125 \r\nQ 68.453125 32.078125 66.03125 28.46875 \r\nQ 63.625 24.859375 63.625 18.40625 \r\nQ 63.625 12.0625 66.03125 8.421875 \r\nQ 68.453125 4.78125 72.703125 4.78125 \r\nQ 76.859375 4.78125 79.265625 8.421875 \r\nQ 81.6875 12.0625 81.6875 18.40625 \r\nQ 81.6875 24.8125 79.265625 28.4375 \r\nQ 76.859375 32.078125 72.703125 32.078125 \r\nz\r\nM 72.703125 38.28125 \r\nQ 80.421875 38.28125 84.953125 32.90625 \r\nQ 89.5 27.546875 89.5 18.40625 \r\nQ 89.5 9.28125 84.9375 3.921875 \r\nQ 80.375 -1.421875 72.703125 -1.421875 \r\nQ 64.890625 -1.421875 60.34375 3.921875 \r\nQ 55.8125 9.28125 55.8125 18.40625 \r\nQ 55.8125 27.59375 60.375 32.9375 \r\nQ 64.9375 38.28125 72.703125 38.28125 \r\nz\r\nM 22.3125 68.015625 \r\nQ 18.109375 68.015625 15.6875 64.375 \r\nQ 13.28125 60.75 13.28125 54.390625 \r\nQ 13.28125 47.953125 15.671875 44.328125 \r\nQ 18.0625 40.71875 22.3125 40.71875 \r\nQ 26.5625 40.71875 28.96875 44.328125 \r\nQ 31.390625 47.953125 31.390625 54.390625 \r\nQ 31.390625 60.6875 28.953125 64.34375 \r\nQ 26.515625 68.015625 22.3125 68.015625 \r\nz\r\nM 66.40625 74.21875 \r\nL 74.21875 74.21875 \r\nL 28.609375 -1.421875 \r\nL 20.796875 -1.421875 \r\nz\r\nM 22.3125 74.21875 \r\nQ 30.03125 74.21875 34.609375 68.875 \r\nQ 39.203125 63.53125 39.203125 54.390625 \r\nQ 39.203125 45.171875 34.640625 39.84375 \r\nQ 30.078125 34.515625 22.3125 34.515625 \r\nQ 14.546875 34.515625 10.03125 39.859375 \r\nQ 5.515625 45.21875 5.515625 54.390625 \r\nQ 5.515625 63.484375 10.046875 68.84375 \r\nQ 14.59375 74.21875 22.3125 74.21875 \r\nz\r\n\" id=\"DejaVuSans-37\"/>\r\n      <path d=\"M 30.421875 75.984375 \r\nL 30.421875 -13.1875 \r\nL 9.71875 -13.1875 \r\nL 9.71875 -6.203125 \r\nL 21.390625 -6.203125 \r\nL 21.390625 69 \r\nL 9.71875 69 \r\nL 9.71875 75.984375 \r\nz\r\n\" id=\"DejaVuSans-93\"/>\r\n     </defs>\r\n     <g transform=\"translate(14.798438 207.418125)rotate(-90)scale(0.1 -0.1)\">\r\n      <use xlink:href=\"#DejaVuSans-72\"/>\r\n      <use x=\"75.195312\" xlink:href=\"#DejaVuSans-111\"/>\r\n      <use x=\"136.376953\" xlink:href=\"#DejaVuSans-109\"/>\r\n      <use x=\"233.789062\" xlink:href=\"#DejaVuSans-101\"/>\r\n      <use x=\"295.3125\" xlink:href=\"#DejaVuSans-32\"/>\r\n      <use x=\"327.099609\" xlink:href=\"#DejaVuSans-116\"/>\r\n      <use x=\"366.308594\" xlink:href=\"#DejaVuSans-101\"/>\r\n      <use x=\"427.832031\" xlink:href=\"#DejaVuSans-97\"/>\r\n      <use x=\"489.111328\" xlink:href=\"#DejaVuSans-109\"/>\r\n      <use x=\"586.523438\" xlink:href=\"#DejaVuSans-32\"/>\r\n      <use x=\"618.310547\" xlink:href=\"#DejaVuSans-118\"/>\r\n      <use x=\"677.490234\" xlink:href=\"#DejaVuSans-105\"/>\r\n      <use x=\"705.273438\" xlink:href=\"#DejaVuSans-99\"/>\r\n      <use x=\"760.253906\" xlink:href=\"#DejaVuSans-116\"/>\r\n      <use x=\"799.462891\" xlink:href=\"#DejaVuSans-111\"/>\r\n      <use x=\"860.644531\" xlink:href=\"#DejaVuSans-114\"/>\r\n      <use x=\"901.757812\" xlink:href=\"#DejaVuSans-105\"/>\r\n      <use x=\"929.541016\" xlink:href=\"#DejaVuSans-101\"/>\r\n      <use x=\"991.064453\" xlink:href=\"#DejaVuSans-115\"/>\r\n      <use x=\"1043.164062\" xlink:href=\"#DejaVuSans-32\"/>\r\n      <use x=\"1074.951172\" xlink:href=\"#DejaVuSans-91\"/>\r\n      <use x=\"1113.964844\" xlink:href=\"#DejaVuSans-37\"/>\r\n      <use x=\"1208.984375\" xlink:href=\"#DejaVuSans-93\"/>\r\n     </g>\r\n    </g>\r\n   </g>\r\n   <g id=\"patch_9\">\r\n    <path d=\"M 46.965625 267.718125 \r\nL 46.965625 22.318125 \r\n\" style=\"fill:none;stroke:#000000;stroke-linecap:square;stroke-linejoin:miter;stroke-width:0.8;\"/>\r\n   </g>\r\n   <g id=\"patch_10\">\r\n    <path d=\"M 417.240625 267.718125 \r\nL 417.240625 22.318125 \r\n\" style=\"fill:none;stroke:#000000;stroke-linecap:square;stroke-linejoin:miter;stroke-width:0.8;\"/>\r\n   </g>\r\n   <g id=\"patch_11\">\r\n    <path d=\"M 46.965625 267.718125 \r\nL 417.240625 267.718125 \r\n\" style=\"fill:none;stroke:#000000;stroke-linecap:square;stroke-linejoin:miter;stroke-width:0.8;\"/>\r\n   </g>\r\n   <g id=\"patch_12\">\r\n    <path d=\"M 46.965625 22.318125 \r\nL 417.240625 22.318125 \r\n\" style=\"fill:none;stroke:#000000;stroke-linecap:square;stroke-linejoin:miter;stroke-width:0.8;\"/>\r\n   </g>\r\n   <g id=\"text_16\">\r\n    <!-- 70 -->\r\n    <g transform=\"translate(73.87002 90.858438)scale(0.1 -0.1)\">\r\n     <use xlink:href=\"#DejaVuSans-55\"/>\r\n     <use x=\"63.623047\" xlink:href=\"#DejaVuSans-48\"/>\r\n    </g>\r\n   </g>\r\n   <g id=\"text_17\">\r\n    <!-- 42 -->\r\n    <g transform=\"translate(205.359721 159.570438)scale(0.1 -0.1)\">\r\n     <use xlink:href=\"#DejaVuSans-52\"/>\r\n     <use x=\"63.623047\" xlink:href=\"#DejaVuSans-50\"/>\r\n    </g>\r\n   </g>\r\n   <g id=\"text_18\">\r\n    <!-- 28 -->\r\n    <g transform=\"translate(336.849423 193.926438)scale(0.1 -0.1)\">\r\n     <use xlink:href=\"#DejaVuSans-50\"/>\r\n     <use x=\"63.623047\" xlink:href=\"#DejaVuSans-56\"/>\r\n    </g>\r\n   </g>\r\n   <g id=\"text_19\">\r\n    <!-- 52 -->\r\n    <g transform=\"translate(114.631827 135.030438)scale(0.1 -0.1)\">\r\n     <use xlink:href=\"#DejaVuSans-53\"/>\r\n     <use x=\"63.623047\" xlink:href=\"#DejaVuSans-50\"/>\r\n    </g>\r\n   </g>\r\n   <g id=\"text_20\">\r\n    <!-- 37 -->\r\n    <g transform=\"translate(246.121529 171.840438)scale(0.1 -0.1)\">\r\n     <use xlink:href=\"#DejaVuSans-51\"/>\r\n     <use x=\"63.623047\" xlink:href=\"#DejaVuSans-55\"/>\r\n    </g>\r\n   </g>\r\n   <g id=\"text_21\">\r\n    <!-- 19 -->\r\n    <g transform=\"translate(377.61123 216.012438)scale(0.1 -0.1)\">\r\n     <use xlink:href=\"#DejaVuSans-49\"/>\r\n     <use x=\"63.623047\" xlink:href=\"#DejaVuSans-57\"/>\r\n    </g>\r\n   </g>\r\n   <g id=\"text_22\">\r\n    <!-- Win Percentage of Home Teams in English Premier League -->\r\n    <defs>\r\n     <path d=\"M 3.328125 72.90625 \r\nL 13.28125 72.90625 \r\nL 28.609375 11.28125 \r\nL 43.890625 72.90625 \r\nL 54.984375 72.90625 \r\nL 70.3125 11.28125 \r\nL 85.59375 72.90625 \r\nL 95.609375 72.90625 \r\nL 77.296875 0 \r\nL 64.890625 0 \r\nL 49.515625 63.28125 \r\nL 33.984375 0 \r\nL 21.578125 0 \r\nz\r\n\" id=\"DejaVuSans-87\"/>\r\n     <path d=\"M 54.890625 33.015625 \r\nL 54.890625 0 \r\nL 45.90625 0 \r\nL 45.90625 32.71875 \r\nQ 45.90625 40.484375 42.875 44.328125 \r\nQ 39.84375 48.1875 33.796875 48.1875 \r\nQ 26.515625 48.1875 22.3125 43.546875 \r\nQ 18.109375 38.921875 18.109375 30.90625 \r\nL 18.109375 0 \r\nL 9.078125 0 \r\nL 9.078125 54.6875 \r\nL 18.109375 54.6875 \r\nL 18.109375 46.1875 \r\nQ 21.34375 51.125 25.703125 53.5625 \r\nQ 30.078125 56 35.796875 56 \r\nQ 45.21875 56 50.046875 50.171875 \r\nQ 54.890625 44.34375 54.890625 33.015625 \r\nz\r\n\" id=\"DejaVuSans-110\"/>\r\n     <path d=\"M 19.671875 64.796875 \r\nL 19.671875 37.40625 \r\nL 32.078125 37.40625 \r\nQ 38.96875 37.40625 42.71875 40.96875 \r\nQ 46.484375 44.53125 46.484375 51.125 \r\nQ 46.484375 57.671875 42.71875 61.234375 \r\nQ 38.96875 64.796875 32.078125 64.796875 \r\nz\r\nM 9.8125 72.90625 \r\nL 32.078125 72.90625 \r\nQ 44.34375 72.90625 50.609375 67.359375 \r\nQ 56.890625 61.8125 56.890625 51.125 \r\nQ 56.890625 40.328125 50.609375 34.8125 \r\nQ 44.34375 29.296875 32.078125 29.296875 \r\nL 19.671875 29.296875 \r\nL 19.671875 0 \r\nL 9.8125 0 \r\nz\r\n\" id=\"DejaVuSans-80\"/>\r\n     <path d=\"M 45.40625 27.984375 \r\nQ 45.40625 37.75 41.375 43.109375 \r\nQ 37.359375 48.484375 30.078125 48.484375 \r\nQ 22.859375 48.484375 18.828125 43.109375 \r\nQ 14.796875 37.75 14.796875 27.984375 \r\nQ 14.796875 18.265625 18.828125 12.890625 \r\nQ 22.859375 7.515625 30.078125 7.515625 \r\nQ 37.359375 7.515625 41.375 12.890625 \r\nQ 45.40625 18.265625 45.40625 27.984375 \r\nz\r\nM 54.390625 6.78125 \r\nQ 54.390625 -7.171875 48.1875 -13.984375 \r\nQ 42 -20.796875 29.203125 -20.796875 \r\nQ 24.46875 -20.796875 20.265625 -20.09375 \r\nQ 16.0625 -19.390625 12.109375 -17.921875 \r\nL 12.109375 -9.1875 \r\nQ 16.0625 -11.328125 19.921875 -12.34375 \r\nQ 23.78125 -13.375 27.78125 -13.375 \r\nQ 36.625 -13.375 41.015625 -8.765625 \r\nQ 45.40625 -4.15625 45.40625 5.171875 \r\nL 45.40625 9.625 \r\nQ 42.625 4.78125 38.28125 2.390625 \r\nQ 33.9375 0 27.875 0 \r\nQ 17.828125 0 11.671875 7.65625 \r\nQ 5.515625 15.328125 5.515625 27.984375 \r\nQ 5.515625 40.671875 11.671875 48.328125 \r\nQ 17.828125 56 27.875 56 \r\nQ 33.9375 56 38.28125 53.609375 \r\nQ 42.625 51.21875 45.40625 46.390625 \r\nL 45.40625 54.6875 \r\nL 54.390625 54.6875 \r\nz\r\n\" id=\"DejaVuSans-103\"/>\r\n     <path d=\"M 37.109375 75.984375 \r\nL 37.109375 68.5 \r\nL 28.515625 68.5 \r\nQ 23.6875 68.5 21.796875 66.546875 \r\nQ 19.921875 64.59375 19.921875 59.515625 \r\nL 19.921875 54.6875 \r\nL 34.71875 54.6875 \r\nL 34.71875 47.703125 \r\nL 19.921875 47.703125 \r\nL 19.921875 0 \r\nL 10.890625 0 \r\nL 10.890625 47.703125 \r\nL 2.296875 47.703125 \r\nL 2.296875 54.6875 \r\nL 10.890625 54.6875 \r\nL 10.890625 58.5 \r\nQ 10.890625 67.625 15.140625 71.796875 \r\nQ 19.390625 75.984375 28.609375 75.984375 \r\nz\r\n\" id=\"DejaVuSans-102\"/>\r\n     <path d=\"M 9.8125 72.90625 \r\nL 55.90625 72.90625 \r\nL 55.90625 64.59375 \r\nL 19.671875 64.59375 \r\nL 19.671875 43.015625 \r\nL 54.390625 43.015625 \r\nL 54.390625 34.71875 \r\nL 19.671875 34.71875 \r\nL 19.671875 8.296875 \r\nL 56.78125 8.296875 \r\nL 56.78125 0 \r\nL 9.8125 0 \r\nz\r\n\" id=\"DejaVuSans-69\"/>\r\n     <path d=\"M 9.421875 75.984375 \r\nL 18.40625 75.984375 \r\nL 18.40625 0 \r\nL 9.421875 0 \r\nz\r\n\" id=\"DejaVuSans-108\"/>\r\n     <path d=\"M 54.890625 33.015625 \r\nL 54.890625 0 \r\nL 45.90625 0 \r\nL 45.90625 32.71875 \r\nQ 45.90625 40.484375 42.875 44.328125 \r\nQ 39.84375 48.1875 33.796875 48.1875 \r\nQ 26.515625 48.1875 22.3125 43.546875 \r\nQ 18.109375 38.921875 18.109375 30.90625 \r\nL 18.109375 0 \r\nL 9.078125 0 \r\nL 9.078125 75.984375 \r\nL 18.109375 75.984375 \r\nL 18.109375 46.1875 \r\nQ 21.34375 51.125 25.703125 53.5625 \r\nQ 30.078125 56 35.796875 56 \r\nQ 45.21875 56 50.046875 50.171875 \r\nQ 54.890625 44.34375 54.890625 33.015625 \r\nz\r\n\" id=\"DejaVuSans-104\"/>\r\n     <path d=\"M 9.8125 72.90625 \r\nL 19.671875 72.90625 \r\nL 19.671875 8.296875 \r\nL 55.171875 8.296875 \r\nL 55.171875 0 \r\nL 9.8125 0 \r\nz\r\n\" id=\"DejaVuSans-76\"/>\r\n     <path d=\"M 8.5 21.578125 \r\nL 8.5 54.6875 \r\nL 17.484375 54.6875 \r\nL 17.484375 21.921875 \r\nQ 17.484375 14.15625 20.5 10.265625 \r\nQ 23.53125 6.390625 29.59375 6.390625 \r\nQ 36.859375 6.390625 41.078125 11.03125 \r\nQ 45.3125 15.671875 45.3125 23.6875 \r\nL 45.3125 54.6875 \r\nL 54.296875 54.6875 \r\nL 54.296875 0 \r\nL 45.3125 0 \r\nL 45.3125 8.40625 \r\nQ 42.046875 3.421875 37.71875 1 \r\nQ 33.40625 -1.421875 27.6875 -1.421875 \r\nQ 18.265625 -1.421875 13.375 4.4375 \r\nQ 8.5 10.296875 8.5 21.578125 \r\nz\r\nM 31.109375 56 \r\nz\r\n\" id=\"DejaVuSans-117\"/>\r\n    </defs>\r\n    <g transform=\"translate(55.270937 16.318125)scale(0.12 -0.12)\">\r\n     <use xlink:href=\"#DejaVuSans-87\"/>\r\n     <use x=\"98.845703\" xlink:href=\"#DejaVuSans-105\"/>\r\n     <use x=\"126.628906\" xlink:href=\"#DejaVuSans-110\"/>\r\n     <use x=\"190.007812\" xlink:href=\"#DejaVuSans-32\"/>\r\n     <use x=\"221.794922\" xlink:href=\"#DejaVuSans-80\"/>\r\n     <use x=\"282.050781\" xlink:href=\"#DejaVuSans-101\"/>\r\n     <use x=\"343.574219\" xlink:href=\"#DejaVuSans-114\"/>\r\n     <use x=\"384.65625\" xlink:href=\"#DejaVuSans-99\"/>\r\n     <use x=\"439.636719\" xlink:href=\"#DejaVuSans-101\"/>\r\n     <use x=\"501.160156\" xlink:href=\"#DejaVuSans-110\"/>\r\n     <use x=\"564.539062\" xlink:href=\"#DejaVuSans-116\"/>\r\n     <use x=\"603.748047\" xlink:href=\"#DejaVuSans-97\"/>\r\n     <use x=\"665.027344\" xlink:href=\"#DejaVuSans-103\"/>\r\n     <use x=\"728.503906\" xlink:href=\"#DejaVuSans-101\"/>\r\n     <use x=\"790.027344\" xlink:href=\"#DejaVuSans-32\"/>\r\n     <use x=\"821.814453\" xlink:href=\"#DejaVuSans-111\"/>\r\n     <use x=\"882.996094\" xlink:href=\"#DejaVuSans-102\"/>\r\n     <use x=\"918.201172\" xlink:href=\"#DejaVuSans-32\"/>\r\n     <use x=\"949.988281\" xlink:href=\"#DejaVuSans-72\"/>\r\n     <use x=\"1025.183594\" xlink:href=\"#DejaVuSans-111\"/>\r\n     <use x=\"1086.365234\" xlink:href=\"#DejaVuSans-109\"/>\r\n     <use x=\"1183.777344\" xlink:href=\"#DejaVuSans-101\"/>\r\n     <use x=\"1245.300781\" xlink:href=\"#DejaVuSans-32\"/>\r\n     <use x=\"1277.087891\" xlink:href=\"#DejaVuSans-84\"/>\r\n     <use x=\"1337.90625\" xlink:href=\"#DejaVuSans-101\"/>\r\n     <use x=\"1399.429688\" xlink:href=\"#DejaVuSans-97\"/>\r\n     <use x=\"1460.708984\" xlink:href=\"#DejaVuSans-109\"/>\r\n     <use x=\"1558.121094\" xlink:href=\"#DejaVuSans-115\"/>\r\n     <use x=\"1610.220703\" xlink:href=\"#DejaVuSans-32\"/>\r\n     <use x=\"1642.007812\" xlink:href=\"#DejaVuSans-105\"/>\r\n     <use x=\"1669.791016\" xlink:href=\"#DejaVuSans-110\"/>\r\n     <use x=\"1733.169922\" xlink:href=\"#DejaVuSans-32\"/>\r\n     <use x=\"1764.957031\" xlink:href=\"#DejaVuSans-69\"/>\r\n     <use x=\"1828.140625\" xlink:href=\"#DejaVuSans-110\"/>\r\n     <use x=\"1891.519531\" xlink:href=\"#DejaVuSans-103\"/>\r\n     <use x=\"1954.996094\" xlink:href=\"#DejaVuSans-108\"/>\r\n     <use x=\"1982.779297\" xlink:href=\"#DejaVuSans-105\"/>\r\n     <use x=\"2010.5625\" xlink:href=\"#DejaVuSans-115\"/>\r\n     <use x=\"2062.662109\" xlink:href=\"#DejaVuSans-104\"/>\r\n     <use x=\"2126.041016\" xlink:href=\"#DejaVuSans-32\"/>\r\n     <use x=\"2157.828125\" xlink:href=\"#DejaVuSans-80\"/>\r\n     <use x=\"2218.115234\" xlink:href=\"#DejaVuSans-114\"/>\r\n     <use x=\"2259.197266\" xlink:href=\"#DejaVuSans-101\"/>\r\n     <use x=\"2320.720703\" xlink:href=\"#DejaVuSans-109\"/>\r\n     <use x=\"2418.132812\" xlink:href=\"#DejaVuSans-105\"/>\r\n     <use x=\"2445.916016\" xlink:href=\"#DejaVuSans-101\"/>\r\n     <use x=\"2507.439453\" xlink:href=\"#DejaVuSans-114\"/>\r\n     <use x=\"2548.552734\" xlink:href=\"#DejaVuSans-32\"/>\r\n     <use x=\"2580.339844\" xlink:href=\"#DejaVuSans-76\"/>\r\n     <use x=\"2636.037109\" xlink:href=\"#DejaVuSans-101\"/>\r\n     <use x=\"2697.560547\" xlink:href=\"#DejaVuSans-97\"/>\r\n     <use x=\"2758.839844\" xlink:href=\"#DejaVuSans-103\"/>\r\n     <use x=\"2822.316406\" xlink:href=\"#DejaVuSans-117\"/>\r\n     <use x=\"2885.695312\" xlink:href=\"#DejaVuSans-101\"/>\r\n    </g>\r\n   </g>\r\n   <g id=\"legend_1\">\r\n    <g id=\"patch_13\">\r\n     <path d=\"M 309.709375 59.674375 \r\nL 410.240625 59.674375 \r\nQ 412.240625 59.674375 412.240625 57.674375 \r\nL 412.240625 29.318125 \r\nQ 412.240625 27.318125 410.240625 27.318125 \r\nL 309.709375 27.318125 \r\nQ 307.709375 27.318125 307.709375 29.318125 \r\nL 307.709375 57.674375 \r\nQ 307.709375 59.674375 309.709375 59.674375 \r\nz\r\n\" style=\"fill:#ffffff;opacity:0.8;stroke:#cccccc;stroke-linejoin:miter;\"/>\r\n    </g>\r\n    <g id=\"patch_14\">\r\n     <path d=\"M 311.709375 38.916562 \r\nL 331.709375 38.916562 \r\nL 331.709375 31.916562 \r\nL 311.709375 31.916562 \r\nz\r\n\" style=\"fill:#008000;\"/>\r\n    </g>\r\n    <g id=\"text_23\">\r\n     <!-- Season 18-19 -->\r\n     <defs>\r\n      <path d=\"M 53.515625 70.515625 \r\nL 53.515625 60.890625 \r\nQ 47.90625 63.578125 42.921875 64.890625 \r\nQ 37.9375 66.21875 33.296875 66.21875 \r\nQ 25.25 66.21875 20.875 63.09375 \r\nQ 16.5 59.96875 16.5 54.203125 \r\nQ 16.5 49.359375 19.40625 46.890625 \r\nQ 22.3125 44.4375 30.421875 42.921875 \r\nL 36.375 41.703125 \r\nQ 47.40625 39.59375 52.65625 34.296875 \r\nQ 57.90625 29 57.90625 20.125 \r\nQ 57.90625 9.515625 50.796875 4.046875 \r\nQ 43.703125 -1.421875 29.984375 -1.421875 \r\nQ 24.8125 -1.421875 18.96875 -0.25 \r\nQ 13.140625 0.921875 6.890625 3.21875 \r\nL 6.890625 13.375 \r\nQ 12.890625 10.015625 18.65625 8.296875 \r\nQ 24.421875 6.59375 29.984375 6.59375 \r\nQ 38.421875 6.59375 43.015625 9.90625 \r\nQ 47.609375 13.234375 47.609375 19.390625 \r\nQ 47.609375 24.75 44.3125 27.78125 \r\nQ 41.015625 30.8125 33.5 32.328125 \r\nL 27.484375 33.5 \r\nQ 16.453125 35.6875 11.515625 40.375 \r\nQ 6.59375 45.0625 6.59375 53.421875 \r\nQ 6.59375 63.09375 13.40625 68.65625 \r\nQ 20.21875 74.21875 32.171875 74.21875 \r\nQ 37.3125 74.21875 42.625 73.28125 \r\nQ 47.953125 72.359375 53.515625 70.515625 \r\nz\r\n\" id=\"DejaVuSans-83\"/>\r\n      <path d=\"M 4.890625 31.390625 \r\nL 31.203125 31.390625 \r\nL 31.203125 23.390625 \r\nL 4.890625 23.390625 \r\nz\r\n\" id=\"DejaVuSans-45\"/>\r\n     </defs>\r\n     <g transform=\"translate(339.709375 38.916562)scale(0.1 -0.1)\">\r\n      <use xlink:href=\"#DejaVuSans-83\"/>\r\n      <use x=\"63.476562\" xlink:href=\"#DejaVuSans-101\"/>\r\n      <use x=\"125\" xlink:href=\"#DejaVuSans-97\"/>\r\n      <use x=\"186.279297\" xlink:href=\"#DejaVuSans-115\"/>\r\n      <use x=\"238.378906\" xlink:href=\"#DejaVuSans-111\"/>\r\n      <use x=\"299.560547\" xlink:href=\"#DejaVuSans-110\"/>\r\n      <use x=\"362.939453\" xlink:href=\"#DejaVuSans-32\"/>\r\n      <use x=\"394.726562\" xlink:href=\"#DejaVuSans-49\"/>\r\n      <use x=\"458.349609\" xlink:href=\"#DejaVuSans-56\"/>\r\n      <use x=\"521.972656\" xlink:href=\"#DejaVuSans-45\"/>\r\n      <use x=\"558.056641\" xlink:href=\"#DejaVuSans-49\"/>\r\n      <use x=\"621.679688\" xlink:href=\"#DejaVuSans-57\"/>\r\n     </g>\r\n    </g>\r\n    <g id=\"patch_15\">\r\n     <path d=\"M 311.709375 53.594687 \r\nL 331.709375 53.594687 \r\nL 331.709375 46.594687 \r\nL 311.709375 46.594687 \r\nz\r\n\" style=\"fill:#ff0000;\"/>\r\n    </g>\r\n    <g id=\"text_24\">\r\n     <!-- Season 20-21 -->\r\n     <g transform=\"translate(339.709375 53.594687)scale(0.1 -0.1)\">\r\n      <use xlink:href=\"#DejaVuSans-83\"/>\r\n      <use x=\"63.476562\" xlink:href=\"#DejaVuSans-101\"/>\r\n      <use x=\"125\" xlink:href=\"#DejaVuSans-97\"/>\r\n      <use x=\"186.279297\" xlink:href=\"#DejaVuSans-115\"/>\r\n      <use x=\"238.378906\" xlink:href=\"#DejaVuSans-111\"/>\r\n      <use x=\"299.560547\" xlink:href=\"#DejaVuSans-110\"/>\r\n      <use x=\"362.939453\" xlink:href=\"#DejaVuSans-32\"/>\r\n      <use x=\"394.726562\" xlink:href=\"#DejaVuSans-50\"/>\r\n      <use x=\"458.349609\" xlink:href=\"#DejaVuSans-48\"/>\r\n      <use x=\"521.972656\" xlink:href=\"#DejaVuSans-45\"/>\r\n      <use x=\"558.056641\" xlink:href=\"#DejaVuSans-50\"/>\r\n      <use x=\"621.679688\" xlink:href=\"#DejaVuSans-49\"/>\r\n     </g>\r\n    </g>\r\n   </g>\r\n  </g>\r\n </g>\r\n <defs>\r\n  <clipPath id=\"p1bd751fd76\">\r\n   <rect height=\"245.4\" width=\"370.275\" x=\"46.965625\" y=\"22.318125\"/>\r\n  </clipPath>\r\n </defs>\r\n</svg>\r\n",
      "image/png": "[encoded data removed]"
     },
     "metadata": {
      "needs_background": "light"
     }
    }
   ],
   "source": [
    "# labels = ['Upper Third Clubs', 'Middle Third Clubs', 'Bottom Third Clubs']\n",
    "labels = ['Top Teams', 'Mediocre Teams', 'Bottom Teams']\n",
    "values_18 = [ratio_home_wins_18_top, ratio_home_wins_18_middle, ratio_home_wins_18_bottom]\n",
    "values_20 = [ratio_home_wins_20_top, ratio_home_wins_20_middle, ratio_home_wins_20_bottom]\n",
    "\n",
    "x = np.arange(len(labels))  # the label locations\n",
    "width = 0.25  # the width of the bars\n",
    "\n",
    "fig, ax = plt.subplots()\n",
    "rects1 = ax.bar(x - width/2 - 0.03, values_18, width, label='Season 18-19', color='Green')\n",
    "rects2 = ax.bar(x + width/2 + 0.03, values_20, width, label='Season 20-21', color='Red')\n",
    "\n",
    "# Add some text for labels, title and custom x-axis tick labels, etc.\n",
    "ax.set_ylabel('Home team victories [%]')\n",
    "# ax.set_title('Scores by group and gender')\n",
    "ax.set_xticks(x)\n",
    "ax.set_xticklabels(labels)\n",
    "# ax.set_ylim(0, 100)\n",
    "plt.yticks(np.arange(0, 110, 10)) \n",
    "ax.legend()\n",
    "\n",
    "\n",
    "def autolabel(rects):\n",
    "    \"\"\"Attach a text label above each bar in *rects*, displaying its height.\"\"\"\n",
    "    for rect in rects:\n",
    "        height = rect.get_height()\n",
    "        ax.annotate('{}'.format(height),\n",
    "                    xy=(rect.get_x() + rect.get_width() / 2, height),\n",
    "                    xytext=(0, 3),  # 3 points vertical offset\n",
    "                    textcoords=\"offset points\",\n",
    "                    ha='center', va='bottom')\n",
    "\n",
    "autolabel(rects1)\n",
    "autolabel(rects2)\n",
    "\n",
    "\n",
    "# ratio_avg_18 = sum(dict_home_18.values()) / len(dict_home_18)\n",
    "# ratio_avg_20 = sum(dict_home_20.values()) / len(dict_home_20)\n",
    "# plt.axhline(y=ratio_avg_18, color=\"green\", linestyle=\"--\", alpha=0.7)\n",
    "# plt.axhline(y=ratio_avg_20, color=\"red\", linestyle=\"--\", alpha=0.7)\n",
    "\n",
    "\n",
    "fig.tight_layout()\n",
    "plt.title('Win Percentage of Home Teams in English Premier League')\n",
    "plt.show()"
   ]
  },
  {
   "cell_type": "markdown",
   "metadata": {},
   "source": [
    "## Ligue 1"
   ]
  },
  {
   "cell_type": "code",
   "execution_count": 160,
   "metadata": {},
   "outputs": [],
   "source": [
    "df_18 = pd.read_csv('data/ligue-1-2018-WEuropeStandardTime.csv')\n",
    "df_20 = pd.read_csv('data/ligue-1-2020-WEuropeStandardTime.csv')\n",
    "\n",
    "df_18 = prep(df_18)\n",
    "df_20 = prep(df_20)"
   ]
  },
  {
   "cell_type": "markdown",
   "metadata": {},
   "source": [
    "### Season 18/19"
   ]
  },
  {
   "cell_type": "code",
   "execution_count": 161,
   "metadata": {},
   "outputs": [
    {
     "output_type": "stream",
     "name": "stdout",
     "text": [
      "0.43157894736842106\n"
     ]
    }
   ],
   "source": [
    "ratio_home_wins_18 = sum(df_18['Home Team Win']) / len(df_18)\n",
    "print(ratio_home_wins_18)"
   ]
  },
  {
   "cell_type": "code",
   "execution_count": 162,
   "metadata": {},
   "outputs": [
    {
     "output_type": "stream",
     "name": "stdout",
     "text": [
      "0.2789473684210526\n"
     ]
    }
   ],
   "source": [
    "ratio_away_wins_18 = sum(df_18['Away Team Win']) / len(df_18)\n",
    "print(ratio_away_wins_18)"
   ]
  },
  {
   "cell_type": "code",
   "execution_count": 163,
   "metadata": {},
   "outputs": [
    {
     "output_type": "stream",
     "name": "stdout",
     "text": [
      "0.2894736842105263\n"
     ]
    }
   ],
   "source": [
    "ratio_draws_18 = sum(df_18['Draw']) / len(df_18)\n",
    "print(ratio_draws_18)"
   ]
  },
  {
   "cell_type": "code",
   "execution_count": 164,
   "metadata": {},
   "outputs": [],
   "source": [
    "dict_home_18['Ligue 1'] = ratio_home_wins_18\n",
    "dict_away_18['Ligue 1'] = ratio_away_wins_18"
   ]
  },
  {
   "cell_type": "code",
   "execution_count": 165,
   "metadata": {},
   "outputs": [],
   "source": [
    "avg_points_home = sum(df_18['Home Team Points']) / len(df_18)\n",
    "avg_points_away = sum(df_18['Away Team Points']) / len(df_18)\n",
    "\n",
    "dict_avg_pts_home_18['Ligue 1'] = avg_points_home\n",
    "dict_avg_pts_away_18['Ligue 1'] = avg_points_away"
   ]
  },
  {
   "cell_type": "markdown",
   "metadata": {},
   "source": [
    "### Season 20/21"
   ]
  },
  {
   "cell_type": "code",
   "execution_count": 166,
   "metadata": {},
   "outputs": [
    {
     "output_type": "stream",
     "name": "stdout",
     "text": [
      "0.3810810810810811\n"
     ]
    }
   ],
   "source": [
    "ratio_home_wins_20 = sum(df_20['Home Team Win']) / len(df_20)\n",
    "print(ratio_home_wins_20)"
   ]
  },
  {
   "cell_type": "code",
   "execution_count": 167,
   "metadata": {},
   "outputs": [
    {
     "output_type": "stream",
     "name": "stdout",
     "text": [
      "0.37027027027027026\n"
     ]
    }
   ],
   "source": [
    "ratio_away_wins_20 = sum(df_20['Away Team Win']) / len(df_20)\n",
    "print(ratio_away_wins_20)"
   ]
  },
  {
   "cell_type": "code",
   "execution_count": 168,
   "metadata": {},
   "outputs": [
    {
     "output_type": "stream",
     "name": "stdout",
     "text": [
      "0.24864864864864866\n"
     ]
    }
   ],
   "source": [
    "ratio_draws_20 = sum(df_20['Draw']) / len(df_20)\n",
    "print(ratio_draws_20)"
   ]
  },
  {
   "cell_type": "code",
   "execution_count": 169,
   "metadata": {},
   "outputs": [],
   "source": [
    "dict_home_20['Ligue 1'] = ratio_home_wins_20\n",
    "dict_away_20['Ligue 1'] = ratio_away_wins_20"
   ]
  },
  {
   "cell_type": "code",
   "execution_count": 170,
   "metadata": {},
   "outputs": [],
   "source": [
    "avg_points_home = sum(df_20['Home Team Points']) / len(df_20)\n",
    "avg_points_away = sum(df_20['Away Team Points']) / len(df_20)\n",
    "\n",
    "dict_avg_pts_home_20['Ligue 1'] = avg_points_home\n",
    "dict_avg_pts_away_20['Ligue 1'] = avg_points_away"
   ]
  },
  {
   "cell_type": "markdown",
   "metadata": {},
   "source": [
    "## La Liga"
   ]
  },
  {
   "cell_type": "code",
   "execution_count": 171,
   "metadata": {},
   "outputs": [],
   "source": [
    "df_18 = pd.read_csv('data/la-liga-2018-WEuropeStandardTime.csv')\n",
    "df_20 = pd.read_csv('data/la-liga-2020-WEuropeStandardTime.csv')\n",
    "\n",
    "df_18 = prep(df_18)\n",
    "df_20 = prep(df_20)"
   ]
  },
  {
   "cell_type": "code",
   "execution_count": 172,
   "metadata": {},
   "outputs": [
    {
     "output_type": "execute_result",
     "data": {
      "text/plain": [
       "     Match Number  Round Number              Date                   Location  \\\n",
       "365           365            37  16/05/2021 18:30  Estadio Benito Villamarín   \n",
       "366           366            37  16/05/2021 18:30     Coliseum Alfonso Pérez   \n",
       "367           367            37  16/05/2021 18:30          Ramón de Carranza   \n",
       "368           368            37  16/05/2021 18:30                Reale Arena   \n",
       "369           369            37  16/05/2021 18:30           Camp de Mestalla   \n",
       "\n",
       "         Home Team           Away Team Result Result2  Home Team Win  \\\n",
       "365     Real Betis           SD Huesca  1 - 0  [1, 0]              1   \n",
       "366      Getafe CF          Levante UD  2 - 1  [2, 1]              1   \n",
       "367       Cádiz CF            Elche CF  1 - 3  [1, 3]              0   \n",
       "368  Real Sociedad  Real Valladolid CF  4 - 1  [4, 1]              1   \n",
       "369    Valencia CF            SD Eibar  4 - 1  [4, 1]              1   \n",
       "\n",
       "     Away Team Win  Draw  Home Team Points  Away Team Points  \n",
       "365              0     0                 3                 0  \n",
       "366              0     0                 3                 0  \n",
       "367              1     0                 0                 3  \n",
       "368              0     0                 3                 0  \n",
       "369              0     0                 3                 0  "
      ],
      "text/html": "<div>\n<style scoped>\n    .dataframe tbody tr th:only-of-type {\n        vertical-align: middle;\n    }\n\n    .dataframe tbody tr th {\n        vertical-align: top;\n    }\n\n    .dataframe thead th {\n        text-align: right;\n    }\n</style>\n<table border=\"1\" class=\"dataframe\">\n  <thead>\n    <tr style=\"text-align: right;\">\n      <th></th>\n      <th>Match Number</th>\n      <th>Round Number</th>\n      <th>Date</th>\n      <th>Location</th>\n      <th>Home Team</th>\n      <th>Away Team</th>\n      <th>Result</th>\n      <th>Result2</th>\n      <th>Home Team Win</th>\n      <th>Away Team Win</th>\n      <th>Draw</th>\n      <th>Home Team Points</th>\n      <th>Away Team Points</th>\n    </tr>\n  </thead>\n  <tbody>\n    <tr>\n      <th>365</th>\n      <td>365</td>\n      <td>37</td>\n      <td>16/05/2021 18:30</td>\n      <td>Estadio Benito Villamarín</td>\n      <td>Real Betis</td>\n      <td>SD Huesca</td>\n      <td>1 - 0</td>\n      <td>[1, 0]</td>\n      <td>1</td>\n      <td>0</td>\n      <td>0</td>\n      <td>3</td>\n      <td>0</td>\n    </tr>\n    <tr>\n      <th>366</th>\n      <td>366</td>\n      <td>37</td>\n      <td>16/05/2021 18:30</td>\n      <td>Coliseum Alfonso Pérez</td>\n      <td>Getafe CF</td>\n      <td>Levante UD</td>\n      <td>2 - 1</td>\n      <td>[2, 1]</td>\n      <td>1</td>\n      <td>0</td>\n      <td>0</td>\n      <td>3</td>\n      <td>0</td>\n    </tr>\n    <tr>\n      <th>367</th>\n      <td>367</td>\n      <td>37</td>\n      <td>16/05/2021 18:30</td>\n      <td>Ramón de Carranza</td>\n      <td>Cádiz CF</td>\n      <td>Elche CF</td>\n      <td>1 - 3</td>\n      <td>[1, 3]</td>\n      <td>0</td>\n      <td>1</td>\n      <td>0</td>\n      <td>0</td>\n      <td>3</td>\n    </tr>\n    <tr>\n      <th>368</th>\n      <td>368</td>\n      <td>37</td>\n      <td>16/05/2021 18:30</td>\n      <td>Reale Arena</td>\n      <td>Real Sociedad</td>\n      <td>Real Valladolid CF</td>\n      <td>4 - 1</td>\n      <td>[4, 1]</td>\n      <td>1</td>\n      <td>0</td>\n      <td>0</td>\n      <td>3</td>\n      <td>0</td>\n    </tr>\n    <tr>\n      <th>369</th>\n      <td>369</td>\n      <td>37</td>\n      <td>16/05/2021 18:30</td>\n      <td>Camp de Mestalla</td>\n      <td>Valencia CF</td>\n      <td>SD Eibar</td>\n      <td>4 - 1</td>\n      <td>[4, 1]</td>\n      <td>1</td>\n      <td>0</td>\n      <td>0</td>\n      <td>3</td>\n      <td>0</td>\n    </tr>\n  </tbody>\n</table>\n</div>"
     },
     "metadata": {},
     "execution_count": 172
    }
   ],
   "source": [
    "df_20.tail()"
   ]
  },
  {
   "cell_type": "markdown",
   "metadata": {},
   "source": [
    "### Season 18/19"
   ]
  },
  {
   "cell_type": "code",
   "execution_count": 173,
   "metadata": {},
   "outputs": [
    {
     "output_type": "stream",
     "name": "stdout",
     "text": [
      "0.4421052631578947\n"
     ]
    }
   ],
   "source": [
    "ratio_home_wins_18 = sum(df_18['Home Team Win']) / len(df_18)\n",
    "print(ratio_home_wins_18)"
   ]
  },
  {
   "cell_type": "code",
   "execution_count": 174,
   "metadata": {},
   "outputs": [
    {
     "output_type": "stream",
     "name": "stdout",
     "text": [
      "0.26842105263157895\n"
     ]
    }
   ],
   "source": [
    "ratio_away_wins_18 = sum(df_18['Away Team Win']) / len(df_18)\n",
    "print(ratio_away_wins_18)"
   ]
  },
  {
   "cell_type": "code",
   "execution_count": 175,
   "metadata": {},
   "outputs": [
    {
     "output_type": "stream",
     "name": "stdout",
     "text": [
      "0.2894736842105263\n"
     ]
    }
   ],
   "source": [
    "ratio_draws_18 = sum(df_18['Draw']) / len(df_18)\n",
    "print(ratio_draws_18)"
   ]
  },
  {
   "cell_type": "code",
   "execution_count": 176,
   "metadata": {},
   "outputs": [],
   "source": [
    "dict_home_18['La Liga'] = ratio_home_wins_18\n",
    "dict_away_18['La Liga'] = ratio_away_wins_18"
   ]
  },
  {
   "cell_type": "code",
   "execution_count": 177,
   "metadata": {},
   "outputs": [],
   "source": [
    "avg_points_home = sum(df_18['Home Team Points']) / len(df_18)\n",
    "avg_points_away = sum(df_18['Away Team Points']) / len(df_18)\n",
    "\n",
    "dict_avg_pts_home_18['La Liga'] = avg_points_home\n",
    "dict_avg_pts_away_18['La Liga'] = avg_points_away"
   ]
  },
  {
   "cell_type": "markdown",
   "metadata": {},
   "source": [
    "### Season 20/21"
   ]
  },
  {
   "cell_type": "code",
   "execution_count": 178,
   "metadata": {},
   "outputs": [
    {
     "output_type": "stream",
     "name": "stdout",
     "text": [
      "0.42162162162162165\n"
     ]
    }
   ],
   "source": [
    "ratio_home_wins_20 = sum(df_20['Home Team Win']) / len(df_20)\n",
    "print(ratio_home_wins_20)"
   ]
  },
  {
   "cell_type": "code",
   "execution_count": 179,
   "metadata": {},
   "outputs": [
    {
     "output_type": "stream",
     "name": "stdout",
     "text": [
      "0.2945945945945946\n"
     ]
    }
   ],
   "source": [
    "ratio_away_wins_20 = sum(df_20['Away Team Win']) / len(df_20)\n",
    "print(ratio_away_wins_20)"
   ]
  },
  {
   "cell_type": "code",
   "execution_count": 180,
   "metadata": {},
   "outputs": [
    {
     "output_type": "stream",
     "name": "stdout",
     "text": [
      "0.28378378378378377\n"
     ]
    }
   ],
   "source": [
    "ratio_draws_20 = sum(df_20['Draw']) / len(df_20)\n",
    "print(ratio_draws_20)"
   ]
  },
  {
   "cell_type": "code",
   "execution_count": 181,
   "metadata": {},
   "outputs": [],
   "source": [
    "dict_home_20['La Liga'] = ratio_home_wins_20\n",
    "dict_away_20['La Liga'] = ratio_away_wins_20"
   ]
  },
  {
   "cell_type": "code",
   "execution_count": 182,
   "metadata": {},
   "outputs": [],
   "source": [
    "avg_points_home = sum(df_20['Home Team Points']) / len(df_20)\n",
    "avg_points_away = sum(df_20['Away Team Points']) / len(df_20)\n",
    "\n",
    "dict_avg_pts_home_20['La Liga'] = avg_points_home\n",
    "dict_avg_pts_away_20['La Liga'] = avg_points_away"
   ]
  },
  {
   "cell_type": "markdown",
   "metadata": {},
   "source": [
    "## Season 18-19 Overview"
   ]
  },
  {
   "cell_type": "code",
   "execution_count": 183,
   "metadata": {},
   "outputs": [
    {
     "output_type": "execute_result",
     "data": {
      "text/plain": [
       "{'Serie A': 0.4368421052631579,\n",
       " 'Bundesliga': 0.4477124183006536,\n",
       " 'EPL': 0.4763157894736842,\n",
       " 'Ligue 1': 0.43157894736842106,\n",
       " 'La Liga': 0.4421052631578947}"
      ]
     },
     "metadata": {},
     "execution_count": 183
    }
   ],
   "source": [
    "dict_home_18"
   ]
  },
  {
   "cell_type": "code",
   "execution_count": 184,
   "metadata": {},
   "outputs": [
    {
     "output_type": "execute_result",
     "data": {
      "text/plain": [
       "{'Serie A': 0.2789473684210526,\n",
       " 'Bundesliga': 0.3104575163398693,\n",
       " 'EPL': 0.3368421052631579,\n",
       " 'Ligue 1': 0.2789473684210526,\n",
       " 'La Liga': 0.26842105263157895}"
      ]
     },
     "metadata": {},
     "execution_count": 184
    }
   ],
   "source": [
    "dict_away_18"
   ]
  },
  {
   "cell_type": "code",
   "execution_count": 185,
   "metadata": {},
   "outputs": [
    {
     "output_type": "execute_result",
     "data": {
      "text/plain": [
       "{'Serie A': 1.5947368421052632,\n",
       " 'Bundesliga': 1.5849673202614378,\n",
       " 'EPL': 1.6157894736842104,\n",
       " 'Ligue 1': 1.5842105263157895,\n",
       " 'La Liga': 1.6157894736842104}"
      ]
     },
     "metadata": {},
     "execution_count": 185
    }
   ],
   "source": [
    "dict_avg_pts_home_18"
   ]
  },
  {
   "cell_type": "code",
   "execution_count": 186,
   "metadata": {},
   "outputs": [
    {
     "output_type": "execute_result",
     "data": {
      "text/plain": [
       "{'Serie A': 1.1210526315789473,\n",
       " 'Bundesliga': 1.173202614379085,\n",
       " 'EPL': 1.1973684210526316,\n",
       " 'Ligue 1': 1.1263157894736842,\n",
       " 'La Liga': 1.0947368421052632}"
      ]
     },
     "metadata": {},
     "execution_count": 186
    }
   ],
   "source": [
    "dict_avg_pts_away_18"
   ]
  },
  {
   "cell_type": "markdown",
   "metadata": {},
   "source": [
    "## Season 20-21 Overview"
   ]
  },
  {
   "cell_type": "code",
   "execution_count": 187,
   "metadata": {},
   "outputs": [
    {
     "output_type": "execute_result",
     "data": {
      "text/plain": [
       "{'Serie A': 0.41081081081081083,\n",
       " 'Bundesliga': 0.4215686274509804,\n",
       " 'EPL': 0.36944444444444446,\n",
       " 'Ligue 1': 0.3810810810810811,\n",
       " 'La Liga': 0.42162162162162165}"
      ]
     },
     "metadata": {},
     "execution_count": 187
    }
   ],
   "source": [
    "dict_home_20"
   ]
  },
  {
   "cell_type": "code",
   "execution_count": 188,
   "metadata": {},
   "outputs": [
    {
     "output_type": "execute_result",
     "data": {
      "text/plain": [
       "{'Serie A': 0.33783783783783783,\n",
       " 'Bundesliga': 0.3137254901960784,\n",
       " 'EPL': 0.4027777777777778,\n",
       " 'Ligue 1': 0.37027027027027026,\n",
       " 'La Liga': 0.2945945945945946}"
      ]
     },
     "metadata": {},
     "execution_count": 188
    }
   ],
   "source": [
    "dict_away_20"
   ]
  },
  {
   "cell_type": "code",
   "execution_count": 189,
   "metadata": {},
   "outputs": [
    {
     "output_type": "execute_result",
     "data": {
      "text/plain": [
       "{'Serie A': 1.4837837837837837,\n",
       " 'Bundesliga': 1.5294117647058822,\n",
       " 'EPL': 1.336111111111111,\n",
       " 'Ligue 1': 1.3918918918918919,\n",
       " 'La Liga': 1.5486486486486486}"
      ]
     },
     "metadata": {},
     "execution_count": 189
    }
   ],
   "source": [
    "dict_avg_pts_home_20"
   ]
  },
  {
   "cell_type": "code",
   "execution_count": 190,
   "metadata": {},
   "outputs": [
    {
     "output_type": "execute_result",
     "data": {
      "text/plain": [
       "{'Serie A': 1.2648648648648648,\n",
       " 'Bundesliga': 1.2058823529411764,\n",
       " 'EPL': 1.4361111111111111,\n",
       " 'Ligue 1': 1.3594594594594596,\n",
       " 'La Liga': 1.1675675675675676}"
      ]
     },
     "metadata": {},
     "execution_count": 190
    }
   ],
   "source": [
    "dict_avg_pts_away_20"
   ]
  },
  {
   "cell_type": "markdown",
   "metadata": {},
   "source": [
    "# Plots"
   ]
  },
  {
   "cell_type": "markdown",
   "metadata": {},
   "source": [
    "## Home Wins"
   ]
  },
  {
   "cell_type": "code",
   "execution_count": 191,
   "metadata": {},
   "outputs": [],
   "source": [
    "for key in dict_home_18.keys():\n",
    "    dict_home_18[key] = int(round(dict_home_18[key]*100, 0))"
   ]
  },
  {
   "cell_type": "code",
   "execution_count": 192,
   "metadata": {},
   "outputs": [],
   "source": [
    "for key in dict_home_20.keys():\n",
    "    dict_home_20[key] = int(round(dict_home_20[key]*100, 0))"
   ]
  },
  {
   "cell_type": "code",
   "execution_count": 193,
   "metadata": {},
   "outputs": [
    {
     "output_type": "display_data",
     "data": {
      "text/plain": "<Figure size 432x288 with 1 Axes>",
      "image/svg+xml": "<?xml version=\"1.0\" encoding=\"utf-8\" standalone=\"no\"?>\r\n<!DOCTYPE svg PUBLIC \"-//W3C//DTD SVG 1.1//EN\"\r\n  \"http://www.w3.org/Graphics/SVG/1.1/DTD/svg11.dtd\">\r\n<!-- Created with matplotlib (https://matplotlib.org/) -->\r\n<svg height=\"291.59625pt\" version=\"1.1\" viewBox=\"0 0 424.440625 291.59625\" width=\"424.440625pt\" xmlns=\"http://www.w3.org/2000/svg\" xmlns:xlink=\"http://www.w3.org/1999/xlink\">\r\n <defs>\r\n  <style type=\"text/css\">\r\n*{stroke-linecap:butt;stroke-linejoin:round;}\r\n  </style>\r\n </defs>\r\n <g id=\"figure_1\">\r\n  <g id=\"patch_1\">\r\n   <path d=\"M 0 291.59625 \r\nL 424.440625 291.59625 \r\nL 424.440625 0 \r\nL 0 0 \r\nz\r\n\" style=\"fill:none;\"/>\r\n  </g>\r\n  <g id=\"axes_1\">\r\n   <g id=\"patch_2\">\r\n    <path d=\"M 46.965625 267.718125 \r\nL 417.240625 267.718125 \r\nL 417.240625 22.318125 \r\nL 46.965625 22.318125 \r\nz\r\n\" style=\"fill:#ffffff;\"/>\r\n   </g>\r\n   <g id=\"patch_3\">\r\n    <path clip-path=\"url(#pe4e4134b9a)\" d=\"M 63.796307 267.718125 \r\nL 82.251002 267.718125 \r\nL 82.251002 159.742125 \r\nL 63.796307 159.742125 \r\nz\r\n\" style=\"fill:#008000;\"/>\r\n   </g>\r\n   <g id=\"patch_4\">\r\n    <path clip-path=\"url(#pe4e4134b9a)\" d=\"M 137.615087 267.718125 \r\nL 156.069782 267.718125 \r\nL 156.069782 157.288125 \r\nL 137.615087 157.288125 \r\nz\r\n\" style=\"fill:#008000;\"/>\r\n   </g>\r\n   <g id=\"patch_5\">\r\n    <path clip-path=\"url(#pe4e4134b9a)\" d=\"M 211.433867 267.718125 \r\nL 229.888562 267.718125 \r\nL 229.888562 149.926125 \r\nL 211.433867 149.926125 \r\nz\r\n\" style=\"fill:#008000;\"/>\r\n   </g>\r\n   <g id=\"patch_6\">\r\n    <path clip-path=\"url(#pe4e4134b9a)\" d=\"M 285.252647 267.718125 \r\nL 303.707342 267.718125 \r\nL 303.707342 162.196125 \r\nL 285.252647 162.196125 \r\nz\r\n\" style=\"fill:#008000;\"/>\r\n   </g>\r\n   <g id=\"patch_7\">\r\n    <path clip-path=\"url(#pe4e4134b9a)\" d=\"M 359.071426 267.718125 \r\nL 377.526121 267.718125 \r\nL 377.526121 159.742125 \r\nL 359.071426 159.742125 \r\nz\r\n\" style=\"fill:#008000;\"/>\r\n   </g>\r\n   <g id=\"patch_8\">\r\n    <path clip-path=\"url(#pe4e4134b9a)\" d=\"M 86.680129 267.718125 \r\nL 105.134824 267.718125 \r\nL 105.134824 167.104125 \r\nL 86.680129 167.104125 \r\nz\r\n\" style=\"fill:#ff0000;\"/>\r\n   </g>\r\n   <g id=\"patch_9\">\r\n    <path clip-path=\"url(#pe4e4134b9a)\" d=\"M 160.498908 267.718125 \r\nL 178.953603 267.718125 \r\nL 178.953603 164.650125 \r\nL 160.498908 164.650125 \r\nz\r\n\" style=\"fill:#ff0000;\"/>\r\n   </g>\r\n   <g id=\"patch_10\">\r\n    <path clip-path=\"url(#pe4e4134b9a)\" d=\"M 234.317688 267.718125 \r\nL 252.772383 267.718125 \r\nL 252.772383 176.920125 \r\nL 234.317688 176.920125 \r\nz\r\n\" style=\"fill:#ff0000;\"/>\r\n   </g>\r\n   <g id=\"patch_11\">\r\n    <path clip-path=\"url(#pe4e4134b9a)\" d=\"M 308.136468 267.718125 \r\nL 326.591163 267.718125 \r\nL 326.591163 174.466125 \r\nL 308.136468 174.466125 \r\nz\r\n\" style=\"fill:#ff0000;\"/>\r\n   </g>\r\n   <g id=\"patch_12\">\r\n    <path clip-path=\"url(#pe4e4134b9a)\" d=\"M 381.955248 267.718125 \r\nL 400.409943 267.718125 \r\nL 400.409943 164.650125 \r\nL 381.955248 164.650125 \r\nz\r\n\" style=\"fill:#ff0000;\"/>\r\n   </g>\r\n   <g id=\"matplotlib.axis_1\">\r\n    <g id=\"xtick_1\">\r\n     <g id=\"line2d_1\">\r\n      <defs>\r\n       <path d=\"M 0 0 \r\nL 0 3.5 \r\n\" id=\"mbe8d2853c3\" style=\"stroke:#000000;stroke-width:0.8;\"/>\r\n      </defs>\r\n      <g>\r\n       <use style=\"stroke:#000000;stroke-width:0.8;\" x=\"84.465565\" xlink:href=\"#mbe8d2853c3\" y=\"267.718125\"/>\r\n      </g>\r\n     </g>\r\n     <g id=\"text_1\">\r\n      <!-- Serie A -->\r\n      <defs>\r\n       <path d=\"M 53.515625 70.515625 \r\nL 53.515625 60.890625 \r\nQ 47.90625 63.578125 42.921875 64.890625 \r\nQ 37.9375 66.21875 33.296875 66.21875 \r\nQ 25.25 66.21875 20.875 63.09375 \r\nQ 16.5 59.96875 16.5 54.203125 \r\nQ 16.5 49.359375 19.40625 46.890625 \r\nQ 22.3125 44.4375 30.421875 42.921875 \r\nL 36.375 41.703125 \r\nQ 47.40625 39.59375 52.65625 34.296875 \r\nQ 57.90625 29 57.90625 20.125 \r\nQ 57.90625 9.515625 50.796875 4.046875 \r\nQ 43.703125 -1.421875 29.984375 -1.421875 \r\nQ 24.8125 -1.421875 18.96875 -0.25 \r\nQ 13.140625 0.921875 6.890625 3.21875 \r\nL 6.890625 13.375 \r\nQ 12.890625 10.015625 18.65625 8.296875 \r\nQ 24.421875 6.59375 29.984375 6.59375 \r\nQ 38.421875 6.59375 43.015625 9.90625 \r\nQ 47.609375 13.234375 47.609375 19.390625 \r\nQ 47.609375 24.75 44.3125 27.78125 \r\nQ 41.015625 30.8125 33.5 32.328125 \r\nL 27.484375 33.5 \r\nQ 16.453125 35.6875 11.515625 40.375 \r\nQ 6.59375 45.0625 6.59375 53.421875 \r\nQ 6.59375 63.09375 13.40625 68.65625 \r\nQ 20.21875 74.21875 32.171875 74.21875 \r\nQ 37.3125 74.21875 42.625 73.28125 \r\nQ 47.953125 72.359375 53.515625 70.515625 \r\nz\r\n\" id=\"DejaVuSans-83\"/>\r\n       <path d=\"M 56.203125 29.59375 \r\nL 56.203125 25.203125 \r\nL 14.890625 25.203125 \r\nQ 15.484375 15.921875 20.484375 11.0625 \r\nQ 25.484375 6.203125 34.421875 6.203125 \r\nQ 39.59375 6.203125 44.453125 7.46875 \r\nQ 49.3125 8.734375 54.109375 11.28125 \r\nL 54.109375 2.78125 \r\nQ 49.265625 0.734375 44.1875 -0.34375 \r\nQ 39.109375 -1.421875 33.890625 -1.421875 \r\nQ 20.796875 -1.421875 13.15625 6.1875 \r\nQ 5.515625 13.8125 5.515625 26.8125 \r\nQ 5.515625 40.234375 12.765625 48.109375 \r\nQ 20.015625 56 32.328125 56 \r\nQ 43.359375 56 49.78125 48.890625 \r\nQ 56.203125 41.796875 56.203125 29.59375 \r\nz\r\nM 47.21875 32.234375 \r\nQ 47.125 39.59375 43.09375 43.984375 \r\nQ 39.0625 48.390625 32.421875 48.390625 \r\nQ 24.90625 48.390625 20.390625 44.140625 \r\nQ 15.875 39.890625 15.1875 32.171875 \r\nz\r\n\" id=\"DejaVuSans-101\"/>\r\n       <path d=\"M 41.109375 46.296875 \r\nQ 39.59375 47.171875 37.8125 47.578125 \r\nQ 36.03125 48 33.890625 48 \r\nQ 26.265625 48 22.1875 43.046875 \r\nQ 18.109375 38.09375 18.109375 28.8125 \r\nL 18.109375 0 \r\nL 9.078125 0 \r\nL 9.078125 54.6875 \r\nL 18.109375 54.6875 \r\nL 18.109375 46.1875 \r\nQ 20.953125 51.171875 25.484375 53.578125 \r\nQ 30.03125 56 36.53125 56 \r\nQ 37.453125 56 38.578125 55.875 \r\nQ 39.703125 55.765625 41.0625 55.515625 \r\nz\r\n\" id=\"DejaVuSans-114\"/>\r\n       <path d=\"M 9.421875 54.6875 \r\nL 18.40625 54.6875 \r\nL 18.40625 0 \r\nL 9.421875 0 \r\nz\r\nM 9.421875 75.984375 \r\nL 18.40625 75.984375 \r\nL 18.40625 64.59375 \r\nL 9.421875 64.59375 \r\nz\r\n\" id=\"DejaVuSans-105\"/>\r\n       <path id=\"DejaVuSans-32\"/>\r\n       <path d=\"M 34.1875 63.1875 \r\nL 20.796875 26.90625 \r\nL 47.609375 26.90625 \r\nz\r\nM 28.609375 72.90625 \r\nL 39.796875 72.90625 \r\nL 67.578125 0 \r\nL 57.328125 0 \r\nL 50.6875 18.703125 \r\nL 17.828125 18.703125 \r\nL 11.1875 0 \r\nL 0.78125 0 \r\nz\r\n\" id=\"DejaVuSans-65\"/>\r\n      </defs>\r\n      <g transform=\"translate(66.684315 282.316563)scale(0.1 -0.1)\">\r\n       <use xlink:href=\"#DejaVuSans-83\"/>\r\n       <use x=\"63.476562\" xlink:href=\"#DejaVuSans-101\"/>\r\n       <use x=\"125\" xlink:href=\"#DejaVuSans-114\"/>\r\n       <use x=\"166.113281\" xlink:href=\"#DejaVuSans-105\"/>\r\n       <use x=\"193.896484\" xlink:href=\"#DejaVuSans-101\"/>\r\n       <use x=\"255.419922\" xlink:href=\"#DejaVuSans-32\"/>\r\n       <use x=\"287.207031\" xlink:href=\"#DejaVuSans-65\"/>\r\n      </g>\r\n     </g>\r\n    </g>\r\n    <g id=\"xtick_2\">\r\n     <g id=\"line2d_2\">\r\n      <g>\r\n       <use style=\"stroke:#000000;stroke-width:0.8;\" x=\"158.284345\" xlink:href=\"#mbe8d2853c3\" y=\"267.718125\"/>\r\n      </g>\r\n     </g>\r\n     <g id=\"text_2\">\r\n      <!-- Bundesliga -->\r\n      <defs>\r\n       <path d=\"M 19.671875 34.8125 \r\nL 19.671875 8.109375 \r\nL 35.5 8.109375 \r\nQ 43.453125 8.109375 47.28125 11.40625 \r\nQ 51.125 14.703125 51.125 21.484375 \r\nQ 51.125 28.328125 47.28125 31.5625 \r\nQ 43.453125 34.8125 35.5 34.8125 \r\nz\r\nM 19.671875 64.796875 \r\nL 19.671875 42.828125 \r\nL 34.28125 42.828125 \r\nQ 41.5 42.828125 45.03125 45.53125 \r\nQ 48.578125 48.25 48.578125 53.8125 \r\nQ 48.578125 59.328125 45.03125 62.0625 \r\nQ 41.5 64.796875 34.28125 64.796875 \r\nz\r\nM 9.8125 72.90625 \r\nL 35.015625 72.90625 \r\nQ 46.296875 72.90625 52.390625 68.21875 \r\nQ 58.5 63.53125 58.5 54.890625 \r\nQ 58.5 48.1875 55.375 44.234375 \r\nQ 52.25 40.28125 46.1875 39.3125 \r\nQ 53.46875 37.75 57.5 32.78125 \r\nQ 61.53125 27.828125 61.53125 20.40625 \r\nQ 61.53125 10.640625 54.890625 5.3125 \r\nQ 48.25 0 35.984375 0 \r\nL 9.8125 0 \r\nz\r\n\" id=\"DejaVuSans-66\"/>\r\n       <path d=\"M 8.5 21.578125 \r\nL 8.5 54.6875 \r\nL 17.484375 54.6875 \r\nL 17.484375 21.921875 \r\nQ 17.484375 14.15625 20.5 10.265625 \r\nQ 23.53125 6.390625 29.59375 6.390625 \r\nQ 36.859375 6.390625 41.078125 11.03125 \r\nQ 45.3125 15.671875 45.3125 23.6875 \r\nL 45.3125 54.6875 \r\nL 54.296875 54.6875 \r\nL 54.296875 0 \r\nL 45.3125 0 \r\nL 45.3125 8.40625 \r\nQ 42.046875 3.421875 37.71875 1 \r\nQ 33.40625 -1.421875 27.6875 -1.421875 \r\nQ 18.265625 -1.421875 13.375 4.4375 \r\nQ 8.5 10.296875 8.5 21.578125 \r\nz\r\nM 31.109375 56 \r\nz\r\n\" id=\"DejaVuSans-117\"/>\r\n       <path d=\"M 54.890625 33.015625 \r\nL 54.890625 0 \r\nL 45.90625 0 \r\nL 45.90625 32.71875 \r\nQ 45.90625 40.484375 42.875 44.328125 \r\nQ 39.84375 48.1875 33.796875 48.1875 \r\nQ 26.515625 48.1875 22.3125 43.546875 \r\nQ 18.109375 38.921875 18.109375 30.90625 \r\nL 18.109375 0 \r\nL 9.078125 0 \r\nL 9.078125 54.6875 \r\nL 18.109375 54.6875 \r\nL 18.109375 46.1875 \r\nQ 21.34375 51.125 25.703125 53.5625 \r\nQ 30.078125 56 35.796875 56 \r\nQ 45.21875 56 50.046875 50.171875 \r\nQ 54.890625 44.34375 54.890625 33.015625 \r\nz\r\n\" id=\"DejaVuSans-110\"/>\r\n       <path d=\"M 45.40625 46.390625 \r\nL 45.40625 75.984375 \r\nL 54.390625 75.984375 \r\nL 54.390625 0 \r\nL 45.40625 0 \r\nL 45.40625 8.203125 \r\nQ 42.578125 3.328125 38.25 0.953125 \r\nQ 33.9375 -1.421875 27.875 -1.421875 \r\nQ 17.96875 -1.421875 11.734375 6.484375 \r\nQ 5.515625 14.40625 5.515625 27.296875 \r\nQ 5.515625 40.1875 11.734375 48.09375 \r\nQ 17.96875 56 27.875 56 \r\nQ 33.9375 56 38.25 53.625 \r\nQ 42.578125 51.265625 45.40625 46.390625 \r\nz\r\nM 14.796875 27.296875 \r\nQ 14.796875 17.390625 18.875 11.75 \r\nQ 22.953125 6.109375 30.078125 6.109375 \r\nQ 37.203125 6.109375 41.296875 11.75 \r\nQ 45.40625 17.390625 45.40625 27.296875 \r\nQ 45.40625 37.203125 41.296875 42.84375 \r\nQ 37.203125 48.484375 30.078125 48.484375 \r\nQ 22.953125 48.484375 18.875 42.84375 \r\nQ 14.796875 37.203125 14.796875 27.296875 \r\nz\r\n\" id=\"DejaVuSans-100\"/>\r\n       <path d=\"M 44.28125 53.078125 \r\nL 44.28125 44.578125 \r\nQ 40.484375 46.53125 36.375 47.5 \r\nQ 32.28125 48.484375 27.875 48.484375 \r\nQ 21.1875 48.484375 17.84375 46.4375 \r\nQ 14.5 44.390625 14.5 40.28125 \r\nQ 14.5 37.15625 16.890625 35.375 \r\nQ 19.28125 33.59375 26.515625 31.984375 \r\nL 29.59375 31.296875 \r\nQ 39.15625 29.25 43.1875 25.515625 \r\nQ 47.21875 21.78125 47.21875 15.09375 \r\nQ 47.21875 7.46875 41.1875 3.015625 \r\nQ 35.15625 -1.421875 24.609375 -1.421875 \r\nQ 20.21875 -1.421875 15.453125 -0.5625 \r\nQ 10.6875 0.296875 5.421875 2 \r\nL 5.421875 11.28125 \r\nQ 10.40625 8.6875 15.234375 7.390625 \r\nQ 20.0625 6.109375 24.8125 6.109375 \r\nQ 31.15625 6.109375 34.5625 8.28125 \r\nQ 37.984375 10.453125 37.984375 14.40625 \r\nQ 37.984375 18.0625 35.515625 20.015625 \r\nQ 33.0625 21.96875 24.703125 23.78125 \r\nL 21.578125 24.515625 \r\nQ 13.234375 26.265625 9.515625 29.90625 \r\nQ 5.8125 33.546875 5.8125 39.890625 \r\nQ 5.8125 47.609375 11.28125 51.796875 \r\nQ 16.75 56 26.8125 56 \r\nQ 31.78125 56 36.171875 55.265625 \r\nQ 40.578125 54.546875 44.28125 53.078125 \r\nz\r\n\" id=\"DejaVuSans-115\"/>\r\n       <path d=\"M 9.421875 75.984375 \r\nL 18.40625 75.984375 \r\nL 18.40625 0 \r\nL 9.421875 0 \r\nz\r\n\" id=\"DejaVuSans-108\"/>\r\n       <path d=\"M 45.40625 27.984375 \r\nQ 45.40625 37.75 41.375 43.109375 \r\nQ 37.359375 48.484375 30.078125 48.484375 \r\nQ 22.859375 48.484375 18.828125 43.109375 \r\nQ 14.796875 37.75 14.796875 27.984375 \r\nQ 14.796875 18.265625 18.828125 12.890625 \r\nQ 22.859375 7.515625 30.078125 7.515625 \r\nQ 37.359375 7.515625 41.375 12.890625 \r\nQ 45.40625 18.265625 45.40625 27.984375 \r\nz\r\nM 54.390625 6.78125 \r\nQ 54.390625 -7.171875 48.1875 -13.984375 \r\nQ 42 -20.796875 29.203125 -20.796875 \r\nQ 24.46875 -20.796875 20.265625 -20.09375 \r\nQ 16.0625 -19.390625 12.109375 -17.921875 \r\nL 12.109375 -9.1875 \r\nQ 16.0625 -11.328125 19.921875 -12.34375 \r\nQ 23.78125 -13.375 27.78125 -13.375 \r\nQ 36.625 -13.375 41.015625 -8.765625 \r\nQ 45.40625 -4.15625 45.40625 5.171875 \r\nL 45.40625 9.625 \r\nQ 42.625 4.78125 38.28125 2.390625 \r\nQ 33.9375 0 27.875 0 \r\nQ 17.828125 0 11.671875 7.65625 \r\nQ 5.515625 15.328125 5.515625 27.984375 \r\nQ 5.515625 40.671875 11.671875 48.328125 \r\nQ 17.828125 56 27.875 56 \r\nQ 33.9375 56 38.28125 53.609375 \r\nQ 42.625 51.21875 45.40625 46.390625 \r\nL 45.40625 54.6875 \r\nL 54.390625 54.6875 \r\nz\r\n\" id=\"DejaVuSans-103\"/>\r\n       <path d=\"M 34.28125 27.484375 \r\nQ 23.390625 27.484375 19.1875 25 \r\nQ 14.984375 22.515625 14.984375 16.5 \r\nQ 14.984375 11.71875 18.140625 8.90625 \r\nQ 21.296875 6.109375 26.703125 6.109375 \r\nQ 34.1875 6.109375 38.703125 11.40625 \r\nQ 43.21875 16.703125 43.21875 25.484375 \r\nL 43.21875 27.484375 \r\nz\r\nM 52.203125 31.203125 \r\nL 52.203125 0 \r\nL 43.21875 0 \r\nL 43.21875 8.296875 \r\nQ 40.140625 3.328125 35.546875 0.953125 \r\nQ 30.953125 -1.421875 24.3125 -1.421875 \r\nQ 15.921875 -1.421875 10.953125 3.296875 \r\nQ 6 8.015625 6 15.921875 \r\nQ 6 25.140625 12.171875 29.828125 \r\nQ 18.359375 34.515625 30.609375 34.515625 \r\nL 43.21875 34.515625 \r\nL 43.21875 35.40625 \r\nQ 43.21875 41.609375 39.140625 45 \r\nQ 35.0625 48.390625 27.6875 48.390625 \r\nQ 23 48.390625 18.546875 47.265625 \r\nQ 14.109375 46.140625 10.015625 43.890625 \r\nL 10.015625 52.203125 \r\nQ 14.9375 54.109375 19.578125 55.046875 \r\nQ 24.21875 56 28.609375 56 \r\nQ 40.484375 56 46.34375 49.84375 \r\nQ 52.203125 43.703125 52.203125 31.203125 \r\nz\r\n\" id=\"DejaVuSans-97\"/>\r\n      </defs>\r\n      <g transform=\"translate(130.644501 282.316563)scale(0.1 -0.1)\">\r\n       <use xlink:href=\"#DejaVuSans-66\"/>\r\n       <use x=\"68.603516\" xlink:href=\"#DejaVuSans-117\"/>\r\n       <use x=\"131.982422\" xlink:href=\"#DejaVuSans-110\"/>\r\n       <use x=\"195.361328\" xlink:href=\"#DejaVuSans-100\"/>\r\n       <use x=\"258.837891\" xlink:href=\"#DejaVuSans-101\"/>\r\n       <use x=\"320.361328\" xlink:href=\"#DejaVuSans-115\"/>\r\n       <use x=\"372.460938\" xlink:href=\"#DejaVuSans-108\"/>\r\n       <use x=\"400.244141\" xlink:href=\"#DejaVuSans-105\"/>\r\n       <use x=\"428.027344\" xlink:href=\"#DejaVuSans-103\"/>\r\n       <use x=\"491.503906\" xlink:href=\"#DejaVuSans-97\"/>\r\n      </g>\r\n     </g>\r\n    </g>\r\n    <g id=\"xtick_3\">\r\n     <g id=\"line2d_3\">\r\n      <g>\r\n       <use style=\"stroke:#000000;stroke-width:0.8;\" x=\"232.103125\" xlink:href=\"#mbe8d2853c3\" y=\"267.718125\"/>\r\n      </g>\r\n     </g>\r\n     <g id=\"text_3\">\r\n      <!-- EPL -->\r\n      <defs>\r\n       <path d=\"M 9.8125 72.90625 \r\nL 55.90625 72.90625 \r\nL 55.90625 64.59375 \r\nL 19.671875 64.59375 \r\nL 19.671875 43.015625 \r\nL 54.390625 43.015625 \r\nL 54.390625 34.71875 \r\nL 19.671875 34.71875 \r\nL 19.671875 8.296875 \r\nL 56.78125 8.296875 \r\nL 56.78125 0 \r\nL 9.8125 0 \r\nz\r\n\" id=\"DejaVuSans-69\"/>\r\n       <path d=\"M 19.671875 64.796875 \r\nL 19.671875 37.40625 \r\nL 32.078125 37.40625 \r\nQ 38.96875 37.40625 42.71875 40.96875 \r\nQ 46.484375 44.53125 46.484375 51.125 \r\nQ 46.484375 57.671875 42.71875 61.234375 \r\nQ 38.96875 64.796875 32.078125 64.796875 \r\nz\r\nM 9.8125 72.90625 \r\nL 32.078125 72.90625 \r\nQ 44.34375 72.90625 50.609375 67.359375 \r\nQ 56.890625 61.8125 56.890625 51.125 \r\nQ 56.890625 40.328125 50.609375 34.8125 \r\nQ 44.34375 29.296875 32.078125 29.296875 \r\nL 19.671875 29.296875 \r\nL 19.671875 0 \r\nL 9.8125 0 \r\nz\r\n\" id=\"DejaVuSans-80\"/>\r\n       <path d=\"M 9.8125 72.90625 \r\nL 19.671875 72.90625 \r\nL 19.671875 8.296875 \r\nL 55.171875 8.296875 \r\nL 55.171875 0 \r\nL 9.8125 0 \r\nz\r\n\" id=\"DejaVuSans-76\"/>\r\n      </defs>\r\n      <g transform=\"translate(223.142969 282.316563)scale(0.1 -0.1)\">\r\n       <use xlink:href=\"#DejaVuSans-69\"/>\r\n       <use x=\"63.183594\" xlink:href=\"#DejaVuSans-80\"/>\r\n       <use x=\"123.486328\" xlink:href=\"#DejaVuSans-76\"/>\r\n      </g>\r\n     </g>\r\n    </g>\r\n    <g id=\"xtick_4\">\r\n     <g id=\"line2d_4\">\r\n      <g>\r\n       <use style=\"stroke:#000000;stroke-width:0.8;\" x=\"305.921905\" xlink:href=\"#mbe8d2853c3\" y=\"267.718125\"/>\r\n      </g>\r\n     </g>\r\n     <g id=\"text_4\">\r\n      <!-- Ligue 1 -->\r\n      <defs>\r\n       <path d=\"M 12.40625 8.296875 \r\nL 28.515625 8.296875 \r\nL 28.515625 63.921875 \r\nL 10.984375 60.40625 \r\nL 10.984375 69.390625 \r\nL 28.421875 72.90625 \r\nL 38.28125 72.90625 \r\nL 38.28125 8.296875 \r\nL 54.390625 8.296875 \r\nL 54.390625 0 \r\nL 12.40625 0 \r\nz\r\n\" id=\"DejaVuSans-49\"/>\r\n      </defs>\r\n      <g transform=\"translate(287.557061 282.316563)scale(0.1 -0.1)\">\r\n       <use xlink:href=\"#DejaVuSans-76\"/>\r\n       <use x=\"55.712891\" xlink:href=\"#DejaVuSans-105\"/>\r\n       <use x=\"83.496094\" xlink:href=\"#DejaVuSans-103\"/>\r\n       <use x=\"146.972656\" xlink:href=\"#DejaVuSans-117\"/>\r\n       <use x=\"210.351562\" xlink:href=\"#DejaVuSans-101\"/>\r\n       <use x=\"271.875\" xlink:href=\"#DejaVuSans-32\"/>\r\n       <use x=\"303.662109\" xlink:href=\"#DejaVuSans-49\"/>\r\n      </g>\r\n     </g>\r\n    </g>\r\n    <g id=\"xtick_5\">\r\n     <g id=\"line2d_5\">\r\n      <g>\r\n       <use style=\"stroke:#000000;stroke-width:0.8;\" x=\"379.740685\" xlink:href=\"#mbe8d2853c3\" y=\"267.718125\"/>\r\n      </g>\r\n     </g>\r\n     <g id=\"text_5\">\r\n      <!-- La Liga -->\r\n      <g transform=\"translate(361.888341 282.316563)scale(0.1 -0.1)\">\r\n       <use xlink:href=\"#DejaVuSans-76\"/>\r\n       <use x=\"55.712891\" xlink:href=\"#DejaVuSans-97\"/>\r\n       <use x=\"116.992188\" xlink:href=\"#DejaVuSans-32\"/>\r\n       <use x=\"148.779297\" xlink:href=\"#DejaVuSans-76\"/>\r\n       <use x=\"204.492188\" xlink:href=\"#DejaVuSans-105\"/>\r\n       <use x=\"232.275391\" xlink:href=\"#DejaVuSans-103\"/>\r\n       <use x=\"295.751953\" xlink:href=\"#DejaVuSans-97\"/>\r\n      </g>\r\n     </g>\r\n    </g>\r\n   </g>\r\n   <g id=\"matplotlib.axis_2\">\r\n    <g id=\"ytick_1\">\r\n     <g id=\"line2d_6\">\r\n      <defs>\r\n       <path d=\"M 0 0 \r\nL -3.5 0 \r\n\" id=\"m4d3f070786\" style=\"stroke:#000000;stroke-width:0.8;\"/>\r\n      </defs>\r\n      <g>\r\n       <use style=\"stroke:#000000;stroke-width:0.8;\" x=\"46.965625\" xlink:href=\"#m4d3f070786\" y=\"267.718125\"/>\r\n      </g>\r\n     </g>\r\n     <g id=\"text_6\">\r\n      <!-- 0 -->\r\n      <defs>\r\n       <path d=\"M 31.78125 66.40625 \r\nQ 24.171875 66.40625 20.328125 58.90625 \r\nQ 16.5 51.421875 16.5 36.375 \r\nQ 16.5 21.390625 20.328125 13.890625 \r\nQ 24.171875 6.390625 31.78125 6.390625 \r\nQ 39.453125 6.390625 43.28125 13.890625 \r\nQ 47.125 21.390625 47.125 36.375 \r\nQ 47.125 51.421875 43.28125 58.90625 \r\nQ 39.453125 66.40625 31.78125 66.40625 \r\nz\r\nM 31.78125 74.21875 \r\nQ 44.046875 74.21875 50.515625 64.515625 \r\nQ 56.984375 54.828125 56.984375 36.375 \r\nQ 56.984375 17.96875 50.515625 8.265625 \r\nQ 44.046875 -1.421875 31.78125 -1.421875 \r\nQ 19.53125 -1.421875 13.0625 8.265625 \r\nQ 6.59375 17.96875 6.59375 36.375 \r\nQ 6.59375 54.828125 13.0625 64.515625 \r\nQ 19.53125 74.21875 31.78125 74.21875 \r\nz\r\n\" id=\"DejaVuSans-48\"/>\r\n      </defs>\r\n      <g transform=\"translate(33.603125 271.517344)scale(0.1 -0.1)\">\r\n       <use xlink:href=\"#DejaVuSans-48\"/>\r\n      </g>\r\n     </g>\r\n    </g>\r\n    <g id=\"ytick_2\">\r\n     <g id=\"line2d_7\">\r\n      <g>\r\n       <use style=\"stroke:#000000;stroke-width:0.8;\" x=\"46.965625\" xlink:href=\"#m4d3f070786\" y=\"243.178125\"/>\r\n      </g>\r\n     </g>\r\n     <g id=\"text_7\">\r\n      <!-- 10 -->\r\n      <g transform=\"translate(27.240625 246.977344)scale(0.1 -0.1)\">\r\n       <use xlink:href=\"#DejaVuSans-49\"/>\r\n       <use x=\"63.623047\" xlink:href=\"#DejaVuSans-48\"/>\r\n      </g>\r\n     </g>\r\n    </g>\r\n    <g id=\"ytick_3\">\r\n     <g id=\"line2d_8\">\r\n      <g>\r\n       <use style=\"stroke:#000000;stroke-width:0.8;\" x=\"46.965625\" xlink:href=\"#m4d3f070786\" y=\"218.638125\"/>\r\n      </g>\r\n     </g>\r\n     <g id=\"text_8\">\r\n      <!-- 20 -->\r\n      <defs>\r\n       <path d=\"M 19.1875 8.296875 \r\nL 53.609375 8.296875 \r\nL 53.609375 0 \r\nL 7.328125 0 \r\nL 7.328125 8.296875 \r\nQ 12.9375 14.109375 22.625 23.890625 \r\nQ 32.328125 33.6875 34.8125 36.53125 \r\nQ 39.546875 41.84375 41.421875 45.53125 \r\nQ 43.3125 49.21875 43.3125 52.78125 \r\nQ 43.3125 58.59375 39.234375 62.25 \r\nQ 35.15625 65.921875 28.609375 65.921875 \r\nQ 23.96875 65.921875 18.8125 64.3125 \r\nQ 13.671875 62.703125 7.8125 59.421875 \r\nL 7.8125 69.390625 \r\nQ 13.765625 71.78125 18.9375 73 \r\nQ 24.125 74.21875 28.421875 74.21875 \r\nQ 39.75 74.21875 46.484375 68.546875 \r\nQ 53.21875 62.890625 53.21875 53.421875 \r\nQ 53.21875 48.921875 51.53125 44.890625 \r\nQ 49.859375 40.875 45.40625 35.40625 \r\nQ 44.1875 33.984375 37.640625 27.21875 \r\nQ 31.109375 20.453125 19.1875 8.296875 \r\nz\r\n\" id=\"DejaVuSans-50\"/>\r\n      </defs>\r\n      <g transform=\"translate(27.240625 222.437344)scale(0.1 -0.1)\">\r\n       <use xlink:href=\"#DejaVuSans-50\"/>\r\n       <use x=\"63.623047\" xlink:href=\"#DejaVuSans-48\"/>\r\n      </g>\r\n     </g>\r\n    </g>\r\n    <g id=\"ytick_4\">\r\n     <g id=\"line2d_9\">\r\n      <g>\r\n       <use style=\"stroke:#000000;stroke-width:0.8;\" x=\"46.965625\" xlink:href=\"#m4d3f070786\" y=\"194.098125\"/>\r\n      </g>\r\n     </g>\r\n     <g id=\"text_9\">\r\n      <!-- 30 -->\r\n      <defs>\r\n       <path d=\"M 40.578125 39.3125 \r\nQ 47.65625 37.796875 51.625 33 \r\nQ 55.609375 28.21875 55.609375 21.1875 \r\nQ 55.609375 10.40625 48.1875 4.484375 \r\nQ 40.765625 -1.421875 27.09375 -1.421875 \r\nQ 22.515625 -1.421875 17.65625 -0.515625 \r\nQ 12.796875 0.390625 7.625 2.203125 \r\nL 7.625 11.71875 \r\nQ 11.71875 9.328125 16.59375 8.109375 \r\nQ 21.484375 6.890625 26.8125 6.890625 \r\nQ 36.078125 6.890625 40.9375 10.546875 \r\nQ 45.796875 14.203125 45.796875 21.1875 \r\nQ 45.796875 27.640625 41.28125 31.265625 \r\nQ 36.765625 34.90625 28.71875 34.90625 \r\nL 20.21875 34.90625 \r\nL 20.21875 43.015625 \r\nL 29.109375 43.015625 \r\nQ 36.375 43.015625 40.234375 45.921875 \r\nQ 44.09375 48.828125 44.09375 54.296875 \r\nQ 44.09375 59.90625 40.109375 62.90625 \r\nQ 36.140625 65.921875 28.71875 65.921875 \r\nQ 24.65625 65.921875 20.015625 65.03125 \r\nQ 15.375 64.15625 9.8125 62.3125 \r\nL 9.8125 71.09375 \r\nQ 15.4375 72.65625 20.34375 73.4375 \r\nQ 25.25 74.21875 29.59375 74.21875 \r\nQ 40.828125 74.21875 47.359375 69.109375 \r\nQ 53.90625 64.015625 53.90625 55.328125 \r\nQ 53.90625 49.265625 50.4375 45.09375 \r\nQ 46.96875 40.921875 40.578125 39.3125 \r\nz\r\n\" id=\"DejaVuSans-51\"/>\r\n      </defs>\r\n      <g transform=\"translate(27.240625 197.897344)scale(0.1 -0.1)\">\r\n       <use xlink:href=\"#DejaVuSans-51\"/>\r\n       <use x=\"63.623047\" xlink:href=\"#DejaVuSans-48\"/>\r\n      </g>\r\n     </g>\r\n    </g>\r\n    <g id=\"ytick_5\">\r\n     <g id=\"line2d_10\">\r\n      <g>\r\n       <use style=\"stroke:#000000;stroke-width:0.8;\" x=\"46.965625\" xlink:href=\"#m4d3f070786\" y=\"169.558125\"/>\r\n      </g>\r\n     </g>\r\n     <g id=\"text_10\">\r\n      <!-- 40 -->\r\n      <defs>\r\n       <path d=\"M 37.796875 64.3125 \r\nL 12.890625 25.390625 \r\nL 37.796875 25.390625 \r\nz\r\nM 35.203125 72.90625 \r\nL 47.609375 72.90625 \r\nL 47.609375 25.390625 \r\nL 58.015625 25.390625 \r\nL 58.015625 17.1875 \r\nL 47.609375 17.1875 \r\nL 47.609375 0 \r\nL 37.796875 0 \r\nL 37.796875 17.1875 \r\nL 4.890625 17.1875 \r\nL 4.890625 26.703125 \r\nz\r\n\" id=\"DejaVuSans-52\"/>\r\n      </defs>\r\n      <g transform=\"translate(27.240625 173.357344)scale(0.1 -0.1)\">\r\n       <use xlink:href=\"#DejaVuSans-52\"/>\r\n       <use x=\"63.623047\" xlink:href=\"#DejaVuSans-48\"/>\r\n      </g>\r\n     </g>\r\n    </g>\r\n    <g id=\"ytick_6\">\r\n     <g id=\"line2d_11\">\r\n      <g>\r\n       <use style=\"stroke:#000000;stroke-width:0.8;\" x=\"46.965625\" xlink:href=\"#m4d3f070786\" y=\"145.018125\"/>\r\n      </g>\r\n     </g>\r\n     <g id=\"text_11\">\r\n      <!-- 50 -->\r\n      <defs>\r\n       <path d=\"M 10.796875 72.90625 \r\nL 49.515625 72.90625 \r\nL 49.515625 64.59375 \r\nL 19.828125 64.59375 \r\nL 19.828125 46.734375 \r\nQ 21.96875 47.46875 24.109375 47.828125 \r\nQ 26.265625 48.1875 28.421875 48.1875 \r\nQ 40.625 48.1875 47.75 41.5 \r\nQ 54.890625 34.8125 54.890625 23.390625 \r\nQ 54.890625 11.625 47.5625 5.09375 \r\nQ 40.234375 -1.421875 26.90625 -1.421875 \r\nQ 22.3125 -1.421875 17.546875 -0.640625 \r\nQ 12.796875 0.140625 7.71875 1.703125 \r\nL 7.71875 11.625 \r\nQ 12.109375 9.234375 16.796875 8.0625 \r\nQ 21.484375 6.890625 26.703125 6.890625 \r\nQ 35.15625 6.890625 40.078125 11.328125 \r\nQ 45.015625 15.765625 45.015625 23.390625 \r\nQ 45.015625 31 40.078125 35.4375 \r\nQ 35.15625 39.890625 26.703125 39.890625 \r\nQ 22.75 39.890625 18.8125 39.015625 \r\nQ 14.890625 38.140625 10.796875 36.28125 \r\nz\r\n\" id=\"DejaVuSans-53\"/>\r\n      </defs>\r\n      <g transform=\"translate(27.240625 148.817344)scale(0.1 -0.1)\">\r\n       <use xlink:href=\"#DejaVuSans-53\"/>\r\n       <use x=\"63.623047\" xlink:href=\"#DejaVuSans-48\"/>\r\n      </g>\r\n     </g>\r\n    </g>\r\n    <g id=\"ytick_7\">\r\n     <g id=\"line2d_12\">\r\n      <g>\r\n       <use style=\"stroke:#000000;stroke-width:0.8;\" x=\"46.965625\" xlink:href=\"#m4d3f070786\" y=\"120.478125\"/>\r\n      </g>\r\n     </g>\r\n     <g id=\"text_12\">\r\n      <!-- 60 -->\r\n      <defs>\r\n       <path d=\"M 33.015625 40.375 \r\nQ 26.375 40.375 22.484375 35.828125 \r\nQ 18.609375 31.296875 18.609375 23.390625 \r\nQ 18.609375 15.53125 22.484375 10.953125 \r\nQ 26.375 6.390625 33.015625 6.390625 \r\nQ 39.65625 6.390625 43.53125 10.953125 \r\nQ 47.40625 15.53125 47.40625 23.390625 \r\nQ 47.40625 31.296875 43.53125 35.828125 \r\nQ 39.65625 40.375 33.015625 40.375 \r\nz\r\nM 52.59375 71.296875 \r\nL 52.59375 62.3125 \r\nQ 48.875 64.0625 45.09375 64.984375 \r\nQ 41.3125 65.921875 37.59375 65.921875 \r\nQ 27.828125 65.921875 22.671875 59.328125 \r\nQ 17.53125 52.734375 16.796875 39.40625 \r\nQ 19.671875 43.65625 24.015625 45.921875 \r\nQ 28.375 48.1875 33.59375 48.1875 \r\nQ 44.578125 48.1875 50.953125 41.515625 \r\nQ 57.328125 34.859375 57.328125 23.390625 \r\nQ 57.328125 12.15625 50.6875 5.359375 \r\nQ 44.046875 -1.421875 33.015625 -1.421875 \r\nQ 20.359375 -1.421875 13.671875 8.265625 \r\nQ 6.984375 17.96875 6.984375 36.375 \r\nQ 6.984375 53.65625 15.1875 63.9375 \r\nQ 23.390625 74.21875 37.203125 74.21875 \r\nQ 40.921875 74.21875 44.703125 73.484375 \r\nQ 48.484375 72.75 52.59375 71.296875 \r\nz\r\n\" id=\"DejaVuSans-54\"/>\r\n      </defs>\r\n      <g transform=\"translate(27.240625 124.277344)scale(0.1 -0.1)\">\r\n       <use xlink:href=\"#DejaVuSans-54\"/>\r\n       <use x=\"63.623047\" xlink:href=\"#DejaVuSans-48\"/>\r\n      </g>\r\n     </g>\r\n    </g>\r\n    <g id=\"ytick_8\">\r\n     <g id=\"line2d_13\">\r\n      <g>\r\n       <use style=\"stroke:#000000;stroke-width:0.8;\" x=\"46.965625\" xlink:href=\"#m4d3f070786\" y=\"95.938125\"/>\r\n      </g>\r\n     </g>\r\n     <g id=\"text_13\">\r\n      <!-- 70 -->\r\n      <defs>\r\n       <path d=\"M 8.203125 72.90625 \r\nL 55.078125 72.90625 \r\nL 55.078125 68.703125 \r\nL 28.609375 0 \r\nL 18.3125 0 \r\nL 43.21875 64.59375 \r\nL 8.203125 64.59375 \r\nz\r\n\" id=\"DejaVuSans-55\"/>\r\n      </defs>\r\n      <g transform=\"translate(27.240625 99.737344)scale(0.1 -0.1)\">\r\n       <use xlink:href=\"#DejaVuSans-55\"/>\r\n       <use x=\"63.623047\" xlink:href=\"#DejaVuSans-48\"/>\r\n      </g>\r\n     </g>\r\n    </g>\r\n    <g id=\"ytick_9\">\r\n     <g id=\"line2d_14\">\r\n      <g>\r\n       <use style=\"stroke:#000000;stroke-width:0.8;\" x=\"46.965625\" xlink:href=\"#m4d3f070786\" y=\"71.398125\"/>\r\n      </g>\r\n     </g>\r\n     <g id=\"text_14\">\r\n      <!-- 80 -->\r\n      <defs>\r\n       <path d=\"M 31.78125 34.625 \r\nQ 24.75 34.625 20.71875 30.859375 \r\nQ 16.703125 27.09375 16.703125 20.515625 \r\nQ 16.703125 13.921875 20.71875 10.15625 \r\nQ 24.75 6.390625 31.78125 6.390625 \r\nQ 38.8125 6.390625 42.859375 10.171875 \r\nQ 46.921875 13.96875 46.921875 20.515625 \r\nQ 46.921875 27.09375 42.890625 30.859375 \r\nQ 38.875 34.625 31.78125 34.625 \r\nz\r\nM 21.921875 38.8125 \r\nQ 15.578125 40.375 12.03125 44.71875 \r\nQ 8.5 49.078125 8.5 55.328125 \r\nQ 8.5 64.0625 14.71875 69.140625 \r\nQ 20.953125 74.21875 31.78125 74.21875 \r\nQ 42.671875 74.21875 48.875 69.140625 \r\nQ 55.078125 64.0625 55.078125 55.328125 \r\nQ 55.078125 49.078125 51.53125 44.71875 \r\nQ 48 40.375 41.703125 38.8125 \r\nQ 48.828125 37.15625 52.796875 32.3125 \r\nQ 56.78125 27.484375 56.78125 20.515625 \r\nQ 56.78125 9.90625 50.3125 4.234375 \r\nQ 43.84375 -1.421875 31.78125 -1.421875 \r\nQ 19.734375 -1.421875 13.25 4.234375 \r\nQ 6.78125 9.90625 6.78125 20.515625 \r\nQ 6.78125 27.484375 10.78125 32.3125 \r\nQ 14.796875 37.15625 21.921875 38.8125 \r\nz\r\nM 18.3125 54.390625 \r\nQ 18.3125 48.734375 21.84375 45.5625 \r\nQ 25.390625 42.390625 31.78125 42.390625 \r\nQ 38.140625 42.390625 41.71875 45.5625 \r\nQ 45.3125 48.734375 45.3125 54.390625 \r\nQ 45.3125 60.0625 41.71875 63.234375 \r\nQ 38.140625 66.40625 31.78125 66.40625 \r\nQ 25.390625 66.40625 21.84375 63.234375 \r\nQ 18.3125 60.0625 18.3125 54.390625 \r\nz\r\n\" id=\"DejaVuSans-56\"/>\r\n      </defs>\r\n      <g transform=\"translate(27.240625 75.197344)scale(0.1 -0.1)\">\r\n       <use xlink:href=\"#DejaVuSans-56\"/>\r\n       <use x=\"63.623047\" xlink:href=\"#DejaVuSans-48\"/>\r\n      </g>\r\n     </g>\r\n    </g>\r\n    <g id=\"ytick_10\">\r\n     <g id=\"line2d_15\">\r\n      <g>\r\n       <use style=\"stroke:#000000;stroke-width:0.8;\" x=\"46.965625\" xlink:href=\"#m4d3f070786\" y=\"46.858125\"/>\r\n      </g>\r\n     </g>\r\n     <g id=\"text_15\">\r\n      <!-- 90 -->\r\n      <defs>\r\n       <path d=\"M 10.984375 1.515625 \r\nL 10.984375 10.5 \r\nQ 14.703125 8.734375 18.5 7.8125 \r\nQ 22.3125 6.890625 25.984375 6.890625 \r\nQ 35.75 6.890625 40.890625 13.453125 \r\nQ 46.046875 20.015625 46.78125 33.40625 \r\nQ 43.953125 29.203125 39.59375 26.953125 \r\nQ 35.25 24.703125 29.984375 24.703125 \r\nQ 19.046875 24.703125 12.671875 31.3125 \r\nQ 6.296875 37.9375 6.296875 49.421875 \r\nQ 6.296875 60.640625 12.9375 67.421875 \r\nQ 19.578125 74.21875 30.609375 74.21875 \r\nQ 43.265625 74.21875 49.921875 64.515625 \r\nQ 56.59375 54.828125 56.59375 36.375 \r\nQ 56.59375 19.140625 48.40625 8.859375 \r\nQ 40.234375 -1.421875 26.421875 -1.421875 \r\nQ 22.703125 -1.421875 18.890625 -0.6875 \r\nQ 15.09375 0.046875 10.984375 1.515625 \r\nz\r\nM 30.609375 32.421875 \r\nQ 37.25 32.421875 41.125 36.953125 \r\nQ 45.015625 41.5 45.015625 49.421875 \r\nQ 45.015625 57.28125 41.125 61.84375 \r\nQ 37.25 66.40625 30.609375 66.40625 \r\nQ 23.96875 66.40625 20.09375 61.84375 \r\nQ 16.21875 57.28125 16.21875 49.421875 \r\nQ 16.21875 41.5 20.09375 36.953125 \r\nQ 23.96875 32.421875 30.609375 32.421875 \r\nz\r\n\" id=\"DejaVuSans-57\"/>\r\n      </defs>\r\n      <g transform=\"translate(27.240625 50.657344)scale(0.1 -0.1)\">\r\n       <use xlink:href=\"#DejaVuSans-57\"/>\r\n       <use x=\"63.623047\" xlink:href=\"#DejaVuSans-48\"/>\r\n      </g>\r\n     </g>\r\n    </g>\r\n    <g id=\"ytick_11\">\r\n     <g id=\"line2d_16\">\r\n      <g>\r\n       <use style=\"stroke:#000000;stroke-width:0.8;\" x=\"46.965625\" xlink:href=\"#m4d3f070786\" y=\"22.318125\"/>\r\n      </g>\r\n     </g>\r\n     <g id=\"text_16\">\r\n      <!-- 100 -->\r\n      <g transform=\"translate(20.878125 26.117344)scale(0.1 -0.1)\">\r\n       <use xlink:href=\"#DejaVuSans-49\"/>\r\n       <use x=\"63.623047\" xlink:href=\"#DejaVuSans-48\"/>\r\n       <use x=\"127.246094\" xlink:href=\"#DejaVuSans-48\"/>\r\n      </g>\r\n     </g>\r\n    </g>\r\n    <g id=\"text_17\">\r\n     <!-- Home team victories [%] -->\r\n     <defs>\r\n      <path d=\"M 9.8125 72.90625 \r\nL 19.671875 72.90625 \r\nL 19.671875 43.015625 \r\nL 55.515625 43.015625 \r\nL 55.515625 72.90625 \r\nL 65.375 72.90625 \r\nL 65.375 0 \r\nL 55.515625 0 \r\nL 55.515625 34.71875 \r\nL 19.671875 34.71875 \r\nL 19.671875 0 \r\nL 9.8125 0 \r\nz\r\n\" id=\"DejaVuSans-72\"/>\r\n      <path d=\"M 30.609375 48.390625 \r\nQ 23.390625 48.390625 19.1875 42.75 \r\nQ 14.984375 37.109375 14.984375 27.296875 \r\nQ 14.984375 17.484375 19.15625 11.84375 \r\nQ 23.34375 6.203125 30.609375 6.203125 \r\nQ 37.796875 6.203125 41.984375 11.859375 \r\nQ 46.1875 17.53125 46.1875 27.296875 \r\nQ 46.1875 37.015625 41.984375 42.703125 \r\nQ 37.796875 48.390625 30.609375 48.390625 \r\nz\r\nM 30.609375 56 \r\nQ 42.328125 56 49.015625 48.375 \r\nQ 55.71875 40.765625 55.71875 27.296875 \r\nQ 55.71875 13.875 49.015625 6.21875 \r\nQ 42.328125 -1.421875 30.609375 -1.421875 \r\nQ 18.84375 -1.421875 12.171875 6.21875 \r\nQ 5.515625 13.875 5.515625 27.296875 \r\nQ 5.515625 40.765625 12.171875 48.375 \r\nQ 18.84375 56 30.609375 56 \r\nz\r\n\" id=\"DejaVuSans-111\"/>\r\n      <path d=\"M 52 44.1875 \r\nQ 55.375 50.25 60.0625 53.125 \r\nQ 64.75 56 71.09375 56 \r\nQ 79.640625 56 84.28125 50.015625 \r\nQ 88.921875 44.046875 88.921875 33.015625 \r\nL 88.921875 0 \r\nL 79.890625 0 \r\nL 79.890625 32.71875 \r\nQ 79.890625 40.578125 77.09375 44.375 \r\nQ 74.3125 48.1875 68.609375 48.1875 \r\nQ 61.625 48.1875 57.5625 43.546875 \r\nQ 53.515625 38.921875 53.515625 30.90625 \r\nL 53.515625 0 \r\nL 44.484375 0 \r\nL 44.484375 32.71875 \r\nQ 44.484375 40.625 41.703125 44.40625 \r\nQ 38.921875 48.1875 33.109375 48.1875 \r\nQ 26.21875 48.1875 22.15625 43.53125 \r\nQ 18.109375 38.875 18.109375 30.90625 \r\nL 18.109375 0 \r\nL 9.078125 0 \r\nL 9.078125 54.6875 \r\nL 18.109375 54.6875 \r\nL 18.109375 46.1875 \r\nQ 21.1875 51.21875 25.484375 53.609375 \r\nQ 29.78125 56 35.6875 56 \r\nQ 41.65625 56 45.828125 52.96875 \r\nQ 50 49.953125 52 44.1875 \r\nz\r\n\" id=\"DejaVuSans-109\"/>\r\n      <path d=\"M 18.3125 70.21875 \r\nL 18.3125 54.6875 \r\nL 36.8125 54.6875 \r\nL 36.8125 47.703125 \r\nL 18.3125 47.703125 \r\nL 18.3125 18.015625 \r\nQ 18.3125 11.328125 20.140625 9.421875 \r\nQ 21.96875 7.515625 27.59375 7.515625 \r\nL 36.8125 7.515625 \r\nL 36.8125 0 \r\nL 27.59375 0 \r\nQ 17.1875 0 13.234375 3.875 \r\nQ 9.28125 7.765625 9.28125 18.015625 \r\nL 9.28125 47.703125 \r\nL 2.6875 47.703125 \r\nL 2.6875 54.6875 \r\nL 9.28125 54.6875 \r\nL 9.28125 70.21875 \r\nz\r\n\" id=\"DejaVuSans-116\"/>\r\n      <path d=\"M 2.984375 54.6875 \r\nL 12.5 54.6875 \r\nL 29.59375 8.796875 \r\nL 46.6875 54.6875 \r\nL 56.203125 54.6875 \r\nL 35.6875 0 \r\nL 23.484375 0 \r\nz\r\n\" id=\"DejaVuSans-118\"/>\r\n      <path d=\"M 48.78125 52.59375 \r\nL 48.78125 44.1875 \r\nQ 44.96875 46.296875 41.140625 47.34375 \r\nQ 37.3125 48.390625 33.40625 48.390625 \r\nQ 24.65625 48.390625 19.8125 42.84375 \r\nQ 14.984375 37.3125 14.984375 27.296875 \r\nQ 14.984375 17.28125 19.8125 11.734375 \r\nQ 24.65625 6.203125 33.40625 6.203125 \r\nQ 37.3125 6.203125 41.140625 7.25 \r\nQ 44.96875 8.296875 48.78125 10.40625 \r\nL 48.78125 2.09375 \r\nQ 45.015625 0.34375 40.984375 -0.53125 \r\nQ 36.96875 -1.421875 32.421875 -1.421875 \r\nQ 20.0625 -1.421875 12.78125 6.34375 \r\nQ 5.515625 14.109375 5.515625 27.296875 \r\nQ 5.515625 40.671875 12.859375 48.328125 \r\nQ 20.21875 56 33.015625 56 \r\nQ 37.15625 56 41.109375 55.140625 \r\nQ 45.0625 54.296875 48.78125 52.59375 \r\nz\r\n\" id=\"DejaVuSans-99\"/>\r\n      <path d=\"M 8.59375 75.984375 \r\nL 29.296875 75.984375 \r\nL 29.296875 69 \r\nL 17.578125 69 \r\nL 17.578125 -6.203125 \r\nL 29.296875 -6.203125 \r\nL 29.296875 -13.1875 \r\nL 8.59375 -13.1875 \r\nz\r\n\" id=\"DejaVuSans-91\"/>\r\n      <path d=\"M 72.703125 32.078125 \r\nQ 68.453125 32.078125 66.03125 28.46875 \r\nQ 63.625 24.859375 63.625 18.40625 \r\nQ 63.625 12.0625 66.03125 8.421875 \r\nQ 68.453125 4.78125 72.703125 4.78125 \r\nQ 76.859375 4.78125 79.265625 8.421875 \r\nQ 81.6875 12.0625 81.6875 18.40625 \r\nQ 81.6875 24.8125 79.265625 28.4375 \r\nQ 76.859375 32.078125 72.703125 32.078125 \r\nz\r\nM 72.703125 38.28125 \r\nQ 80.421875 38.28125 84.953125 32.90625 \r\nQ 89.5 27.546875 89.5 18.40625 \r\nQ 89.5 9.28125 84.9375 3.921875 \r\nQ 80.375 -1.421875 72.703125 -1.421875 \r\nQ 64.890625 -1.421875 60.34375 3.921875 \r\nQ 55.8125 9.28125 55.8125 18.40625 \r\nQ 55.8125 27.59375 60.375 32.9375 \r\nQ 64.9375 38.28125 72.703125 38.28125 \r\nz\r\nM 22.3125 68.015625 \r\nQ 18.109375 68.015625 15.6875 64.375 \r\nQ 13.28125 60.75 13.28125 54.390625 \r\nQ 13.28125 47.953125 15.671875 44.328125 \r\nQ 18.0625 40.71875 22.3125 40.71875 \r\nQ 26.5625 40.71875 28.96875 44.328125 \r\nQ 31.390625 47.953125 31.390625 54.390625 \r\nQ 31.390625 60.6875 28.953125 64.34375 \r\nQ 26.515625 68.015625 22.3125 68.015625 \r\nz\r\nM 66.40625 74.21875 \r\nL 74.21875 74.21875 \r\nL 28.609375 -1.421875 \r\nL 20.796875 -1.421875 \r\nz\r\nM 22.3125 74.21875 \r\nQ 30.03125 74.21875 34.609375 68.875 \r\nQ 39.203125 63.53125 39.203125 54.390625 \r\nQ 39.203125 45.171875 34.640625 39.84375 \r\nQ 30.078125 34.515625 22.3125 34.515625 \r\nQ 14.546875 34.515625 10.03125 39.859375 \r\nQ 5.515625 45.21875 5.515625 54.390625 \r\nQ 5.515625 63.484375 10.046875 68.84375 \r\nQ 14.59375 74.21875 22.3125 74.21875 \r\nz\r\n\" id=\"DejaVuSans-37\"/>\r\n      <path d=\"M 30.421875 75.984375 \r\nL 30.421875 -13.1875 \r\nL 9.71875 -13.1875 \r\nL 9.71875 -6.203125 \r\nL 21.390625 -6.203125 \r\nL 21.390625 69 \r\nL 9.71875 69 \r\nL 9.71875 75.984375 \r\nz\r\n\" id=\"DejaVuSans-93\"/>\r\n     </defs>\r\n     <g transform=\"translate(14.798438 207.418125)rotate(-90)scale(0.1 -0.1)\">\r\n      <use xlink:href=\"#DejaVuSans-72\"/>\r\n      <use x=\"75.195312\" xlink:href=\"#DejaVuSans-111\"/>\r\n      <use x=\"136.376953\" xlink:href=\"#DejaVuSans-109\"/>\r\n      <use x=\"233.789062\" xlink:href=\"#DejaVuSans-101\"/>\r\n      <use x=\"295.3125\" xlink:href=\"#DejaVuSans-32\"/>\r\n      <use x=\"327.099609\" xlink:href=\"#DejaVuSans-116\"/>\r\n      <use x=\"366.308594\" xlink:href=\"#DejaVuSans-101\"/>\r\n      <use x=\"427.832031\" xlink:href=\"#DejaVuSans-97\"/>\r\n      <use x=\"489.111328\" xlink:href=\"#DejaVuSans-109\"/>\r\n      <use x=\"586.523438\" xlink:href=\"#DejaVuSans-32\"/>\r\n      <use x=\"618.310547\" xlink:href=\"#DejaVuSans-118\"/>\r\n      <use x=\"677.490234\" xlink:href=\"#DejaVuSans-105\"/>\r\n      <use x=\"705.273438\" xlink:href=\"#DejaVuSans-99\"/>\r\n      <use x=\"760.253906\" xlink:href=\"#DejaVuSans-116\"/>\r\n      <use x=\"799.462891\" xlink:href=\"#DejaVuSans-111\"/>\r\n      <use x=\"860.644531\" xlink:href=\"#DejaVuSans-114\"/>\r\n      <use x=\"901.757812\" xlink:href=\"#DejaVuSans-105\"/>\r\n      <use x=\"929.541016\" xlink:href=\"#DejaVuSans-101\"/>\r\n      <use x=\"991.064453\" xlink:href=\"#DejaVuSans-115\"/>\r\n      <use x=\"1043.164062\" xlink:href=\"#DejaVuSans-32\"/>\r\n      <use x=\"1074.951172\" xlink:href=\"#DejaVuSans-91\"/>\r\n      <use x=\"1113.964844\" xlink:href=\"#DejaVuSans-37\"/>\r\n      <use x=\"1208.984375\" xlink:href=\"#DejaVuSans-93\"/>\r\n     </g>\r\n    </g>\r\n   </g>\r\n   <g id=\"line2d_17\">\r\n    <path clip-path=\"url(#pe4e4134b9a)\" d=\"M 46.965625 157.778925 \r\nL 417.240625 157.778925 \r\n\" style=\"fill:none;stroke:#008000;stroke-dasharray:5.55,2.4;stroke-dashoffset:0;stroke-opacity:0.7;stroke-width:1.5;\"/>\r\n   </g>\r\n   <g id=\"line2d_18\">\r\n    <path clip-path=\"url(#pe4e4134b9a)\" d=\"M 46.965625 169.558125 \r\nL 417.240625 169.558125 \r\n\" style=\"fill:none;stroke:#ff0000;stroke-dasharray:5.55,2.4;stroke-dashoffset:0;stroke-opacity:0.7;stroke-width:1.5;\"/>\r\n   </g>\r\n   <g id=\"patch_13\">\r\n    <path d=\"M 46.965625 267.718125 \r\nL 46.965625 22.318125 \r\n\" style=\"fill:none;stroke:#000000;stroke-linecap:square;stroke-linejoin:miter;stroke-width:0.8;\"/>\r\n   </g>\r\n   <g id=\"patch_14\">\r\n    <path d=\"M 417.240625 267.718125 \r\nL 417.240625 22.318125 \r\n\" style=\"fill:none;stroke:#000000;stroke-linecap:square;stroke-linejoin:miter;stroke-width:0.8;\"/>\r\n   </g>\r\n   <g id=\"patch_15\">\r\n    <path d=\"M 46.965625 267.718125 \r\nL 417.240625 267.718125 \r\n\" style=\"fill:none;stroke:#000000;stroke-linecap:square;stroke-linejoin:miter;stroke-width:0.8;\"/>\r\n   </g>\r\n   <g id=\"patch_16\">\r\n    <path d=\"M 46.965625 22.318125 \r\nL 417.240625 22.318125 \r\n\" style=\"fill:none;stroke:#000000;stroke-linecap:square;stroke-linejoin:miter;stroke-width:0.8;\"/>\r\n   </g>\r\n   <g id=\"text_18\">\r\n    <!-- 44 -->\r\n    <g transform=\"translate(66.661154 154.662438)scale(0.1 -0.1)\">\r\n     <use xlink:href=\"#DejaVuSans-52\"/>\r\n     <use x=\"63.623047\" xlink:href=\"#DejaVuSans-52\"/>\r\n    </g>\r\n   </g>\r\n   <g id=\"text_19\">\r\n    <!-- 45 -->\r\n    <g transform=\"translate(140.479934 152.208438)scale(0.1 -0.1)\">\r\n     <use xlink:href=\"#DejaVuSans-52\"/>\r\n     <use x=\"63.623047\" xlink:href=\"#DejaVuSans-53\"/>\r\n    </g>\r\n   </g>\r\n   <g id=\"text_20\">\r\n    <!-- 48 -->\r\n    <g transform=\"translate(214.298714 144.846438)scale(0.1 -0.1)\">\r\n     <use xlink:href=\"#DejaVuSans-52\"/>\r\n     <use x=\"63.623047\" xlink:href=\"#DejaVuSans-56\"/>\r\n    </g>\r\n   </g>\r\n   <g id=\"text_21\">\r\n    <!-- 43 -->\r\n    <g transform=\"translate(288.117494 157.116438)scale(0.1 -0.1)\">\r\n     <use xlink:href=\"#DejaVuSans-52\"/>\r\n     <use x=\"63.623047\" xlink:href=\"#DejaVuSans-51\"/>\r\n    </g>\r\n   </g>\r\n   <g id=\"text_22\">\r\n    <!-- 44 -->\r\n    <g transform=\"translate(361.936274 154.662438)scale(0.1 -0.1)\">\r\n     <use xlink:href=\"#DejaVuSans-52\"/>\r\n     <use x=\"63.623047\" xlink:href=\"#DejaVuSans-52\"/>\r\n    </g>\r\n   </g>\r\n   <g id=\"text_23\">\r\n    <!-- 41 -->\r\n    <g transform=\"translate(89.544976 162.024438)scale(0.1 -0.1)\">\r\n     <use xlink:href=\"#DejaVuSans-52\"/>\r\n     <use x=\"63.623047\" xlink:href=\"#DejaVuSans-49\"/>\r\n    </g>\r\n   </g>\r\n   <g id=\"text_24\">\r\n    <!-- 42 -->\r\n    <g transform=\"translate(163.363756 159.570438)scale(0.1 -0.1)\">\r\n     <use xlink:href=\"#DejaVuSans-52\"/>\r\n     <use x=\"63.623047\" xlink:href=\"#DejaVuSans-50\"/>\r\n    </g>\r\n   </g>\r\n   <g id=\"text_25\">\r\n    <!-- 37 -->\r\n    <g transform=\"translate(237.182536 171.840438)scale(0.1 -0.1)\">\r\n     <use xlink:href=\"#DejaVuSans-51\"/>\r\n     <use x=\"63.623047\" xlink:href=\"#DejaVuSans-55\"/>\r\n    </g>\r\n   </g>\r\n   <g id=\"text_26\">\r\n    <!-- 38 -->\r\n    <g transform=\"translate(311.001316 169.386438)scale(0.1 -0.1)\">\r\n     <use xlink:href=\"#DejaVuSans-51\"/>\r\n     <use x=\"63.623047\" xlink:href=\"#DejaVuSans-56\"/>\r\n    </g>\r\n   </g>\r\n   <g id=\"text_27\">\r\n    <!-- 42 -->\r\n    <g transform=\"translate(384.820096 159.570438)scale(0.1 -0.1)\">\r\n     <use xlink:href=\"#DejaVuSans-52\"/>\r\n     <use x=\"63.623047\" xlink:href=\"#DejaVuSans-50\"/>\r\n    </g>\r\n   </g>\r\n   <g id=\"text_28\">\r\n    <!-- Win Percentage of Home Teams in Europe's Top 5 Leagues -->\r\n    <defs>\r\n     <path d=\"M 3.328125 72.90625 \r\nL 13.28125 72.90625 \r\nL 28.609375 11.28125 \r\nL 43.890625 72.90625 \r\nL 54.984375 72.90625 \r\nL 70.3125 11.28125 \r\nL 85.59375 72.90625 \r\nL 95.609375 72.90625 \r\nL 77.296875 0 \r\nL 64.890625 0 \r\nL 49.515625 63.28125 \r\nL 33.984375 0 \r\nL 21.578125 0 \r\nz\r\n\" id=\"DejaVuSans-87\"/>\r\n     <path d=\"M 37.109375 75.984375 \r\nL 37.109375 68.5 \r\nL 28.515625 68.5 \r\nQ 23.6875 68.5 21.796875 66.546875 \r\nQ 19.921875 64.59375 19.921875 59.515625 \r\nL 19.921875 54.6875 \r\nL 34.71875 54.6875 \r\nL 34.71875 47.703125 \r\nL 19.921875 47.703125 \r\nL 19.921875 0 \r\nL 10.890625 0 \r\nL 10.890625 47.703125 \r\nL 2.296875 47.703125 \r\nL 2.296875 54.6875 \r\nL 10.890625 54.6875 \r\nL 10.890625 58.5 \r\nQ 10.890625 67.625 15.140625 71.796875 \r\nQ 19.390625 75.984375 28.609375 75.984375 \r\nz\r\n\" id=\"DejaVuSans-102\"/>\r\n     <path d=\"M -0.296875 72.90625 \r\nL 61.375 72.90625 \r\nL 61.375 64.59375 \r\nL 35.5 64.59375 \r\nL 35.5 0 \r\nL 25.59375 0 \r\nL 25.59375 64.59375 \r\nL -0.296875 64.59375 \r\nz\r\n\" id=\"DejaVuSans-84\"/>\r\n     <path d=\"M 18.109375 8.203125 \r\nL 18.109375 -20.796875 \r\nL 9.078125 -20.796875 \r\nL 9.078125 54.6875 \r\nL 18.109375 54.6875 \r\nL 18.109375 46.390625 \r\nQ 20.953125 51.265625 25.265625 53.625 \r\nQ 29.59375 56 35.59375 56 \r\nQ 45.5625 56 51.78125 48.09375 \r\nQ 58.015625 40.1875 58.015625 27.296875 \r\nQ 58.015625 14.40625 51.78125 6.484375 \r\nQ 45.5625 -1.421875 35.59375 -1.421875 \r\nQ 29.59375 -1.421875 25.265625 0.953125 \r\nQ 20.953125 3.328125 18.109375 8.203125 \r\nz\r\nM 48.6875 27.296875 \r\nQ 48.6875 37.203125 44.609375 42.84375 \r\nQ 40.53125 48.484375 33.40625 48.484375 \r\nQ 26.265625 48.484375 22.1875 42.84375 \r\nQ 18.109375 37.203125 18.109375 27.296875 \r\nQ 18.109375 17.390625 22.1875 11.75 \r\nQ 26.265625 6.109375 33.40625 6.109375 \r\nQ 40.53125 6.109375 44.609375 11.75 \r\nQ 48.6875 17.390625 48.6875 27.296875 \r\nz\r\n\" id=\"DejaVuSans-112\"/>\r\n     <path d=\"M 17.921875 72.90625 \r\nL 17.921875 45.796875 \r\nL 9.625 45.796875 \r\nL 9.625 72.90625 \r\nz\r\n\" id=\"DejaVuSans-39\"/>\r\n    </defs>\r\n    <g transform=\"translate(54.394375 16.318125)scale(0.12 -0.12)\">\r\n     <use xlink:href=\"#DejaVuSans-87\"/>\r\n     <use x=\"98.845703\" xlink:href=\"#DejaVuSans-105\"/>\r\n     <use x=\"126.628906\" xlink:href=\"#DejaVuSans-110\"/>\r\n     <use x=\"190.007812\" xlink:href=\"#DejaVuSans-32\"/>\r\n     <use x=\"221.794922\" xlink:href=\"#DejaVuSans-80\"/>\r\n     <use x=\"282.050781\" xlink:href=\"#DejaVuSans-101\"/>\r\n     <use x=\"343.574219\" xlink:href=\"#DejaVuSans-114\"/>\r\n     <use x=\"384.65625\" xlink:href=\"#DejaVuSans-99\"/>\r\n     <use x=\"439.636719\" xlink:href=\"#DejaVuSans-101\"/>\r\n     <use x=\"501.160156\" xlink:href=\"#DejaVuSans-110\"/>\r\n     <use x=\"564.539062\" xlink:href=\"#DejaVuSans-116\"/>\r\n     <use x=\"603.748047\" xlink:href=\"#DejaVuSans-97\"/>\r\n     <use x=\"665.027344\" xlink:href=\"#DejaVuSans-103\"/>\r\n     <use x=\"728.503906\" xlink:href=\"#DejaVuSans-101\"/>\r\n     <use x=\"790.027344\" xlink:href=\"#DejaVuSans-32\"/>\r\n     <use x=\"821.814453\" xlink:href=\"#DejaVuSans-111\"/>\r\n     <use x=\"882.996094\" xlink:href=\"#DejaVuSans-102\"/>\r\n     <use x=\"918.201172\" xlink:href=\"#DejaVuSans-32\"/>\r\n     <use x=\"949.988281\" xlink:href=\"#DejaVuSans-72\"/>\r\n     <use x=\"1025.183594\" xlink:href=\"#DejaVuSans-111\"/>\r\n     <use x=\"1086.365234\" xlink:href=\"#DejaVuSans-109\"/>\r\n     <use x=\"1183.777344\" xlink:href=\"#DejaVuSans-101\"/>\r\n     <use x=\"1245.300781\" xlink:href=\"#DejaVuSans-32\"/>\r\n     <use x=\"1277.087891\" xlink:href=\"#DejaVuSans-84\"/>\r\n     <use x=\"1337.90625\" xlink:href=\"#DejaVuSans-101\"/>\r\n     <use x=\"1399.429688\" xlink:href=\"#DejaVuSans-97\"/>\r\n     <use x=\"1460.708984\" xlink:href=\"#DejaVuSans-109\"/>\r\n     <use x=\"1558.121094\" xlink:href=\"#DejaVuSans-115\"/>\r\n     <use x=\"1610.220703\" xlink:href=\"#DejaVuSans-32\"/>\r\n     <use x=\"1642.007812\" xlink:href=\"#DejaVuSans-105\"/>\r\n     <use x=\"1669.791016\" xlink:href=\"#DejaVuSans-110\"/>\r\n     <use x=\"1733.169922\" xlink:href=\"#DejaVuSans-32\"/>\r\n     <use x=\"1764.957031\" xlink:href=\"#DejaVuSans-69\"/>\r\n     <use x=\"1828.140625\" xlink:href=\"#DejaVuSans-117\"/>\r\n     <use x=\"1891.519531\" xlink:href=\"#DejaVuSans-114\"/>\r\n     <use x=\"1932.601562\" xlink:href=\"#DejaVuSans-111\"/>\r\n     <use x=\"1993.783203\" xlink:href=\"#DejaVuSans-112\"/>\r\n     <use x=\"2057.259766\" xlink:href=\"#DejaVuSans-101\"/>\r\n     <use x=\"2118.783203\" xlink:href=\"#DejaVuSans-39\"/>\r\n     <use x=\"2146.273438\" xlink:href=\"#DejaVuSans-115\"/>\r\n     <use x=\"2198.373047\" xlink:href=\"#DejaVuSans-32\"/>\r\n     <use x=\"2230.160156\" xlink:href=\"#DejaVuSans-84\"/>\r\n     <use x=\"2290.978516\" xlink:href=\"#DejaVuSans-111\"/>\r\n     <use x=\"2352.160156\" xlink:href=\"#DejaVuSans-112\"/>\r\n     <use x=\"2415.636719\" xlink:href=\"#DejaVuSans-32\"/>\r\n     <use x=\"2447.423828\" xlink:href=\"#DejaVuSans-53\"/>\r\n     <use x=\"2511.046875\" xlink:href=\"#DejaVuSans-32\"/>\r\n     <use x=\"2542.833984\" xlink:href=\"#DejaVuSans-76\"/>\r\n     <use x=\"2598.53125\" xlink:href=\"#DejaVuSans-101\"/>\r\n     <use x=\"2660.054688\" xlink:href=\"#DejaVuSans-97\"/>\r\n     <use x=\"2721.333984\" xlink:href=\"#DejaVuSans-103\"/>\r\n     <use x=\"2784.810547\" xlink:href=\"#DejaVuSans-117\"/>\r\n     <use x=\"2848.189453\" xlink:href=\"#DejaVuSans-101\"/>\r\n     <use x=\"2909.712891\" xlink:href=\"#DejaVuSans-115\"/>\r\n    </g>\r\n   </g>\r\n   <g id=\"legend_1\">\r\n    <g id=\"patch_17\">\r\n     <path d=\"M 309.709375 59.674375 \r\nL 410.240625 59.674375 \r\nQ 412.240625 59.674375 412.240625 57.674375 \r\nL 412.240625 29.318125 \r\nQ 412.240625 27.318125 410.240625 27.318125 \r\nL 309.709375 27.318125 \r\nQ 307.709375 27.318125 307.709375 29.318125 \r\nL 307.709375 57.674375 \r\nQ 307.709375 59.674375 309.709375 59.674375 \r\nz\r\n\" style=\"fill:#ffffff;opacity:0.8;stroke:#cccccc;stroke-linejoin:miter;\"/>\r\n    </g>\r\n    <g id=\"patch_18\">\r\n     <path d=\"M 311.709375 38.916562 \r\nL 331.709375 38.916562 \r\nL 331.709375 31.916562 \r\nL 311.709375 31.916562 \r\nz\r\n\" style=\"fill:#008000;\"/>\r\n    </g>\r\n    <g id=\"text_29\">\r\n     <!-- Season 18-19 -->\r\n     <defs>\r\n      <path d=\"M 4.890625 31.390625 \r\nL 31.203125 31.390625 \r\nL 31.203125 23.390625 \r\nL 4.890625 23.390625 \r\nz\r\n\" id=\"DejaVuSans-45\"/>\r\n     </defs>\r\n     <g transform=\"translate(339.709375 38.916562)scale(0.1 -0.1)\">\r\n      <use xlink:href=\"#DejaVuSans-83\"/>\r\n      <use x=\"63.476562\" xlink:href=\"#DejaVuSans-101\"/>\r\n      <use x=\"125\" xlink:href=\"#DejaVuSans-97\"/>\r\n      <use x=\"186.279297\" xlink:href=\"#DejaVuSans-115\"/>\r\n      <use x=\"238.378906\" xlink:href=\"#DejaVuSans-111\"/>\r\n      <use x=\"299.560547\" xlink:href=\"#DejaVuSans-110\"/>\r\n      <use x=\"362.939453\" xlink:href=\"#DejaVuSans-32\"/>\r\n      <use x=\"394.726562\" xlink:href=\"#DejaVuSans-49\"/>\r\n      <use x=\"458.349609\" xlink:href=\"#DejaVuSans-56\"/>\r\n      <use x=\"521.972656\" xlink:href=\"#DejaVuSans-45\"/>\r\n      <use x=\"558.056641\" xlink:href=\"#DejaVuSans-49\"/>\r\n      <use x=\"621.679688\" xlink:href=\"#DejaVuSans-57\"/>\r\n     </g>\r\n    </g>\r\n    <g id=\"patch_19\">\r\n     <path d=\"M 311.709375 53.594687 \r\nL 331.709375 53.594687 \r\nL 331.709375 46.594687 \r\nL 311.709375 46.594687 \r\nz\r\n\" style=\"fill:#ff0000;\"/>\r\n    </g>\r\n    <g id=\"text_30\">\r\n     <!-- Season 20-21 -->\r\n     <g transform=\"translate(339.709375 53.594687)scale(0.1 -0.1)\">\r\n      <use xlink:href=\"#DejaVuSans-83\"/>\r\n      <use x=\"63.476562\" xlink:href=\"#DejaVuSans-101\"/>\r\n      <use x=\"125\" xlink:href=\"#DejaVuSans-97\"/>\r\n      <use x=\"186.279297\" xlink:href=\"#DejaVuSans-115\"/>\r\n      <use x=\"238.378906\" xlink:href=\"#DejaVuSans-111\"/>\r\n      <use x=\"299.560547\" xlink:href=\"#DejaVuSans-110\"/>\r\n      <use x=\"362.939453\" xlink:href=\"#DejaVuSans-32\"/>\r\n      <use x=\"394.726562\" xlink:href=\"#DejaVuSans-50\"/>\r\n      <use x=\"458.349609\" xlink:href=\"#DejaVuSans-48\"/>\r\n      <use x=\"521.972656\" xlink:href=\"#DejaVuSans-45\"/>\r\n      <use x=\"558.056641\" xlink:href=\"#DejaVuSans-50\"/>\r\n      <use x=\"621.679688\" xlink:href=\"#DejaVuSans-49\"/>\r\n     </g>\r\n    </g>\r\n   </g>\r\n  </g>\r\n </g>\r\n <defs>\r\n  <clipPath id=\"pe4e4134b9a\">\r\n   <rect height=\"245.4\" width=\"370.275\" x=\"46.965625\" y=\"22.318125\"/>\r\n  </clipPath>\r\n </defs>\r\n</svg>\r\n",
      "image/png": "[encoded data removed]"
     },
     "metadata": {
      "needs_background": "light"
     }
    }
   ],
   "source": [
    "labels = dict_home_18.keys()\n",
    "values_18 = dict_home_18.values()\n",
    "values_20 = dict_home_20.values()\n",
    "\n",
    "x = np.arange(len(labels))  # the label locations\n",
    "width = 0.25  # the width of the bars\n",
    "\n",
    "fig, ax = plt.subplots()\n",
    "rects1 = ax.bar(x - width/2 - 0.03, values_18, width, label='Season 18-19', color='Green')\n",
    "rects2 = ax.bar(x + width/2 + 0.03, values_20, width, label='Season 20-21', color='Red')\n",
    "\n",
    "# Add some text for labels, title and custom x-axis tick labels, etc.\n",
    "ax.set_ylabel('Home team victories [%]')\n",
    "# ax.set_title('Scores by group and gender')\n",
    "ax.set_xticks(x)\n",
    "ax.set_xticklabels(labels)\n",
    "# ax.set_ylim(0, 100)\n",
    "plt.yticks(np.arange(0, 110, 10)) \n",
    "ax.legend()\n",
    "\n",
    "\n",
    "def autolabel(rects):\n",
    "    \"\"\"Attach a text label above each bar in *rects*, displaying its height.\"\"\"\n",
    "    for rect in rects:\n",
    "        height = rect.get_height()\n",
    "        ax.annotate('{}'.format(height),\n",
    "                    xy=(rect.get_x() + rect.get_width() / 2, height),\n",
    "                    xytext=(0, 3),  # 3 points vertical offset\n",
    "                    textcoords=\"offset points\",\n",
    "                    ha='center', va='bottom')\n",
    "\n",
    "autolabel(rects1)\n",
    "autolabel(rects2)\n",
    "\n",
    "\n",
    "ratio_avg_18 = sum(dict_home_18.values()) / len(dict_home_18)\n",
    "ratio_avg_20 = sum(dict_home_20.values()) / len(dict_home_20)\n",
    "\n",
    "plt.axhline(y=ratio_avg_18, color=\"green\", linestyle=\"--\", alpha=0.7)\n",
    "plt.axhline(y=ratio_avg_20, color=\"red\", linestyle=\"--\", alpha=0.7)\n",
    "\n",
    "\n",
    "fig.tight_layout()\n",
    "plt.title('Win Percentage of Home Teams in Europe\\'s Top 5 Leagues')\n",
    "plt.show()\n"
   ]
  },
  {
   "cell_type": "code",
   "execution_count": 194,
   "metadata": {},
   "outputs": [
    {
     "output_type": "execute_result",
     "data": {
      "text/plain": [
       "44.8"
      ]
     },
     "metadata": {},
     "execution_count": 194
    }
   ],
   "source": [
    "ratio_avg_18"
   ]
  },
  {
   "cell_type": "code",
   "execution_count": 195,
   "metadata": {},
   "outputs": [
    {
     "output_type": "execute_result",
     "data": {
      "text/plain": [
       "40.0"
      ]
     },
     "metadata": {},
     "execution_count": 195
    }
   ],
   "source": [
    "ratio_avg_20"
   ]
  },
  {
   "cell_type": "code",
   "execution_count": 196,
   "metadata": {},
   "outputs": [
    {
     "output_type": "execute_result",
     "data": {
      "text/plain": [
       "4.799999999999997"
      ]
     },
     "metadata": {},
     "execution_count": 196
    }
   ],
   "source": [
    "ratio_avg_18 - ratio_avg_20"
   ]
  },
  {
   "cell_type": "markdown",
   "metadata": {},
   "source": [
    "## Away Wins"
   ]
  },
  {
   "cell_type": "code",
   "execution_count": 197,
   "metadata": {},
   "outputs": [],
   "source": [
    "for key in dict_away_18.keys():\n",
    "    dict_away_18[key] *= 100\n",
    "    dict_away_18[key] = int(round(dict_away_18[key], 0))"
   ]
  },
  {
   "cell_type": "code",
   "execution_count": 198,
   "metadata": {},
   "outputs": [],
   "source": [
    "for key in dict_away_20.keys():\n",
    "    dict_away_20[key] *= 100\n",
    "    dict_away_20[key] = int(round(dict_away_20[key], 0))"
   ]
  },
  {
   "cell_type": "code",
   "execution_count": 199,
   "metadata": {},
   "outputs": [
    {
     "output_type": "display_data",
     "data": {
      "text/plain": "<Figure size 432x288 with 1 Axes>",
      "image/svg+xml": "<?xml version=\"1.0\" encoding=\"utf-8\" standalone=\"no\"?>\r\n<!DOCTYPE svg PUBLIC \"-//W3C//DTD SVG 1.1//EN\"\r\n  \"http://www.w3.org/Graphics/SVG/1.1/DTD/svg11.dtd\">\r\n<!-- Created with matplotlib (https://matplotlib.org/) -->\r\n<svg height=\"279.59625pt\" version=\"1.1\" viewBox=\"0 0 424.440625 279.59625\" width=\"424.440625pt\" xmlns=\"http://www.w3.org/2000/svg\" xmlns:xlink=\"http://www.w3.org/1999/xlink\">\r\n <defs>\r\n  <style type=\"text/css\">\r\n*{stroke-linecap:butt;stroke-linejoin:round;}\r\n  </style>\r\n </defs>\r\n <g id=\"figure_1\">\r\n  <g id=\"patch_1\">\r\n   <path d=\"M 0 279.59625 \r\nL 424.440625 279.59625 \r\nL 424.440625 0 \r\nL 0 0 \r\nz\r\n\" style=\"fill:none;\"/>\r\n  </g>\r\n  <g id=\"axes_1\">\r\n   <g id=\"patch_2\">\r\n    <path d=\"M 46.965625 255.718125 \r\nL 417.240625 255.718125 \r\nL 417.240625 22.318125 \r\nL 46.965625 22.318125 \r\nz\r\n\" style=\"fill:#ffffff;\"/>\r\n   </g>\r\n   <g id=\"patch_3\">\r\n    <path clip-path=\"url(#pa0eabe0100)\" d=\"M 63.796307 255.718125 \r\nL 82.251002 255.718125 \r\nL 82.251002 190.366125 \r\nL 63.796307 190.366125 \r\nz\r\n\" style=\"fill:#008000;\"/>\r\n   </g>\r\n   <g id=\"patch_4\">\r\n    <path clip-path=\"url(#pa0eabe0100)\" d=\"M 137.615087 255.718125 \r\nL 156.069782 255.718125 \r\nL 156.069782 183.364125 \r\nL 137.615087 183.364125 \r\nz\r\n\" style=\"fill:#008000;\"/>\r\n   </g>\r\n   <g id=\"patch_5\">\r\n    <path clip-path=\"url(#pa0eabe0100)\" d=\"M 211.433867 255.718125 \r\nL 229.888562 255.718125 \r\nL 229.888562 176.362125 \r\nL 211.433867 176.362125 \r\nz\r\n\" style=\"fill:#008000;\"/>\r\n   </g>\r\n   <g id=\"patch_6\">\r\n    <path clip-path=\"url(#pa0eabe0100)\" d=\"M 285.252647 255.718125 \r\nL 303.707342 255.718125 \r\nL 303.707342 190.366125 \r\nL 285.252647 190.366125 \r\nz\r\n\" style=\"fill:#008000;\"/>\r\n   </g>\r\n   <g id=\"patch_7\">\r\n    <path clip-path=\"url(#pa0eabe0100)\" d=\"M 359.071426 255.718125 \r\nL 377.526121 255.718125 \r\nL 377.526121 192.700125 \r\nL 359.071426 192.700125 \r\nz\r\n\" style=\"fill:#008000;\"/>\r\n   </g>\r\n   <g id=\"patch_8\">\r\n    <path clip-path=\"url(#pa0eabe0100)\" d=\"M 86.680129 255.718125 \r\nL 105.134824 255.718125 \r\nL 105.134824 176.362125 \r\nL 86.680129 176.362125 \r\nz\r\n\" style=\"fill:#ff0000;\"/>\r\n   </g>\r\n   <g id=\"patch_9\">\r\n    <path clip-path=\"url(#pa0eabe0100)\" d=\"M 160.498908 255.718125 \r\nL 178.953603 255.718125 \r\nL 178.953603 183.364125 \r\nL 160.498908 183.364125 \r\nz\r\n\" style=\"fill:#ff0000;\"/>\r\n   </g>\r\n   <g id=\"patch_10\">\r\n    <path clip-path=\"url(#pa0eabe0100)\" d=\"M 234.317688 255.718125 \r\nL 252.772383 255.718125 \r\nL 252.772383 162.358125 \r\nL 234.317688 162.358125 \r\nz\r\n\" style=\"fill:#ff0000;\"/>\r\n   </g>\r\n   <g id=\"patch_11\">\r\n    <path clip-path=\"url(#pa0eabe0100)\" d=\"M 308.136468 255.718125 \r\nL 326.591163 255.718125 \r\nL 326.591163 169.360125 \r\nL 308.136468 169.360125 \r\nz\r\n\" style=\"fill:#ff0000;\"/>\r\n   </g>\r\n   <g id=\"patch_12\">\r\n    <path clip-path=\"url(#pa0eabe0100)\" d=\"M 381.955248 255.718125 \r\nL 400.409943 255.718125 \r\nL 400.409943 188.032125 \r\nL 381.955248 188.032125 \r\nz\r\n\" style=\"fill:#ff0000;\"/>\r\n   </g>\r\n   <g id=\"matplotlib.axis_1\">\r\n    <g id=\"xtick_1\">\r\n     <g id=\"line2d_1\">\r\n      <defs>\r\n       <path d=\"M 0 0 \r\nL 0 3.5 \r\n\" id=\"m021ec1078e\" style=\"stroke:#000000;stroke-width:0.8;\"/>\r\n      </defs>\r\n      <g>\r\n       <use style=\"stroke:#000000;stroke-width:0.8;\" x=\"84.465565\" xlink:href=\"#m021ec1078e\" y=\"255.718125\"/>\r\n      </g>\r\n     </g>\r\n     <g id=\"text_1\">\r\n      <!-- Serie A -->\r\n      <defs>\r\n       <path d=\"M 53.515625 70.515625 \r\nL 53.515625 60.890625 \r\nQ 47.90625 63.578125 42.921875 64.890625 \r\nQ 37.9375 66.21875 33.296875 66.21875 \r\nQ 25.25 66.21875 20.875 63.09375 \r\nQ 16.5 59.96875 16.5 54.203125 \r\nQ 16.5 49.359375 19.40625 46.890625 \r\nQ 22.3125 44.4375 30.421875 42.921875 \r\nL 36.375 41.703125 \r\nQ 47.40625 39.59375 52.65625 34.296875 \r\nQ 57.90625 29 57.90625 20.125 \r\nQ 57.90625 9.515625 50.796875 4.046875 \r\nQ 43.703125 -1.421875 29.984375 -1.421875 \r\nQ 24.8125 -1.421875 18.96875 -0.25 \r\nQ 13.140625 0.921875 6.890625 3.21875 \r\nL 6.890625 13.375 \r\nQ 12.890625 10.015625 18.65625 8.296875 \r\nQ 24.421875 6.59375 29.984375 6.59375 \r\nQ 38.421875 6.59375 43.015625 9.90625 \r\nQ 47.609375 13.234375 47.609375 19.390625 \r\nQ 47.609375 24.75 44.3125 27.78125 \r\nQ 41.015625 30.8125 33.5 32.328125 \r\nL 27.484375 33.5 \r\nQ 16.453125 35.6875 11.515625 40.375 \r\nQ 6.59375 45.0625 6.59375 53.421875 \r\nQ 6.59375 63.09375 13.40625 68.65625 \r\nQ 20.21875 74.21875 32.171875 74.21875 \r\nQ 37.3125 74.21875 42.625 73.28125 \r\nQ 47.953125 72.359375 53.515625 70.515625 \r\nz\r\n\" id=\"DejaVuSans-83\"/>\r\n       <path d=\"M 56.203125 29.59375 \r\nL 56.203125 25.203125 \r\nL 14.890625 25.203125 \r\nQ 15.484375 15.921875 20.484375 11.0625 \r\nQ 25.484375 6.203125 34.421875 6.203125 \r\nQ 39.59375 6.203125 44.453125 7.46875 \r\nQ 49.3125 8.734375 54.109375 11.28125 \r\nL 54.109375 2.78125 \r\nQ 49.265625 0.734375 44.1875 -0.34375 \r\nQ 39.109375 -1.421875 33.890625 -1.421875 \r\nQ 20.796875 -1.421875 13.15625 6.1875 \r\nQ 5.515625 13.8125 5.515625 26.8125 \r\nQ 5.515625 40.234375 12.765625 48.109375 \r\nQ 20.015625 56 32.328125 56 \r\nQ 43.359375 56 49.78125 48.890625 \r\nQ 56.203125 41.796875 56.203125 29.59375 \r\nz\r\nM 47.21875 32.234375 \r\nQ 47.125 39.59375 43.09375 43.984375 \r\nQ 39.0625 48.390625 32.421875 48.390625 \r\nQ 24.90625 48.390625 20.390625 44.140625 \r\nQ 15.875 39.890625 15.1875 32.171875 \r\nz\r\n\" id=\"DejaVuSans-101\"/>\r\n       <path d=\"M 41.109375 46.296875 \r\nQ 39.59375 47.171875 37.8125 47.578125 \r\nQ 36.03125 48 33.890625 48 \r\nQ 26.265625 48 22.1875 43.046875 \r\nQ 18.109375 38.09375 18.109375 28.8125 \r\nL 18.109375 0 \r\nL 9.078125 0 \r\nL 9.078125 54.6875 \r\nL 18.109375 54.6875 \r\nL 18.109375 46.1875 \r\nQ 20.953125 51.171875 25.484375 53.578125 \r\nQ 30.03125 56 36.53125 56 \r\nQ 37.453125 56 38.578125 55.875 \r\nQ 39.703125 55.765625 41.0625 55.515625 \r\nz\r\n\" id=\"DejaVuSans-114\"/>\r\n       <path d=\"M 9.421875 54.6875 \r\nL 18.40625 54.6875 \r\nL 18.40625 0 \r\nL 9.421875 0 \r\nz\r\nM 9.421875 75.984375 \r\nL 18.40625 75.984375 \r\nL 18.40625 64.59375 \r\nL 9.421875 64.59375 \r\nz\r\n\" id=\"DejaVuSans-105\"/>\r\n       <path id=\"DejaVuSans-32\"/>\r\n       <path d=\"M 34.1875 63.1875 \r\nL 20.796875 26.90625 \r\nL 47.609375 26.90625 \r\nz\r\nM 28.609375 72.90625 \r\nL 39.796875 72.90625 \r\nL 67.578125 0 \r\nL 57.328125 0 \r\nL 50.6875 18.703125 \r\nL 17.828125 18.703125 \r\nL 11.1875 0 \r\nL 0.78125 0 \r\nz\r\n\" id=\"DejaVuSans-65\"/>\r\n      </defs>\r\n      <g transform=\"translate(66.684315 270.316563)scale(0.1 -0.1)\">\r\n       <use xlink:href=\"#DejaVuSans-83\"/>\r\n       <use x=\"63.476562\" xlink:href=\"#DejaVuSans-101\"/>\r\n       <use x=\"125\" xlink:href=\"#DejaVuSans-114\"/>\r\n       <use x=\"166.113281\" xlink:href=\"#DejaVuSans-105\"/>\r\n       <use x=\"193.896484\" xlink:href=\"#DejaVuSans-101\"/>\r\n       <use x=\"255.419922\" xlink:href=\"#DejaVuSans-32\"/>\r\n       <use x=\"287.207031\" xlink:href=\"#DejaVuSans-65\"/>\r\n      </g>\r\n     </g>\r\n    </g>\r\n    <g id=\"xtick_2\">\r\n     <g id=\"line2d_2\">\r\n      <g>\r\n       <use style=\"stroke:#000000;stroke-width:0.8;\" x=\"158.284345\" xlink:href=\"#m021ec1078e\" y=\"255.718125\"/>\r\n      </g>\r\n     </g>\r\n     <g id=\"text_2\">\r\n      <!-- Bundesliga -->\r\n      <defs>\r\n       <path d=\"M 19.671875 34.8125 \r\nL 19.671875 8.109375 \r\nL 35.5 8.109375 \r\nQ 43.453125 8.109375 47.28125 11.40625 \r\nQ 51.125 14.703125 51.125 21.484375 \r\nQ 51.125 28.328125 47.28125 31.5625 \r\nQ 43.453125 34.8125 35.5 34.8125 \r\nz\r\nM 19.671875 64.796875 \r\nL 19.671875 42.828125 \r\nL 34.28125 42.828125 \r\nQ 41.5 42.828125 45.03125 45.53125 \r\nQ 48.578125 48.25 48.578125 53.8125 \r\nQ 48.578125 59.328125 45.03125 62.0625 \r\nQ 41.5 64.796875 34.28125 64.796875 \r\nz\r\nM 9.8125 72.90625 \r\nL 35.015625 72.90625 \r\nQ 46.296875 72.90625 52.390625 68.21875 \r\nQ 58.5 63.53125 58.5 54.890625 \r\nQ 58.5 48.1875 55.375 44.234375 \r\nQ 52.25 40.28125 46.1875 39.3125 \r\nQ 53.46875 37.75 57.5 32.78125 \r\nQ 61.53125 27.828125 61.53125 20.40625 \r\nQ 61.53125 10.640625 54.890625 5.3125 \r\nQ 48.25 0 35.984375 0 \r\nL 9.8125 0 \r\nz\r\n\" id=\"DejaVuSans-66\"/>\r\n       <path d=\"M 8.5 21.578125 \r\nL 8.5 54.6875 \r\nL 17.484375 54.6875 \r\nL 17.484375 21.921875 \r\nQ 17.484375 14.15625 20.5 10.265625 \r\nQ 23.53125 6.390625 29.59375 6.390625 \r\nQ 36.859375 6.390625 41.078125 11.03125 \r\nQ 45.3125 15.671875 45.3125 23.6875 \r\nL 45.3125 54.6875 \r\nL 54.296875 54.6875 \r\nL 54.296875 0 \r\nL 45.3125 0 \r\nL 45.3125 8.40625 \r\nQ 42.046875 3.421875 37.71875 1 \r\nQ 33.40625 -1.421875 27.6875 -1.421875 \r\nQ 18.265625 -1.421875 13.375 4.4375 \r\nQ 8.5 10.296875 8.5 21.578125 \r\nz\r\nM 31.109375 56 \r\nz\r\n\" id=\"DejaVuSans-117\"/>\r\n       <path d=\"M 54.890625 33.015625 \r\nL 54.890625 0 \r\nL 45.90625 0 \r\nL 45.90625 32.71875 \r\nQ 45.90625 40.484375 42.875 44.328125 \r\nQ 39.84375 48.1875 33.796875 48.1875 \r\nQ 26.515625 48.1875 22.3125 43.546875 \r\nQ 18.109375 38.921875 18.109375 30.90625 \r\nL 18.109375 0 \r\nL 9.078125 0 \r\nL 9.078125 54.6875 \r\nL 18.109375 54.6875 \r\nL 18.109375 46.1875 \r\nQ 21.34375 51.125 25.703125 53.5625 \r\nQ 30.078125 56 35.796875 56 \r\nQ 45.21875 56 50.046875 50.171875 \r\nQ 54.890625 44.34375 54.890625 33.015625 \r\nz\r\n\" id=\"DejaVuSans-110\"/>\r\n       <path d=\"M 45.40625 46.390625 \r\nL 45.40625 75.984375 \r\nL 54.390625 75.984375 \r\nL 54.390625 0 \r\nL 45.40625 0 \r\nL 45.40625 8.203125 \r\nQ 42.578125 3.328125 38.25 0.953125 \r\nQ 33.9375 -1.421875 27.875 -1.421875 \r\nQ 17.96875 -1.421875 11.734375 6.484375 \r\nQ 5.515625 14.40625 5.515625 27.296875 \r\nQ 5.515625 40.1875 11.734375 48.09375 \r\nQ 17.96875 56 27.875 56 \r\nQ 33.9375 56 38.25 53.625 \r\nQ 42.578125 51.265625 45.40625 46.390625 \r\nz\r\nM 14.796875 27.296875 \r\nQ 14.796875 17.390625 18.875 11.75 \r\nQ 22.953125 6.109375 30.078125 6.109375 \r\nQ 37.203125 6.109375 41.296875 11.75 \r\nQ 45.40625 17.390625 45.40625 27.296875 \r\nQ 45.40625 37.203125 41.296875 42.84375 \r\nQ 37.203125 48.484375 30.078125 48.484375 \r\nQ 22.953125 48.484375 18.875 42.84375 \r\nQ 14.796875 37.203125 14.796875 27.296875 \r\nz\r\n\" id=\"DejaVuSans-100\"/>\r\n       <path d=\"M 44.28125 53.078125 \r\nL 44.28125 44.578125 \r\nQ 40.484375 46.53125 36.375 47.5 \r\nQ 32.28125 48.484375 27.875 48.484375 \r\nQ 21.1875 48.484375 17.84375 46.4375 \r\nQ 14.5 44.390625 14.5 40.28125 \r\nQ 14.5 37.15625 16.890625 35.375 \r\nQ 19.28125 33.59375 26.515625 31.984375 \r\nL 29.59375 31.296875 \r\nQ 39.15625 29.25 43.1875 25.515625 \r\nQ 47.21875 21.78125 47.21875 15.09375 \r\nQ 47.21875 7.46875 41.1875 3.015625 \r\nQ 35.15625 -1.421875 24.609375 -1.421875 \r\nQ 20.21875 -1.421875 15.453125 -0.5625 \r\nQ 10.6875 0.296875 5.421875 2 \r\nL 5.421875 11.28125 \r\nQ 10.40625 8.6875 15.234375 7.390625 \r\nQ 20.0625 6.109375 24.8125 6.109375 \r\nQ 31.15625 6.109375 34.5625 8.28125 \r\nQ 37.984375 10.453125 37.984375 14.40625 \r\nQ 37.984375 18.0625 35.515625 20.015625 \r\nQ 33.0625 21.96875 24.703125 23.78125 \r\nL 21.578125 24.515625 \r\nQ 13.234375 26.265625 9.515625 29.90625 \r\nQ 5.8125 33.546875 5.8125 39.890625 \r\nQ 5.8125 47.609375 11.28125 51.796875 \r\nQ 16.75 56 26.8125 56 \r\nQ 31.78125 56 36.171875 55.265625 \r\nQ 40.578125 54.546875 44.28125 53.078125 \r\nz\r\n\" id=\"DejaVuSans-115\"/>\r\n       <path d=\"M 9.421875 75.984375 \r\nL 18.40625 75.984375 \r\nL 18.40625 0 \r\nL 9.421875 0 \r\nz\r\n\" id=\"DejaVuSans-108\"/>\r\n       <path d=\"M 45.40625 27.984375 \r\nQ 45.40625 37.75 41.375 43.109375 \r\nQ 37.359375 48.484375 30.078125 48.484375 \r\nQ 22.859375 48.484375 18.828125 43.109375 \r\nQ 14.796875 37.75 14.796875 27.984375 \r\nQ 14.796875 18.265625 18.828125 12.890625 \r\nQ 22.859375 7.515625 30.078125 7.515625 \r\nQ 37.359375 7.515625 41.375 12.890625 \r\nQ 45.40625 18.265625 45.40625 27.984375 \r\nz\r\nM 54.390625 6.78125 \r\nQ 54.390625 -7.171875 48.1875 -13.984375 \r\nQ 42 -20.796875 29.203125 -20.796875 \r\nQ 24.46875 -20.796875 20.265625 -20.09375 \r\nQ 16.0625 -19.390625 12.109375 -17.921875 \r\nL 12.109375 -9.1875 \r\nQ 16.0625 -11.328125 19.921875 -12.34375 \r\nQ 23.78125 -13.375 27.78125 -13.375 \r\nQ 36.625 -13.375 41.015625 -8.765625 \r\nQ 45.40625 -4.15625 45.40625 5.171875 \r\nL 45.40625 9.625 \r\nQ 42.625 4.78125 38.28125 2.390625 \r\nQ 33.9375 0 27.875 0 \r\nQ 17.828125 0 11.671875 7.65625 \r\nQ 5.515625 15.328125 5.515625 27.984375 \r\nQ 5.515625 40.671875 11.671875 48.328125 \r\nQ 17.828125 56 27.875 56 \r\nQ 33.9375 56 38.28125 53.609375 \r\nQ 42.625 51.21875 45.40625 46.390625 \r\nL 45.40625 54.6875 \r\nL 54.390625 54.6875 \r\nz\r\n\" id=\"DejaVuSans-103\"/>\r\n       <path d=\"M 34.28125 27.484375 \r\nQ 23.390625 27.484375 19.1875 25 \r\nQ 14.984375 22.515625 14.984375 16.5 \r\nQ 14.984375 11.71875 18.140625 8.90625 \r\nQ 21.296875 6.109375 26.703125 6.109375 \r\nQ 34.1875 6.109375 38.703125 11.40625 \r\nQ 43.21875 16.703125 43.21875 25.484375 \r\nL 43.21875 27.484375 \r\nz\r\nM 52.203125 31.203125 \r\nL 52.203125 0 \r\nL 43.21875 0 \r\nL 43.21875 8.296875 \r\nQ 40.140625 3.328125 35.546875 0.953125 \r\nQ 30.953125 -1.421875 24.3125 -1.421875 \r\nQ 15.921875 -1.421875 10.953125 3.296875 \r\nQ 6 8.015625 6 15.921875 \r\nQ 6 25.140625 12.171875 29.828125 \r\nQ 18.359375 34.515625 30.609375 34.515625 \r\nL 43.21875 34.515625 \r\nL 43.21875 35.40625 \r\nQ 43.21875 41.609375 39.140625 45 \r\nQ 35.0625 48.390625 27.6875 48.390625 \r\nQ 23 48.390625 18.546875 47.265625 \r\nQ 14.109375 46.140625 10.015625 43.890625 \r\nL 10.015625 52.203125 \r\nQ 14.9375 54.109375 19.578125 55.046875 \r\nQ 24.21875 56 28.609375 56 \r\nQ 40.484375 56 46.34375 49.84375 \r\nQ 52.203125 43.703125 52.203125 31.203125 \r\nz\r\n\" id=\"DejaVuSans-97\"/>\r\n      </defs>\r\n      <g transform=\"translate(130.644501 270.316563)scale(0.1 -0.1)\">\r\n       <use xlink:href=\"#DejaVuSans-66\"/>\r\n       <use x=\"68.603516\" xlink:href=\"#DejaVuSans-117\"/>\r\n       <use x=\"131.982422\" xlink:href=\"#DejaVuSans-110\"/>\r\n       <use x=\"195.361328\" xlink:href=\"#DejaVuSans-100\"/>\r\n       <use x=\"258.837891\" xlink:href=\"#DejaVuSans-101\"/>\r\n       <use x=\"320.361328\" xlink:href=\"#DejaVuSans-115\"/>\r\n       <use x=\"372.460938\" xlink:href=\"#DejaVuSans-108\"/>\r\n       <use x=\"400.244141\" xlink:href=\"#DejaVuSans-105\"/>\r\n       <use x=\"428.027344\" xlink:href=\"#DejaVuSans-103\"/>\r\n       <use x=\"491.503906\" xlink:href=\"#DejaVuSans-97\"/>\r\n      </g>\r\n     </g>\r\n    </g>\r\n    <g id=\"xtick_3\">\r\n     <g id=\"line2d_3\">\r\n      <g>\r\n       <use style=\"stroke:#000000;stroke-width:0.8;\" x=\"232.103125\" xlink:href=\"#m021ec1078e\" y=\"255.718125\"/>\r\n      </g>\r\n     </g>\r\n     <g id=\"text_3\">\r\n      <!-- EPL -->\r\n      <defs>\r\n       <path d=\"M 9.8125 72.90625 \r\nL 55.90625 72.90625 \r\nL 55.90625 64.59375 \r\nL 19.671875 64.59375 \r\nL 19.671875 43.015625 \r\nL 54.390625 43.015625 \r\nL 54.390625 34.71875 \r\nL 19.671875 34.71875 \r\nL 19.671875 8.296875 \r\nL 56.78125 8.296875 \r\nL 56.78125 0 \r\nL 9.8125 0 \r\nz\r\n\" id=\"DejaVuSans-69\"/>\r\n       <path d=\"M 19.671875 64.796875 \r\nL 19.671875 37.40625 \r\nL 32.078125 37.40625 \r\nQ 38.96875 37.40625 42.71875 40.96875 \r\nQ 46.484375 44.53125 46.484375 51.125 \r\nQ 46.484375 57.671875 42.71875 61.234375 \r\nQ 38.96875 64.796875 32.078125 64.796875 \r\nz\r\nM 9.8125 72.90625 \r\nL 32.078125 72.90625 \r\nQ 44.34375 72.90625 50.609375 67.359375 \r\nQ 56.890625 61.8125 56.890625 51.125 \r\nQ 56.890625 40.328125 50.609375 34.8125 \r\nQ 44.34375 29.296875 32.078125 29.296875 \r\nL 19.671875 29.296875 \r\nL 19.671875 0 \r\nL 9.8125 0 \r\nz\r\n\" id=\"DejaVuSans-80\"/>\r\n       <path d=\"M 9.8125 72.90625 \r\nL 19.671875 72.90625 \r\nL 19.671875 8.296875 \r\nL 55.171875 8.296875 \r\nL 55.171875 0 \r\nL 9.8125 0 \r\nz\r\n\" id=\"DejaVuSans-76\"/>\r\n      </defs>\r\n      <g transform=\"translate(223.142969 270.316563)scale(0.1 -0.1)\">\r\n       <use xlink:href=\"#DejaVuSans-69\"/>\r\n       <use x=\"63.183594\" xlink:href=\"#DejaVuSans-80\"/>\r\n       <use x=\"123.486328\" xlink:href=\"#DejaVuSans-76\"/>\r\n      </g>\r\n     </g>\r\n    </g>\r\n    <g id=\"xtick_4\">\r\n     <g id=\"line2d_4\">\r\n      <g>\r\n       <use style=\"stroke:#000000;stroke-width:0.8;\" x=\"305.921905\" xlink:href=\"#m021ec1078e\" y=\"255.718125\"/>\r\n      </g>\r\n     </g>\r\n     <g id=\"text_4\">\r\n      <!-- Ligue 1 -->\r\n      <defs>\r\n       <path d=\"M 12.40625 8.296875 \r\nL 28.515625 8.296875 \r\nL 28.515625 63.921875 \r\nL 10.984375 60.40625 \r\nL 10.984375 69.390625 \r\nL 28.421875 72.90625 \r\nL 38.28125 72.90625 \r\nL 38.28125 8.296875 \r\nL 54.390625 8.296875 \r\nL 54.390625 0 \r\nL 12.40625 0 \r\nz\r\n\" id=\"DejaVuSans-49\"/>\r\n      </defs>\r\n      <g transform=\"translate(287.557061 270.316563)scale(0.1 -0.1)\">\r\n       <use xlink:href=\"#DejaVuSans-76\"/>\r\n       <use x=\"55.712891\" xlink:href=\"#DejaVuSans-105\"/>\r\n       <use x=\"83.496094\" xlink:href=\"#DejaVuSans-103\"/>\r\n       <use x=\"146.972656\" xlink:href=\"#DejaVuSans-117\"/>\r\n       <use x=\"210.351562\" xlink:href=\"#DejaVuSans-101\"/>\r\n       <use x=\"271.875\" xlink:href=\"#DejaVuSans-32\"/>\r\n       <use x=\"303.662109\" xlink:href=\"#DejaVuSans-49\"/>\r\n      </g>\r\n     </g>\r\n    </g>\r\n    <g id=\"xtick_5\">\r\n     <g id=\"line2d_5\">\r\n      <g>\r\n       <use style=\"stroke:#000000;stroke-width:0.8;\" x=\"379.740685\" xlink:href=\"#m021ec1078e\" y=\"255.718125\"/>\r\n      </g>\r\n     </g>\r\n     <g id=\"text_5\">\r\n      <!-- La Liga -->\r\n      <g transform=\"translate(361.888341 270.316563)scale(0.1 -0.1)\">\r\n       <use xlink:href=\"#DejaVuSans-76\"/>\r\n       <use x=\"55.712891\" xlink:href=\"#DejaVuSans-97\"/>\r\n       <use x=\"116.992188\" xlink:href=\"#DejaVuSans-32\"/>\r\n       <use x=\"148.779297\" xlink:href=\"#DejaVuSans-76\"/>\r\n       <use x=\"204.492188\" xlink:href=\"#DejaVuSans-105\"/>\r\n       <use x=\"232.275391\" xlink:href=\"#DejaVuSans-103\"/>\r\n       <use x=\"295.751953\" xlink:href=\"#DejaVuSans-97\"/>\r\n      </g>\r\n     </g>\r\n    </g>\r\n   </g>\r\n   <g id=\"matplotlib.axis_2\">\r\n    <g id=\"ytick_1\">\r\n     <g id=\"line2d_6\">\r\n      <defs>\r\n       <path d=\"M 0 0 \r\nL -3.5 0 \r\n\" id=\"md4092b07ee\" style=\"stroke:#000000;stroke-width:0.8;\"/>\r\n      </defs>\r\n      <g>\r\n       <use style=\"stroke:#000000;stroke-width:0.8;\" x=\"46.965625\" xlink:href=\"#md4092b07ee\" y=\"255.718125\"/>\r\n      </g>\r\n     </g>\r\n     <g id=\"text_6\">\r\n      <!-- 0 -->\r\n      <defs>\r\n       <path d=\"M 31.78125 66.40625 \r\nQ 24.171875 66.40625 20.328125 58.90625 \r\nQ 16.5 51.421875 16.5 36.375 \r\nQ 16.5 21.390625 20.328125 13.890625 \r\nQ 24.171875 6.390625 31.78125 6.390625 \r\nQ 39.453125 6.390625 43.28125 13.890625 \r\nQ 47.125 21.390625 47.125 36.375 \r\nQ 47.125 51.421875 43.28125 58.90625 \r\nQ 39.453125 66.40625 31.78125 66.40625 \r\nz\r\nM 31.78125 74.21875 \r\nQ 44.046875 74.21875 50.515625 64.515625 \r\nQ 56.984375 54.828125 56.984375 36.375 \r\nQ 56.984375 17.96875 50.515625 8.265625 \r\nQ 44.046875 -1.421875 31.78125 -1.421875 \r\nQ 19.53125 -1.421875 13.0625 8.265625 \r\nQ 6.59375 17.96875 6.59375 36.375 \r\nQ 6.59375 54.828125 13.0625 64.515625 \r\nQ 19.53125 74.21875 31.78125 74.21875 \r\nz\r\n\" id=\"DejaVuSans-48\"/>\r\n      </defs>\r\n      <g transform=\"translate(33.603125 259.517344)scale(0.1 -0.1)\">\r\n       <use xlink:href=\"#DejaVuSans-48\"/>\r\n      </g>\r\n     </g>\r\n    </g>\r\n    <g id=\"ytick_2\">\r\n     <g id=\"line2d_7\">\r\n      <g>\r\n       <use style=\"stroke:#000000;stroke-width:0.8;\" x=\"46.965625\" xlink:href=\"#md4092b07ee\" y=\"209.038125\"/>\r\n      </g>\r\n     </g>\r\n     <g id=\"text_7\">\r\n      <!-- 20 -->\r\n      <defs>\r\n       <path d=\"M 19.1875 8.296875 \r\nL 53.609375 8.296875 \r\nL 53.609375 0 \r\nL 7.328125 0 \r\nL 7.328125 8.296875 \r\nQ 12.9375 14.109375 22.625 23.890625 \r\nQ 32.328125 33.6875 34.8125 36.53125 \r\nQ 39.546875 41.84375 41.421875 45.53125 \r\nQ 43.3125 49.21875 43.3125 52.78125 \r\nQ 43.3125 58.59375 39.234375 62.25 \r\nQ 35.15625 65.921875 28.609375 65.921875 \r\nQ 23.96875 65.921875 18.8125 64.3125 \r\nQ 13.671875 62.703125 7.8125 59.421875 \r\nL 7.8125 69.390625 \r\nQ 13.765625 71.78125 18.9375 73 \r\nQ 24.125 74.21875 28.421875 74.21875 \r\nQ 39.75 74.21875 46.484375 68.546875 \r\nQ 53.21875 62.890625 53.21875 53.421875 \r\nQ 53.21875 48.921875 51.53125 44.890625 \r\nQ 49.859375 40.875 45.40625 35.40625 \r\nQ 44.1875 33.984375 37.640625 27.21875 \r\nQ 31.109375 20.453125 19.1875 8.296875 \r\nz\r\n\" id=\"DejaVuSans-50\"/>\r\n      </defs>\r\n      <g transform=\"translate(27.240625 212.837344)scale(0.1 -0.1)\">\r\n       <use xlink:href=\"#DejaVuSans-50\"/>\r\n       <use x=\"63.623047\" xlink:href=\"#DejaVuSans-48\"/>\r\n      </g>\r\n     </g>\r\n    </g>\r\n    <g id=\"ytick_3\">\r\n     <g id=\"line2d_8\">\r\n      <g>\r\n       <use style=\"stroke:#000000;stroke-width:0.8;\" x=\"46.965625\" xlink:href=\"#md4092b07ee\" y=\"162.358125\"/>\r\n      </g>\r\n     </g>\r\n     <g id=\"text_8\">\r\n      <!-- 40 -->\r\n      <defs>\r\n       <path d=\"M 37.796875 64.3125 \r\nL 12.890625 25.390625 \r\nL 37.796875 25.390625 \r\nz\r\nM 35.203125 72.90625 \r\nL 47.609375 72.90625 \r\nL 47.609375 25.390625 \r\nL 58.015625 25.390625 \r\nL 58.015625 17.1875 \r\nL 47.609375 17.1875 \r\nL 47.609375 0 \r\nL 37.796875 0 \r\nL 37.796875 17.1875 \r\nL 4.890625 17.1875 \r\nL 4.890625 26.703125 \r\nz\r\n\" id=\"DejaVuSans-52\"/>\r\n      </defs>\r\n      <g transform=\"translate(27.240625 166.157344)scale(0.1 -0.1)\">\r\n       <use xlink:href=\"#DejaVuSans-52\"/>\r\n       <use x=\"63.623047\" xlink:href=\"#DejaVuSans-48\"/>\r\n      </g>\r\n     </g>\r\n    </g>\r\n    <g id=\"ytick_4\">\r\n     <g id=\"line2d_9\">\r\n      <g>\r\n       <use style=\"stroke:#000000;stroke-width:0.8;\" x=\"46.965625\" xlink:href=\"#md4092b07ee\" y=\"115.678125\"/>\r\n      </g>\r\n     </g>\r\n     <g id=\"text_9\">\r\n      <!-- 60 -->\r\n      <defs>\r\n       <path d=\"M 33.015625 40.375 \r\nQ 26.375 40.375 22.484375 35.828125 \r\nQ 18.609375 31.296875 18.609375 23.390625 \r\nQ 18.609375 15.53125 22.484375 10.953125 \r\nQ 26.375 6.390625 33.015625 6.390625 \r\nQ 39.65625 6.390625 43.53125 10.953125 \r\nQ 47.40625 15.53125 47.40625 23.390625 \r\nQ 47.40625 31.296875 43.53125 35.828125 \r\nQ 39.65625 40.375 33.015625 40.375 \r\nz\r\nM 52.59375 71.296875 \r\nL 52.59375 62.3125 \r\nQ 48.875 64.0625 45.09375 64.984375 \r\nQ 41.3125 65.921875 37.59375 65.921875 \r\nQ 27.828125 65.921875 22.671875 59.328125 \r\nQ 17.53125 52.734375 16.796875 39.40625 \r\nQ 19.671875 43.65625 24.015625 45.921875 \r\nQ 28.375 48.1875 33.59375 48.1875 \r\nQ 44.578125 48.1875 50.953125 41.515625 \r\nQ 57.328125 34.859375 57.328125 23.390625 \r\nQ 57.328125 12.15625 50.6875 5.359375 \r\nQ 44.046875 -1.421875 33.015625 -1.421875 \r\nQ 20.359375 -1.421875 13.671875 8.265625 \r\nQ 6.984375 17.96875 6.984375 36.375 \r\nQ 6.984375 53.65625 15.1875 63.9375 \r\nQ 23.390625 74.21875 37.203125 74.21875 \r\nQ 40.921875 74.21875 44.703125 73.484375 \r\nQ 48.484375 72.75 52.59375 71.296875 \r\nz\r\n\" id=\"DejaVuSans-54\"/>\r\n      </defs>\r\n      <g transform=\"translate(27.240625 119.477344)scale(0.1 -0.1)\">\r\n       <use xlink:href=\"#DejaVuSans-54\"/>\r\n       <use x=\"63.623047\" xlink:href=\"#DejaVuSans-48\"/>\r\n      </g>\r\n     </g>\r\n    </g>\r\n    <g id=\"ytick_5\">\r\n     <g id=\"line2d_10\">\r\n      <g>\r\n       <use style=\"stroke:#000000;stroke-width:0.8;\" x=\"46.965625\" xlink:href=\"#md4092b07ee\" y=\"68.998125\"/>\r\n      </g>\r\n     </g>\r\n     <g id=\"text_10\">\r\n      <!-- 80 -->\r\n      <defs>\r\n       <path d=\"M 31.78125 34.625 \r\nQ 24.75 34.625 20.71875 30.859375 \r\nQ 16.703125 27.09375 16.703125 20.515625 \r\nQ 16.703125 13.921875 20.71875 10.15625 \r\nQ 24.75 6.390625 31.78125 6.390625 \r\nQ 38.8125 6.390625 42.859375 10.171875 \r\nQ 46.921875 13.96875 46.921875 20.515625 \r\nQ 46.921875 27.09375 42.890625 30.859375 \r\nQ 38.875 34.625 31.78125 34.625 \r\nz\r\nM 21.921875 38.8125 \r\nQ 15.578125 40.375 12.03125 44.71875 \r\nQ 8.5 49.078125 8.5 55.328125 \r\nQ 8.5 64.0625 14.71875 69.140625 \r\nQ 20.953125 74.21875 31.78125 74.21875 \r\nQ 42.671875 74.21875 48.875 69.140625 \r\nQ 55.078125 64.0625 55.078125 55.328125 \r\nQ 55.078125 49.078125 51.53125 44.71875 \r\nQ 48 40.375 41.703125 38.8125 \r\nQ 48.828125 37.15625 52.796875 32.3125 \r\nQ 56.78125 27.484375 56.78125 20.515625 \r\nQ 56.78125 9.90625 50.3125 4.234375 \r\nQ 43.84375 -1.421875 31.78125 -1.421875 \r\nQ 19.734375 -1.421875 13.25 4.234375 \r\nQ 6.78125 9.90625 6.78125 20.515625 \r\nQ 6.78125 27.484375 10.78125 32.3125 \r\nQ 14.796875 37.15625 21.921875 38.8125 \r\nz\r\nM 18.3125 54.390625 \r\nQ 18.3125 48.734375 21.84375 45.5625 \r\nQ 25.390625 42.390625 31.78125 42.390625 \r\nQ 38.140625 42.390625 41.71875 45.5625 \r\nQ 45.3125 48.734375 45.3125 54.390625 \r\nQ 45.3125 60.0625 41.71875 63.234375 \r\nQ 38.140625 66.40625 31.78125 66.40625 \r\nQ 25.390625 66.40625 21.84375 63.234375 \r\nQ 18.3125 60.0625 18.3125 54.390625 \r\nz\r\n\" id=\"DejaVuSans-56\"/>\r\n      </defs>\r\n      <g transform=\"translate(27.240625 72.797344)scale(0.1 -0.1)\">\r\n       <use xlink:href=\"#DejaVuSans-56\"/>\r\n       <use x=\"63.623047\" xlink:href=\"#DejaVuSans-48\"/>\r\n      </g>\r\n     </g>\r\n    </g>\r\n    <g id=\"ytick_6\">\r\n     <g id=\"line2d_11\">\r\n      <g>\r\n       <use style=\"stroke:#000000;stroke-width:0.8;\" x=\"46.965625\" xlink:href=\"#md4092b07ee\" y=\"22.318125\"/>\r\n      </g>\r\n     </g>\r\n     <g id=\"text_11\">\r\n      <!-- 100 -->\r\n      <g transform=\"translate(20.878125 26.117344)scale(0.1 -0.1)\">\r\n       <use xlink:href=\"#DejaVuSans-49\"/>\r\n       <use x=\"63.623047\" xlink:href=\"#DejaVuSans-48\"/>\r\n       <use x=\"127.246094\" xlink:href=\"#DejaVuSans-48\"/>\r\n      </g>\r\n     </g>\r\n    </g>\r\n    <g id=\"text_12\">\r\n     <!-- Away team victories [%] -->\r\n     <defs>\r\n      <path d=\"M 4.203125 54.6875 \r\nL 13.1875 54.6875 \r\nL 24.421875 12.015625 \r\nL 35.59375 54.6875 \r\nL 46.1875 54.6875 \r\nL 57.421875 12.015625 \r\nL 68.609375 54.6875 \r\nL 77.59375 54.6875 \r\nL 63.28125 0 \r\nL 52.6875 0 \r\nL 40.921875 44.828125 \r\nL 29.109375 0 \r\nL 18.5 0 \r\nz\r\n\" id=\"DejaVuSans-119\"/>\r\n      <path d=\"M 32.171875 -5.078125 \r\nQ 28.375 -14.84375 24.75 -17.8125 \r\nQ 21.140625 -20.796875 15.09375 -20.796875 \r\nL 7.90625 -20.796875 \r\nL 7.90625 -13.28125 \r\nL 13.1875 -13.28125 \r\nQ 16.890625 -13.28125 18.9375 -11.515625 \r\nQ 21 -9.765625 23.484375 -3.21875 \r\nL 25.09375 0.875 \r\nL 2.984375 54.6875 \r\nL 12.5 54.6875 \r\nL 29.59375 11.921875 \r\nL 46.6875 54.6875 \r\nL 56.203125 54.6875 \r\nz\r\n\" id=\"DejaVuSans-121\"/>\r\n      <path d=\"M 18.3125 70.21875 \r\nL 18.3125 54.6875 \r\nL 36.8125 54.6875 \r\nL 36.8125 47.703125 \r\nL 18.3125 47.703125 \r\nL 18.3125 18.015625 \r\nQ 18.3125 11.328125 20.140625 9.421875 \r\nQ 21.96875 7.515625 27.59375 7.515625 \r\nL 36.8125 7.515625 \r\nL 36.8125 0 \r\nL 27.59375 0 \r\nQ 17.1875 0 13.234375 3.875 \r\nQ 9.28125 7.765625 9.28125 18.015625 \r\nL 9.28125 47.703125 \r\nL 2.6875 47.703125 \r\nL 2.6875 54.6875 \r\nL 9.28125 54.6875 \r\nL 9.28125 70.21875 \r\nz\r\n\" id=\"DejaVuSans-116\"/>\r\n      <path d=\"M 52 44.1875 \r\nQ 55.375 50.25 60.0625 53.125 \r\nQ 64.75 56 71.09375 56 \r\nQ 79.640625 56 84.28125 50.015625 \r\nQ 88.921875 44.046875 88.921875 33.015625 \r\nL 88.921875 0 \r\nL 79.890625 0 \r\nL 79.890625 32.71875 \r\nQ 79.890625 40.578125 77.09375 44.375 \r\nQ 74.3125 48.1875 68.609375 48.1875 \r\nQ 61.625 48.1875 57.5625 43.546875 \r\nQ 53.515625 38.921875 53.515625 30.90625 \r\nL 53.515625 0 \r\nL 44.484375 0 \r\nL 44.484375 32.71875 \r\nQ 44.484375 40.625 41.703125 44.40625 \r\nQ 38.921875 48.1875 33.109375 48.1875 \r\nQ 26.21875 48.1875 22.15625 43.53125 \r\nQ 18.109375 38.875 18.109375 30.90625 \r\nL 18.109375 0 \r\nL 9.078125 0 \r\nL 9.078125 54.6875 \r\nL 18.109375 54.6875 \r\nL 18.109375 46.1875 \r\nQ 21.1875 51.21875 25.484375 53.609375 \r\nQ 29.78125 56 35.6875 56 \r\nQ 41.65625 56 45.828125 52.96875 \r\nQ 50 49.953125 52 44.1875 \r\nz\r\n\" id=\"DejaVuSans-109\"/>\r\n      <path d=\"M 2.984375 54.6875 \r\nL 12.5 54.6875 \r\nL 29.59375 8.796875 \r\nL 46.6875 54.6875 \r\nL 56.203125 54.6875 \r\nL 35.6875 0 \r\nL 23.484375 0 \r\nz\r\n\" id=\"DejaVuSans-118\"/>\r\n      <path d=\"M 48.78125 52.59375 \r\nL 48.78125 44.1875 \r\nQ 44.96875 46.296875 41.140625 47.34375 \r\nQ 37.3125 48.390625 33.40625 48.390625 \r\nQ 24.65625 48.390625 19.8125 42.84375 \r\nQ 14.984375 37.3125 14.984375 27.296875 \r\nQ 14.984375 17.28125 19.8125 11.734375 \r\nQ 24.65625 6.203125 33.40625 6.203125 \r\nQ 37.3125 6.203125 41.140625 7.25 \r\nQ 44.96875 8.296875 48.78125 10.40625 \r\nL 48.78125 2.09375 \r\nQ 45.015625 0.34375 40.984375 -0.53125 \r\nQ 36.96875 -1.421875 32.421875 -1.421875 \r\nQ 20.0625 -1.421875 12.78125 6.34375 \r\nQ 5.515625 14.109375 5.515625 27.296875 \r\nQ 5.515625 40.671875 12.859375 48.328125 \r\nQ 20.21875 56 33.015625 56 \r\nQ 37.15625 56 41.109375 55.140625 \r\nQ 45.0625 54.296875 48.78125 52.59375 \r\nz\r\n\" id=\"DejaVuSans-99\"/>\r\n      <path d=\"M 30.609375 48.390625 \r\nQ 23.390625 48.390625 19.1875 42.75 \r\nQ 14.984375 37.109375 14.984375 27.296875 \r\nQ 14.984375 17.484375 19.15625 11.84375 \r\nQ 23.34375 6.203125 30.609375 6.203125 \r\nQ 37.796875 6.203125 41.984375 11.859375 \r\nQ 46.1875 17.53125 46.1875 27.296875 \r\nQ 46.1875 37.015625 41.984375 42.703125 \r\nQ 37.796875 48.390625 30.609375 48.390625 \r\nz\r\nM 30.609375 56 \r\nQ 42.328125 56 49.015625 48.375 \r\nQ 55.71875 40.765625 55.71875 27.296875 \r\nQ 55.71875 13.875 49.015625 6.21875 \r\nQ 42.328125 -1.421875 30.609375 -1.421875 \r\nQ 18.84375 -1.421875 12.171875 6.21875 \r\nQ 5.515625 13.875 5.515625 27.296875 \r\nQ 5.515625 40.765625 12.171875 48.375 \r\nQ 18.84375 56 30.609375 56 \r\nz\r\n\" id=\"DejaVuSans-111\"/>\r\n      <path d=\"M 8.59375 75.984375 \r\nL 29.296875 75.984375 \r\nL 29.296875 69 \r\nL 17.578125 69 \r\nL 17.578125 -6.203125 \r\nL 29.296875 -6.203125 \r\nL 29.296875 -13.1875 \r\nL 8.59375 -13.1875 \r\nz\r\n\" id=\"DejaVuSans-91\"/>\r\n      <path d=\"M 72.703125 32.078125 \r\nQ 68.453125 32.078125 66.03125 28.46875 \r\nQ 63.625 24.859375 63.625 18.40625 \r\nQ 63.625 12.0625 66.03125 8.421875 \r\nQ 68.453125 4.78125 72.703125 4.78125 \r\nQ 76.859375 4.78125 79.265625 8.421875 \r\nQ 81.6875 12.0625 81.6875 18.40625 \r\nQ 81.6875 24.8125 79.265625 28.4375 \r\nQ 76.859375 32.078125 72.703125 32.078125 \r\nz\r\nM 72.703125 38.28125 \r\nQ 80.421875 38.28125 84.953125 32.90625 \r\nQ 89.5 27.546875 89.5 18.40625 \r\nQ 89.5 9.28125 84.9375 3.921875 \r\nQ 80.375 -1.421875 72.703125 -1.421875 \r\nQ 64.890625 -1.421875 60.34375 3.921875 \r\nQ 55.8125 9.28125 55.8125 18.40625 \r\nQ 55.8125 27.59375 60.375 32.9375 \r\nQ 64.9375 38.28125 72.703125 38.28125 \r\nz\r\nM 22.3125 68.015625 \r\nQ 18.109375 68.015625 15.6875 64.375 \r\nQ 13.28125 60.75 13.28125 54.390625 \r\nQ 13.28125 47.953125 15.671875 44.328125 \r\nQ 18.0625 40.71875 22.3125 40.71875 \r\nQ 26.5625 40.71875 28.96875 44.328125 \r\nQ 31.390625 47.953125 31.390625 54.390625 \r\nQ 31.390625 60.6875 28.953125 64.34375 \r\nQ 26.515625 68.015625 22.3125 68.015625 \r\nz\r\nM 66.40625 74.21875 \r\nL 74.21875 74.21875 \r\nL 28.609375 -1.421875 \r\nL 20.796875 -1.421875 \r\nz\r\nM 22.3125 74.21875 \r\nQ 30.03125 74.21875 34.609375 68.875 \r\nQ 39.203125 63.53125 39.203125 54.390625 \r\nQ 39.203125 45.171875 34.640625 39.84375 \r\nQ 30.078125 34.515625 22.3125 34.515625 \r\nQ 14.546875 34.515625 10.03125 39.859375 \r\nQ 5.515625 45.21875 5.515625 54.390625 \r\nQ 5.515625 63.484375 10.046875 68.84375 \r\nQ 14.59375 74.21875 22.3125 74.21875 \r\nz\r\n\" id=\"DejaVuSans-37\"/>\r\n      <path d=\"M 30.421875 75.984375 \r\nL 30.421875 -13.1875 \r\nL 9.71875 -13.1875 \r\nL 9.71875 -6.203125 \r\nL 21.390625 -6.203125 \r\nL 21.390625 69 \r\nL 9.71875 69 \r\nL 9.71875 75.984375 \r\nz\r\n\" id=\"DejaVuSans-93\"/>\r\n     </defs>\r\n     <g transform=\"translate(14.798438 200.181406)rotate(-90)scale(0.1 -0.1)\">\r\n      <use xlink:href=\"#DejaVuSans-65\"/>\r\n      <use x=\"68.345703\" xlink:href=\"#DejaVuSans-119\"/>\r\n      <use x=\"150.132812\" xlink:href=\"#DejaVuSans-97\"/>\r\n      <use x=\"211.412109\" xlink:href=\"#DejaVuSans-121\"/>\r\n      <use x=\"270.591797\" xlink:href=\"#DejaVuSans-32\"/>\r\n      <use x=\"302.378906\" xlink:href=\"#DejaVuSans-116\"/>\r\n      <use x=\"341.587891\" xlink:href=\"#DejaVuSans-101\"/>\r\n      <use x=\"403.111328\" xlink:href=\"#DejaVuSans-97\"/>\r\n      <use x=\"464.390625\" xlink:href=\"#DejaVuSans-109\"/>\r\n      <use x=\"561.802734\" xlink:href=\"#DejaVuSans-32\"/>\r\n      <use x=\"593.589844\" xlink:href=\"#DejaVuSans-118\"/>\r\n      <use x=\"652.769531\" xlink:href=\"#DejaVuSans-105\"/>\r\n      <use x=\"680.552734\" xlink:href=\"#DejaVuSans-99\"/>\r\n      <use x=\"735.533203\" xlink:href=\"#DejaVuSans-116\"/>\r\n      <use x=\"774.742188\" xlink:href=\"#DejaVuSans-111\"/>\r\n      <use x=\"835.923828\" xlink:href=\"#DejaVuSans-114\"/>\r\n      <use x=\"877.037109\" xlink:href=\"#DejaVuSans-105\"/>\r\n      <use x=\"904.820312\" xlink:href=\"#DejaVuSans-101\"/>\r\n      <use x=\"966.34375\" xlink:href=\"#DejaVuSans-115\"/>\r\n      <use x=\"1018.443359\" xlink:href=\"#DejaVuSans-32\"/>\r\n      <use x=\"1050.230469\" xlink:href=\"#DejaVuSans-91\"/>\r\n      <use x=\"1089.244141\" xlink:href=\"#DejaVuSans-37\"/>\r\n      <use x=\"1184.263672\" xlink:href=\"#DejaVuSans-93\"/>\r\n     </g>\r\n    </g>\r\n   </g>\r\n   <g id=\"line2d_12\">\r\n    <path clip-path=\"url(#pa0eabe0100)\" d=\"M 46.965625 186.631725 \r\nL 417.240625 186.631725 \r\n\" style=\"fill:none;stroke:#008000;stroke-dasharray:5.55,2.4;stroke-dashoffset:0;stroke-opacity:0.7;stroke-width:1.5;\"/>\r\n   </g>\r\n   <g id=\"line2d_13\">\r\n    <path clip-path=\"url(#pa0eabe0100)\" d=\"M 46.965625 175.895325 \r\nL 417.240625 175.895325 \r\n\" style=\"fill:none;stroke:#ff0000;stroke-dasharray:5.55,2.4;stroke-dashoffset:0;stroke-opacity:0.7;stroke-width:1.5;\"/>\r\n   </g>\r\n   <g id=\"patch_13\">\r\n    <path d=\"M 46.965625 255.718125 \r\nL 46.965625 22.318125 \r\n\" style=\"fill:none;stroke:#000000;stroke-linecap:square;stroke-linejoin:miter;stroke-width:0.8;\"/>\r\n   </g>\r\n   <g id=\"patch_14\">\r\n    <path d=\"M 417.240625 255.718125 \r\nL 417.240625 22.318125 \r\n\" style=\"fill:none;stroke:#000000;stroke-linecap:square;stroke-linejoin:miter;stroke-width:0.8;\"/>\r\n   </g>\r\n   <g id=\"patch_15\">\r\n    <path d=\"M 46.965625 255.718125 \r\nL 417.240625 255.718125 \r\n\" style=\"fill:none;stroke:#000000;stroke-linecap:square;stroke-linejoin:miter;stroke-width:0.8;\"/>\r\n   </g>\r\n   <g id=\"patch_16\">\r\n    <path d=\"M 46.965625 22.318125 \r\nL 417.240625 22.318125 \r\n\" style=\"fill:none;stroke:#000000;stroke-linecap:square;stroke-linejoin:miter;stroke-width:0.8;\"/>\r\n   </g>\r\n   <g id=\"text_13\">\r\n    <!-- 28 -->\r\n    <g transform=\"translate(66.661154 185.286438)scale(0.1 -0.1)\">\r\n     <use xlink:href=\"#DejaVuSans-50\"/>\r\n     <use x=\"63.623047\" xlink:href=\"#DejaVuSans-56\"/>\r\n    </g>\r\n   </g>\r\n   <g id=\"text_14\">\r\n    <!-- 31 -->\r\n    <defs>\r\n     <path d=\"M 40.578125 39.3125 \r\nQ 47.65625 37.796875 51.625 33 \r\nQ 55.609375 28.21875 55.609375 21.1875 \r\nQ 55.609375 10.40625 48.1875 4.484375 \r\nQ 40.765625 -1.421875 27.09375 -1.421875 \r\nQ 22.515625 -1.421875 17.65625 -0.515625 \r\nQ 12.796875 0.390625 7.625 2.203125 \r\nL 7.625 11.71875 \r\nQ 11.71875 9.328125 16.59375 8.109375 \r\nQ 21.484375 6.890625 26.8125 6.890625 \r\nQ 36.078125 6.890625 40.9375 10.546875 \r\nQ 45.796875 14.203125 45.796875 21.1875 \r\nQ 45.796875 27.640625 41.28125 31.265625 \r\nQ 36.765625 34.90625 28.71875 34.90625 \r\nL 20.21875 34.90625 \r\nL 20.21875 43.015625 \r\nL 29.109375 43.015625 \r\nQ 36.375 43.015625 40.234375 45.921875 \r\nQ 44.09375 48.828125 44.09375 54.296875 \r\nQ 44.09375 59.90625 40.109375 62.90625 \r\nQ 36.140625 65.921875 28.71875 65.921875 \r\nQ 24.65625 65.921875 20.015625 65.03125 \r\nQ 15.375 64.15625 9.8125 62.3125 \r\nL 9.8125 71.09375 \r\nQ 15.4375 72.65625 20.34375 73.4375 \r\nQ 25.25 74.21875 29.59375 74.21875 \r\nQ 40.828125 74.21875 47.359375 69.109375 \r\nQ 53.90625 64.015625 53.90625 55.328125 \r\nQ 53.90625 49.265625 50.4375 45.09375 \r\nQ 46.96875 40.921875 40.578125 39.3125 \r\nz\r\n\" id=\"DejaVuSans-51\"/>\r\n    </defs>\r\n    <g transform=\"translate(140.479934 178.284438)scale(0.1 -0.1)\">\r\n     <use xlink:href=\"#DejaVuSans-51\"/>\r\n     <use x=\"63.623047\" xlink:href=\"#DejaVuSans-49\"/>\r\n    </g>\r\n   </g>\r\n   <g id=\"text_15\">\r\n    <!-- 34 -->\r\n    <g transform=\"translate(214.298714 171.282438)scale(0.1 -0.1)\">\r\n     <use xlink:href=\"#DejaVuSans-51\"/>\r\n     <use x=\"63.623047\" xlink:href=\"#DejaVuSans-52\"/>\r\n    </g>\r\n   </g>\r\n   <g id=\"text_16\">\r\n    <!-- 28 -->\r\n    <g transform=\"translate(288.117494 185.286438)scale(0.1 -0.1)\">\r\n     <use xlink:href=\"#DejaVuSans-50\"/>\r\n     <use x=\"63.623047\" xlink:href=\"#DejaVuSans-56\"/>\r\n    </g>\r\n   </g>\r\n   <g id=\"text_17\">\r\n    <!-- 27 -->\r\n    <defs>\r\n     <path d=\"M 8.203125 72.90625 \r\nL 55.078125 72.90625 \r\nL 55.078125 68.703125 \r\nL 28.609375 0 \r\nL 18.3125 0 \r\nL 43.21875 64.59375 \r\nL 8.203125 64.59375 \r\nz\r\n\" id=\"DejaVuSans-55\"/>\r\n    </defs>\r\n    <g transform=\"translate(361.936274 187.620438)scale(0.1 -0.1)\">\r\n     <use xlink:href=\"#DejaVuSans-50\"/>\r\n     <use x=\"63.623047\" xlink:href=\"#DejaVuSans-55\"/>\r\n    </g>\r\n   </g>\r\n   <g id=\"text_18\">\r\n    <!-- 34 -->\r\n    <g transform=\"translate(89.544976 171.282438)scale(0.1 -0.1)\">\r\n     <use xlink:href=\"#DejaVuSans-51\"/>\r\n     <use x=\"63.623047\" xlink:href=\"#DejaVuSans-52\"/>\r\n    </g>\r\n   </g>\r\n   <g id=\"text_19\">\r\n    <!-- 31 -->\r\n    <g transform=\"translate(163.363756 178.284438)scale(0.1 -0.1)\">\r\n     <use xlink:href=\"#DejaVuSans-51\"/>\r\n     <use x=\"63.623047\" xlink:href=\"#DejaVuSans-49\"/>\r\n    </g>\r\n   </g>\r\n   <g id=\"text_20\">\r\n    <!-- 40 -->\r\n    <g transform=\"translate(237.182536 157.278438)scale(0.1 -0.1)\">\r\n     <use xlink:href=\"#DejaVuSans-52\"/>\r\n     <use x=\"63.623047\" xlink:href=\"#DejaVuSans-48\"/>\r\n    </g>\r\n   </g>\r\n   <g id=\"text_21\">\r\n    <!-- 37 -->\r\n    <g transform=\"translate(311.001316 164.280438)scale(0.1 -0.1)\">\r\n     <use xlink:href=\"#DejaVuSans-51\"/>\r\n     <use x=\"63.623047\" xlink:href=\"#DejaVuSans-55\"/>\r\n    </g>\r\n   </g>\r\n   <g id=\"text_22\">\r\n    <!-- 29 -->\r\n    <defs>\r\n     <path d=\"M 10.984375 1.515625 \r\nL 10.984375 10.5 \r\nQ 14.703125 8.734375 18.5 7.8125 \r\nQ 22.3125 6.890625 25.984375 6.890625 \r\nQ 35.75 6.890625 40.890625 13.453125 \r\nQ 46.046875 20.015625 46.78125 33.40625 \r\nQ 43.953125 29.203125 39.59375 26.953125 \r\nQ 35.25 24.703125 29.984375 24.703125 \r\nQ 19.046875 24.703125 12.671875 31.3125 \r\nQ 6.296875 37.9375 6.296875 49.421875 \r\nQ 6.296875 60.640625 12.9375 67.421875 \r\nQ 19.578125 74.21875 30.609375 74.21875 \r\nQ 43.265625 74.21875 49.921875 64.515625 \r\nQ 56.59375 54.828125 56.59375 36.375 \r\nQ 56.59375 19.140625 48.40625 8.859375 \r\nQ 40.234375 -1.421875 26.421875 -1.421875 \r\nQ 22.703125 -1.421875 18.890625 -0.6875 \r\nQ 15.09375 0.046875 10.984375 1.515625 \r\nz\r\nM 30.609375 32.421875 \r\nQ 37.25 32.421875 41.125 36.953125 \r\nQ 45.015625 41.5 45.015625 49.421875 \r\nQ 45.015625 57.28125 41.125 61.84375 \r\nQ 37.25 66.40625 30.609375 66.40625 \r\nQ 23.96875 66.40625 20.09375 61.84375 \r\nQ 16.21875 57.28125 16.21875 49.421875 \r\nQ 16.21875 41.5 20.09375 36.953125 \r\nQ 23.96875 32.421875 30.609375 32.421875 \r\nz\r\n\" id=\"DejaVuSans-57\"/>\r\n    </defs>\r\n    <g transform=\"translate(384.820096 182.952438)scale(0.1 -0.1)\">\r\n     <use xlink:href=\"#DejaVuSans-50\"/>\r\n     <use x=\"63.623047\" xlink:href=\"#DejaVuSans-57\"/>\r\n    </g>\r\n   </g>\r\n   <g id=\"text_23\">\r\n    <!-- Away team victories in different soccer leagues -->\r\n    <defs>\r\n     <path d=\"M 37.109375 75.984375 \r\nL 37.109375 68.5 \r\nL 28.515625 68.5 \r\nQ 23.6875 68.5 21.796875 66.546875 \r\nQ 19.921875 64.59375 19.921875 59.515625 \r\nL 19.921875 54.6875 \r\nL 34.71875 54.6875 \r\nL 34.71875 47.703125 \r\nL 19.921875 47.703125 \r\nL 19.921875 0 \r\nL 10.890625 0 \r\nL 10.890625 47.703125 \r\nL 2.296875 47.703125 \r\nL 2.296875 54.6875 \r\nL 10.890625 54.6875 \r\nL 10.890625 58.5 \r\nQ 10.890625 67.625 15.140625 71.796875 \r\nQ 19.390625 75.984375 28.609375 75.984375 \r\nz\r\n\" id=\"DejaVuSans-102\"/>\r\n    </defs>\r\n    <g transform=\"translate(89.178438 16.318125)scale(0.12 -0.12)\">\r\n     <use xlink:href=\"#DejaVuSans-65\"/>\r\n     <use x=\"68.345703\" xlink:href=\"#DejaVuSans-119\"/>\r\n     <use x=\"150.132812\" xlink:href=\"#DejaVuSans-97\"/>\r\n     <use x=\"211.412109\" xlink:href=\"#DejaVuSans-121\"/>\r\n     <use x=\"270.591797\" xlink:href=\"#DejaVuSans-32\"/>\r\n     <use x=\"302.378906\" xlink:href=\"#DejaVuSans-116\"/>\r\n     <use x=\"341.587891\" xlink:href=\"#DejaVuSans-101\"/>\r\n     <use x=\"403.111328\" xlink:href=\"#DejaVuSans-97\"/>\r\n     <use x=\"464.390625\" xlink:href=\"#DejaVuSans-109\"/>\r\n     <use x=\"561.802734\" xlink:href=\"#DejaVuSans-32\"/>\r\n     <use x=\"593.589844\" xlink:href=\"#DejaVuSans-118\"/>\r\n     <use x=\"652.769531\" xlink:href=\"#DejaVuSans-105\"/>\r\n     <use x=\"680.552734\" xlink:href=\"#DejaVuSans-99\"/>\r\n     <use x=\"735.533203\" xlink:href=\"#DejaVuSans-116\"/>\r\n     <use x=\"774.742188\" xlink:href=\"#DejaVuSans-111\"/>\r\n     <use x=\"835.923828\" xlink:href=\"#DejaVuSans-114\"/>\r\n     <use x=\"877.037109\" xlink:href=\"#DejaVuSans-105\"/>\r\n     <use x=\"904.820312\" xlink:href=\"#DejaVuSans-101\"/>\r\n     <use x=\"966.34375\" xlink:href=\"#DejaVuSans-115\"/>\r\n     <use x=\"1018.443359\" xlink:href=\"#DejaVuSans-32\"/>\r\n     <use x=\"1050.230469\" xlink:href=\"#DejaVuSans-105\"/>\r\n     <use x=\"1078.013672\" xlink:href=\"#DejaVuSans-110\"/>\r\n     <use x=\"1141.392578\" xlink:href=\"#DejaVuSans-32\"/>\r\n     <use x=\"1173.179688\" xlink:href=\"#DejaVuSans-100\"/>\r\n     <use x=\"1236.65625\" xlink:href=\"#DejaVuSans-105\"/>\r\n     <use x=\"1264.439453\" xlink:href=\"#DejaVuSans-102\"/>\r\n     <use x=\"1299.644531\" xlink:href=\"#DejaVuSans-102\"/>\r\n     <use x=\"1334.849609\" xlink:href=\"#DejaVuSans-101\"/>\r\n     <use x=\"1396.373047\" xlink:href=\"#DejaVuSans-114\"/>\r\n     <use x=\"1437.455078\" xlink:href=\"#DejaVuSans-101\"/>\r\n     <use x=\"1498.978516\" xlink:href=\"#DejaVuSans-110\"/>\r\n     <use x=\"1562.357422\" xlink:href=\"#DejaVuSans-116\"/>\r\n     <use x=\"1601.566406\" xlink:href=\"#DejaVuSans-32\"/>\r\n     <use x=\"1633.353516\" xlink:href=\"#DejaVuSans-115\"/>\r\n     <use x=\"1685.453125\" xlink:href=\"#DejaVuSans-111\"/>\r\n     <use x=\"1746.634766\" xlink:href=\"#DejaVuSans-99\"/>\r\n     <use x=\"1801.615234\" xlink:href=\"#DejaVuSans-99\"/>\r\n     <use x=\"1856.595703\" xlink:href=\"#DejaVuSans-101\"/>\r\n     <use x=\"1918.119141\" xlink:href=\"#DejaVuSans-114\"/>\r\n     <use x=\"1959.232422\" xlink:href=\"#DejaVuSans-32\"/>\r\n     <use x=\"1991.019531\" xlink:href=\"#DejaVuSans-108\"/>\r\n     <use x=\"2018.802734\" xlink:href=\"#DejaVuSans-101\"/>\r\n     <use x=\"2080.326172\" xlink:href=\"#DejaVuSans-97\"/>\r\n     <use x=\"2141.605469\" xlink:href=\"#DejaVuSans-103\"/>\r\n     <use x=\"2205.082031\" xlink:href=\"#DejaVuSans-117\"/>\r\n     <use x=\"2268.460938\" xlink:href=\"#DejaVuSans-101\"/>\r\n     <use x=\"2329.984375\" xlink:href=\"#DejaVuSans-115\"/>\r\n    </g>\r\n   </g>\r\n   <g id=\"legend_1\">\r\n    <g id=\"patch_17\">\r\n     <path d=\"M 309.709375 59.674375 \r\nL 410.240625 59.674375 \r\nQ 412.240625 59.674375 412.240625 57.674375 \r\nL 412.240625 29.318125 \r\nQ 412.240625 27.318125 410.240625 27.318125 \r\nL 309.709375 27.318125 \r\nQ 307.709375 27.318125 307.709375 29.318125 \r\nL 307.709375 57.674375 \r\nQ 307.709375 59.674375 309.709375 59.674375 \r\nz\r\n\" style=\"fill:#ffffff;opacity:0.8;stroke:#cccccc;stroke-linejoin:miter;\"/>\r\n    </g>\r\n    <g id=\"patch_18\">\r\n     <path d=\"M 311.709375 38.916562 \r\nL 331.709375 38.916562 \r\nL 331.709375 31.916562 \r\nL 311.709375 31.916562 \r\nz\r\n\" style=\"fill:#008000;\"/>\r\n    </g>\r\n    <g id=\"text_24\">\r\n     <!-- Season 18-19 -->\r\n     <defs>\r\n      <path d=\"M 4.890625 31.390625 \r\nL 31.203125 31.390625 \r\nL 31.203125 23.390625 \r\nL 4.890625 23.390625 \r\nz\r\n\" id=\"DejaVuSans-45\"/>\r\n     </defs>\r\n     <g transform=\"translate(339.709375 38.916562)scale(0.1 -0.1)\">\r\n      <use xlink:href=\"#DejaVuSans-83\"/>\r\n      <use x=\"63.476562\" xlink:href=\"#DejaVuSans-101\"/>\r\n      <use x=\"125\" xlink:href=\"#DejaVuSans-97\"/>\r\n      <use x=\"186.279297\" xlink:href=\"#DejaVuSans-115\"/>\r\n      <use x=\"238.378906\" xlink:href=\"#DejaVuSans-111\"/>\r\n      <use x=\"299.560547\" xlink:href=\"#DejaVuSans-110\"/>\r\n      <use x=\"362.939453\" xlink:href=\"#DejaVuSans-32\"/>\r\n      <use x=\"394.726562\" xlink:href=\"#DejaVuSans-49\"/>\r\n      <use x=\"458.349609\" xlink:href=\"#DejaVuSans-56\"/>\r\n      <use x=\"521.972656\" xlink:href=\"#DejaVuSans-45\"/>\r\n      <use x=\"558.056641\" xlink:href=\"#DejaVuSans-49\"/>\r\n      <use x=\"621.679688\" xlink:href=\"#DejaVuSans-57\"/>\r\n     </g>\r\n    </g>\r\n    <g id=\"patch_19\">\r\n     <path d=\"M 311.709375 53.594687 \r\nL 331.709375 53.594687 \r\nL 331.709375 46.594687 \r\nL 311.709375 46.594687 \r\nz\r\n\" style=\"fill:#ff0000;\"/>\r\n    </g>\r\n    <g id=\"text_25\">\r\n     <!-- Season 20-21 -->\r\n     <g transform=\"translate(339.709375 53.594687)scale(0.1 -0.1)\">\r\n      <use xlink:href=\"#DejaVuSans-83\"/>\r\n      <use x=\"63.476562\" xlink:href=\"#DejaVuSans-101\"/>\r\n      <use x=\"125\" xlink:href=\"#DejaVuSans-97\"/>\r\n      <use x=\"186.279297\" xlink:href=\"#DejaVuSans-115\"/>\r\n      <use x=\"238.378906\" xlink:href=\"#DejaVuSans-111\"/>\r\n      <use x=\"299.560547\" xlink:href=\"#DejaVuSans-110\"/>\r\n      <use x=\"362.939453\" xlink:href=\"#DejaVuSans-32\"/>\r\n      <use x=\"394.726562\" xlink:href=\"#DejaVuSans-50\"/>\r\n      <use x=\"458.349609\" xlink:href=\"#DejaVuSans-48\"/>\r\n      <use x=\"521.972656\" xlink:href=\"#DejaVuSans-45\"/>\r\n      <use x=\"558.056641\" xlink:href=\"#DejaVuSans-50\"/>\r\n      <use x=\"621.679688\" xlink:href=\"#DejaVuSans-49\"/>\r\n     </g>\r\n    </g>\r\n   </g>\r\n  </g>\r\n </g>\r\n <defs>\r\n  <clipPath id=\"pa0eabe0100\">\r\n   <rect height=\"233.4\" width=\"370.275\" x=\"46.965625\" y=\"22.318125\"/>\r\n  </clipPath>\r\n </defs>\r\n</svg>\r\n",
      "image/png": "[encoded data removed]"
     },
     "metadata": {
      "needs_background": "light"
     }
    }
   ],
   "source": [
    "labels = dict_away_18.keys()\n",
    "values_18 = dict_away_18.values()\n",
    "values_20 = dict_away_20.values()\n",
    "\n",
    "x = np.arange(len(labels))  # the label locations\n",
    "width = 0.25  # the width of the bars\n",
    "\n",
    "fig, ax = plt.subplots()\n",
    "rects1 = ax.bar(x - width/2 - 0.03, values_18, width, label='Season 18-19', color='Green')\n",
    "rects2 = ax.bar(x + width/2 + 0.03, values_20, width, label='Season 20-21', color='Red')\n",
    "\n",
    "# Add some text for labels, title and custom x-axis tick labels, etc.\n",
    "ax.set_ylabel('Away team victories [%]')\n",
    "ax.set_title('Away team victories in different soccer leagues')\n",
    "ax.set_xticks(x)\n",
    "ax.set_xticklabels(labels)\n",
    "ax.set_ylim(0, 100)\n",
    "ax.legend()\n",
    "\n",
    "\n",
    "def autolabel(rects):\n",
    "    \"\"\"Attach a text label above each bar in *rects*, displaying its height.\"\"\"\n",
    "    for rect in rects:\n",
    "        height = rect.get_height()\n",
    "        ax.annotate('{}'.format(height),\n",
    "                    xy=(rect.get_x() + rect.get_width() / 2, height),\n",
    "                    xytext=(0, 3),  # 3 points vertical offset\n",
    "                    textcoords=\"offset points\",\n",
    "                    ha='center', va='bottom')\n",
    "\n",
    "autolabel(rects1)\n",
    "autolabel(rects2)\n",
    "\n",
    "\n",
    "ratio_avg_18 = sum(dict_away_18.values()) / len(dict_away_18)\n",
    "ratio_avg_20 = sum(dict_away_20.values()) / len(dict_away_20)\n",
    "\n",
    "plt.axhline(y=ratio_avg_18, color=\"green\", linestyle=\"--\", alpha=0.7)\n",
    "plt.axhline(y=ratio_avg_20, color=\"red\", linestyle=\"--\", alpha=0.7)\n",
    "\n",
    "\n",
    "fig.tight_layout()\n",
    "\n",
    "plt.show()"
   ]
  },
  {
   "cell_type": "code",
   "execution_count": 200,
   "metadata": {},
   "outputs": [
    {
     "output_type": "stream",
     "name": "stdout",
     "text": [
      "29.6\n34.2\n4.600000000000001\n"
     ]
    }
   ],
   "source": [
    "print(ratio_avg_18)\n",
    "print(ratio_avg_20)\n",
    "print(ratio_avg_20 - ratio_avg_18)"
   ]
  },
  {
   "cell_type": "markdown",
   "metadata": {},
   "source": [
    "## Ratio Home/Away"
   ]
  },
  {
   "cell_type": "code",
   "execution_count": 201,
   "metadata": {},
   "outputs": [
    {
     "output_type": "execute_result",
     "data": {
      "text/plain": [
       "{'Serie A': 44, 'Bundesliga': 45, 'EPL': 48, 'Ligue 1': 43, 'La Liga': 44}"
      ]
     },
     "metadata": {},
     "execution_count": 201
    }
   ],
   "source": [
    "dict_home_18"
   ]
  },
  {
   "cell_type": "code",
   "execution_count": 202,
   "metadata": {},
   "outputs": [
    {
     "output_type": "execute_result",
     "data": {
      "text/plain": [
       "{'Serie A': 28, 'Bundesliga': 31, 'EPL': 34, 'Ligue 1': 28, 'La Liga': 27}"
      ]
     },
     "metadata": {},
     "execution_count": 202
    }
   ],
   "source": [
    "dict_away_18"
   ]
  },
  {
   "cell_type": "code",
   "execution_count": 203,
   "metadata": {},
   "outputs": [],
   "source": [
    "dict_ratio_18 = {}\n",
    "dict_ratio_20 = {}\n",
    "\n",
    "for key in dict_home_18.keys():\n",
    "    dict_ratio_18[key] = round(dict_home_18[key] / dict_away_18[key], 2)\n",
    "\n",
    "for key in dict_home_20.keys():\n",
    "    dict_ratio_20[key] = round(dict_home_20[key] / dict_away_20[key], 2)"
   ]
  },
  {
   "cell_type": "code",
   "execution_count": 204,
   "metadata": {},
   "outputs": [
    {
     "output_type": "display_data",
     "data": {
      "text/plain": "<Figure size 432x288 with 1 Axes>",
      "image/svg+xml": "<?xml version=\"1.0\" encoding=\"utf-8\" standalone=\"no\"?>\r\n<!DOCTYPE svg PUBLIC \"-//W3C//DTD SVG 1.1//EN\"\r\n  \"http://www.w3.org/Graphics/SVG/1.1/DTD/svg11.dtd\">\r\n<!-- Created with matplotlib (https://matplotlib.org/) -->\r\n<svg height=\"279.59625pt\" version=\"1.1\" viewBox=\"0 0 424.36875 279.59625\" width=\"424.36875pt\" xmlns=\"http://www.w3.org/2000/svg\" xmlns:xlink=\"http://www.w3.org/1999/xlink\">\r\n <defs>\r\n  <style type=\"text/css\">\r\n*{stroke-linecap:butt;stroke-linejoin:round;}\r\n  </style>\r\n </defs>\r\n <g id=\"figure_1\">\r\n  <g id=\"patch_1\">\r\n   <path d=\"M 0 279.59625 \r\nL 424.36875 279.59625 \r\nL 424.36875 0 \r\nL 0 0 \r\nz\r\n\" style=\"fill:none;\"/>\r\n  </g>\r\n  <g id=\"axes_1\">\r\n   <g id=\"patch_2\">\r\n    <path d=\"M 50.14375 255.718125 \r\nL 417.16875 255.718125 \r\nL 417.16875 22.318125 \r\nL 50.14375 22.318125 \r\nz\r\n\" style=\"fill:#ffffff;\"/>\r\n   </g>\r\n   <g id=\"patch_3\">\r\n    <path clip-path=\"url(#p7593c9d49d)\" d=\"M 66.826705 255.718125 \r\nL 85.119418 255.718125 \r\nL 85.119418 89.155398 \r\nL 66.826705 89.155398 \r\nz\r\n\" style=\"fill:#008000;\"/>\r\n   </g>\r\n   <g id=\"patch_4\">\r\n    <path clip-path=\"url(#p7593c9d49d)\" d=\"M 139.997558 255.718125 \r\nL 158.290271 255.718125 \r\nL 158.290271 101.886307 \r\nL 139.997558 101.886307 \r\nz\r\n\" style=\"fill:#008000;\"/>\r\n   </g>\r\n   <g id=\"patch_5\">\r\n    <path clip-path=\"url(#p7593c9d49d)\" d=\"M 213.168411 255.718125 \r\nL 231.461124 255.718125 \r\nL 231.461124 106.129943 \r\nL 213.168411 106.129943 \r\nz\r\n\" style=\"fill:#008000;\"/>\r\n   </g>\r\n   <g id=\"patch_6\">\r\n    <path clip-path=\"url(#p7593c9d49d)\" d=\"M 286.339264 255.718125 \r\nL 304.631978 255.718125 \r\nL 304.631978 92.338125 \r\nL 286.339264 92.338125 \r\nz\r\n\" style=\"fill:#008000;\"/>\r\n   </g>\r\n   <g id=\"patch_7\">\r\n    <path clip-path=\"url(#p7593c9d49d)\" d=\"M 359.510118 255.718125 \r\nL 377.802831 255.718125 \r\nL 377.802831 82.789943 \r\nL 359.510118 82.789943 \r\nz\r\n\" style=\"fill:#008000;\"/>\r\n   </g>\r\n   <g id=\"patch_8\">\r\n    <path clip-path=\"url(#p7593c9d49d)\" d=\"M 89.509669 255.718125 \r\nL 107.802382 255.718125 \r\nL 107.802382 127.348125 \r\nL 89.509669 127.348125 \r\nz\r\n\" style=\"fill:#ff0000;\"/>\r\n   </g>\r\n   <g id=\"patch_9\">\r\n    <path clip-path=\"url(#p7593c9d49d)\" d=\"M 162.680522 255.718125 \r\nL 180.973236 255.718125 \r\nL 180.973236 112.495398 \r\nL 162.680522 112.495398 \r\nz\r\n\" style=\"fill:#ff0000;\"/>\r\n   </g>\r\n   <g id=\"patch_10\">\r\n    <path clip-path=\"url(#p7593c9d49d)\" d=\"M 235.851376 255.718125 \r\nL 254.144089 255.718125 \r\nL 254.144089 157.05358 \r\nL 235.851376 157.05358 \r\nz\r\n\" style=\"fill:#ff0000;\"/>\r\n   </g>\r\n   <g id=\"patch_11\">\r\n    <path clip-path=\"url(#p7593c9d49d)\" d=\"M 309.022229 255.718125 \r\nL 327.314942 255.718125 \r\nL 327.314942 146.444489 \r\nL 309.022229 146.444489 \r\nz\r\n\" style=\"fill:#ff0000;\"/>\r\n   </g>\r\n   <g id=\"patch_12\">\r\n    <path clip-path=\"url(#p7593c9d49d)\" d=\"M 382.193082 255.718125 \r\nL 400.485795 255.718125 \r\nL 400.485795 101.886307 \r\nL 382.193082 101.886307 \r\nz\r\n\" style=\"fill:#ff0000;\"/>\r\n   </g>\r\n   <g id=\"matplotlib.axis_1\">\r\n    <g id=\"xtick_1\">\r\n     <g id=\"line2d_1\">\r\n      <defs>\r\n       <path d=\"M 0 0 \r\nL 0 3.5 \r\n\" id=\"m989a0f592b\" style=\"stroke:#000000;stroke-width:0.8;\"/>\r\n      </defs>\r\n      <g>\r\n       <use style=\"stroke:#000000;stroke-width:0.8;\" x=\"87.314543\" xlink:href=\"#m989a0f592b\" y=\"255.718125\"/>\r\n      </g>\r\n     </g>\r\n     <g id=\"text_1\">\r\n      <!-- Serie A -->\r\n      <defs>\r\n       <path d=\"M 53.515625 70.515625 \r\nL 53.515625 60.890625 \r\nQ 47.90625 63.578125 42.921875 64.890625 \r\nQ 37.9375 66.21875 33.296875 66.21875 \r\nQ 25.25 66.21875 20.875 63.09375 \r\nQ 16.5 59.96875 16.5 54.203125 \r\nQ 16.5 49.359375 19.40625 46.890625 \r\nQ 22.3125 44.4375 30.421875 42.921875 \r\nL 36.375 41.703125 \r\nQ 47.40625 39.59375 52.65625 34.296875 \r\nQ 57.90625 29 57.90625 20.125 \r\nQ 57.90625 9.515625 50.796875 4.046875 \r\nQ 43.703125 -1.421875 29.984375 -1.421875 \r\nQ 24.8125 -1.421875 18.96875 -0.25 \r\nQ 13.140625 0.921875 6.890625 3.21875 \r\nL 6.890625 13.375 \r\nQ 12.890625 10.015625 18.65625 8.296875 \r\nQ 24.421875 6.59375 29.984375 6.59375 \r\nQ 38.421875 6.59375 43.015625 9.90625 \r\nQ 47.609375 13.234375 47.609375 19.390625 \r\nQ 47.609375 24.75 44.3125 27.78125 \r\nQ 41.015625 30.8125 33.5 32.328125 \r\nL 27.484375 33.5 \r\nQ 16.453125 35.6875 11.515625 40.375 \r\nQ 6.59375 45.0625 6.59375 53.421875 \r\nQ 6.59375 63.09375 13.40625 68.65625 \r\nQ 20.21875 74.21875 32.171875 74.21875 \r\nQ 37.3125 74.21875 42.625 73.28125 \r\nQ 47.953125 72.359375 53.515625 70.515625 \r\nz\r\n\" id=\"DejaVuSans-83\"/>\r\n       <path d=\"M 56.203125 29.59375 \r\nL 56.203125 25.203125 \r\nL 14.890625 25.203125 \r\nQ 15.484375 15.921875 20.484375 11.0625 \r\nQ 25.484375 6.203125 34.421875 6.203125 \r\nQ 39.59375 6.203125 44.453125 7.46875 \r\nQ 49.3125 8.734375 54.109375 11.28125 \r\nL 54.109375 2.78125 \r\nQ 49.265625 0.734375 44.1875 -0.34375 \r\nQ 39.109375 -1.421875 33.890625 -1.421875 \r\nQ 20.796875 -1.421875 13.15625 6.1875 \r\nQ 5.515625 13.8125 5.515625 26.8125 \r\nQ 5.515625 40.234375 12.765625 48.109375 \r\nQ 20.015625 56 32.328125 56 \r\nQ 43.359375 56 49.78125 48.890625 \r\nQ 56.203125 41.796875 56.203125 29.59375 \r\nz\r\nM 47.21875 32.234375 \r\nQ 47.125 39.59375 43.09375 43.984375 \r\nQ 39.0625 48.390625 32.421875 48.390625 \r\nQ 24.90625 48.390625 20.390625 44.140625 \r\nQ 15.875 39.890625 15.1875 32.171875 \r\nz\r\n\" id=\"DejaVuSans-101\"/>\r\n       <path d=\"M 41.109375 46.296875 \r\nQ 39.59375 47.171875 37.8125 47.578125 \r\nQ 36.03125 48 33.890625 48 \r\nQ 26.265625 48 22.1875 43.046875 \r\nQ 18.109375 38.09375 18.109375 28.8125 \r\nL 18.109375 0 \r\nL 9.078125 0 \r\nL 9.078125 54.6875 \r\nL 18.109375 54.6875 \r\nL 18.109375 46.1875 \r\nQ 20.953125 51.171875 25.484375 53.578125 \r\nQ 30.03125 56 36.53125 56 \r\nQ 37.453125 56 38.578125 55.875 \r\nQ 39.703125 55.765625 41.0625 55.515625 \r\nz\r\n\" id=\"DejaVuSans-114\"/>\r\n       <path d=\"M 9.421875 54.6875 \r\nL 18.40625 54.6875 \r\nL 18.40625 0 \r\nL 9.421875 0 \r\nz\r\nM 9.421875 75.984375 \r\nL 18.40625 75.984375 \r\nL 18.40625 64.59375 \r\nL 9.421875 64.59375 \r\nz\r\n\" id=\"DejaVuSans-105\"/>\r\n       <path id=\"DejaVuSans-32\"/>\r\n       <path d=\"M 34.1875 63.1875 \r\nL 20.796875 26.90625 \r\nL 47.609375 26.90625 \r\nz\r\nM 28.609375 72.90625 \r\nL 39.796875 72.90625 \r\nL 67.578125 0 \r\nL 57.328125 0 \r\nL 50.6875 18.703125 \r\nL 17.828125 18.703125 \r\nL 11.1875 0 \r\nL 0.78125 0 \r\nz\r\n\" id=\"DejaVuSans-65\"/>\r\n      </defs>\r\n      <g transform=\"translate(69.533293 270.316563)scale(0.1 -0.1)\">\r\n       <use xlink:href=\"#DejaVuSans-83\"/>\r\n       <use x=\"63.476562\" xlink:href=\"#DejaVuSans-101\"/>\r\n       <use x=\"125\" xlink:href=\"#DejaVuSans-114\"/>\r\n       <use x=\"166.113281\" xlink:href=\"#DejaVuSans-105\"/>\r\n       <use x=\"193.896484\" xlink:href=\"#DejaVuSans-101\"/>\r\n       <use x=\"255.419922\" xlink:href=\"#DejaVuSans-32\"/>\r\n       <use x=\"287.207031\" xlink:href=\"#DejaVuSans-65\"/>\r\n      </g>\r\n     </g>\r\n    </g>\r\n    <g id=\"xtick_2\">\r\n     <g id=\"line2d_2\">\r\n      <g>\r\n       <use style=\"stroke:#000000;stroke-width:0.8;\" x=\"160.485397\" xlink:href=\"#m989a0f592b\" y=\"255.718125\"/>\r\n      </g>\r\n     </g>\r\n     <g id=\"text_2\">\r\n      <!-- Bundesliga -->\r\n      <defs>\r\n       <path d=\"M 19.671875 34.8125 \r\nL 19.671875 8.109375 \r\nL 35.5 8.109375 \r\nQ 43.453125 8.109375 47.28125 11.40625 \r\nQ 51.125 14.703125 51.125 21.484375 \r\nQ 51.125 28.328125 47.28125 31.5625 \r\nQ 43.453125 34.8125 35.5 34.8125 \r\nz\r\nM 19.671875 64.796875 \r\nL 19.671875 42.828125 \r\nL 34.28125 42.828125 \r\nQ 41.5 42.828125 45.03125 45.53125 \r\nQ 48.578125 48.25 48.578125 53.8125 \r\nQ 48.578125 59.328125 45.03125 62.0625 \r\nQ 41.5 64.796875 34.28125 64.796875 \r\nz\r\nM 9.8125 72.90625 \r\nL 35.015625 72.90625 \r\nQ 46.296875 72.90625 52.390625 68.21875 \r\nQ 58.5 63.53125 58.5 54.890625 \r\nQ 58.5 48.1875 55.375 44.234375 \r\nQ 52.25 40.28125 46.1875 39.3125 \r\nQ 53.46875 37.75 57.5 32.78125 \r\nQ 61.53125 27.828125 61.53125 20.40625 \r\nQ 61.53125 10.640625 54.890625 5.3125 \r\nQ 48.25 0 35.984375 0 \r\nL 9.8125 0 \r\nz\r\n\" id=\"DejaVuSans-66\"/>\r\n       <path d=\"M 8.5 21.578125 \r\nL 8.5 54.6875 \r\nL 17.484375 54.6875 \r\nL 17.484375 21.921875 \r\nQ 17.484375 14.15625 20.5 10.265625 \r\nQ 23.53125 6.390625 29.59375 6.390625 \r\nQ 36.859375 6.390625 41.078125 11.03125 \r\nQ 45.3125 15.671875 45.3125 23.6875 \r\nL 45.3125 54.6875 \r\nL 54.296875 54.6875 \r\nL 54.296875 0 \r\nL 45.3125 0 \r\nL 45.3125 8.40625 \r\nQ 42.046875 3.421875 37.71875 1 \r\nQ 33.40625 -1.421875 27.6875 -1.421875 \r\nQ 18.265625 -1.421875 13.375 4.4375 \r\nQ 8.5 10.296875 8.5 21.578125 \r\nz\r\nM 31.109375 56 \r\nz\r\n\" id=\"DejaVuSans-117\"/>\r\n       <path d=\"M 54.890625 33.015625 \r\nL 54.890625 0 \r\nL 45.90625 0 \r\nL 45.90625 32.71875 \r\nQ 45.90625 40.484375 42.875 44.328125 \r\nQ 39.84375 48.1875 33.796875 48.1875 \r\nQ 26.515625 48.1875 22.3125 43.546875 \r\nQ 18.109375 38.921875 18.109375 30.90625 \r\nL 18.109375 0 \r\nL 9.078125 0 \r\nL 9.078125 54.6875 \r\nL 18.109375 54.6875 \r\nL 18.109375 46.1875 \r\nQ 21.34375 51.125 25.703125 53.5625 \r\nQ 30.078125 56 35.796875 56 \r\nQ 45.21875 56 50.046875 50.171875 \r\nQ 54.890625 44.34375 54.890625 33.015625 \r\nz\r\n\" id=\"DejaVuSans-110\"/>\r\n       <path d=\"M 45.40625 46.390625 \r\nL 45.40625 75.984375 \r\nL 54.390625 75.984375 \r\nL 54.390625 0 \r\nL 45.40625 0 \r\nL 45.40625 8.203125 \r\nQ 42.578125 3.328125 38.25 0.953125 \r\nQ 33.9375 -1.421875 27.875 -1.421875 \r\nQ 17.96875 -1.421875 11.734375 6.484375 \r\nQ 5.515625 14.40625 5.515625 27.296875 \r\nQ 5.515625 40.1875 11.734375 48.09375 \r\nQ 17.96875 56 27.875 56 \r\nQ 33.9375 56 38.25 53.625 \r\nQ 42.578125 51.265625 45.40625 46.390625 \r\nz\r\nM 14.796875 27.296875 \r\nQ 14.796875 17.390625 18.875 11.75 \r\nQ 22.953125 6.109375 30.078125 6.109375 \r\nQ 37.203125 6.109375 41.296875 11.75 \r\nQ 45.40625 17.390625 45.40625 27.296875 \r\nQ 45.40625 37.203125 41.296875 42.84375 \r\nQ 37.203125 48.484375 30.078125 48.484375 \r\nQ 22.953125 48.484375 18.875 42.84375 \r\nQ 14.796875 37.203125 14.796875 27.296875 \r\nz\r\n\" id=\"DejaVuSans-100\"/>\r\n       <path d=\"M 44.28125 53.078125 \r\nL 44.28125 44.578125 \r\nQ 40.484375 46.53125 36.375 47.5 \r\nQ 32.28125 48.484375 27.875 48.484375 \r\nQ 21.1875 48.484375 17.84375 46.4375 \r\nQ 14.5 44.390625 14.5 40.28125 \r\nQ 14.5 37.15625 16.890625 35.375 \r\nQ 19.28125 33.59375 26.515625 31.984375 \r\nL 29.59375 31.296875 \r\nQ 39.15625 29.25 43.1875 25.515625 \r\nQ 47.21875 21.78125 47.21875 15.09375 \r\nQ 47.21875 7.46875 41.1875 3.015625 \r\nQ 35.15625 -1.421875 24.609375 -1.421875 \r\nQ 20.21875 -1.421875 15.453125 -0.5625 \r\nQ 10.6875 0.296875 5.421875 2 \r\nL 5.421875 11.28125 \r\nQ 10.40625 8.6875 15.234375 7.390625 \r\nQ 20.0625 6.109375 24.8125 6.109375 \r\nQ 31.15625 6.109375 34.5625 8.28125 \r\nQ 37.984375 10.453125 37.984375 14.40625 \r\nQ 37.984375 18.0625 35.515625 20.015625 \r\nQ 33.0625 21.96875 24.703125 23.78125 \r\nL 21.578125 24.515625 \r\nQ 13.234375 26.265625 9.515625 29.90625 \r\nQ 5.8125 33.546875 5.8125 39.890625 \r\nQ 5.8125 47.609375 11.28125 51.796875 \r\nQ 16.75 56 26.8125 56 \r\nQ 31.78125 56 36.171875 55.265625 \r\nQ 40.578125 54.546875 44.28125 53.078125 \r\nz\r\n\" id=\"DejaVuSans-115\"/>\r\n       <path d=\"M 9.421875 75.984375 \r\nL 18.40625 75.984375 \r\nL 18.40625 0 \r\nL 9.421875 0 \r\nz\r\n\" id=\"DejaVuSans-108\"/>\r\n       <path d=\"M 45.40625 27.984375 \r\nQ 45.40625 37.75 41.375 43.109375 \r\nQ 37.359375 48.484375 30.078125 48.484375 \r\nQ 22.859375 48.484375 18.828125 43.109375 \r\nQ 14.796875 37.75 14.796875 27.984375 \r\nQ 14.796875 18.265625 18.828125 12.890625 \r\nQ 22.859375 7.515625 30.078125 7.515625 \r\nQ 37.359375 7.515625 41.375 12.890625 \r\nQ 45.40625 18.265625 45.40625 27.984375 \r\nz\r\nM 54.390625 6.78125 \r\nQ 54.390625 -7.171875 48.1875 -13.984375 \r\nQ 42 -20.796875 29.203125 -20.796875 \r\nQ 24.46875 -20.796875 20.265625 -20.09375 \r\nQ 16.0625 -19.390625 12.109375 -17.921875 \r\nL 12.109375 -9.1875 \r\nQ 16.0625 -11.328125 19.921875 -12.34375 \r\nQ 23.78125 -13.375 27.78125 -13.375 \r\nQ 36.625 -13.375 41.015625 -8.765625 \r\nQ 45.40625 -4.15625 45.40625 5.171875 \r\nL 45.40625 9.625 \r\nQ 42.625 4.78125 38.28125 2.390625 \r\nQ 33.9375 0 27.875 0 \r\nQ 17.828125 0 11.671875 7.65625 \r\nQ 5.515625 15.328125 5.515625 27.984375 \r\nQ 5.515625 40.671875 11.671875 48.328125 \r\nQ 17.828125 56 27.875 56 \r\nQ 33.9375 56 38.28125 53.609375 \r\nQ 42.625 51.21875 45.40625 46.390625 \r\nL 45.40625 54.6875 \r\nL 54.390625 54.6875 \r\nz\r\n\" id=\"DejaVuSans-103\"/>\r\n       <path d=\"M 34.28125 27.484375 \r\nQ 23.390625 27.484375 19.1875 25 \r\nQ 14.984375 22.515625 14.984375 16.5 \r\nQ 14.984375 11.71875 18.140625 8.90625 \r\nQ 21.296875 6.109375 26.703125 6.109375 \r\nQ 34.1875 6.109375 38.703125 11.40625 \r\nQ 43.21875 16.703125 43.21875 25.484375 \r\nL 43.21875 27.484375 \r\nz\r\nM 52.203125 31.203125 \r\nL 52.203125 0 \r\nL 43.21875 0 \r\nL 43.21875 8.296875 \r\nQ 40.140625 3.328125 35.546875 0.953125 \r\nQ 30.953125 -1.421875 24.3125 -1.421875 \r\nQ 15.921875 -1.421875 10.953125 3.296875 \r\nQ 6 8.015625 6 15.921875 \r\nQ 6 25.140625 12.171875 29.828125 \r\nQ 18.359375 34.515625 30.609375 34.515625 \r\nL 43.21875 34.515625 \r\nL 43.21875 35.40625 \r\nQ 43.21875 41.609375 39.140625 45 \r\nQ 35.0625 48.390625 27.6875 48.390625 \r\nQ 23 48.390625 18.546875 47.265625 \r\nQ 14.109375 46.140625 10.015625 43.890625 \r\nL 10.015625 52.203125 \r\nQ 14.9375 54.109375 19.578125 55.046875 \r\nQ 24.21875 56 28.609375 56 \r\nQ 40.484375 56 46.34375 49.84375 \r\nQ 52.203125 43.703125 52.203125 31.203125 \r\nz\r\n\" id=\"DejaVuSans-97\"/>\r\n      </defs>\r\n      <g transform=\"translate(132.845553 270.316563)scale(0.1 -0.1)\">\r\n       <use xlink:href=\"#DejaVuSans-66\"/>\r\n       <use x=\"68.603516\" xlink:href=\"#DejaVuSans-117\"/>\r\n       <use x=\"131.982422\" xlink:href=\"#DejaVuSans-110\"/>\r\n       <use x=\"195.361328\" xlink:href=\"#DejaVuSans-100\"/>\r\n       <use x=\"258.837891\" xlink:href=\"#DejaVuSans-101\"/>\r\n       <use x=\"320.361328\" xlink:href=\"#DejaVuSans-115\"/>\r\n       <use x=\"372.460938\" xlink:href=\"#DejaVuSans-108\"/>\r\n       <use x=\"400.244141\" xlink:href=\"#DejaVuSans-105\"/>\r\n       <use x=\"428.027344\" xlink:href=\"#DejaVuSans-103\"/>\r\n       <use x=\"491.503906\" xlink:href=\"#DejaVuSans-97\"/>\r\n      </g>\r\n     </g>\r\n    </g>\r\n    <g id=\"xtick_3\">\r\n     <g id=\"line2d_3\">\r\n      <g>\r\n       <use style=\"stroke:#000000;stroke-width:0.8;\" x=\"233.65625\" xlink:href=\"#m989a0f592b\" y=\"255.718125\"/>\r\n      </g>\r\n     </g>\r\n     <g id=\"text_3\">\r\n      <!-- EPL -->\r\n      <defs>\r\n       <path d=\"M 9.8125 72.90625 \r\nL 55.90625 72.90625 \r\nL 55.90625 64.59375 \r\nL 19.671875 64.59375 \r\nL 19.671875 43.015625 \r\nL 54.390625 43.015625 \r\nL 54.390625 34.71875 \r\nL 19.671875 34.71875 \r\nL 19.671875 8.296875 \r\nL 56.78125 8.296875 \r\nL 56.78125 0 \r\nL 9.8125 0 \r\nz\r\n\" id=\"DejaVuSans-69\"/>\r\n       <path d=\"M 19.671875 64.796875 \r\nL 19.671875 37.40625 \r\nL 32.078125 37.40625 \r\nQ 38.96875 37.40625 42.71875 40.96875 \r\nQ 46.484375 44.53125 46.484375 51.125 \r\nQ 46.484375 57.671875 42.71875 61.234375 \r\nQ 38.96875 64.796875 32.078125 64.796875 \r\nz\r\nM 9.8125 72.90625 \r\nL 32.078125 72.90625 \r\nQ 44.34375 72.90625 50.609375 67.359375 \r\nQ 56.890625 61.8125 56.890625 51.125 \r\nQ 56.890625 40.328125 50.609375 34.8125 \r\nQ 44.34375 29.296875 32.078125 29.296875 \r\nL 19.671875 29.296875 \r\nL 19.671875 0 \r\nL 9.8125 0 \r\nz\r\n\" id=\"DejaVuSans-80\"/>\r\n       <path d=\"M 9.8125 72.90625 \r\nL 19.671875 72.90625 \r\nL 19.671875 8.296875 \r\nL 55.171875 8.296875 \r\nL 55.171875 0 \r\nL 9.8125 0 \r\nz\r\n\" id=\"DejaVuSans-76\"/>\r\n      </defs>\r\n      <g transform=\"translate(224.696094 270.316563)scale(0.1 -0.1)\">\r\n       <use xlink:href=\"#DejaVuSans-69\"/>\r\n       <use x=\"63.183594\" xlink:href=\"#DejaVuSans-80\"/>\r\n       <use x=\"123.486328\" xlink:href=\"#DejaVuSans-76\"/>\r\n      </g>\r\n     </g>\r\n    </g>\r\n    <g id=\"xtick_4\">\r\n     <g id=\"line2d_4\">\r\n      <g>\r\n       <use style=\"stroke:#000000;stroke-width:0.8;\" x=\"306.827103\" xlink:href=\"#m989a0f592b\" y=\"255.718125\"/>\r\n      </g>\r\n     </g>\r\n     <g id=\"text_4\">\r\n      <!-- Ligue 1 -->\r\n      <defs>\r\n       <path d=\"M 12.40625 8.296875 \r\nL 28.515625 8.296875 \r\nL 28.515625 63.921875 \r\nL 10.984375 60.40625 \r\nL 10.984375 69.390625 \r\nL 28.421875 72.90625 \r\nL 38.28125 72.90625 \r\nL 38.28125 8.296875 \r\nL 54.390625 8.296875 \r\nL 54.390625 0 \r\nL 12.40625 0 \r\nz\r\n\" id=\"DejaVuSans-49\"/>\r\n      </defs>\r\n      <g transform=\"translate(288.46226 270.316563)scale(0.1 -0.1)\">\r\n       <use xlink:href=\"#DejaVuSans-76\"/>\r\n       <use x=\"55.712891\" xlink:href=\"#DejaVuSans-105\"/>\r\n       <use x=\"83.496094\" xlink:href=\"#DejaVuSans-103\"/>\r\n       <use x=\"146.972656\" xlink:href=\"#DejaVuSans-117\"/>\r\n       <use x=\"210.351562\" xlink:href=\"#DejaVuSans-101\"/>\r\n       <use x=\"271.875\" xlink:href=\"#DejaVuSans-32\"/>\r\n       <use x=\"303.662109\" xlink:href=\"#DejaVuSans-49\"/>\r\n      </g>\r\n     </g>\r\n    </g>\r\n    <g id=\"xtick_5\">\r\n     <g id=\"line2d_5\">\r\n      <g>\r\n       <use style=\"stroke:#000000;stroke-width:0.8;\" x=\"379.997957\" xlink:href=\"#m989a0f592b\" y=\"255.718125\"/>\r\n      </g>\r\n     </g>\r\n     <g id=\"text_5\">\r\n      <!-- La Liga -->\r\n      <g transform=\"translate(362.145613 270.316563)scale(0.1 -0.1)\">\r\n       <use xlink:href=\"#DejaVuSans-76\"/>\r\n       <use x=\"55.712891\" xlink:href=\"#DejaVuSans-97\"/>\r\n       <use x=\"116.992188\" xlink:href=\"#DejaVuSans-32\"/>\r\n       <use x=\"148.779297\" xlink:href=\"#DejaVuSans-76\"/>\r\n       <use x=\"204.492188\" xlink:href=\"#DejaVuSans-105\"/>\r\n       <use x=\"232.275391\" xlink:href=\"#DejaVuSans-103\"/>\r\n       <use x=\"295.751953\" xlink:href=\"#DejaVuSans-97\"/>\r\n      </g>\r\n     </g>\r\n    </g>\r\n   </g>\r\n   <g id=\"matplotlib.axis_2\">\r\n    <g id=\"ytick_1\">\r\n     <g id=\"line2d_6\">\r\n      <defs>\r\n       <path d=\"M 0 0 \r\nL -3.5 0 \r\n\" id=\"m884b58648f\" style=\"stroke:#000000;stroke-width:0.8;\"/>\r\n      </defs>\r\n      <g>\r\n       <use style=\"stroke:#000000;stroke-width:0.8;\" x=\"50.14375\" xlink:href=\"#m884b58648f\" y=\"255.718125\"/>\r\n      </g>\r\n     </g>\r\n     <g id=\"text_6\">\r\n      <!-- 0.00 -->\r\n      <defs>\r\n       <path d=\"M 31.78125 66.40625 \r\nQ 24.171875 66.40625 20.328125 58.90625 \r\nQ 16.5 51.421875 16.5 36.375 \r\nQ 16.5 21.390625 20.328125 13.890625 \r\nQ 24.171875 6.390625 31.78125 6.390625 \r\nQ 39.453125 6.390625 43.28125 13.890625 \r\nQ 47.125 21.390625 47.125 36.375 \r\nQ 47.125 51.421875 43.28125 58.90625 \r\nQ 39.453125 66.40625 31.78125 66.40625 \r\nz\r\nM 31.78125 74.21875 \r\nQ 44.046875 74.21875 50.515625 64.515625 \r\nQ 56.984375 54.828125 56.984375 36.375 \r\nQ 56.984375 17.96875 50.515625 8.265625 \r\nQ 44.046875 -1.421875 31.78125 -1.421875 \r\nQ 19.53125 -1.421875 13.0625 8.265625 \r\nQ 6.59375 17.96875 6.59375 36.375 \r\nQ 6.59375 54.828125 13.0625 64.515625 \r\nQ 19.53125 74.21875 31.78125 74.21875 \r\nz\r\n\" id=\"DejaVuSans-48\"/>\r\n       <path d=\"M 10.6875 12.40625 \r\nL 21 12.40625 \r\nL 21 0 \r\nL 10.6875 0 \r\nz\r\n\" id=\"DejaVuSans-46\"/>\r\n      </defs>\r\n      <g transform=\"translate(20.878125 259.517344)scale(0.1 -0.1)\">\r\n       <use xlink:href=\"#DejaVuSans-48\"/>\r\n       <use x=\"63.623047\" xlink:href=\"#DejaVuSans-46\"/>\r\n       <use x=\"95.410156\" xlink:href=\"#DejaVuSans-48\"/>\r\n       <use x=\"159.033203\" xlink:href=\"#DejaVuSans-48\"/>\r\n      </g>\r\n     </g>\r\n    </g>\r\n    <g id=\"ytick_2\">\r\n     <g id=\"line2d_7\">\r\n      <g>\r\n       <use style=\"stroke:#000000;stroke-width:0.8;\" x=\"50.14375\" xlink:href=\"#m884b58648f\" y=\"229.195398\"/>\r\n      </g>\r\n     </g>\r\n     <g id=\"text_7\">\r\n      <!-- 0.25 -->\r\n      <defs>\r\n       <path d=\"M 19.1875 8.296875 \r\nL 53.609375 8.296875 \r\nL 53.609375 0 \r\nL 7.328125 0 \r\nL 7.328125 8.296875 \r\nQ 12.9375 14.109375 22.625 23.890625 \r\nQ 32.328125 33.6875 34.8125 36.53125 \r\nQ 39.546875 41.84375 41.421875 45.53125 \r\nQ 43.3125 49.21875 43.3125 52.78125 \r\nQ 43.3125 58.59375 39.234375 62.25 \r\nQ 35.15625 65.921875 28.609375 65.921875 \r\nQ 23.96875 65.921875 18.8125 64.3125 \r\nQ 13.671875 62.703125 7.8125 59.421875 \r\nL 7.8125 69.390625 \r\nQ 13.765625 71.78125 18.9375 73 \r\nQ 24.125 74.21875 28.421875 74.21875 \r\nQ 39.75 74.21875 46.484375 68.546875 \r\nQ 53.21875 62.890625 53.21875 53.421875 \r\nQ 53.21875 48.921875 51.53125 44.890625 \r\nQ 49.859375 40.875 45.40625 35.40625 \r\nQ 44.1875 33.984375 37.640625 27.21875 \r\nQ 31.109375 20.453125 19.1875 8.296875 \r\nz\r\n\" id=\"DejaVuSans-50\"/>\r\n       <path d=\"M 10.796875 72.90625 \r\nL 49.515625 72.90625 \r\nL 49.515625 64.59375 \r\nL 19.828125 64.59375 \r\nL 19.828125 46.734375 \r\nQ 21.96875 47.46875 24.109375 47.828125 \r\nQ 26.265625 48.1875 28.421875 48.1875 \r\nQ 40.625 48.1875 47.75 41.5 \r\nQ 54.890625 34.8125 54.890625 23.390625 \r\nQ 54.890625 11.625 47.5625 5.09375 \r\nQ 40.234375 -1.421875 26.90625 -1.421875 \r\nQ 22.3125 -1.421875 17.546875 -0.640625 \r\nQ 12.796875 0.140625 7.71875 1.703125 \r\nL 7.71875 11.625 \r\nQ 12.109375 9.234375 16.796875 8.0625 \r\nQ 21.484375 6.890625 26.703125 6.890625 \r\nQ 35.15625 6.890625 40.078125 11.328125 \r\nQ 45.015625 15.765625 45.015625 23.390625 \r\nQ 45.015625 31 40.078125 35.4375 \r\nQ 35.15625 39.890625 26.703125 39.890625 \r\nQ 22.75 39.890625 18.8125 39.015625 \r\nQ 14.890625 38.140625 10.796875 36.28125 \r\nz\r\n\" id=\"DejaVuSans-53\"/>\r\n      </defs>\r\n      <g transform=\"translate(20.878125 232.994616)scale(0.1 -0.1)\">\r\n       <use xlink:href=\"#DejaVuSans-48\"/>\r\n       <use x=\"63.623047\" xlink:href=\"#DejaVuSans-46\"/>\r\n       <use x=\"95.410156\" xlink:href=\"#DejaVuSans-50\"/>\r\n       <use x=\"159.033203\" xlink:href=\"#DejaVuSans-53\"/>\r\n      </g>\r\n     </g>\r\n    </g>\r\n    <g id=\"ytick_3\">\r\n     <g id=\"line2d_8\">\r\n      <g>\r\n       <use style=\"stroke:#000000;stroke-width:0.8;\" x=\"50.14375\" xlink:href=\"#m884b58648f\" y=\"202.67267\"/>\r\n      </g>\r\n     </g>\r\n     <g id=\"text_8\">\r\n      <!-- 0.50 -->\r\n      <g transform=\"translate(20.878125 206.471889)scale(0.1 -0.1)\">\r\n       <use xlink:href=\"#DejaVuSans-48\"/>\r\n       <use x=\"63.623047\" xlink:href=\"#DejaVuSans-46\"/>\r\n       <use x=\"95.410156\" xlink:href=\"#DejaVuSans-53\"/>\r\n       <use x=\"159.033203\" xlink:href=\"#DejaVuSans-48\"/>\r\n      </g>\r\n     </g>\r\n    </g>\r\n    <g id=\"ytick_4\">\r\n     <g id=\"line2d_9\">\r\n      <g>\r\n       <use style=\"stroke:#000000;stroke-width:0.8;\" x=\"50.14375\" xlink:href=\"#m884b58648f\" y=\"176.149943\"/>\r\n      </g>\r\n     </g>\r\n     <g id=\"text_9\">\r\n      <!-- 0.75 -->\r\n      <defs>\r\n       <path d=\"M 8.203125 72.90625 \r\nL 55.078125 72.90625 \r\nL 55.078125 68.703125 \r\nL 28.609375 0 \r\nL 18.3125 0 \r\nL 43.21875 64.59375 \r\nL 8.203125 64.59375 \r\nz\r\n\" id=\"DejaVuSans-55\"/>\r\n      </defs>\r\n      <g transform=\"translate(20.878125 179.949162)scale(0.1 -0.1)\">\r\n       <use xlink:href=\"#DejaVuSans-48\"/>\r\n       <use x=\"63.623047\" xlink:href=\"#DejaVuSans-46\"/>\r\n       <use x=\"95.410156\" xlink:href=\"#DejaVuSans-55\"/>\r\n       <use x=\"159.033203\" xlink:href=\"#DejaVuSans-53\"/>\r\n      </g>\r\n     </g>\r\n    </g>\r\n    <g id=\"ytick_5\">\r\n     <g id=\"line2d_10\">\r\n      <g>\r\n       <use style=\"stroke:#000000;stroke-width:0.8;\" x=\"50.14375\" xlink:href=\"#m884b58648f\" y=\"149.627216\"/>\r\n      </g>\r\n     </g>\r\n     <g id=\"text_10\">\r\n      <!-- 1.00 -->\r\n      <g transform=\"translate(20.878125 153.426435)scale(0.1 -0.1)\">\r\n       <use xlink:href=\"#DejaVuSans-49\"/>\r\n       <use x=\"63.623047\" xlink:href=\"#DejaVuSans-46\"/>\r\n       <use x=\"95.410156\" xlink:href=\"#DejaVuSans-48\"/>\r\n       <use x=\"159.033203\" xlink:href=\"#DejaVuSans-48\"/>\r\n      </g>\r\n     </g>\r\n    </g>\r\n    <g id=\"ytick_6\">\r\n     <g id=\"line2d_11\">\r\n      <g>\r\n       <use style=\"stroke:#000000;stroke-width:0.8;\" x=\"50.14375\" xlink:href=\"#m884b58648f\" y=\"123.104489\"/>\r\n      </g>\r\n     </g>\r\n     <g id=\"text_11\">\r\n      <!-- 1.25 -->\r\n      <g transform=\"translate(20.878125 126.903707)scale(0.1 -0.1)\">\r\n       <use xlink:href=\"#DejaVuSans-49\"/>\r\n       <use x=\"63.623047\" xlink:href=\"#DejaVuSans-46\"/>\r\n       <use x=\"95.410156\" xlink:href=\"#DejaVuSans-50\"/>\r\n       <use x=\"159.033203\" xlink:href=\"#DejaVuSans-53\"/>\r\n      </g>\r\n     </g>\r\n    </g>\r\n    <g id=\"ytick_7\">\r\n     <g id=\"line2d_12\">\r\n      <g>\r\n       <use style=\"stroke:#000000;stroke-width:0.8;\" x=\"50.14375\" xlink:href=\"#m884b58648f\" y=\"96.581761\"/>\r\n      </g>\r\n     </g>\r\n     <g id=\"text_12\">\r\n      <!-- 1.50 -->\r\n      <g transform=\"translate(20.878125 100.38098)scale(0.1 -0.1)\">\r\n       <use xlink:href=\"#DejaVuSans-49\"/>\r\n       <use x=\"63.623047\" xlink:href=\"#DejaVuSans-46\"/>\r\n       <use x=\"95.410156\" xlink:href=\"#DejaVuSans-53\"/>\r\n       <use x=\"159.033203\" xlink:href=\"#DejaVuSans-48\"/>\r\n      </g>\r\n     </g>\r\n    </g>\r\n    <g id=\"ytick_8\">\r\n     <g id=\"line2d_13\">\r\n      <g>\r\n       <use style=\"stroke:#000000;stroke-width:0.8;\" x=\"50.14375\" xlink:href=\"#m884b58648f\" y=\"70.059034\"/>\r\n      </g>\r\n     </g>\r\n     <g id=\"text_13\">\r\n      <!-- 1.75 -->\r\n      <g transform=\"translate(20.878125 73.858253)scale(0.1 -0.1)\">\r\n       <use xlink:href=\"#DejaVuSans-49\"/>\r\n       <use x=\"63.623047\" xlink:href=\"#DejaVuSans-46\"/>\r\n       <use x=\"95.410156\" xlink:href=\"#DejaVuSans-55\"/>\r\n       <use x=\"159.033203\" xlink:href=\"#DejaVuSans-53\"/>\r\n      </g>\r\n     </g>\r\n    </g>\r\n    <g id=\"ytick_9\">\r\n     <g id=\"line2d_14\">\r\n      <g>\r\n       <use style=\"stroke:#000000;stroke-width:0.8;\" x=\"50.14375\" xlink:href=\"#m884b58648f\" y=\"43.536307\"/>\r\n      </g>\r\n     </g>\r\n     <g id=\"text_14\">\r\n      <!-- 2.00 -->\r\n      <g transform=\"translate(20.878125 47.335526)scale(0.1 -0.1)\">\r\n       <use xlink:href=\"#DejaVuSans-50\"/>\r\n       <use x=\"63.623047\" xlink:href=\"#DejaVuSans-46\"/>\r\n       <use x=\"95.410156\" xlink:href=\"#DejaVuSans-48\"/>\r\n       <use x=\"159.033203\" xlink:href=\"#DejaVuSans-48\"/>\r\n      </g>\r\n     </g>\r\n    </g>\r\n    <g id=\"text_15\">\r\n     <!-- Ratio home/away wins -->\r\n     <defs>\r\n      <path d=\"M 44.390625 34.1875 \r\nQ 47.5625 33.109375 50.5625 29.59375 \r\nQ 53.5625 26.078125 56.59375 19.921875 \r\nL 66.609375 0 \r\nL 56 0 \r\nL 46.6875 18.703125 \r\nQ 43.0625 26.03125 39.671875 28.421875 \r\nQ 36.28125 30.8125 30.421875 30.8125 \r\nL 19.671875 30.8125 \r\nL 19.671875 0 \r\nL 9.8125 0 \r\nL 9.8125 72.90625 \r\nL 32.078125 72.90625 \r\nQ 44.578125 72.90625 50.734375 67.671875 \r\nQ 56.890625 62.453125 56.890625 51.90625 \r\nQ 56.890625 45.015625 53.6875 40.46875 \r\nQ 50.484375 35.9375 44.390625 34.1875 \r\nz\r\nM 19.671875 64.796875 \r\nL 19.671875 38.921875 \r\nL 32.078125 38.921875 \r\nQ 39.203125 38.921875 42.84375 42.21875 \r\nQ 46.484375 45.515625 46.484375 51.90625 \r\nQ 46.484375 58.296875 42.84375 61.546875 \r\nQ 39.203125 64.796875 32.078125 64.796875 \r\nz\r\n\" id=\"DejaVuSans-82\"/>\r\n      <path d=\"M 18.3125 70.21875 \r\nL 18.3125 54.6875 \r\nL 36.8125 54.6875 \r\nL 36.8125 47.703125 \r\nL 18.3125 47.703125 \r\nL 18.3125 18.015625 \r\nQ 18.3125 11.328125 20.140625 9.421875 \r\nQ 21.96875 7.515625 27.59375 7.515625 \r\nL 36.8125 7.515625 \r\nL 36.8125 0 \r\nL 27.59375 0 \r\nQ 17.1875 0 13.234375 3.875 \r\nQ 9.28125 7.765625 9.28125 18.015625 \r\nL 9.28125 47.703125 \r\nL 2.6875 47.703125 \r\nL 2.6875 54.6875 \r\nL 9.28125 54.6875 \r\nL 9.28125 70.21875 \r\nz\r\n\" id=\"DejaVuSans-116\"/>\r\n      <path d=\"M 30.609375 48.390625 \r\nQ 23.390625 48.390625 19.1875 42.75 \r\nQ 14.984375 37.109375 14.984375 27.296875 \r\nQ 14.984375 17.484375 19.15625 11.84375 \r\nQ 23.34375 6.203125 30.609375 6.203125 \r\nQ 37.796875 6.203125 41.984375 11.859375 \r\nQ 46.1875 17.53125 46.1875 27.296875 \r\nQ 46.1875 37.015625 41.984375 42.703125 \r\nQ 37.796875 48.390625 30.609375 48.390625 \r\nz\r\nM 30.609375 56 \r\nQ 42.328125 56 49.015625 48.375 \r\nQ 55.71875 40.765625 55.71875 27.296875 \r\nQ 55.71875 13.875 49.015625 6.21875 \r\nQ 42.328125 -1.421875 30.609375 -1.421875 \r\nQ 18.84375 -1.421875 12.171875 6.21875 \r\nQ 5.515625 13.875 5.515625 27.296875 \r\nQ 5.515625 40.765625 12.171875 48.375 \r\nQ 18.84375 56 30.609375 56 \r\nz\r\n\" id=\"DejaVuSans-111\"/>\r\n      <path d=\"M 54.890625 33.015625 \r\nL 54.890625 0 \r\nL 45.90625 0 \r\nL 45.90625 32.71875 \r\nQ 45.90625 40.484375 42.875 44.328125 \r\nQ 39.84375 48.1875 33.796875 48.1875 \r\nQ 26.515625 48.1875 22.3125 43.546875 \r\nQ 18.109375 38.921875 18.109375 30.90625 \r\nL 18.109375 0 \r\nL 9.078125 0 \r\nL 9.078125 75.984375 \r\nL 18.109375 75.984375 \r\nL 18.109375 46.1875 \r\nQ 21.34375 51.125 25.703125 53.5625 \r\nQ 30.078125 56 35.796875 56 \r\nQ 45.21875 56 50.046875 50.171875 \r\nQ 54.890625 44.34375 54.890625 33.015625 \r\nz\r\n\" id=\"DejaVuSans-104\"/>\r\n      <path d=\"M 52 44.1875 \r\nQ 55.375 50.25 60.0625 53.125 \r\nQ 64.75 56 71.09375 56 \r\nQ 79.640625 56 84.28125 50.015625 \r\nQ 88.921875 44.046875 88.921875 33.015625 \r\nL 88.921875 0 \r\nL 79.890625 0 \r\nL 79.890625 32.71875 \r\nQ 79.890625 40.578125 77.09375 44.375 \r\nQ 74.3125 48.1875 68.609375 48.1875 \r\nQ 61.625 48.1875 57.5625 43.546875 \r\nQ 53.515625 38.921875 53.515625 30.90625 \r\nL 53.515625 0 \r\nL 44.484375 0 \r\nL 44.484375 32.71875 \r\nQ 44.484375 40.625 41.703125 44.40625 \r\nQ 38.921875 48.1875 33.109375 48.1875 \r\nQ 26.21875 48.1875 22.15625 43.53125 \r\nQ 18.109375 38.875 18.109375 30.90625 \r\nL 18.109375 0 \r\nL 9.078125 0 \r\nL 9.078125 54.6875 \r\nL 18.109375 54.6875 \r\nL 18.109375 46.1875 \r\nQ 21.1875 51.21875 25.484375 53.609375 \r\nQ 29.78125 56 35.6875 56 \r\nQ 41.65625 56 45.828125 52.96875 \r\nQ 50 49.953125 52 44.1875 \r\nz\r\n\" id=\"DejaVuSans-109\"/>\r\n      <path d=\"M 25.390625 72.90625 \r\nL 33.6875 72.90625 \r\nL 8.296875 -9.28125 \r\nL 0 -9.28125 \r\nz\r\n\" id=\"DejaVuSans-47\"/>\r\n      <path d=\"M 4.203125 54.6875 \r\nL 13.1875 54.6875 \r\nL 24.421875 12.015625 \r\nL 35.59375 54.6875 \r\nL 46.1875 54.6875 \r\nL 57.421875 12.015625 \r\nL 68.609375 54.6875 \r\nL 77.59375 54.6875 \r\nL 63.28125 0 \r\nL 52.6875 0 \r\nL 40.921875 44.828125 \r\nL 29.109375 0 \r\nL 18.5 0 \r\nz\r\n\" id=\"DejaVuSans-119\"/>\r\n      <path d=\"M 32.171875 -5.078125 \r\nQ 28.375 -14.84375 24.75 -17.8125 \r\nQ 21.140625 -20.796875 15.09375 -20.796875 \r\nL 7.90625 -20.796875 \r\nL 7.90625 -13.28125 \r\nL 13.1875 -13.28125 \r\nQ 16.890625 -13.28125 18.9375 -11.515625 \r\nQ 21 -9.765625 23.484375 -3.21875 \r\nL 25.09375 0.875 \r\nL 2.984375 54.6875 \r\nL 12.5 54.6875 \r\nL 29.59375 11.921875 \r\nL 46.6875 54.6875 \r\nL 56.203125 54.6875 \r\nz\r\n\" id=\"DejaVuSans-121\"/>\r\n     </defs>\r\n     <g transform=\"translate(14.798438 195.429063)rotate(-90)scale(0.1 -0.1)\">\r\n      <use xlink:href=\"#DejaVuSans-82\"/>\r\n      <use x=\"69.451172\" xlink:href=\"#DejaVuSans-97\"/>\r\n      <use x=\"130.730469\" xlink:href=\"#DejaVuSans-116\"/>\r\n      <use x=\"169.939453\" xlink:href=\"#DejaVuSans-105\"/>\r\n      <use x=\"197.722656\" xlink:href=\"#DejaVuSans-111\"/>\r\n      <use x=\"258.904297\" xlink:href=\"#DejaVuSans-32\"/>\r\n      <use x=\"290.691406\" xlink:href=\"#DejaVuSans-104\"/>\r\n      <use x=\"354.070312\" xlink:href=\"#DejaVuSans-111\"/>\r\n      <use x=\"415.251953\" xlink:href=\"#DejaVuSans-109\"/>\r\n      <use x=\"512.664062\" xlink:href=\"#DejaVuSans-101\"/>\r\n      <use x=\"574.1875\" xlink:href=\"#DejaVuSans-47\"/>\r\n      <use x=\"607.878906\" xlink:href=\"#DejaVuSans-97\"/>\r\n      <use x=\"669.158203\" xlink:href=\"#DejaVuSans-119\"/>\r\n      <use x=\"750.945312\" xlink:href=\"#DejaVuSans-97\"/>\r\n      <use x=\"812.224609\" xlink:href=\"#DejaVuSans-121\"/>\r\n      <use x=\"871.404297\" xlink:href=\"#DejaVuSans-32\"/>\r\n      <use x=\"903.191406\" xlink:href=\"#DejaVuSans-119\"/>\r\n      <use x=\"984.978516\" xlink:href=\"#DejaVuSans-105\"/>\r\n      <use x=\"1012.761719\" xlink:href=\"#DejaVuSans-110\"/>\r\n      <use x=\"1076.140625\" xlink:href=\"#DejaVuSans-115\"/>\r\n     </g>\r\n    </g>\r\n   </g>\r\n   <g id=\"line2d_15\">\r\n    <path clip-path=\"url(#p7593c9d49d)\" d=\"M 50.14375 94.459943 \r\nL 417.16875 94.459943 \r\n\" style=\"fill:none;stroke:#008000;stroke-dasharray:5.55,2.4;stroke-dashoffset:0;stroke-opacity:0.7;stroke-width:1.5;\"/>\r\n   </g>\r\n   <g id=\"line2d_16\">\r\n    <path clip-path=\"url(#p7593c9d49d)\" d=\"M 50.14375 129.04558 \r\nL 417.16875 129.04558 \r\n\" style=\"fill:none;stroke:#ff0000;stroke-dasharray:5.55,2.4;stroke-dashoffset:0;stroke-opacity:0.7;stroke-width:1.5;\"/>\r\n   </g>\r\n   <g id=\"patch_13\">\r\n    <path d=\"M 50.14375 255.718125 \r\nL 50.14375 22.318125 \r\n\" style=\"fill:none;stroke:#000000;stroke-linecap:square;stroke-linejoin:miter;stroke-width:0.8;\"/>\r\n   </g>\r\n   <g id=\"patch_14\">\r\n    <path d=\"M 417.16875 255.718125 \r\nL 417.16875 22.318125 \r\n\" style=\"fill:none;stroke:#000000;stroke-linecap:square;stroke-linejoin:miter;stroke-width:0.8;\"/>\r\n   </g>\r\n   <g id=\"patch_15\">\r\n    <path d=\"M 50.14375 255.718125 \r\nL 417.16875 255.718125 \r\n\" style=\"fill:none;stroke:#000000;stroke-linecap:square;stroke-linejoin:miter;stroke-width:0.8;\"/>\r\n   </g>\r\n   <g id=\"patch_16\">\r\n    <path d=\"M 50.14375 22.318125 \r\nL 417.16875 22.318125 \r\n\" style=\"fill:none;stroke:#000000;stroke-linecap:square;stroke-linejoin:miter;stroke-width:0.8;\"/>\r\n   </g>\r\n   <g id=\"text_16\">\r\n    <!-- 1.57 -->\r\n    <g transform=\"translate(64.840249 84.07571)scale(0.1 -0.1)\">\r\n     <use xlink:href=\"#DejaVuSans-49\"/>\r\n     <use x=\"63.623047\" xlink:href=\"#DejaVuSans-46\"/>\r\n     <use x=\"95.410156\" xlink:href=\"#DejaVuSans-53\"/>\r\n     <use x=\"159.033203\" xlink:href=\"#DejaVuSans-55\"/>\r\n    </g>\r\n   </g>\r\n   <g id=\"text_17\">\r\n    <!-- 1.45 -->\r\n    <defs>\r\n     <path d=\"M 37.796875 64.3125 \r\nL 12.890625 25.390625 \r\nL 37.796875 25.390625 \r\nz\r\nM 35.203125 72.90625 \r\nL 47.609375 72.90625 \r\nL 47.609375 25.390625 \r\nL 58.015625 25.390625 \r\nL 58.015625 17.1875 \r\nL 47.609375 17.1875 \r\nL 47.609375 0 \r\nL 37.796875 0 \r\nL 37.796875 17.1875 \r\nL 4.890625 17.1875 \r\nL 4.890625 26.703125 \r\nz\r\n\" id=\"DejaVuSans-52\"/>\r\n    </defs>\r\n    <g transform=\"translate(138.011102 96.806619)scale(0.1 -0.1)\">\r\n     <use xlink:href=\"#DejaVuSans-49\"/>\r\n     <use x=\"63.623047\" xlink:href=\"#DejaVuSans-46\"/>\r\n     <use x=\"95.410156\" xlink:href=\"#DejaVuSans-52\"/>\r\n     <use x=\"159.033203\" xlink:href=\"#DejaVuSans-53\"/>\r\n    </g>\r\n   </g>\r\n   <g id=\"text_18\">\r\n    <!-- 1.41 -->\r\n    <g transform=\"translate(211.181955 101.050256)scale(0.1 -0.1)\">\r\n     <use xlink:href=\"#DejaVuSans-49\"/>\r\n     <use x=\"63.623047\" xlink:href=\"#DejaVuSans-46\"/>\r\n     <use x=\"95.410156\" xlink:href=\"#DejaVuSans-52\"/>\r\n     <use x=\"159.033203\" xlink:href=\"#DejaVuSans-49\"/>\r\n    </g>\r\n   </g>\r\n   <g id=\"text_19\">\r\n    <!-- 1.54 -->\r\n    <g transform=\"translate(284.352809 87.258438)scale(0.1 -0.1)\">\r\n     <use xlink:href=\"#DejaVuSans-49\"/>\r\n     <use x=\"63.623047\" xlink:href=\"#DejaVuSans-46\"/>\r\n     <use x=\"95.410156\" xlink:href=\"#DejaVuSans-53\"/>\r\n     <use x=\"159.033203\" xlink:href=\"#DejaVuSans-52\"/>\r\n    </g>\r\n   </g>\r\n   <g id=\"text_20\">\r\n    <!-- 1.63 -->\r\n    <defs>\r\n     <path d=\"M 33.015625 40.375 \r\nQ 26.375 40.375 22.484375 35.828125 \r\nQ 18.609375 31.296875 18.609375 23.390625 \r\nQ 18.609375 15.53125 22.484375 10.953125 \r\nQ 26.375 6.390625 33.015625 6.390625 \r\nQ 39.65625 6.390625 43.53125 10.953125 \r\nQ 47.40625 15.53125 47.40625 23.390625 \r\nQ 47.40625 31.296875 43.53125 35.828125 \r\nQ 39.65625 40.375 33.015625 40.375 \r\nz\r\nM 52.59375 71.296875 \r\nL 52.59375 62.3125 \r\nQ 48.875 64.0625 45.09375 64.984375 \r\nQ 41.3125 65.921875 37.59375 65.921875 \r\nQ 27.828125 65.921875 22.671875 59.328125 \r\nQ 17.53125 52.734375 16.796875 39.40625 \r\nQ 19.671875 43.65625 24.015625 45.921875 \r\nQ 28.375 48.1875 33.59375 48.1875 \r\nQ 44.578125 48.1875 50.953125 41.515625 \r\nQ 57.328125 34.859375 57.328125 23.390625 \r\nQ 57.328125 12.15625 50.6875 5.359375 \r\nQ 44.046875 -1.421875 33.015625 -1.421875 \r\nQ 20.359375 -1.421875 13.671875 8.265625 \r\nQ 6.984375 17.96875 6.984375 36.375 \r\nQ 6.984375 53.65625 15.1875 63.9375 \r\nQ 23.390625 74.21875 37.203125 74.21875 \r\nQ 40.921875 74.21875 44.703125 73.484375 \r\nQ 48.484375 72.75 52.59375 71.296875 \r\nz\r\n\" id=\"DejaVuSans-54\"/>\r\n     <path d=\"M 40.578125 39.3125 \r\nQ 47.65625 37.796875 51.625 33 \r\nQ 55.609375 28.21875 55.609375 21.1875 \r\nQ 55.609375 10.40625 48.1875 4.484375 \r\nQ 40.765625 -1.421875 27.09375 -1.421875 \r\nQ 22.515625 -1.421875 17.65625 -0.515625 \r\nQ 12.796875 0.390625 7.625 2.203125 \r\nL 7.625 11.71875 \r\nQ 11.71875 9.328125 16.59375 8.109375 \r\nQ 21.484375 6.890625 26.8125 6.890625 \r\nQ 36.078125 6.890625 40.9375 10.546875 \r\nQ 45.796875 14.203125 45.796875 21.1875 \r\nQ 45.796875 27.640625 41.28125 31.265625 \r\nQ 36.765625 34.90625 28.71875 34.90625 \r\nL 20.21875 34.90625 \r\nL 20.21875 43.015625 \r\nL 29.109375 43.015625 \r\nQ 36.375 43.015625 40.234375 45.921875 \r\nQ 44.09375 48.828125 44.09375 54.296875 \r\nQ 44.09375 59.90625 40.109375 62.90625 \r\nQ 36.140625 65.921875 28.71875 65.921875 \r\nQ 24.65625 65.921875 20.015625 65.03125 \r\nQ 15.375 64.15625 9.8125 62.3125 \r\nL 9.8125 71.09375 \r\nQ 15.4375 72.65625 20.34375 73.4375 \r\nQ 25.25 74.21875 29.59375 74.21875 \r\nQ 40.828125 74.21875 47.359375 69.109375 \r\nQ 53.90625 64.015625 53.90625 55.328125 \r\nQ 53.90625 49.265625 50.4375 45.09375 \r\nQ 46.96875 40.921875 40.578125 39.3125 \r\nz\r\n\" id=\"DejaVuSans-51\"/>\r\n    </defs>\r\n    <g transform=\"translate(357.523662 77.710256)scale(0.1 -0.1)\">\r\n     <use xlink:href=\"#DejaVuSans-49\"/>\r\n     <use x=\"63.623047\" xlink:href=\"#DejaVuSans-46\"/>\r\n     <use x=\"95.410156\" xlink:href=\"#DejaVuSans-54\"/>\r\n     <use x=\"159.033203\" xlink:href=\"#DejaVuSans-51\"/>\r\n    </g>\r\n   </g>\r\n   <g id=\"text_21\">\r\n    <!-- 1.21 -->\r\n    <g transform=\"translate(87.523213 122.268438)scale(0.1 -0.1)\">\r\n     <use xlink:href=\"#DejaVuSans-49\"/>\r\n     <use x=\"63.623047\" xlink:href=\"#DejaVuSans-46\"/>\r\n     <use x=\"95.410156\" xlink:href=\"#DejaVuSans-50\"/>\r\n     <use x=\"159.033203\" xlink:href=\"#DejaVuSans-49\"/>\r\n    </g>\r\n   </g>\r\n   <g id=\"text_22\">\r\n    <!-- 1.35 -->\r\n    <g transform=\"translate(160.694066 107.41571)scale(0.1 -0.1)\">\r\n     <use xlink:href=\"#DejaVuSans-49\"/>\r\n     <use x=\"63.623047\" xlink:href=\"#DejaVuSans-46\"/>\r\n     <use x=\"95.410156\" xlink:href=\"#DejaVuSans-51\"/>\r\n     <use x=\"159.033203\" xlink:href=\"#DejaVuSans-53\"/>\r\n    </g>\r\n   </g>\r\n   <g id=\"text_23\">\r\n    <!-- 0.93 -->\r\n    <defs>\r\n     <path d=\"M 10.984375 1.515625 \r\nL 10.984375 10.5 \r\nQ 14.703125 8.734375 18.5 7.8125 \r\nQ 22.3125 6.890625 25.984375 6.890625 \r\nQ 35.75 6.890625 40.890625 13.453125 \r\nQ 46.046875 20.015625 46.78125 33.40625 \r\nQ 43.953125 29.203125 39.59375 26.953125 \r\nQ 35.25 24.703125 29.984375 24.703125 \r\nQ 19.046875 24.703125 12.671875 31.3125 \r\nQ 6.296875 37.9375 6.296875 49.421875 \r\nQ 6.296875 60.640625 12.9375 67.421875 \r\nQ 19.578125 74.21875 30.609375 74.21875 \r\nQ 43.265625 74.21875 49.921875 64.515625 \r\nQ 56.59375 54.828125 56.59375 36.375 \r\nQ 56.59375 19.140625 48.40625 8.859375 \r\nQ 40.234375 -1.421875 26.421875 -1.421875 \r\nQ 22.703125 -1.421875 18.890625 -0.6875 \r\nQ 15.09375 0.046875 10.984375 1.515625 \r\nz\r\nM 30.609375 32.421875 \r\nQ 37.25 32.421875 41.125 36.953125 \r\nQ 45.015625 41.5 45.015625 49.421875 \r\nQ 45.015625 57.28125 41.125 61.84375 \r\nQ 37.25 66.40625 30.609375 66.40625 \r\nQ 23.96875 66.40625 20.09375 61.84375 \r\nQ 16.21875 57.28125 16.21875 49.421875 \r\nQ 16.21875 41.5 20.09375 36.953125 \r\nQ 23.96875 32.421875 30.609375 32.421875 \r\nz\r\n\" id=\"DejaVuSans-57\"/>\r\n    </defs>\r\n    <g transform=\"translate(233.86492 151.973892)scale(0.1 -0.1)\">\r\n     <use xlink:href=\"#DejaVuSans-48\"/>\r\n     <use x=\"63.623047\" xlink:href=\"#DejaVuSans-46\"/>\r\n     <use x=\"95.410156\" xlink:href=\"#DejaVuSans-57\"/>\r\n     <use x=\"159.033203\" xlink:href=\"#DejaVuSans-51\"/>\r\n    </g>\r\n   </g>\r\n   <g id=\"text_24\">\r\n    <!-- 1.03 -->\r\n    <g transform=\"translate(307.035773 141.364801)scale(0.1 -0.1)\">\r\n     <use xlink:href=\"#DejaVuSans-49\"/>\r\n     <use x=\"63.623047\" xlink:href=\"#DejaVuSans-46\"/>\r\n     <use x=\"95.410156\" xlink:href=\"#DejaVuSans-48\"/>\r\n     <use x=\"159.033203\" xlink:href=\"#DejaVuSans-51\"/>\r\n    </g>\r\n   </g>\r\n   <g id=\"text_25\">\r\n    <!-- 1.45 -->\r\n    <g transform=\"translate(380.206626 96.806619)scale(0.1 -0.1)\">\r\n     <use xlink:href=\"#DejaVuSans-49\"/>\r\n     <use x=\"63.623047\" xlink:href=\"#DejaVuSans-46\"/>\r\n     <use x=\"95.410156\" xlink:href=\"#DejaVuSans-52\"/>\r\n     <use x=\"159.033203\" xlink:href=\"#DejaVuSans-53\"/>\r\n    </g>\r\n   </g>\r\n   <g id=\"text_26\">\r\n    <!-- Home/Away team victories in different soccer leagues -->\r\n    <defs>\r\n     <path d=\"M 9.8125 72.90625 \r\nL 19.671875 72.90625 \r\nL 19.671875 43.015625 \r\nL 55.515625 43.015625 \r\nL 55.515625 72.90625 \r\nL 65.375 72.90625 \r\nL 65.375 0 \r\nL 55.515625 0 \r\nL 55.515625 34.71875 \r\nL 19.671875 34.71875 \r\nL 19.671875 0 \r\nL 9.8125 0 \r\nz\r\n\" id=\"DejaVuSans-72\"/>\r\n     <path d=\"M 2.984375 54.6875 \r\nL 12.5 54.6875 \r\nL 29.59375 8.796875 \r\nL 46.6875 54.6875 \r\nL 56.203125 54.6875 \r\nL 35.6875 0 \r\nL 23.484375 0 \r\nz\r\n\" id=\"DejaVuSans-118\"/>\r\n     <path d=\"M 48.78125 52.59375 \r\nL 48.78125 44.1875 \r\nQ 44.96875 46.296875 41.140625 47.34375 \r\nQ 37.3125 48.390625 33.40625 48.390625 \r\nQ 24.65625 48.390625 19.8125 42.84375 \r\nQ 14.984375 37.3125 14.984375 27.296875 \r\nQ 14.984375 17.28125 19.8125 11.734375 \r\nQ 24.65625 6.203125 33.40625 6.203125 \r\nQ 37.3125 6.203125 41.140625 7.25 \r\nQ 44.96875 8.296875 48.78125 10.40625 \r\nL 48.78125 2.09375 \r\nQ 45.015625 0.34375 40.984375 -0.53125 \r\nQ 36.96875 -1.421875 32.421875 -1.421875 \r\nQ 20.0625 -1.421875 12.78125 6.34375 \r\nQ 5.515625 14.109375 5.515625 27.296875 \r\nQ 5.515625 40.671875 12.859375 48.328125 \r\nQ 20.21875 56 33.015625 56 \r\nQ 37.15625 56 41.109375 55.140625 \r\nQ 45.0625 54.296875 48.78125 52.59375 \r\nz\r\n\" id=\"DejaVuSans-99\"/>\r\n     <path d=\"M 37.109375 75.984375 \r\nL 37.109375 68.5 \r\nL 28.515625 68.5 \r\nQ 23.6875 68.5 21.796875 66.546875 \r\nQ 19.921875 64.59375 19.921875 59.515625 \r\nL 19.921875 54.6875 \r\nL 34.71875 54.6875 \r\nL 34.71875 47.703125 \r\nL 19.921875 47.703125 \r\nL 19.921875 0 \r\nL 10.890625 0 \r\nL 10.890625 47.703125 \r\nL 2.296875 47.703125 \r\nL 2.296875 54.6875 \r\nL 10.890625 54.6875 \r\nL 10.890625 58.5 \r\nQ 10.890625 67.625 15.140625 71.796875 \r\nQ 19.390625 75.984375 28.609375 75.984375 \r\nz\r\n\" id=\"DejaVuSans-102\"/>\r\n    </defs>\r\n    <g transform=\"translate(70.990625 16.318125)scale(0.12 -0.12)\">\r\n     <use xlink:href=\"#DejaVuSans-72\"/>\r\n     <use x=\"75.195312\" xlink:href=\"#DejaVuSans-111\"/>\r\n     <use x=\"136.376953\" xlink:href=\"#DejaVuSans-109\"/>\r\n     <use x=\"233.789062\" xlink:href=\"#DejaVuSans-101\"/>\r\n     <use x=\"295.3125\" xlink:href=\"#DejaVuSans-47\"/>\r\n     <use x=\"329.003906\" xlink:href=\"#DejaVuSans-65\"/>\r\n     <use x=\"397.349609\" xlink:href=\"#DejaVuSans-119\"/>\r\n     <use x=\"479.136719\" xlink:href=\"#DejaVuSans-97\"/>\r\n     <use x=\"540.416016\" xlink:href=\"#DejaVuSans-121\"/>\r\n     <use x=\"599.595703\" xlink:href=\"#DejaVuSans-32\"/>\r\n     <use x=\"631.382812\" xlink:href=\"#DejaVuSans-116\"/>\r\n     <use x=\"670.591797\" xlink:href=\"#DejaVuSans-101\"/>\r\n     <use x=\"732.115234\" xlink:href=\"#DejaVuSans-97\"/>\r\n     <use x=\"793.394531\" xlink:href=\"#DejaVuSans-109\"/>\r\n     <use x=\"890.806641\" xlink:href=\"#DejaVuSans-32\"/>\r\n     <use x=\"922.59375\" xlink:href=\"#DejaVuSans-118\"/>\r\n     <use x=\"981.773438\" xlink:href=\"#DejaVuSans-105\"/>\r\n     <use x=\"1009.556641\" xlink:href=\"#DejaVuSans-99\"/>\r\n     <use x=\"1064.537109\" xlink:href=\"#DejaVuSans-116\"/>\r\n     <use x=\"1103.746094\" xlink:href=\"#DejaVuSans-111\"/>\r\n     <use x=\"1164.927734\" xlink:href=\"#DejaVuSans-114\"/>\r\n     <use x=\"1206.041016\" xlink:href=\"#DejaVuSans-105\"/>\r\n     <use x=\"1233.824219\" xlink:href=\"#DejaVuSans-101\"/>\r\n     <use x=\"1295.347656\" xlink:href=\"#DejaVuSans-115\"/>\r\n     <use x=\"1347.447266\" xlink:href=\"#DejaVuSans-32\"/>\r\n     <use x=\"1379.234375\" xlink:href=\"#DejaVuSans-105\"/>\r\n     <use x=\"1407.017578\" xlink:href=\"#DejaVuSans-110\"/>\r\n     <use x=\"1470.396484\" xlink:href=\"#DejaVuSans-32\"/>\r\n     <use x=\"1502.183594\" xlink:href=\"#DejaVuSans-100\"/>\r\n     <use x=\"1565.660156\" xlink:href=\"#DejaVuSans-105\"/>\r\n     <use x=\"1593.443359\" xlink:href=\"#DejaVuSans-102\"/>\r\n     <use x=\"1628.648438\" xlink:href=\"#DejaVuSans-102\"/>\r\n     <use x=\"1663.853516\" xlink:href=\"#DejaVuSans-101\"/>\r\n     <use x=\"1725.376953\" xlink:href=\"#DejaVuSans-114\"/>\r\n     <use x=\"1766.458984\" xlink:href=\"#DejaVuSans-101\"/>\r\n     <use x=\"1827.982422\" xlink:href=\"#DejaVuSans-110\"/>\r\n     <use x=\"1891.361328\" xlink:href=\"#DejaVuSans-116\"/>\r\n     <use x=\"1930.570312\" xlink:href=\"#DejaVuSans-32\"/>\r\n     <use x=\"1962.357422\" xlink:href=\"#DejaVuSans-115\"/>\r\n     <use x=\"2014.457031\" xlink:href=\"#DejaVuSans-111\"/>\r\n     <use x=\"2075.638672\" xlink:href=\"#DejaVuSans-99\"/>\r\n     <use x=\"2130.619141\" xlink:href=\"#DejaVuSans-99\"/>\r\n     <use x=\"2185.599609\" xlink:href=\"#DejaVuSans-101\"/>\r\n     <use x=\"2247.123047\" xlink:href=\"#DejaVuSans-114\"/>\r\n     <use x=\"2288.236328\" xlink:href=\"#DejaVuSans-32\"/>\r\n     <use x=\"2320.023438\" xlink:href=\"#DejaVuSans-108\"/>\r\n     <use x=\"2347.806641\" xlink:href=\"#DejaVuSans-101\"/>\r\n     <use x=\"2409.330078\" xlink:href=\"#DejaVuSans-97\"/>\r\n     <use x=\"2470.609375\" xlink:href=\"#DejaVuSans-103\"/>\r\n     <use x=\"2534.085938\" xlink:href=\"#DejaVuSans-117\"/>\r\n     <use x=\"2597.464844\" xlink:href=\"#DejaVuSans-101\"/>\r\n     <use x=\"2658.988281\" xlink:href=\"#DejaVuSans-115\"/>\r\n    </g>\r\n   </g>\r\n   <g id=\"legend_1\">\r\n    <g id=\"patch_17\">\r\n     <path d=\"M 309.6375 59.674375 \r\nL 410.16875 59.674375 \r\nQ 412.16875 59.674375 412.16875 57.674375 \r\nL 412.16875 29.318125 \r\nQ 412.16875 27.318125 410.16875 27.318125 \r\nL 309.6375 27.318125 \r\nQ 307.6375 27.318125 307.6375 29.318125 \r\nL 307.6375 57.674375 \r\nQ 307.6375 59.674375 309.6375 59.674375 \r\nz\r\n\" style=\"fill:#ffffff;opacity:0.8;stroke:#cccccc;stroke-linejoin:miter;\"/>\r\n    </g>\r\n    <g id=\"patch_18\">\r\n     <path d=\"M 311.6375 38.916562 \r\nL 331.6375 38.916562 \r\nL 331.6375 31.916562 \r\nL 311.6375 31.916562 \r\nz\r\n\" style=\"fill:#008000;\"/>\r\n    </g>\r\n    <g id=\"text_27\">\r\n     <!-- Season 18-19 -->\r\n     <defs>\r\n      <path d=\"M 31.78125 34.625 \r\nQ 24.75 34.625 20.71875 30.859375 \r\nQ 16.703125 27.09375 16.703125 20.515625 \r\nQ 16.703125 13.921875 20.71875 10.15625 \r\nQ 24.75 6.390625 31.78125 6.390625 \r\nQ 38.8125 6.390625 42.859375 10.171875 \r\nQ 46.921875 13.96875 46.921875 20.515625 \r\nQ 46.921875 27.09375 42.890625 30.859375 \r\nQ 38.875 34.625 31.78125 34.625 \r\nz\r\nM 21.921875 38.8125 \r\nQ 15.578125 40.375 12.03125 44.71875 \r\nQ 8.5 49.078125 8.5 55.328125 \r\nQ 8.5 64.0625 14.71875 69.140625 \r\nQ 20.953125 74.21875 31.78125 74.21875 \r\nQ 42.671875 74.21875 48.875 69.140625 \r\nQ 55.078125 64.0625 55.078125 55.328125 \r\nQ 55.078125 49.078125 51.53125 44.71875 \r\nQ 48 40.375 41.703125 38.8125 \r\nQ 48.828125 37.15625 52.796875 32.3125 \r\nQ 56.78125 27.484375 56.78125 20.515625 \r\nQ 56.78125 9.90625 50.3125 4.234375 \r\nQ 43.84375 -1.421875 31.78125 -1.421875 \r\nQ 19.734375 -1.421875 13.25 4.234375 \r\nQ 6.78125 9.90625 6.78125 20.515625 \r\nQ 6.78125 27.484375 10.78125 32.3125 \r\nQ 14.796875 37.15625 21.921875 38.8125 \r\nz\r\nM 18.3125 54.390625 \r\nQ 18.3125 48.734375 21.84375 45.5625 \r\nQ 25.390625 42.390625 31.78125 42.390625 \r\nQ 38.140625 42.390625 41.71875 45.5625 \r\nQ 45.3125 48.734375 45.3125 54.390625 \r\nQ 45.3125 60.0625 41.71875 63.234375 \r\nQ 38.140625 66.40625 31.78125 66.40625 \r\nQ 25.390625 66.40625 21.84375 63.234375 \r\nQ 18.3125 60.0625 18.3125 54.390625 \r\nz\r\n\" id=\"DejaVuSans-56\"/>\r\n      <path d=\"M 4.890625 31.390625 \r\nL 31.203125 31.390625 \r\nL 31.203125 23.390625 \r\nL 4.890625 23.390625 \r\nz\r\n\" id=\"DejaVuSans-45\"/>\r\n     </defs>\r\n     <g transform=\"translate(339.6375 38.916562)scale(0.1 -0.1)\">\r\n      <use xlink:href=\"#DejaVuSans-83\"/>\r\n      <use x=\"63.476562\" xlink:href=\"#DejaVuSans-101\"/>\r\n      <use x=\"125\" xlink:href=\"#DejaVuSans-97\"/>\r\n      <use x=\"186.279297\" xlink:href=\"#DejaVuSans-115\"/>\r\n      <use x=\"238.378906\" xlink:href=\"#DejaVuSans-111\"/>\r\n      <use x=\"299.560547\" xlink:href=\"#DejaVuSans-110\"/>\r\n      <use x=\"362.939453\" xlink:href=\"#DejaVuSans-32\"/>\r\n      <use x=\"394.726562\" xlink:href=\"#DejaVuSans-49\"/>\r\n      <use x=\"458.349609\" xlink:href=\"#DejaVuSans-56\"/>\r\n      <use x=\"521.972656\" xlink:href=\"#DejaVuSans-45\"/>\r\n      <use x=\"558.056641\" xlink:href=\"#DejaVuSans-49\"/>\r\n      <use x=\"621.679688\" xlink:href=\"#DejaVuSans-57\"/>\r\n     </g>\r\n    </g>\r\n    <g id=\"patch_19\">\r\n     <path d=\"M 311.6375 53.594687 \r\nL 331.6375 53.594687 \r\nL 331.6375 46.594687 \r\nL 311.6375 46.594687 \r\nz\r\n\" style=\"fill:#ff0000;\"/>\r\n    </g>\r\n    <g id=\"text_28\">\r\n     <!-- Season 20-21 -->\r\n     <g transform=\"translate(339.6375 53.594687)scale(0.1 -0.1)\">\r\n      <use xlink:href=\"#DejaVuSans-83\"/>\r\n      <use x=\"63.476562\" xlink:href=\"#DejaVuSans-101\"/>\r\n      <use x=\"125\" xlink:href=\"#DejaVuSans-97\"/>\r\n      <use x=\"186.279297\" xlink:href=\"#DejaVuSans-115\"/>\r\n      <use x=\"238.378906\" xlink:href=\"#DejaVuSans-111\"/>\r\n      <use x=\"299.560547\" xlink:href=\"#DejaVuSans-110\"/>\r\n      <use x=\"362.939453\" xlink:href=\"#DejaVuSans-32\"/>\r\n      <use x=\"394.726562\" xlink:href=\"#DejaVuSans-50\"/>\r\n      <use x=\"458.349609\" xlink:href=\"#DejaVuSans-48\"/>\r\n      <use x=\"521.972656\" xlink:href=\"#DejaVuSans-45\"/>\r\n      <use x=\"558.056641\" xlink:href=\"#DejaVuSans-50\"/>\r\n      <use x=\"621.679688\" xlink:href=\"#DejaVuSans-49\"/>\r\n     </g>\r\n    </g>\r\n   </g>\r\n  </g>\r\n </g>\r\n <defs>\r\n  <clipPath id=\"p7593c9d49d\">\r\n   <rect height=\"233.4\" width=\"367.025\" x=\"50.14375\" y=\"22.318125\"/>\r\n  </clipPath>\r\n </defs>\r\n</svg>\r\n",
      "image/png": "[encoded data removed]"
     },
     "metadata": {
      "needs_background": "light"
     }
    }
   ],
   "source": [
    "labels = dict_away_18.keys()\n",
    "values_18 = dict_ratio_18.values()\n",
    "values_20 = dict_ratio_20.values()\n",
    "\n",
    "x = np.arange(len(labels))  # the label locations\n",
    "width = 0.25  # the width of the bars\n",
    "\n",
    "fig, ax = plt.subplots()\n",
    "rects1 = ax.bar(x - width/2 - 0.03, values_18, width, label='Season 18-19', color='Green')\n",
    "rects2 = ax.bar(x + width/2 + 0.03, values_20, width, label='Season 20-21', color='Red')\n",
    "\n",
    "# Add some text for labels, title and custom x-axis tick labels, etc.\n",
    "ax.set_ylabel('Ratio home/away wins')\n",
    "ax.set_title('Home/Away team victories in different soccer leagues')\n",
    "ax.set_xticks(x)\n",
    "ax.set_xticklabels(labels)\n",
    "ax.set_ylim(0, 2.2)\n",
    "ax.legend()\n",
    "\n",
    "\n",
    "def autolabel(rects):\n",
    "    \"\"\"Attach a text label above each bar in *rects*, displaying its height.\"\"\"\n",
    "    for rect in rects:\n",
    "        height = rect.get_height()\n",
    "        ax.annotate('{}'.format(height),\n",
    "                    xy=(rect.get_x() + rect.get_width() / 2, height),\n",
    "                    xytext=(0, 3),  # 3 points vertical offset\n",
    "                    textcoords=\"offset points\",\n",
    "                    ha='center', va='bottom')\n",
    "\n",
    "autolabel(rects1)\n",
    "autolabel(rects2)\n",
    "\n",
    "\n",
    "ratio_avg_18 = sum(dict_ratio_18.values()) / len(dict_ratio_18)\n",
    "ratio_avg_20 = sum(dict_ratio_20.values()) / len(dict_ratio_20)\n",
    "\n",
    "plt.axhline(y=ratio_avg_18, color=\"green\", linestyle=\"--\", alpha=0.7)\n",
    "plt.axhline(y=ratio_avg_20, color=\"red\", linestyle=\"--\", alpha=0.7)\n",
    "\n",
    "\n",
    "fig.tight_layout()\n",
    "\n",
    "plt.show()\n"
   ]
  },
  {
   "cell_type": "code",
   "execution_count": 205,
   "metadata": {},
   "outputs": [
    {
     "output_type": "stream",
     "name": "stdout",
     "text": [
      "1.52\n1.1940000000000002\n"
     ]
    }
   ],
   "source": [
    "print(ratio_avg_18)\n",
    "print(ratio_avg_20)"
   ]
  },
  {
   "cell_type": "markdown",
   "metadata": {},
   "source": [
    "## Average Points at Home"
   ]
  },
  {
   "cell_type": "code",
   "execution_count": 206,
   "metadata": {},
   "outputs": [
    {
     "output_type": "execute_result",
     "data": {
      "text/plain": [
       "{'Serie A': 1.5947368421052632,\n",
       " 'Bundesliga': 1.5849673202614378,\n",
       " 'EPL': 1.6157894736842104,\n",
       " 'Ligue 1': 1.5842105263157895,\n",
       " 'La Liga': 1.6157894736842104}"
      ]
     },
     "metadata": {},
     "execution_count": 206
    }
   ],
   "source": [
    "dict_avg_pts_home_18"
   ]
  },
  {
   "cell_type": "code",
   "execution_count": 207,
   "metadata": {},
   "outputs": [],
   "source": [
    "for key in dict_avg_pts_home_18:\n",
    "    dict_avg_pts_home_18[key] = round(dict_avg_pts_home_18[key], 2)"
   ]
  },
  {
   "cell_type": "code",
   "execution_count": 208,
   "metadata": {},
   "outputs": [
    {
     "output_type": "execute_result",
     "data": {
      "text/plain": [
       "{'Serie A': 1.4837837837837837,\n",
       " 'Bundesliga': 1.5294117647058822,\n",
       " 'EPL': 1.336111111111111,\n",
       " 'Ligue 1': 1.3918918918918919,\n",
       " 'La Liga': 1.5486486486486486}"
      ]
     },
     "metadata": {},
     "execution_count": 208
    }
   ],
   "source": [
    "dict_avg_pts_home_20"
   ]
  },
  {
   "cell_type": "code",
   "execution_count": 209,
   "metadata": {},
   "outputs": [],
   "source": [
    "for key in dict_avg_pts_home_20:\n",
    "    dict_avg_pts_home_20[key] = round(dict_avg_pts_home_20[key], 2)"
   ]
  },
  {
   "cell_type": "code",
   "execution_count": 210,
   "metadata": {},
   "outputs": [
    {
     "output_type": "display_data",
     "data": {
      "text/plain": "<Figure size 432x288 with 1 Axes>",
      "image/svg+xml": "<?xml version=\"1.0\" encoding=\"utf-8\" standalone=\"no\"?>\r\n<!DOCTYPE svg PUBLIC \"-//W3C//DTD SVG 1.1//EN\"\r\n  \"http://www.w3.org/Graphics/SVG/1.1/DTD/svg11.dtd\">\r\n<!-- Created with matplotlib (https://matplotlib.org/) -->\r\n<svg height=\"280.277344pt\" version=\"1.1\" viewBox=\"0 0 424.38125 280.277344\" width=\"424.38125pt\" xmlns=\"http://www.w3.org/2000/svg\" xmlns:xlink=\"http://www.w3.org/1999/xlink\">\r\n <defs>\r\n  <style type=\"text/css\">\r\n*{stroke-linecap:butt;stroke-linejoin:round;}\r\n  </style>\r\n </defs>\r\n <g id=\"figure_1\">\r\n  <g id=\"patch_1\">\r\n   <path d=\"M 0 280.277344 \r\nL 424.38125 280.277344 \r\nL 424.38125 0 \r\nL 0 0 \r\nz\r\n\" style=\"fill:none;\"/>\r\n  </g>\r\n  <g id=\"axes_1\">\r\n   <g id=\"patch_2\">\r\n    <path d=\"M 43.78125 256.399219 \r\nL 417.18125 256.399219 \r\nL 417.18125 10.999219 \r\nL 43.78125 10.999219 \r\nz\r\n\" style=\"fill:#ffffff;\"/>\r\n   </g>\r\n   <g id=\"patch_3\">\r\n    <path clip-path=\"url(#p336b959604)\" d=\"M 60.753977 256.399219 \r\nL 79.364424 256.399219 \r\nL 79.364424 126.337219 \r\nL 60.753977 126.337219 \r\nz\r\n\" style=\"fill:#008000;\"/>\r\n   </g>\r\n   <g id=\"patch_4\">\r\n    <path clip-path=\"url(#p336b959604)\" d=\"M 135.195764 256.399219 \r\nL 153.80621 256.399219 \r\nL 153.80621 127.155219 \r\nL 135.195764 127.155219 \r\nz\r\n\" style=\"fill:#008000;\"/>\r\n   </g>\r\n   <g id=\"patch_5\">\r\n    <path clip-path=\"url(#p336b959604)\" d=\"M 209.63755 256.399219 \r\nL 228.247996 256.399219 \r\nL 228.247996 123.883219 \r\nL 209.63755 123.883219 \r\nz\r\n\" style=\"fill:#008000;\"/>\r\n   </g>\r\n   <g id=\"patch_6\">\r\n    <path clip-path=\"url(#p336b959604)\" d=\"M 284.079336 256.399219 \r\nL 302.689783 256.399219 \r\nL 302.689783 127.155219 \r\nL 284.079336 127.155219 \r\nz\r\n\" style=\"fill:#008000;\"/>\r\n   </g>\r\n   <g id=\"patch_7\">\r\n    <path clip-path=\"url(#p336b959604)\" d=\"M 358.521122 256.399219 \r\nL 377.131569 256.399219 \r\nL 377.131569 123.883219 \r\nL 358.521122 123.883219 \r\nz\r\n\" style=\"fill:#008000;\"/>\r\n   </g>\r\n   <g id=\"patch_8\">\r\n    <path clip-path=\"url(#p336b959604)\" d=\"M 83.830931 256.399219 \r\nL 102.441378 256.399219 \r\nL 102.441378 135.335219 \r\nL 83.830931 135.335219 \r\nz\r\n\" style=\"fill:#ff0000;\"/>\r\n   </g>\r\n   <g id=\"patch_9\">\r\n    <path clip-path=\"url(#p336b959604)\" d=\"M 158.272717 256.399219 \r\nL 176.883164 256.399219 \r\nL 176.883164 131.245219 \r\nL 158.272717 131.245219 \r\nz\r\n\" style=\"fill:#ff0000;\"/>\r\n   </g>\r\n   <g id=\"patch_10\">\r\n    <path clip-path=\"url(#p336b959604)\" d=\"M 232.714504 256.399219 \r\nL 251.32495 256.399219 \r\nL 251.32495 146.787219 \r\nL 232.714504 146.787219 \r\nz\r\n\" style=\"fill:#ff0000;\"/>\r\n   </g>\r\n   <g id=\"patch_11\">\r\n    <path clip-path=\"url(#p336b959604)\" d=\"M 307.15629 256.399219 \r\nL 325.766736 256.399219 \r\nL 325.766736 142.697219 \r\nL 307.15629 142.697219 \r\nz\r\n\" style=\"fill:#ff0000;\"/>\r\n   </g>\r\n   <g id=\"patch_12\">\r\n    <path clip-path=\"url(#p336b959604)\" d=\"M 381.598076 256.399219 \r\nL 400.208523 256.399219 \r\nL 400.208523 129.609219 \r\nL 381.598076 129.609219 \r\nz\r\n\" style=\"fill:#ff0000;\"/>\r\n   </g>\r\n   <g id=\"matplotlib.axis_1\">\r\n    <g id=\"xtick_1\">\r\n     <g id=\"line2d_1\">\r\n      <defs>\r\n       <path d=\"M 0 0 \r\nL 0 3.5 \r\n\" id=\"m78741890d4\" style=\"stroke:#000000;stroke-width:0.8;\"/>\r\n      </defs>\r\n      <g>\r\n       <use style=\"stroke:#000000;stroke-width:0.8;\" x=\"81.597677\" xlink:href=\"#m78741890d4\" y=\"256.399219\"/>\r\n      </g>\r\n     </g>\r\n     <g id=\"text_1\">\r\n      <!-- Serie A -->\r\n      <defs>\r\n       <path d=\"M 53.515625 70.515625 \r\nL 53.515625 60.890625 \r\nQ 47.90625 63.578125 42.921875 64.890625 \r\nQ 37.9375 66.21875 33.296875 66.21875 \r\nQ 25.25 66.21875 20.875 63.09375 \r\nQ 16.5 59.96875 16.5 54.203125 \r\nQ 16.5 49.359375 19.40625 46.890625 \r\nQ 22.3125 44.4375 30.421875 42.921875 \r\nL 36.375 41.703125 \r\nQ 47.40625 39.59375 52.65625 34.296875 \r\nQ 57.90625 29 57.90625 20.125 \r\nQ 57.90625 9.515625 50.796875 4.046875 \r\nQ 43.703125 -1.421875 29.984375 -1.421875 \r\nQ 24.8125 -1.421875 18.96875 -0.25 \r\nQ 13.140625 0.921875 6.890625 3.21875 \r\nL 6.890625 13.375 \r\nQ 12.890625 10.015625 18.65625 8.296875 \r\nQ 24.421875 6.59375 29.984375 6.59375 \r\nQ 38.421875 6.59375 43.015625 9.90625 \r\nQ 47.609375 13.234375 47.609375 19.390625 \r\nQ 47.609375 24.75 44.3125 27.78125 \r\nQ 41.015625 30.8125 33.5 32.328125 \r\nL 27.484375 33.5 \r\nQ 16.453125 35.6875 11.515625 40.375 \r\nQ 6.59375 45.0625 6.59375 53.421875 \r\nQ 6.59375 63.09375 13.40625 68.65625 \r\nQ 20.21875 74.21875 32.171875 74.21875 \r\nQ 37.3125 74.21875 42.625 73.28125 \r\nQ 47.953125 72.359375 53.515625 70.515625 \r\nz\r\n\" id=\"DejaVuSans-83\"/>\r\n       <path d=\"M 56.203125 29.59375 \r\nL 56.203125 25.203125 \r\nL 14.890625 25.203125 \r\nQ 15.484375 15.921875 20.484375 11.0625 \r\nQ 25.484375 6.203125 34.421875 6.203125 \r\nQ 39.59375 6.203125 44.453125 7.46875 \r\nQ 49.3125 8.734375 54.109375 11.28125 \r\nL 54.109375 2.78125 \r\nQ 49.265625 0.734375 44.1875 -0.34375 \r\nQ 39.109375 -1.421875 33.890625 -1.421875 \r\nQ 20.796875 -1.421875 13.15625 6.1875 \r\nQ 5.515625 13.8125 5.515625 26.8125 \r\nQ 5.515625 40.234375 12.765625 48.109375 \r\nQ 20.015625 56 32.328125 56 \r\nQ 43.359375 56 49.78125 48.890625 \r\nQ 56.203125 41.796875 56.203125 29.59375 \r\nz\r\nM 47.21875 32.234375 \r\nQ 47.125 39.59375 43.09375 43.984375 \r\nQ 39.0625 48.390625 32.421875 48.390625 \r\nQ 24.90625 48.390625 20.390625 44.140625 \r\nQ 15.875 39.890625 15.1875 32.171875 \r\nz\r\n\" id=\"DejaVuSans-101\"/>\r\n       <path d=\"M 41.109375 46.296875 \r\nQ 39.59375 47.171875 37.8125 47.578125 \r\nQ 36.03125 48 33.890625 48 \r\nQ 26.265625 48 22.1875 43.046875 \r\nQ 18.109375 38.09375 18.109375 28.8125 \r\nL 18.109375 0 \r\nL 9.078125 0 \r\nL 9.078125 54.6875 \r\nL 18.109375 54.6875 \r\nL 18.109375 46.1875 \r\nQ 20.953125 51.171875 25.484375 53.578125 \r\nQ 30.03125 56 36.53125 56 \r\nQ 37.453125 56 38.578125 55.875 \r\nQ 39.703125 55.765625 41.0625 55.515625 \r\nz\r\n\" id=\"DejaVuSans-114\"/>\r\n       <path d=\"M 9.421875 54.6875 \r\nL 18.40625 54.6875 \r\nL 18.40625 0 \r\nL 9.421875 0 \r\nz\r\nM 9.421875 75.984375 \r\nL 18.40625 75.984375 \r\nL 18.40625 64.59375 \r\nL 9.421875 64.59375 \r\nz\r\n\" id=\"DejaVuSans-105\"/>\r\n       <path id=\"DejaVuSans-32\"/>\r\n       <path d=\"M 34.1875 63.1875 \r\nL 20.796875 26.90625 \r\nL 47.609375 26.90625 \r\nz\r\nM 28.609375 72.90625 \r\nL 39.796875 72.90625 \r\nL 67.578125 0 \r\nL 57.328125 0 \r\nL 50.6875 18.703125 \r\nL 17.828125 18.703125 \r\nL 11.1875 0 \r\nL 0.78125 0 \r\nz\r\n\" id=\"DejaVuSans-65\"/>\r\n      </defs>\r\n      <g transform=\"translate(63.816427 270.997656)scale(0.1 -0.1)\">\r\n       <use xlink:href=\"#DejaVuSans-83\"/>\r\n       <use x=\"63.476562\" xlink:href=\"#DejaVuSans-101\"/>\r\n       <use x=\"125\" xlink:href=\"#DejaVuSans-114\"/>\r\n       <use x=\"166.113281\" xlink:href=\"#DejaVuSans-105\"/>\r\n       <use x=\"193.896484\" xlink:href=\"#DejaVuSans-101\"/>\r\n       <use x=\"255.419922\" xlink:href=\"#DejaVuSans-32\"/>\r\n       <use x=\"287.207031\" xlink:href=\"#DejaVuSans-65\"/>\r\n      </g>\r\n     </g>\r\n    </g>\r\n    <g id=\"xtick_2\">\r\n     <g id=\"line2d_2\">\r\n      <g>\r\n       <use style=\"stroke:#000000;stroke-width:0.8;\" x=\"156.039464\" xlink:href=\"#m78741890d4\" y=\"256.399219\"/>\r\n      </g>\r\n     </g>\r\n     <g id=\"text_2\">\r\n      <!-- Bundesliga -->\r\n      <defs>\r\n       <path d=\"M 19.671875 34.8125 \r\nL 19.671875 8.109375 \r\nL 35.5 8.109375 \r\nQ 43.453125 8.109375 47.28125 11.40625 \r\nQ 51.125 14.703125 51.125 21.484375 \r\nQ 51.125 28.328125 47.28125 31.5625 \r\nQ 43.453125 34.8125 35.5 34.8125 \r\nz\r\nM 19.671875 64.796875 \r\nL 19.671875 42.828125 \r\nL 34.28125 42.828125 \r\nQ 41.5 42.828125 45.03125 45.53125 \r\nQ 48.578125 48.25 48.578125 53.8125 \r\nQ 48.578125 59.328125 45.03125 62.0625 \r\nQ 41.5 64.796875 34.28125 64.796875 \r\nz\r\nM 9.8125 72.90625 \r\nL 35.015625 72.90625 \r\nQ 46.296875 72.90625 52.390625 68.21875 \r\nQ 58.5 63.53125 58.5 54.890625 \r\nQ 58.5 48.1875 55.375 44.234375 \r\nQ 52.25 40.28125 46.1875 39.3125 \r\nQ 53.46875 37.75 57.5 32.78125 \r\nQ 61.53125 27.828125 61.53125 20.40625 \r\nQ 61.53125 10.640625 54.890625 5.3125 \r\nQ 48.25 0 35.984375 0 \r\nL 9.8125 0 \r\nz\r\n\" id=\"DejaVuSans-66\"/>\r\n       <path d=\"M 8.5 21.578125 \r\nL 8.5 54.6875 \r\nL 17.484375 54.6875 \r\nL 17.484375 21.921875 \r\nQ 17.484375 14.15625 20.5 10.265625 \r\nQ 23.53125 6.390625 29.59375 6.390625 \r\nQ 36.859375 6.390625 41.078125 11.03125 \r\nQ 45.3125 15.671875 45.3125 23.6875 \r\nL 45.3125 54.6875 \r\nL 54.296875 54.6875 \r\nL 54.296875 0 \r\nL 45.3125 0 \r\nL 45.3125 8.40625 \r\nQ 42.046875 3.421875 37.71875 1 \r\nQ 33.40625 -1.421875 27.6875 -1.421875 \r\nQ 18.265625 -1.421875 13.375 4.4375 \r\nQ 8.5 10.296875 8.5 21.578125 \r\nz\r\nM 31.109375 56 \r\nz\r\n\" id=\"DejaVuSans-117\"/>\r\n       <path d=\"M 54.890625 33.015625 \r\nL 54.890625 0 \r\nL 45.90625 0 \r\nL 45.90625 32.71875 \r\nQ 45.90625 40.484375 42.875 44.328125 \r\nQ 39.84375 48.1875 33.796875 48.1875 \r\nQ 26.515625 48.1875 22.3125 43.546875 \r\nQ 18.109375 38.921875 18.109375 30.90625 \r\nL 18.109375 0 \r\nL 9.078125 0 \r\nL 9.078125 54.6875 \r\nL 18.109375 54.6875 \r\nL 18.109375 46.1875 \r\nQ 21.34375 51.125 25.703125 53.5625 \r\nQ 30.078125 56 35.796875 56 \r\nQ 45.21875 56 50.046875 50.171875 \r\nQ 54.890625 44.34375 54.890625 33.015625 \r\nz\r\n\" id=\"DejaVuSans-110\"/>\r\n       <path d=\"M 45.40625 46.390625 \r\nL 45.40625 75.984375 \r\nL 54.390625 75.984375 \r\nL 54.390625 0 \r\nL 45.40625 0 \r\nL 45.40625 8.203125 \r\nQ 42.578125 3.328125 38.25 0.953125 \r\nQ 33.9375 -1.421875 27.875 -1.421875 \r\nQ 17.96875 -1.421875 11.734375 6.484375 \r\nQ 5.515625 14.40625 5.515625 27.296875 \r\nQ 5.515625 40.1875 11.734375 48.09375 \r\nQ 17.96875 56 27.875 56 \r\nQ 33.9375 56 38.25 53.625 \r\nQ 42.578125 51.265625 45.40625 46.390625 \r\nz\r\nM 14.796875 27.296875 \r\nQ 14.796875 17.390625 18.875 11.75 \r\nQ 22.953125 6.109375 30.078125 6.109375 \r\nQ 37.203125 6.109375 41.296875 11.75 \r\nQ 45.40625 17.390625 45.40625 27.296875 \r\nQ 45.40625 37.203125 41.296875 42.84375 \r\nQ 37.203125 48.484375 30.078125 48.484375 \r\nQ 22.953125 48.484375 18.875 42.84375 \r\nQ 14.796875 37.203125 14.796875 27.296875 \r\nz\r\n\" id=\"DejaVuSans-100\"/>\r\n       <path d=\"M 44.28125 53.078125 \r\nL 44.28125 44.578125 \r\nQ 40.484375 46.53125 36.375 47.5 \r\nQ 32.28125 48.484375 27.875 48.484375 \r\nQ 21.1875 48.484375 17.84375 46.4375 \r\nQ 14.5 44.390625 14.5 40.28125 \r\nQ 14.5 37.15625 16.890625 35.375 \r\nQ 19.28125 33.59375 26.515625 31.984375 \r\nL 29.59375 31.296875 \r\nQ 39.15625 29.25 43.1875 25.515625 \r\nQ 47.21875 21.78125 47.21875 15.09375 \r\nQ 47.21875 7.46875 41.1875 3.015625 \r\nQ 35.15625 -1.421875 24.609375 -1.421875 \r\nQ 20.21875 -1.421875 15.453125 -0.5625 \r\nQ 10.6875 0.296875 5.421875 2 \r\nL 5.421875 11.28125 \r\nQ 10.40625 8.6875 15.234375 7.390625 \r\nQ 20.0625 6.109375 24.8125 6.109375 \r\nQ 31.15625 6.109375 34.5625 8.28125 \r\nQ 37.984375 10.453125 37.984375 14.40625 \r\nQ 37.984375 18.0625 35.515625 20.015625 \r\nQ 33.0625 21.96875 24.703125 23.78125 \r\nL 21.578125 24.515625 \r\nQ 13.234375 26.265625 9.515625 29.90625 \r\nQ 5.8125 33.546875 5.8125 39.890625 \r\nQ 5.8125 47.609375 11.28125 51.796875 \r\nQ 16.75 56 26.8125 56 \r\nQ 31.78125 56 36.171875 55.265625 \r\nQ 40.578125 54.546875 44.28125 53.078125 \r\nz\r\n\" id=\"DejaVuSans-115\"/>\r\n       <path d=\"M 9.421875 75.984375 \r\nL 18.40625 75.984375 \r\nL 18.40625 0 \r\nL 9.421875 0 \r\nz\r\n\" id=\"DejaVuSans-108\"/>\r\n       <path d=\"M 45.40625 27.984375 \r\nQ 45.40625 37.75 41.375 43.109375 \r\nQ 37.359375 48.484375 30.078125 48.484375 \r\nQ 22.859375 48.484375 18.828125 43.109375 \r\nQ 14.796875 37.75 14.796875 27.984375 \r\nQ 14.796875 18.265625 18.828125 12.890625 \r\nQ 22.859375 7.515625 30.078125 7.515625 \r\nQ 37.359375 7.515625 41.375 12.890625 \r\nQ 45.40625 18.265625 45.40625 27.984375 \r\nz\r\nM 54.390625 6.78125 \r\nQ 54.390625 -7.171875 48.1875 -13.984375 \r\nQ 42 -20.796875 29.203125 -20.796875 \r\nQ 24.46875 -20.796875 20.265625 -20.09375 \r\nQ 16.0625 -19.390625 12.109375 -17.921875 \r\nL 12.109375 -9.1875 \r\nQ 16.0625 -11.328125 19.921875 -12.34375 \r\nQ 23.78125 -13.375 27.78125 -13.375 \r\nQ 36.625 -13.375 41.015625 -8.765625 \r\nQ 45.40625 -4.15625 45.40625 5.171875 \r\nL 45.40625 9.625 \r\nQ 42.625 4.78125 38.28125 2.390625 \r\nQ 33.9375 0 27.875 0 \r\nQ 17.828125 0 11.671875 7.65625 \r\nQ 5.515625 15.328125 5.515625 27.984375 \r\nQ 5.515625 40.671875 11.671875 48.328125 \r\nQ 17.828125 56 27.875 56 \r\nQ 33.9375 56 38.28125 53.609375 \r\nQ 42.625 51.21875 45.40625 46.390625 \r\nL 45.40625 54.6875 \r\nL 54.390625 54.6875 \r\nz\r\n\" id=\"DejaVuSans-103\"/>\r\n       <path d=\"M 34.28125 27.484375 \r\nQ 23.390625 27.484375 19.1875 25 \r\nQ 14.984375 22.515625 14.984375 16.5 \r\nQ 14.984375 11.71875 18.140625 8.90625 \r\nQ 21.296875 6.109375 26.703125 6.109375 \r\nQ 34.1875 6.109375 38.703125 11.40625 \r\nQ 43.21875 16.703125 43.21875 25.484375 \r\nL 43.21875 27.484375 \r\nz\r\nM 52.203125 31.203125 \r\nL 52.203125 0 \r\nL 43.21875 0 \r\nL 43.21875 8.296875 \r\nQ 40.140625 3.328125 35.546875 0.953125 \r\nQ 30.953125 -1.421875 24.3125 -1.421875 \r\nQ 15.921875 -1.421875 10.953125 3.296875 \r\nQ 6 8.015625 6 15.921875 \r\nQ 6 25.140625 12.171875 29.828125 \r\nQ 18.359375 34.515625 30.609375 34.515625 \r\nL 43.21875 34.515625 \r\nL 43.21875 35.40625 \r\nQ 43.21875 41.609375 39.140625 45 \r\nQ 35.0625 48.390625 27.6875 48.390625 \r\nQ 23 48.390625 18.546875 47.265625 \r\nQ 14.109375 46.140625 10.015625 43.890625 \r\nL 10.015625 52.203125 \r\nQ 14.9375 54.109375 19.578125 55.046875 \r\nQ 24.21875 56 28.609375 56 \r\nQ 40.484375 56 46.34375 49.84375 \r\nQ 52.203125 43.703125 52.203125 31.203125 \r\nz\r\n\" id=\"DejaVuSans-97\"/>\r\n      </defs>\r\n      <g transform=\"translate(128.39962 270.997656)scale(0.1 -0.1)\">\r\n       <use xlink:href=\"#DejaVuSans-66\"/>\r\n       <use x=\"68.603516\" xlink:href=\"#DejaVuSans-117\"/>\r\n       <use x=\"131.982422\" xlink:href=\"#DejaVuSans-110\"/>\r\n       <use x=\"195.361328\" xlink:href=\"#DejaVuSans-100\"/>\r\n       <use x=\"258.837891\" xlink:href=\"#DejaVuSans-101\"/>\r\n       <use x=\"320.361328\" xlink:href=\"#DejaVuSans-115\"/>\r\n       <use x=\"372.460938\" xlink:href=\"#DejaVuSans-108\"/>\r\n       <use x=\"400.244141\" xlink:href=\"#DejaVuSans-105\"/>\r\n       <use x=\"428.027344\" xlink:href=\"#DejaVuSans-103\"/>\r\n       <use x=\"491.503906\" xlink:href=\"#DejaVuSans-97\"/>\r\n      </g>\r\n     </g>\r\n    </g>\r\n    <g id=\"xtick_3\">\r\n     <g id=\"line2d_3\">\r\n      <g>\r\n       <use style=\"stroke:#000000;stroke-width:0.8;\" x=\"230.48125\" xlink:href=\"#m78741890d4\" y=\"256.399219\"/>\r\n      </g>\r\n     </g>\r\n     <g id=\"text_3\">\r\n      <!-- EPL -->\r\n      <defs>\r\n       <path d=\"M 9.8125 72.90625 \r\nL 55.90625 72.90625 \r\nL 55.90625 64.59375 \r\nL 19.671875 64.59375 \r\nL 19.671875 43.015625 \r\nL 54.390625 43.015625 \r\nL 54.390625 34.71875 \r\nL 19.671875 34.71875 \r\nL 19.671875 8.296875 \r\nL 56.78125 8.296875 \r\nL 56.78125 0 \r\nL 9.8125 0 \r\nz\r\n\" id=\"DejaVuSans-69\"/>\r\n       <path d=\"M 19.671875 64.796875 \r\nL 19.671875 37.40625 \r\nL 32.078125 37.40625 \r\nQ 38.96875 37.40625 42.71875 40.96875 \r\nQ 46.484375 44.53125 46.484375 51.125 \r\nQ 46.484375 57.671875 42.71875 61.234375 \r\nQ 38.96875 64.796875 32.078125 64.796875 \r\nz\r\nM 9.8125 72.90625 \r\nL 32.078125 72.90625 \r\nQ 44.34375 72.90625 50.609375 67.359375 \r\nQ 56.890625 61.8125 56.890625 51.125 \r\nQ 56.890625 40.328125 50.609375 34.8125 \r\nQ 44.34375 29.296875 32.078125 29.296875 \r\nL 19.671875 29.296875 \r\nL 19.671875 0 \r\nL 9.8125 0 \r\nz\r\n\" id=\"DejaVuSans-80\"/>\r\n       <path d=\"M 9.8125 72.90625 \r\nL 19.671875 72.90625 \r\nL 19.671875 8.296875 \r\nL 55.171875 8.296875 \r\nL 55.171875 0 \r\nL 9.8125 0 \r\nz\r\n\" id=\"DejaVuSans-76\"/>\r\n      </defs>\r\n      <g transform=\"translate(221.521094 270.997656)scale(0.1 -0.1)\">\r\n       <use xlink:href=\"#DejaVuSans-69\"/>\r\n       <use x=\"63.183594\" xlink:href=\"#DejaVuSans-80\"/>\r\n       <use x=\"123.486328\" xlink:href=\"#DejaVuSans-76\"/>\r\n      </g>\r\n     </g>\r\n    </g>\r\n    <g id=\"xtick_4\">\r\n     <g id=\"line2d_4\">\r\n      <g>\r\n       <use style=\"stroke:#000000;stroke-width:0.8;\" x=\"304.923036\" xlink:href=\"#m78741890d4\" y=\"256.399219\"/>\r\n      </g>\r\n     </g>\r\n     <g id=\"text_4\">\r\n      <!-- Ligue 1 -->\r\n      <defs>\r\n       <path d=\"M 12.40625 8.296875 \r\nL 28.515625 8.296875 \r\nL 28.515625 63.921875 \r\nL 10.984375 60.40625 \r\nL 10.984375 69.390625 \r\nL 28.421875 72.90625 \r\nL 38.28125 72.90625 \r\nL 38.28125 8.296875 \r\nL 54.390625 8.296875 \r\nL 54.390625 0 \r\nL 12.40625 0 \r\nz\r\n\" id=\"DejaVuSans-49\"/>\r\n      </defs>\r\n      <g transform=\"translate(286.558193 270.997656)scale(0.1 -0.1)\">\r\n       <use xlink:href=\"#DejaVuSans-76\"/>\r\n       <use x=\"55.712891\" xlink:href=\"#DejaVuSans-105\"/>\r\n       <use x=\"83.496094\" xlink:href=\"#DejaVuSans-103\"/>\r\n       <use x=\"146.972656\" xlink:href=\"#DejaVuSans-117\"/>\r\n       <use x=\"210.351562\" xlink:href=\"#DejaVuSans-101\"/>\r\n       <use x=\"271.875\" xlink:href=\"#DejaVuSans-32\"/>\r\n       <use x=\"303.662109\" xlink:href=\"#DejaVuSans-49\"/>\r\n      </g>\r\n     </g>\r\n    </g>\r\n    <g id=\"xtick_5\">\r\n     <g id=\"line2d_5\">\r\n      <g>\r\n       <use style=\"stroke:#000000;stroke-width:0.8;\" x=\"379.364823\" xlink:href=\"#m78741890d4\" y=\"256.399219\"/>\r\n      </g>\r\n     </g>\r\n     <g id=\"text_5\">\r\n      <!-- La Liga -->\r\n      <g transform=\"translate(361.512479 270.997656)scale(0.1 -0.1)\">\r\n       <use xlink:href=\"#DejaVuSans-76\"/>\r\n       <use x=\"55.712891\" xlink:href=\"#DejaVuSans-97\"/>\r\n       <use x=\"116.992188\" xlink:href=\"#DejaVuSans-32\"/>\r\n       <use x=\"148.779297\" xlink:href=\"#DejaVuSans-76\"/>\r\n       <use x=\"204.492188\" xlink:href=\"#DejaVuSans-105\"/>\r\n       <use x=\"232.275391\" xlink:href=\"#DejaVuSans-103\"/>\r\n       <use x=\"295.751953\" xlink:href=\"#DejaVuSans-97\"/>\r\n      </g>\r\n     </g>\r\n    </g>\r\n   </g>\r\n   <g id=\"matplotlib.axis_2\">\r\n    <g id=\"ytick_1\">\r\n     <g id=\"line2d_6\">\r\n      <defs>\r\n       <path d=\"M 0 0 \r\nL -3.5 0 \r\n\" id=\"m417495251a\" style=\"stroke:#000000;stroke-width:0.8;\"/>\r\n      </defs>\r\n      <g>\r\n       <use style=\"stroke:#000000;stroke-width:0.8;\" x=\"43.78125\" xlink:href=\"#m417495251a\" y=\"256.399219\"/>\r\n      </g>\r\n     </g>\r\n     <g id=\"text_6\">\r\n      <!-- 0.0 -->\r\n      <defs>\r\n       <path d=\"M 31.78125 66.40625 \r\nQ 24.171875 66.40625 20.328125 58.90625 \r\nQ 16.5 51.421875 16.5 36.375 \r\nQ 16.5 21.390625 20.328125 13.890625 \r\nQ 24.171875 6.390625 31.78125 6.390625 \r\nQ 39.453125 6.390625 43.28125 13.890625 \r\nQ 47.125 21.390625 47.125 36.375 \r\nQ 47.125 51.421875 43.28125 58.90625 \r\nQ 39.453125 66.40625 31.78125 66.40625 \r\nz\r\nM 31.78125 74.21875 \r\nQ 44.046875 74.21875 50.515625 64.515625 \r\nQ 56.984375 54.828125 56.984375 36.375 \r\nQ 56.984375 17.96875 50.515625 8.265625 \r\nQ 44.046875 -1.421875 31.78125 -1.421875 \r\nQ 19.53125 -1.421875 13.0625 8.265625 \r\nQ 6.59375 17.96875 6.59375 36.375 \r\nQ 6.59375 54.828125 13.0625 64.515625 \r\nQ 19.53125 74.21875 31.78125 74.21875 \r\nz\r\n\" id=\"DejaVuSans-48\"/>\r\n       <path d=\"M 10.6875 12.40625 \r\nL 21 12.40625 \r\nL 21 0 \r\nL 10.6875 0 \r\nz\r\n\" id=\"DejaVuSans-46\"/>\r\n      </defs>\r\n      <g transform=\"translate(20.878125 260.198438)scale(0.1 -0.1)\">\r\n       <use xlink:href=\"#DejaVuSans-48\"/>\r\n       <use x=\"63.623047\" xlink:href=\"#DejaVuSans-46\"/>\r\n       <use x=\"95.410156\" xlink:href=\"#DejaVuSans-48\"/>\r\n      </g>\r\n     </g>\r\n    </g>\r\n    <g id=\"ytick_2\">\r\n     <g id=\"line2d_7\">\r\n      <g>\r\n       <use style=\"stroke:#000000;stroke-width:0.8;\" x=\"43.78125\" xlink:href=\"#m417495251a\" y=\"215.499219\"/>\r\n      </g>\r\n     </g>\r\n     <g id=\"text_7\">\r\n      <!-- 0.5 -->\r\n      <defs>\r\n       <path d=\"M 10.796875 72.90625 \r\nL 49.515625 72.90625 \r\nL 49.515625 64.59375 \r\nL 19.828125 64.59375 \r\nL 19.828125 46.734375 \r\nQ 21.96875 47.46875 24.109375 47.828125 \r\nQ 26.265625 48.1875 28.421875 48.1875 \r\nQ 40.625 48.1875 47.75 41.5 \r\nQ 54.890625 34.8125 54.890625 23.390625 \r\nQ 54.890625 11.625 47.5625 5.09375 \r\nQ 40.234375 -1.421875 26.90625 -1.421875 \r\nQ 22.3125 -1.421875 17.546875 -0.640625 \r\nQ 12.796875 0.140625 7.71875 1.703125 \r\nL 7.71875 11.625 \r\nQ 12.109375 9.234375 16.796875 8.0625 \r\nQ 21.484375 6.890625 26.703125 6.890625 \r\nQ 35.15625 6.890625 40.078125 11.328125 \r\nQ 45.015625 15.765625 45.015625 23.390625 \r\nQ 45.015625 31 40.078125 35.4375 \r\nQ 35.15625 39.890625 26.703125 39.890625 \r\nQ 22.75 39.890625 18.8125 39.015625 \r\nQ 14.890625 38.140625 10.796875 36.28125 \r\nz\r\n\" id=\"DejaVuSans-53\"/>\r\n      </defs>\r\n      <g transform=\"translate(20.878125 219.298438)scale(0.1 -0.1)\">\r\n       <use xlink:href=\"#DejaVuSans-48\"/>\r\n       <use x=\"63.623047\" xlink:href=\"#DejaVuSans-46\"/>\r\n       <use x=\"95.410156\" xlink:href=\"#DejaVuSans-53\"/>\r\n      </g>\r\n     </g>\r\n    </g>\r\n    <g id=\"ytick_3\">\r\n     <g id=\"line2d_8\">\r\n      <g>\r\n       <use style=\"stroke:#000000;stroke-width:0.8;\" x=\"43.78125\" xlink:href=\"#m417495251a\" y=\"174.599219\"/>\r\n      </g>\r\n     </g>\r\n     <g id=\"text_8\">\r\n      <!-- 1.0 -->\r\n      <g transform=\"translate(20.878125 178.398438)scale(0.1 -0.1)\">\r\n       <use xlink:href=\"#DejaVuSans-49\"/>\r\n       <use x=\"63.623047\" xlink:href=\"#DejaVuSans-46\"/>\r\n       <use x=\"95.410156\" xlink:href=\"#DejaVuSans-48\"/>\r\n      </g>\r\n     </g>\r\n    </g>\r\n    <g id=\"ytick_4\">\r\n     <g id=\"line2d_9\">\r\n      <g>\r\n       <use style=\"stroke:#000000;stroke-width:0.8;\" x=\"43.78125\" xlink:href=\"#m417495251a\" y=\"133.699219\"/>\r\n      </g>\r\n     </g>\r\n     <g id=\"text_9\">\r\n      <!-- 1.5 -->\r\n      <g transform=\"translate(20.878125 137.498438)scale(0.1 -0.1)\">\r\n       <use xlink:href=\"#DejaVuSans-49\"/>\r\n       <use x=\"63.623047\" xlink:href=\"#DejaVuSans-46\"/>\r\n       <use x=\"95.410156\" xlink:href=\"#DejaVuSans-53\"/>\r\n      </g>\r\n     </g>\r\n    </g>\r\n    <g id=\"ytick_5\">\r\n     <g id=\"line2d_10\">\r\n      <g>\r\n       <use style=\"stroke:#000000;stroke-width:0.8;\" x=\"43.78125\" xlink:href=\"#m417495251a\" y=\"92.799219\"/>\r\n      </g>\r\n     </g>\r\n     <g id=\"text_10\">\r\n      <!-- 2.0 -->\r\n      <defs>\r\n       <path d=\"M 19.1875 8.296875 \r\nL 53.609375 8.296875 \r\nL 53.609375 0 \r\nL 7.328125 0 \r\nL 7.328125 8.296875 \r\nQ 12.9375 14.109375 22.625 23.890625 \r\nQ 32.328125 33.6875 34.8125 36.53125 \r\nQ 39.546875 41.84375 41.421875 45.53125 \r\nQ 43.3125 49.21875 43.3125 52.78125 \r\nQ 43.3125 58.59375 39.234375 62.25 \r\nQ 35.15625 65.921875 28.609375 65.921875 \r\nQ 23.96875 65.921875 18.8125 64.3125 \r\nQ 13.671875 62.703125 7.8125 59.421875 \r\nL 7.8125 69.390625 \r\nQ 13.765625 71.78125 18.9375 73 \r\nQ 24.125 74.21875 28.421875 74.21875 \r\nQ 39.75 74.21875 46.484375 68.546875 \r\nQ 53.21875 62.890625 53.21875 53.421875 \r\nQ 53.21875 48.921875 51.53125 44.890625 \r\nQ 49.859375 40.875 45.40625 35.40625 \r\nQ 44.1875 33.984375 37.640625 27.21875 \r\nQ 31.109375 20.453125 19.1875 8.296875 \r\nz\r\n\" id=\"DejaVuSans-50\"/>\r\n      </defs>\r\n      <g transform=\"translate(20.878125 96.598438)scale(0.1 -0.1)\">\r\n       <use xlink:href=\"#DejaVuSans-50\"/>\r\n       <use x=\"63.623047\" xlink:href=\"#DejaVuSans-46\"/>\r\n       <use x=\"95.410156\" xlink:href=\"#DejaVuSans-48\"/>\r\n      </g>\r\n     </g>\r\n    </g>\r\n    <g id=\"ytick_6\">\r\n     <g id=\"line2d_11\">\r\n      <g>\r\n       <use style=\"stroke:#000000;stroke-width:0.8;\" x=\"43.78125\" xlink:href=\"#m417495251a\" y=\"51.899219\"/>\r\n      </g>\r\n     </g>\r\n     <g id=\"text_11\">\r\n      <!-- 2.5 -->\r\n      <g transform=\"translate(20.878125 55.698438)scale(0.1 -0.1)\">\r\n       <use xlink:href=\"#DejaVuSans-50\"/>\r\n       <use x=\"63.623047\" xlink:href=\"#DejaVuSans-46\"/>\r\n       <use x=\"95.410156\" xlink:href=\"#DejaVuSans-53\"/>\r\n      </g>\r\n     </g>\r\n    </g>\r\n    <g id=\"ytick_7\">\r\n     <g id=\"line2d_12\">\r\n      <g>\r\n       <use style=\"stroke:#000000;stroke-width:0.8;\" x=\"43.78125\" xlink:href=\"#m417495251a\" y=\"10.999219\"/>\r\n      </g>\r\n     </g>\r\n     <g id=\"text_12\">\r\n      <!-- 3.0 -->\r\n      <defs>\r\n       <path d=\"M 40.578125 39.3125 \r\nQ 47.65625 37.796875 51.625 33 \r\nQ 55.609375 28.21875 55.609375 21.1875 \r\nQ 55.609375 10.40625 48.1875 4.484375 \r\nQ 40.765625 -1.421875 27.09375 -1.421875 \r\nQ 22.515625 -1.421875 17.65625 -0.515625 \r\nQ 12.796875 0.390625 7.625 2.203125 \r\nL 7.625 11.71875 \r\nQ 11.71875 9.328125 16.59375 8.109375 \r\nQ 21.484375 6.890625 26.8125 6.890625 \r\nQ 36.078125 6.890625 40.9375 10.546875 \r\nQ 45.796875 14.203125 45.796875 21.1875 \r\nQ 45.796875 27.640625 41.28125 31.265625 \r\nQ 36.765625 34.90625 28.71875 34.90625 \r\nL 20.21875 34.90625 \r\nL 20.21875 43.015625 \r\nL 29.109375 43.015625 \r\nQ 36.375 43.015625 40.234375 45.921875 \r\nQ 44.09375 48.828125 44.09375 54.296875 \r\nQ 44.09375 59.90625 40.109375 62.90625 \r\nQ 36.140625 65.921875 28.71875 65.921875 \r\nQ 24.65625 65.921875 20.015625 65.03125 \r\nQ 15.375 64.15625 9.8125 62.3125 \r\nL 9.8125 71.09375 \r\nQ 15.4375 72.65625 20.34375 73.4375 \r\nQ 25.25 74.21875 29.59375 74.21875 \r\nQ 40.828125 74.21875 47.359375 69.109375 \r\nQ 53.90625 64.015625 53.90625 55.328125 \r\nQ 53.90625 49.265625 50.4375 45.09375 \r\nQ 46.96875 40.921875 40.578125 39.3125 \r\nz\r\n\" id=\"DejaVuSans-51\"/>\r\n      </defs>\r\n      <g transform=\"translate(20.878125 14.798438)scale(0.1 -0.1)\">\r\n       <use xlink:href=\"#DejaVuSans-51\"/>\r\n       <use x=\"63.623047\" xlink:href=\"#DejaVuSans-46\"/>\r\n       <use x=\"95.410156\" xlink:href=\"#DejaVuSans-48\"/>\r\n      </g>\r\n     </g>\r\n    </g>\r\n    <g id=\"text_13\">\r\n     <!-- Average Points per Home Game -->\r\n     <defs>\r\n      <path d=\"M 2.984375 54.6875 \r\nL 12.5 54.6875 \r\nL 29.59375 8.796875 \r\nL 46.6875 54.6875 \r\nL 56.203125 54.6875 \r\nL 35.6875 0 \r\nL 23.484375 0 \r\nz\r\n\" id=\"DejaVuSans-118\"/>\r\n      <path d=\"M 30.609375 48.390625 \r\nQ 23.390625 48.390625 19.1875 42.75 \r\nQ 14.984375 37.109375 14.984375 27.296875 \r\nQ 14.984375 17.484375 19.15625 11.84375 \r\nQ 23.34375 6.203125 30.609375 6.203125 \r\nQ 37.796875 6.203125 41.984375 11.859375 \r\nQ 46.1875 17.53125 46.1875 27.296875 \r\nQ 46.1875 37.015625 41.984375 42.703125 \r\nQ 37.796875 48.390625 30.609375 48.390625 \r\nz\r\nM 30.609375 56 \r\nQ 42.328125 56 49.015625 48.375 \r\nQ 55.71875 40.765625 55.71875 27.296875 \r\nQ 55.71875 13.875 49.015625 6.21875 \r\nQ 42.328125 -1.421875 30.609375 -1.421875 \r\nQ 18.84375 -1.421875 12.171875 6.21875 \r\nQ 5.515625 13.875 5.515625 27.296875 \r\nQ 5.515625 40.765625 12.171875 48.375 \r\nQ 18.84375 56 30.609375 56 \r\nz\r\n\" id=\"DejaVuSans-111\"/>\r\n      <path d=\"M 18.3125 70.21875 \r\nL 18.3125 54.6875 \r\nL 36.8125 54.6875 \r\nL 36.8125 47.703125 \r\nL 18.3125 47.703125 \r\nL 18.3125 18.015625 \r\nQ 18.3125 11.328125 20.140625 9.421875 \r\nQ 21.96875 7.515625 27.59375 7.515625 \r\nL 36.8125 7.515625 \r\nL 36.8125 0 \r\nL 27.59375 0 \r\nQ 17.1875 0 13.234375 3.875 \r\nQ 9.28125 7.765625 9.28125 18.015625 \r\nL 9.28125 47.703125 \r\nL 2.6875 47.703125 \r\nL 2.6875 54.6875 \r\nL 9.28125 54.6875 \r\nL 9.28125 70.21875 \r\nz\r\n\" id=\"DejaVuSans-116\"/>\r\n      <path d=\"M 18.109375 8.203125 \r\nL 18.109375 -20.796875 \r\nL 9.078125 -20.796875 \r\nL 9.078125 54.6875 \r\nL 18.109375 54.6875 \r\nL 18.109375 46.390625 \r\nQ 20.953125 51.265625 25.265625 53.625 \r\nQ 29.59375 56 35.59375 56 \r\nQ 45.5625 56 51.78125 48.09375 \r\nQ 58.015625 40.1875 58.015625 27.296875 \r\nQ 58.015625 14.40625 51.78125 6.484375 \r\nQ 45.5625 -1.421875 35.59375 -1.421875 \r\nQ 29.59375 -1.421875 25.265625 0.953125 \r\nQ 20.953125 3.328125 18.109375 8.203125 \r\nz\r\nM 48.6875 27.296875 \r\nQ 48.6875 37.203125 44.609375 42.84375 \r\nQ 40.53125 48.484375 33.40625 48.484375 \r\nQ 26.265625 48.484375 22.1875 42.84375 \r\nQ 18.109375 37.203125 18.109375 27.296875 \r\nQ 18.109375 17.390625 22.1875 11.75 \r\nQ 26.265625 6.109375 33.40625 6.109375 \r\nQ 40.53125 6.109375 44.609375 11.75 \r\nQ 48.6875 17.390625 48.6875 27.296875 \r\nz\r\n\" id=\"DejaVuSans-112\"/>\r\n      <path d=\"M 9.8125 72.90625 \r\nL 19.671875 72.90625 \r\nL 19.671875 43.015625 \r\nL 55.515625 43.015625 \r\nL 55.515625 72.90625 \r\nL 65.375 72.90625 \r\nL 65.375 0 \r\nL 55.515625 0 \r\nL 55.515625 34.71875 \r\nL 19.671875 34.71875 \r\nL 19.671875 0 \r\nL 9.8125 0 \r\nz\r\n\" id=\"DejaVuSans-72\"/>\r\n      <path d=\"M 52 44.1875 \r\nQ 55.375 50.25 60.0625 53.125 \r\nQ 64.75 56 71.09375 56 \r\nQ 79.640625 56 84.28125 50.015625 \r\nQ 88.921875 44.046875 88.921875 33.015625 \r\nL 88.921875 0 \r\nL 79.890625 0 \r\nL 79.890625 32.71875 \r\nQ 79.890625 40.578125 77.09375 44.375 \r\nQ 74.3125 48.1875 68.609375 48.1875 \r\nQ 61.625 48.1875 57.5625 43.546875 \r\nQ 53.515625 38.921875 53.515625 30.90625 \r\nL 53.515625 0 \r\nL 44.484375 0 \r\nL 44.484375 32.71875 \r\nQ 44.484375 40.625 41.703125 44.40625 \r\nQ 38.921875 48.1875 33.109375 48.1875 \r\nQ 26.21875 48.1875 22.15625 43.53125 \r\nQ 18.109375 38.875 18.109375 30.90625 \r\nL 18.109375 0 \r\nL 9.078125 0 \r\nL 9.078125 54.6875 \r\nL 18.109375 54.6875 \r\nL 18.109375 46.1875 \r\nQ 21.1875 51.21875 25.484375 53.609375 \r\nQ 29.78125 56 35.6875 56 \r\nQ 41.65625 56 45.828125 52.96875 \r\nQ 50 49.953125 52 44.1875 \r\nz\r\n\" id=\"DejaVuSans-109\"/>\r\n      <path d=\"M 59.515625 10.40625 \r\nL 59.515625 29.984375 \r\nL 43.40625 29.984375 \r\nL 43.40625 38.09375 \r\nL 69.28125 38.09375 \r\nL 69.28125 6.78125 \r\nQ 63.578125 2.734375 56.6875 0.65625 \r\nQ 49.8125 -1.421875 42 -1.421875 \r\nQ 24.90625 -1.421875 15.25 8.5625 \r\nQ 5.609375 18.5625 5.609375 36.375 \r\nQ 5.609375 54.25 15.25 64.234375 \r\nQ 24.90625 74.21875 42 74.21875 \r\nQ 49.125 74.21875 55.546875 72.453125 \r\nQ 61.96875 70.703125 67.390625 67.28125 \r\nL 67.390625 56.78125 \r\nQ 61.921875 61.421875 55.765625 63.765625 \r\nQ 49.609375 66.109375 42.828125 66.109375 \r\nQ 29.4375 66.109375 22.71875 58.640625 \r\nQ 16.015625 51.171875 16.015625 36.375 \r\nQ 16.015625 21.625 22.71875 14.15625 \r\nQ 29.4375 6.6875 42.828125 6.6875 \r\nQ 48.046875 6.6875 52.140625 7.59375 \r\nQ 56.25 8.5 59.515625 10.40625 \r\nz\r\n\" id=\"DejaVuSans-71\"/>\r\n     </defs>\r\n     <g transform=\"translate(14.798438 214.030469)rotate(-90)scale(0.1 -0.1)\">\r\n      <use xlink:href=\"#DejaVuSans-65\"/>\r\n      <use x=\"68.330078\" xlink:href=\"#DejaVuSans-118\"/>\r\n      <use x=\"127.509766\" xlink:href=\"#DejaVuSans-101\"/>\r\n      <use x=\"189.033203\" xlink:href=\"#DejaVuSans-114\"/>\r\n      <use x=\"230.146484\" xlink:href=\"#DejaVuSans-97\"/>\r\n      <use x=\"291.425781\" xlink:href=\"#DejaVuSans-103\"/>\r\n      <use x=\"354.902344\" xlink:href=\"#DejaVuSans-101\"/>\r\n      <use x=\"416.425781\" xlink:href=\"#DejaVuSans-32\"/>\r\n      <use x=\"448.212891\" xlink:href=\"#DejaVuSans-80\"/>\r\n      <use x=\"508.46875\" xlink:href=\"#DejaVuSans-111\"/>\r\n      <use x=\"569.650391\" xlink:href=\"#DejaVuSans-105\"/>\r\n      <use x=\"597.433594\" xlink:href=\"#DejaVuSans-110\"/>\r\n      <use x=\"660.8125\" xlink:href=\"#DejaVuSans-116\"/>\r\n      <use x=\"700.021484\" xlink:href=\"#DejaVuSans-115\"/>\r\n      <use x=\"752.121094\" xlink:href=\"#DejaVuSans-32\"/>\r\n      <use x=\"783.908203\" xlink:href=\"#DejaVuSans-112\"/>\r\n      <use x=\"847.384766\" xlink:href=\"#DejaVuSans-101\"/>\r\n      <use x=\"908.908203\" xlink:href=\"#DejaVuSans-114\"/>\r\n      <use x=\"950.021484\" xlink:href=\"#DejaVuSans-32\"/>\r\n      <use x=\"981.808594\" xlink:href=\"#DejaVuSans-72\"/>\r\n      <use x=\"1057.003906\" xlink:href=\"#DejaVuSans-111\"/>\r\n      <use x=\"1118.185547\" xlink:href=\"#DejaVuSans-109\"/>\r\n      <use x=\"1215.597656\" xlink:href=\"#DejaVuSans-101\"/>\r\n      <use x=\"1277.121094\" xlink:href=\"#DejaVuSans-32\"/>\r\n      <use x=\"1308.908203\" xlink:href=\"#DejaVuSans-71\"/>\r\n      <use x=\"1386.398438\" xlink:href=\"#DejaVuSans-97\"/>\r\n      <use x=\"1447.677734\" xlink:href=\"#DejaVuSans-109\"/>\r\n      <use x=\"1545.089844\" xlink:href=\"#DejaVuSans-101\"/>\r\n     </g>\r\n    </g>\r\n   </g>\r\n   <g id=\"line2d_13\">\r\n    <path clip-path=\"url(#p336b959604)\" d=\"M 43.78125 125.682819 \r\nL 417.18125 125.682819 \r\n\" style=\"fill:none;stroke:#008000;stroke-dasharray:5.55,2.4;stroke-dashoffset:0;stroke-opacity:0.7;stroke-width:1.5;\"/>\r\n   </g>\r\n   <g id=\"line2d_14\">\r\n    <path clip-path=\"url(#p336b959604)\" d=\"M 43.78125 137.134819 \r\nL 417.18125 137.134819 \r\n\" style=\"fill:none;stroke:#ff0000;stroke-dasharray:5.55,2.4;stroke-dashoffset:0;stroke-opacity:0.7;stroke-width:1.5;\"/>\r\n   </g>\r\n   <g id=\"patch_13\">\r\n    <path d=\"M 43.78125 256.399219 \r\nL 43.78125 10.999219 \r\n\" style=\"fill:none;stroke:#000000;stroke-linecap:square;stroke-linejoin:miter;stroke-width:0.8;\"/>\r\n   </g>\r\n   <g id=\"patch_14\">\r\n    <path d=\"M 417.18125 256.399219 \r\nL 417.18125 10.999219 \r\n\" style=\"fill:none;stroke:#000000;stroke-linecap:square;stroke-linejoin:miter;stroke-width:0.8;\"/>\r\n   </g>\r\n   <g id=\"patch_15\">\r\n    <path d=\"M 43.78125 256.399219 \r\nL 417.18125 256.399219 \r\n\" style=\"fill:none;stroke:#000000;stroke-linecap:square;stroke-linejoin:miter;stroke-width:0.8;\"/>\r\n   </g>\r\n   <g id=\"patch_16\">\r\n    <path d=\"M 43.78125 10.999219 \r\nL 417.18125 10.999219 \r\n\" style=\"fill:none;stroke:#000000;stroke-linecap:square;stroke-linejoin:miter;stroke-width:0.8;\"/>\r\n   </g>\r\n   <g id=\"legend_1\">\r\n    <g id=\"patch_17\">\r\n     <path d=\"M 309.65 48.355469 \r\nL 410.18125 48.355469 \r\nQ 412.18125 48.355469 412.18125 46.355469 \r\nL 412.18125 17.999219 \r\nQ 412.18125 15.999219 410.18125 15.999219 \r\nL 309.65 15.999219 \r\nQ 307.65 15.999219 307.65 17.999219 \r\nL 307.65 46.355469 \r\nQ 307.65 48.355469 309.65 48.355469 \r\nz\r\n\" style=\"fill:#ffffff;opacity:0.8;stroke:#cccccc;stroke-linejoin:miter;\"/>\r\n    </g>\r\n    <g id=\"patch_18\">\r\n     <path d=\"M 311.65 27.597656 \r\nL 331.65 27.597656 \r\nL 331.65 20.597656 \r\nL 311.65 20.597656 \r\nz\r\n\" style=\"fill:#008000;\"/>\r\n    </g>\r\n    <g id=\"text_14\">\r\n     <!-- Season 18-19 -->\r\n     <defs>\r\n      <path d=\"M 31.78125 34.625 \r\nQ 24.75 34.625 20.71875 30.859375 \r\nQ 16.703125 27.09375 16.703125 20.515625 \r\nQ 16.703125 13.921875 20.71875 10.15625 \r\nQ 24.75 6.390625 31.78125 6.390625 \r\nQ 38.8125 6.390625 42.859375 10.171875 \r\nQ 46.921875 13.96875 46.921875 20.515625 \r\nQ 46.921875 27.09375 42.890625 30.859375 \r\nQ 38.875 34.625 31.78125 34.625 \r\nz\r\nM 21.921875 38.8125 \r\nQ 15.578125 40.375 12.03125 44.71875 \r\nQ 8.5 49.078125 8.5 55.328125 \r\nQ 8.5 64.0625 14.71875 69.140625 \r\nQ 20.953125 74.21875 31.78125 74.21875 \r\nQ 42.671875 74.21875 48.875 69.140625 \r\nQ 55.078125 64.0625 55.078125 55.328125 \r\nQ 55.078125 49.078125 51.53125 44.71875 \r\nQ 48 40.375 41.703125 38.8125 \r\nQ 48.828125 37.15625 52.796875 32.3125 \r\nQ 56.78125 27.484375 56.78125 20.515625 \r\nQ 56.78125 9.90625 50.3125 4.234375 \r\nQ 43.84375 -1.421875 31.78125 -1.421875 \r\nQ 19.734375 -1.421875 13.25 4.234375 \r\nQ 6.78125 9.90625 6.78125 20.515625 \r\nQ 6.78125 27.484375 10.78125 32.3125 \r\nQ 14.796875 37.15625 21.921875 38.8125 \r\nz\r\nM 18.3125 54.390625 \r\nQ 18.3125 48.734375 21.84375 45.5625 \r\nQ 25.390625 42.390625 31.78125 42.390625 \r\nQ 38.140625 42.390625 41.71875 45.5625 \r\nQ 45.3125 48.734375 45.3125 54.390625 \r\nQ 45.3125 60.0625 41.71875 63.234375 \r\nQ 38.140625 66.40625 31.78125 66.40625 \r\nQ 25.390625 66.40625 21.84375 63.234375 \r\nQ 18.3125 60.0625 18.3125 54.390625 \r\nz\r\n\" id=\"DejaVuSans-56\"/>\r\n      <path d=\"M 4.890625 31.390625 \r\nL 31.203125 31.390625 \r\nL 31.203125 23.390625 \r\nL 4.890625 23.390625 \r\nz\r\n\" id=\"DejaVuSans-45\"/>\r\n      <path d=\"M 10.984375 1.515625 \r\nL 10.984375 10.5 \r\nQ 14.703125 8.734375 18.5 7.8125 \r\nQ 22.3125 6.890625 25.984375 6.890625 \r\nQ 35.75 6.890625 40.890625 13.453125 \r\nQ 46.046875 20.015625 46.78125 33.40625 \r\nQ 43.953125 29.203125 39.59375 26.953125 \r\nQ 35.25 24.703125 29.984375 24.703125 \r\nQ 19.046875 24.703125 12.671875 31.3125 \r\nQ 6.296875 37.9375 6.296875 49.421875 \r\nQ 6.296875 60.640625 12.9375 67.421875 \r\nQ 19.578125 74.21875 30.609375 74.21875 \r\nQ 43.265625 74.21875 49.921875 64.515625 \r\nQ 56.59375 54.828125 56.59375 36.375 \r\nQ 56.59375 19.140625 48.40625 8.859375 \r\nQ 40.234375 -1.421875 26.421875 -1.421875 \r\nQ 22.703125 -1.421875 18.890625 -0.6875 \r\nQ 15.09375 0.046875 10.984375 1.515625 \r\nz\r\nM 30.609375 32.421875 \r\nQ 37.25 32.421875 41.125 36.953125 \r\nQ 45.015625 41.5 45.015625 49.421875 \r\nQ 45.015625 57.28125 41.125 61.84375 \r\nQ 37.25 66.40625 30.609375 66.40625 \r\nQ 23.96875 66.40625 20.09375 61.84375 \r\nQ 16.21875 57.28125 16.21875 49.421875 \r\nQ 16.21875 41.5 20.09375 36.953125 \r\nQ 23.96875 32.421875 30.609375 32.421875 \r\nz\r\n\" id=\"DejaVuSans-57\"/>\r\n     </defs>\r\n     <g transform=\"translate(339.65 27.597656)scale(0.1 -0.1)\">\r\n      <use xlink:href=\"#DejaVuSans-83\"/>\r\n      <use x=\"63.476562\" xlink:href=\"#DejaVuSans-101\"/>\r\n      <use x=\"125\" xlink:href=\"#DejaVuSans-97\"/>\r\n      <use x=\"186.279297\" xlink:href=\"#DejaVuSans-115\"/>\r\n      <use x=\"238.378906\" xlink:href=\"#DejaVuSans-111\"/>\r\n      <use x=\"299.560547\" xlink:href=\"#DejaVuSans-110\"/>\r\n      <use x=\"362.939453\" xlink:href=\"#DejaVuSans-32\"/>\r\n      <use x=\"394.726562\" xlink:href=\"#DejaVuSans-49\"/>\r\n      <use x=\"458.349609\" xlink:href=\"#DejaVuSans-56\"/>\r\n      <use x=\"521.972656\" xlink:href=\"#DejaVuSans-45\"/>\r\n      <use x=\"558.056641\" xlink:href=\"#DejaVuSans-49\"/>\r\n      <use x=\"621.679688\" xlink:href=\"#DejaVuSans-57\"/>\r\n     </g>\r\n    </g>\r\n    <g id=\"patch_19\">\r\n     <path d=\"M 311.65 42.275781 \r\nL 331.65 42.275781 \r\nL 331.65 35.275781 \r\nL 311.65 35.275781 \r\nz\r\n\" style=\"fill:#ff0000;\"/>\r\n    </g>\r\n    <g id=\"text_15\">\r\n     <!-- Season 20-21 -->\r\n     <g transform=\"translate(339.65 42.275781)scale(0.1 -0.1)\">\r\n      <use xlink:href=\"#DejaVuSans-83\"/>\r\n      <use x=\"63.476562\" xlink:href=\"#DejaVuSans-101\"/>\r\n      <use x=\"125\" xlink:href=\"#DejaVuSans-97\"/>\r\n      <use x=\"186.279297\" xlink:href=\"#DejaVuSans-115\"/>\r\n      <use x=\"238.378906\" xlink:href=\"#DejaVuSans-111\"/>\r\n      <use x=\"299.560547\" xlink:href=\"#DejaVuSans-110\"/>\r\n      <use x=\"362.939453\" xlink:href=\"#DejaVuSans-32\"/>\r\n      <use x=\"394.726562\" xlink:href=\"#DejaVuSans-50\"/>\r\n      <use x=\"458.349609\" xlink:href=\"#DejaVuSans-48\"/>\r\n      <use x=\"521.972656\" xlink:href=\"#DejaVuSans-45\"/>\r\n      <use x=\"558.056641\" xlink:href=\"#DejaVuSans-50\"/>\r\n      <use x=\"621.679688\" xlink:href=\"#DejaVuSans-49\"/>\r\n     </g>\r\n    </g>\r\n   </g>\r\n  </g>\r\n </g>\r\n <defs>\r\n  <clipPath id=\"p336b959604\">\r\n   <rect height=\"245.4\" width=\"373.4\" x=\"43.78125\" y=\"10.999219\"/>\r\n  </clipPath>\r\n </defs>\r\n</svg>\r\n",
      "image/png": "[encoded data removed]"
     },
     "metadata": {
      "needs_background": "light"
     }
    }
   ],
   "source": [
    "labels = dict_avg_pts_home_18.keys()\n",
    "values_18 = dict_avg_pts_home_18.values()\n",
    "values_20 = dict_avg_pts_home_20.values()\n",
    "\n",
    "x = np.arange(len(labels))  # the label locations\n",
    "width = 0.25  # the width of the bars\n",
    "\n",
    "fig, ax = plt.subplots()\n",
    "rects1 = ax.bar(x - width/2 - 0.03, values_18, width, label='Season 18-19', color='Green')\n",
    "rects2 = ax.bar(x + width/2 + 0.03, values_20, width, label='Season 20-21', color='Red')\n",
    "\n",
    "# Add some text for labels, title and custom x-axis tick labels, etc.\n",
    "ax.set_ylabel('Average Points per Home Game')\n",
    "# ax.set_title('Scores by group and gender')\n",
    "ax.set_xticks(x)\n",
    "ax.set_xticklabels(labels)\n",
    "ax.set_ylim(0, 3)\n",
    "ax.legend()\n",
    "\n",
    "\n",
    "def autolabel(rects):\n",
    "    \"\"\"Attach a text label above each bar in *rects*, displaying its height.\"\"\"\n",
    "    for rect in rects:\n",
    "        height = rect.get_height()\n",
    "        ax.annotate('{}'.format(height),\n",
    "                    xy=(rect.get_x() + rect.get_width() / 2, height),\n",
    "                    xytext=(0, 3),  # 3 points vertical offset\n",
    "                    textcoords=\"offset points\",\n",
    "                    ha='center', va='bottom')\n",
    "\n",
    "\n",
    "# autolabel(rects1)\n",
    "# autolabel(rects2)\n",
    "\n",
    "\n",
    "ratio_avg_18 = sum(dict_avg_pts_home_18.values()) / len(dict_avg_pts_home_18)\n",
    "ratio_avg_20 = sum(dict_avg_pts_home_20.values()) / len(dict_avg_pts_home_20)\n",
    "\n",
    "plt.axhline(y=ratio_avg_18, color=\"green\", linestyle=\"--\", alpha=0.7)\n",
    "plt.axhline(y=ratio_avg_20, color=\"red\", linestyle=\"--\", alpha=0.7)\n",
    "\n",
    "\n",
    "fig.tight_layout()\n",
    "\n",
    "plt.show()\n"
   ]
  },
  {
   "cell_type": "code",
   "execution_count": 211,
   "metadata": {},
   "outputs": [
    {
     "output_type": "execute_result",
     "data": {
      "text/plain": [
       "1.598"
      ]
     },
     "metadata": {},
     "execution_count": 211
    }
   ],
   "source": [
    "ratio_avg_18"
   ]
  },
  {
   "cell_type": "code",
   "execution_count": 212,
   "metadata": {},
   "outputs": [
    {
     "output_type": "execute_result",
     "data": {
      "text/plain": [
       "1.4579999999999997"
      ]
     },
     "metadata": {},
     "execution_count": 212
    }
   ],
   "source": [
    "ratio_avg_20"
   ]
  },
  {
   "cell_type": "code",
   "execution_count": 213,
   "metadata": {},
   "outputs": [
    {
     "output_type": "execute_result",
     "data": {
      "text/plain": [
       "0.09602194787379999"
      ]
     },
     "metadata": {},
     "execution_count": 213
    }
   ],
   "source": [
    "(ratio_avg_18 - ratio_avg_20) / ratio_avg_20"
   ]
  },
  {
   "cell_type": "markdown",
   "metadata": {},
   "source": []
  }
 ],
 "metadata": {
  "kernelspec": {
   "name": "python380jvsc74a57bd0059cb7166e66eb45033f479bfb2a54b3b3550f7a29a6b9a58b62fc18865e61f9",
   "display_name": "Python 3.8.0 64-bit ('python-3.8.0.amd64')"
  }
 },
 "nbformat": 4,
 "nbformat_minor": 2
}